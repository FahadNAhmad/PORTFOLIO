{
 "cells": [
  {
   "cell_type": "code",
   "execution_count": 1,
   "metadata": {
    "colab": {
     "base_uri": "https://localhost:8080/",
     "height": 215
    },
    "id": "PwL8DKuD3X1u",
    "outputId": "8c0d969a-f782-4a4d-9164-710d6ed26263"
   },
   "outputs": [
    {
     "data": {
      "text/html": [
       "<div>\n",
       "<style scoped>\n",
       "    .dataframe tbody tr th:only-of-type {\n",
       "        vertical-align: middle;\n",
       "    }\n",
       "\n",
       "    .dataframe tbody tr th {\n",
       "        vertical-align: top;\n",
       "    }\n",
       "\n",
       "    .dataframe thead th {\n",
       "        text-align: right;\n",
       "    }\n",
       "</style>\n",
       "<table border=\"1\" class=\"dataframe\">\n",
       "  <thead>\n",
       "    <tr style=\"text-align: right;\">\n",
       "      <th></th>\n",
       "      <th>revenue</th>\n",
       "      <th>score0</th>\n",
       "      <th>score1</th>\n",
       "      <th>score2</th>\n",
       "      <th>score3</th>\n",
       "      <th>score4</th>\n",
       "      <th>score5</th>\n",
       "      <th>score6</th>\n",
       "      <th>score7</th>\n",
       "      <th>score8</th>\n",
       "      <th>score9</th>\n",
       "      <th>score10</th>\n",
       "      <th>score11</th>\n",
       "      <th>score12</th>\n",
       "      <th>score13</th>\n",
       "      <th>score14</th>\n",
       "      <th>score15</th>\n",
       "      <th>score16</th>\n",
       "      <th>score17</th>\n",
       "      <th>score18</th>\n",
       "      <th>score19</th>\n",
       "    </tr>\n",
       "  </thead>\n",
       "  <tbody>\n",
       "    <tr>\n",
       "      <th>0</th>\n",
       "      <td>30698.74</td>\n",
       "      <td>0.067763</td>\n",
       "      <td>1.762772</td>\n",
       "      <td>0.211119</td>\n",
       "      <td>0.619655</td>\n",
       "      <td>-1.586284</td>\n",
       "      <td>0.051320</td>\n",
       "      <td>-0.529940</td>\n",
       "      <td>-0.177908</td>\n",
       "      <td>-0.387431</td>\n",
       "      <td>-0.337982</td>\n",
       "      <td>-1.246132</td>\n",
       "      <td>-1.817742</td>\n",
       "      <td>-0.189583</td>\n",
       "      <td>-1.636507</td>\n",
       "      <td>0.088087</td>\n",
       "      <td>0.481573</td>\n",
       "      <td>2.243539</td>\n",
       "      <td>0.330061</td>\n",
       "      <td>-1.019798</td>\n",
       "      <td>-1.409513</td>\n",
       "    </tr>\n",
       "    <tr>\n",
       "      <th>1</th>\n",
       "      <td>46813.75</td>\n",
       "      <td>0.943657</td>\n",
       "      <td>-0.696100</td>\n",
       "      <td>3.503075</td>\n",
       "      <td>1.323145</td>\n",
       "      <td>-0.579567</td>\n",
       "      <td>-1.379598</td>\n",
       "      <td>0.013465</td>\n",
       "      <td>1.061996</td>\n",
       "      <td>-0.952645</td>\n",
       "      <td>0.625719</td>\n",
       "      <td>1.115770</td>\n",
       "      <td>0.455824</td>\n",
       "      <td>0.109667</td>\n",
       "      <td>-0.790210</td>\n",
       "      <td>1.876311</td>\n",
       "      <td>0.610918</td>\n",
       "      <td>0.208647</td>\n",
       "      <td>1.505998</td>\n",
       "      <td>0.671251</td>\n",
       "      <td>0.315013</td>\n",
       "    </tr>\n",
       "    <tr>\n",
       "      <th>2</th>\n",
       "      <td>39493.35</td>\n",
       "      <td>-0.070838</td>\n",
       "      <td>-1.817580</td>\n",
       "      <td>-0.156724</td>\n",
       "      <td>-0.159741</td>\n",
       "      <td>-1.564338</td>\n",
       "      <td>-0.817489</td>\n",
       "      <td>0.125174</td>\n",
       "      <td>-1.053015</td>\n",
       "      <td>0.181246</td>\n",
       "      <td>1.243857</td>\n",
       "      <td>-0.006912</td>\n",
       "      <td>-0.009129</td>\n",
       "      <td>-0.324959</td>\n",
       "      <td>1.040768</td>\n",
       "      <td>0.375134</td>\n",
       "      <td>-0.127496</td>\n",
       "      <td>1.435406</td>\n",
       "      <td>3.267201</td>\n",
       "      <td>-0.010580</td>\n",
       "      <td>-1.725084</td>\n",
       "    </tr>\n",
       "    <tr>\n",
       "      <th>3</th>\n",
       "      <td>48130.55</td>\n",
       "      <td>-0.133306</td>\n",
       "      <td>0.815997</td>\n",
       "      <td>2.261204</td>\n",
       "      <td>0.794839</td>\n",
       "      <td>-0.947440</td>\n",
       "      <td>0.049189</td>\n",
       "      <td>-0.042403</td>\n",
       "      <td>1.657086</td>\n",
       "      <td>-2.870217</td>\n",
       "      <td>-0.461101</td>\n",
       "      <td>2.183177</td>\n",
       "      <td>0.364106</td>\n",
       "      <td>0.686530</td>\n",
       "      <td>0.112862</td>\n",
       "      <td>1.840957</td>\n",
       "      <td>-1.003409</td>\n",
       "      <td>1.641141</td>\n",
       "      <td>1.469621</td>\n",
       "      <td>-1.839971</td>\n",
       "      <td>-0.456130</td>\n",
       "    </tr>\n",
       "    <tr>\n",
       "      <th>4</th>\n",
       "      <td>35129.09</td>\n",
       "      <td>0.452780</td>\n",
       "      <td>1.529394</td>\n",
       "      <td>0.085364</td>\n",
       "      <td>-0.787245</td>\n",
       "      <td>1.351148</td>\n",
       "      <td>-0.340774</td>\n",
       "      <td>0.354099</td>\n",
       "      <td>-0.319731</td>\n",
       "      <td>-0.776033</td>\n",
       "      <td>0.133800</td>\n",
       "      <td>2.000792</td>\n",
       "      <td>1.035293</td>\n",
       "      <td>-0.719229</td>\n",
       "      <td>-3.073072</td>\n",
       "      <td>-0.078145</td>\n",
       "      <td>-0.154752</td>\n",
       "      <td>0.117198</td>\n",
       "      <td>0.226051</td>\n",
       "      <td>-1.447333</td>\n",
       "      <td>0.463009</td>\n",
       "    </tr>\n",
       "  </tbody>\n",
       "</table>\n",
       "</div>"
      ],
      "text/plain": [
       "    revenue    score0    score1  ...   score17   score18   score19\n",
       "0  30698.74  0.067763  1.762772  ...  0.330061 -1.019798 -1.409513\n",
       "1  46813.75  0.943657 -0.696100  ...  1.505998  0.671251  0.315013\n",
       "2  39493.35 -0.070838 -1.817580  ...  3.267201 -0.010580 -1.725084\n",
       "3  48130.55 -0.133306  0.815997  ...  1.469621 -1.839971 -0.456130\n",
       "4  35129.09  0.452780  1.529394  ...  0.226051 -1.447333  0.463009\n",
       "\n",
       "[5 rows x 21 columns]"
      ]
     },
     "execution_count": 1,
     "metadata": {
      "tags": []
     },
     "output_type": "execute_result"
    }
   ],
   "source": [
    "import pandas as pd\n",
    "\n",
    "df = pd.read_csv('20scores.csv')\n",
    "df.head()"
   ]
  },
  {
   "cell_type": "code",
   "execution_count": 2,
   "metadata": {
    "id": "MQPi1zEn3X2B"
   },
   "outputs": [],
   "source": [
    "x_cols = df.columns[1:]\n",
    "X = df[x_cols]\n",
    "\n",
    "y = df['revenue']"
   ]
  },
  {
   "cell_type": "code",
   "execution_count": null,
   "metadata": {},
   "outputs": [],
   "source": [
    "from sklearn.model_selection import train_test_split\n",
    " \n",
    "X_train, X_test, y_train, y_test = train_test_split\\\n",
    "                                   (X, y, random_state = 10)"
   ]
  },
  {
   "cell_type": "code",
   "execution_count": 3,
   "metadata": {
    "colab": {
     "base_uri": "https://localhost:8080/"
    },
    "id": "fYfMTNsw3X2M",
    "outputId": "86b8bf7b-7ad7-4910-e36d-6d526e63002c"
   },
   "outputs": [
    {
     "data": {
      "text/plain": [
       "LinearRegression(copy_X=True, fit_intercept=True, n_jobs=None, normalize=False)"
      ]
     },
     "execution_count": 3,
     "metadata": {
      "tags": []
     },
     "output_type": "execute_result"
    }
   ],
   "source": [
    "from sklearn.linear_model import LinearRegression\n",
    "\n",
    "model = LinearRegression()\n",
    "model.fit(X_train,y_train)"
   ]
  },
  {
   "cell_type": "code",
   "execution_count": 4,
   "metadata": {
    "colab": {
     "base_uri": "https://localhost:8080/"
    },
    "id": "JQ-rc0KI3X2W",
    "outputId": "7ef3f94f-9b3e-4513-aa51-a7b20b40622b"
   },
   "outputs": [
    {
     "data": {
      "text/plain": [
       "array([ 3.10465458e+01,  1.35929333e+00, -1.71996170e+01, -4.26396854e+00,\n",
       "       -4.56514104e+00,  2.71178012e+01,  1.12523398e+01, -9.62768549e+00,\n",
       "        1.28097189e+01, -3.82102937e+01, -3.92691076e+00, -4.49267755e+00,\n",
       "        9.12581579e+03,  2.81237962e+01,  1.26722148e+01,  1.99096955e+01,\n",
       "       -1.73401880e+01,  3.77047162e+03, -7.57356369e+00,  4.99844116e+03])"
      ]
     },
     "execution_count": 4,
     "metadata": {
      "tags": []
     },
     "output_type": "execute_result"
    }
   ],
   "source": [
    "model.coef_"
   ]
  },
  {
   "cell_type": "code",
   "execution_count": 5,
   "metadata": {
    "id": "PYh394k531Jn"
   },
   "outputs": [],
   "source": [
    "from sklearn.feature_selection import RFE"
   ]
  },
  {
   "cell_type": "code",
   "execution_count": 6,
   "metadata": {
    "id": "rYSG8f1y4yqJ"
   },
   "outputs": [],
   "source": [
    "rfe = RFE(estimator=LinearRegression(), n_features_to_select=5)"
   ]
  },
  {
   "cell_type": "code",
   "execution_count": 7,
   "metadata": {
    "colab": {
     "base_uri": "https://localhost:8080/"
    },
    "id": "eg7zoSFF5RNx",
    "outputId": "b4644766-2a58-4c5d-ed58-9cdf4d070613"
   },
   "outputs": [
    {
     "data": {
      "text/plain": [
       "RFE(estimator=LinearRegression(copy_X=True, fit_intercept=True, n_jobs=None,\n",
       "                               normalize=False),\n",
       "    n_features_to_select=5, step=1, verbose=0)"
      ]
     },
     "execution_count": 7,
     "metadata": {
      "tags": []
     },
     "output_type": "execute_result"
    }
   ],
   "source": [
    "rfe.fit(X_train,y_train)"
   ]
  },
  {
   "cell_type": "code",
   "execution_count": 8,
   "metadata": {
    "colab": {
     "base_uri": "https://localhost:8080/"
    },
    "id": "gUYThKGg5yMO",
    "outputId": "bb7d3b23-ecac-45e4-8348-f9351e013c1b"
   },
   "outputs": [
    {
     "name": "stdout",
     "output_type": "stream",
     "text": [
      "Feature: score0, Rank: 1\n",
      "Feature: score9, Rank: 1\n",
      "Feature: score12, Rank: 1\n",
      "Feature: score17, Rank: 1\n",
      "Feature: score19, Rank: 1\n"
     ]
    }
   ],
   "source": [
    "for featureNum in range(X_train.shape[1]):\n",
    "  # If feature was selected\n",
    "  if rfe.support_[featureNum] == True:\n",
    "    # Print feature name and rank\n",
    "    print(\"Feature: {}, Rank: {}\"\\\n",
    "          .format(X_train.columns[featureNum],\\\n",
    "                  rfe.ranking_[featureNum]))"
   ]
  },
  {
   "cell_type": "code",
   "execution_count": 9,
   "metadata": {
    "id": "jKGJ_Nzg6xVV"
   },
   "outputs": [],
   "source": [
    "X_train_reduced = X_train[X_train.columns[rfe.support_]]\n",
    "X_test_reduced = X_test[X_train.columns[rfe.support_]]"
   ]
  },
  {
   "cell_type": "code",
   "execution_count": 10,
   "metadata": {
    "colab": {
     "base_uri": "https://localhost:8080/"
    },
    "id": "zg9jB1_S7Gs-",
    "outputId": "9ac18403-7f7e-4ab7-fd89-d0d971279a31"
   },
   "outputs": [
    {
     "data": {
      "text/plain": [
       "LinearRegression(copy_X=True, fit_intercept=True, n_jobs=None, normalize=False)"
      ]
     },
     "execution_count": 10,
     "metadata": {
      "tags": []
     },
     "output_type": "execute_result"
    }
   ],
   "source": [
    "rfe_model = LinearRegression()\n",
    "rfe_model.fit(X_train_reduced,y_train)"
   ]
  },
  {
   "cell_type": "code",
   "execution_count": 11,
   "metadata": {
    "colab": {
     "base_uri": "https://localhost:8080/"
    },
    "id": "80ftmp_S3X2q",
    "outputId": "d3e34626-a52e-4141-dcf7-75a14ce4d3b1"
   },
   "outputs": [
    {
     "name": "stdout",
     "output_type": "stream",
     "text": [
      "491.7883376857259\n"
     ]
    }
   ],
   "source": [
    "from sklearn.metrics import mean_squared_error\n",
    "\n",
    "predictions = model.predict(X_test)\n",
    "print(mean_squared_error(predictions, y_test)**0.5)"
   ]
  },
  {
   "cell_type": "code",
   "execution_count": 12,
   "metadata": {
    "colab": {
     "base_uri": "https://localhost:8080/"
    },
    "id": "v1hw9m5s3X2v",
    "outputId": "5f931a85-45df-4a13-964d-ccba00dde41f"
   },
   "outputs": [
    {
     "name": "stdout",
     "output_type": "stream",
     "text": [
      "487.6184171986599\n"
     ]
    }
   ],
   "source": [
    "rfe_predictions = rfe_model.predict(X_test_reduced)\n",
    "print(mean_squared_error(rfe_predictions, y_test)**0.5)"
   ]
  },
  {
   "cell_type": "code",
   "execution_count": 12,
   "metadata": {
    "id": "-3TkPoeu3X2z"
   },
   "outputs": [],
   "source": []
  }
 ],
 "metadata": {
  "colab": {
   "name": "Exercise 24.ipynb",
   "provenance": []
  },
  "kernelspec": {
   "display_name": "Python 3",
   "language": "python",
   "name": "python3"
  },
  "language_info": {
   "codemirror_mode": {
    "name": "ipython",
    "version": 3
   },
   "file_extension": ".py",
   "mimetype": "text/x-python",
   "name": "python",
   "nbconvert_exporter": "python",
   "pygments_lexer": "ipython3",
   "version": "3.7.1"
  }
 },
 "nbformat": 4,
 "nbformat_minor": 1
}
