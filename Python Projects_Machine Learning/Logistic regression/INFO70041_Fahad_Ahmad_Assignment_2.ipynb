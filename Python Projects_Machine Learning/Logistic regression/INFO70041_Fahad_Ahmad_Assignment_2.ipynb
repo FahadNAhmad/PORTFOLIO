{
  "nbformat": 4,
  "nbformat_minor": 0,
  "metadata": {
    "colab": {
      "name": "INFO70041_Fahad Ahmad_Assignment 2.ipynb",
      "provenance": [],
      "collapsed_sections": []
    },
    "kernelspec": {
      "name": "python3",
      "display_name": "Python 3"
    }
  },
  "cells": [
    {
      "cell_type": "code",
      "metadata": {
        "id": "4U9SHdCxoaOK",
        "outputId": "46b2c38b-10b8-4b8f-d6f7-f7a5a6f7794e",
        "colab": {
          "base_uri": "https://localhost:8080/",
          "height": 419
        }
      },
      "source": [
        "#Tasks for INFO70041_Assignment 2:\n",
        "#Class label is the dependent variable or the response variable.\n",
        "#2=benign, 4=malignant\n",
        "\n",
        "#Download the data and import it successfully to a pandas DataFrame\n",
        "#Create a histogram of the size and shape of the Unif-Cell\n",
        "#Create a Joint plot using Seaborn\n",
        "#Investigate and invalid or missing (NaN) data and deal with it\n",
        "#Split the data into train and test sets\n",
        "#Create a Logistic Regression classifier and train it using your Training data set\n",
        "#Make predictions using test data and generate confusion matrix of your results\n",
        "#Generate the confusion matrix and compare the accuracy with the result of previous step\n",
        "\n",
        "url = 'https://raw.githubusercontent.com/fahad101/Datasets/master/Wisconsin_Diagnostic_Breast_Cancer.csv'\n",
        "\n",
        "# import dependencies\n",
        "# data cleaning and manipulation \n",
        "import pandas as pd\n",
        "import numpy as np\n",
        "# data visualization\n",
        "import matplotlib.pyplot as plt\n",
        "import seaborn as sns\n",
        "# machine learning\n",
        "from sklearn.preprocessing import StandardScaler\n",
        "import sklearn.linear_model as skl_lm\n",
        "from sklearn import preprocessing\n",
        "from sklearn import neighbors\n",
        "from sklearn.linear_model import LogisticRegression\n",
        "from sklearn.metrics import confusion_matrix, classification_report, precision_score\n",
        "from sklearn.model_selection import train_test_split\n",
        "\n",
        "import statsmodels.api as sm\n",
        "import statsmodels.formula.api as smf\n",
        "\n",
        "# initialize some package settings\n",
        "sns.set(style=\"whitegrid\", color_codes=True, font_scale=1.3)\n",
        "\n",
        "%matplotlib inline\n",
        "import matplotlib.pyplot as plt\n",
        "%matplotlib inline\n",
        "import seaborn as sns\n",
        "import warnings\n",
        "warnings.filterwarnings('ignore')\n",
        "np.set_printoptions(suppress=True) # Numpy prints Real numbers instead of Scientifical Notation\n",
        "\n",
        "#Import data into a pandas DataFrame as .csv file\n",
        "BreastCancerdata = pd.read_csv(url)\n",
        "\n",
        "BreastCancerdata"
      ],
      "execution_count": null,
      "outputs": [
        {
          "output_type": "execute_result",
          "data": {
            "text/html": [
              "<div>\n",
              "<style scoped>\n",
              "    .dataframe tbody tr th:only-of-type {\n",
              "        vertical-align: middle;\n",
              "    }\n",
              "\n",
              "    .dataframe tbody tr th {\n",
              "        vertical-align: top;\n",
              "    }\n",
              "\n",
              "    .dataframe thead th {\n",
              "        text-align: right;\n",
              "    }\n",
              "</style>\n",
              "<table border=\"1\" class=\"dataframe\">\n",
              "  <thead>\n",
              "    <tr style=\"text-align: right;\">\n",
              "      <th></th>\n",
              "      <th>ID</th>\n",
              "      <th>Clum_thick</th>\n",
              "      <th>Unif_cell_size</th>\n",
              "      <th>Unif_cell_shape</th>\n",
              "      <th>Marg_adhesion</th>\n",
              "      <th>single_epich</th>\n",
              "      <th>Bare_nuc</th>\n",
              "      <th>Bland_chrom</th>\n",
              "      <th>Norm_nucl</th>\n",
              "      <th>Mitoses</th>\n",
              "      <th>Class</th>\n",
              "    </tr>\n",
              "  </thead>\n",
              "  <tbody>\n",
              "    <tr>\n",
              "      <th>0</th>\n",
              "      <td>1000025</td>\n",
              "      <td>5</td>\n",
              "      <td>1</td>\n",
              "      <td>1</td>\n",
              "      <td>1</td>\n",
              "      <td>2</td>\n",
              "      <td>1</td>\n",
              "      <td>3</td>\n",
              "      <td>1</td>\n",
              "      <td>1</td>\n",
              "      <td>2</td>\n",
              "    </tr>\n",
              "    <tr>\n",
              "      <th>1</th>\n",
              "      <td>1002945</td>\n",
              "      <td>5</td>\n",
              "      <td>4</td>\n",
              "      <td>4</td>\n",
              "      <td>5</td>\n",
              "      <td>7</td>\n",
              "      <td>10</td>\n",
              "      <td>3</td>\n",
              "      <td>2</td>\n",
              "      <td>1</td>\n",
              "      <td>2</td>\n",
              "    </tr>\n",
              "    <tr>\n",
              "      <th>2</th>\n",
              "      <td>1015425</td>\n",
              "      <td>3</td>\n",
              "      <td>1</td>\n",
              "      <td>1</td>\n",
              "      <td>1</td>\n",
              "      <td>2</td>\n",
              "      <td>2</td>\n",
              "      <td>3</td>\n",
              "      <td>1</td>\n",
              "      <td>1</td>\n",
              "      <td>2</td>\n",
              "    </tr>\n",
              "    <tr>\n",
              "      <th>3</th>\n",
              "      <td>1016277</td>\n",
              "      <td>6</td>\n",
              "      <td>8</td>\n",
              "      <td>8</td>\n",
              "      <td>1</td>\n",
              "      <td>3</td>\n",
              "      <td>4</td>\n",
              "      <td>3</td>\n",
              "      <td>7</td>\n",
              "      <td>1</td>\n",
              "      <td>2</td>\n",
              "    </tr>\n",
              "    <tr>\n",
              "      <th>4</th>\n",
              "      <td>1017023</td>\n",
              "      <td>4</td>\n",
              "      <td>1</td>\n",
              "      <td>1</td>\n",
              "      <td>3</td>\n",
              "      <td>2</td>\n",
              "      <td>1</td>\n",
              "      <td>3</td>\n",
              "      <td>1</td>\n",
              "      <td>1</td>\n",
              "      <td>2</td>\n",
              "    </tr>\n",
              "    <tr>\n",
              "      <th>...</th>\n",
              "      <td>...</td>\n",
              "      <td>...</td>\n",
              "      <td>...</td>\n",
              "      <td>...</td>\n",
              "      <td>...</td>\n",
              "      <td>...</td>\n",
              "      <td>...</td>\n",
              "      <td>...</td>\n",
              "      <td>...</td>\n",
              "      <td>...</td>\n",
              "      <td>...</td>\n",
              "    </tr>\n",
              "    <tr>\n",
              "      <th>694</th>\n",
              "      <td>776715</td>\n",
              "      <td>3</td>\n",
              "      <td>1</td>\n",
              "      <td>1</td>\n",
              "      <td>1</td>\n",
              "      <td>3</td>\n",
              "      <td>2</td>\n",
              "      <td>1</td>\n",
              "      <td>1</td>\n",
              "      <td>1</td>\n",
              "      <td>2</td>\n",
              "    </tr>\n",
              "    <tr>\n",
              "      <th>695</th>\n",
              "      <td>841769</td>\n",
              "      <td>2</td>\n",
              "      <td>1</td>\n",
              "      <td>1</td>\n",
              "      <td>1</td>\n",
              "      <td>2</td>\n",
              "      <td>1</td>\n",
              "      <td>1</td>\n",
              "      <td>1</td>\n",
              "      <td>1</td>\n",
              "      <td>2</td>\n",
              "    </tr>\n",
              "    <tr>\n",
              "      <th>696</th>\n",
              "      <td>888820</td>\n",
              "      <td>5</td>\n",
              "      <td>10</td>\n",
              "      <td>10</td>\n",
              "      <td>3</td>\n",
              "      <td>7</td>\n",
              "      <td>3</td>\n",
              "      <td>8</td>\n",
              "      <td>10</td>\n",
              "      <td>2</td>\n",
              "      <td>4</td>\n",
              "    </tr>\n",
              "    <tr>\n",
              "      <th>697</th>\n",
              "      <td>897471</td>\n",
              "      <td>4</td>\n",
              "      <td>8</td>\n",
              "      <td>6</td>\n",
              "      <td>4</td>\n",
              "      <td>3</td>\n",
              "      <td>4</td>\n",
              "      <td>10</td>\n",
              "      <td>6</td>\n",
              "      <td>1</td>\n",
              "      <td>4</td>\n",
              "    </tr>\n",
              "    <tr>\n",
              "      <th>698</th>\n",
              "      <td>897471</td>\n",
              "      <td>4</td>\n",
              "      <td>8</td>\n",
              "      <td>8</td>\n",
              "      <td>5</td>\n",
              "      <td>4</td>\n",
              "      <td>5</td>\n",
              "      <td>10</td>\n",
              "      <td>4</td>\n",
              "      <td>1</td>\n",
              "      <td>4</td>\n",
              "    </tr>\n",
              "  </tbody>\n",
              "</table>\n",
              "<p>699 rows × 11 columns</p>\n",
              "</div>"
            ],
            "text/plain": [
              "          ID  Clum_thick  Unif_cell_size  ...  Norm_nucl  Mitoses  Class\n",
              "0    1000025           5               1  ...          1        1      2\n",
              "1    1002945           5               4  ...          2        1      2\n",
              "2    1015425           3               1  ...          1        1      2\n",
              "3    1016277           6               8  ...          7        1      2\n",
              "4    1017023           4               1  ...          1        1      2\n",
              "..       ...         ...             ...  ...        ...      ...    ...\n",
              "694   776715           3               1  ...          1        1      2\n",
              "695   841769           2               1  ...          1        1      2\n",
              "696   888820           5              10  ...         10        2      4\n",
              "697   897471           4               8  ...          6        1      4\n",
              "698   897471           4               8  ...          4        1      4\n",
              "\n",
              "[699 rows x 11 columns]"
            ]
          },
          "metadata": {
            "tags": []
          },
          "execution_count": 54
        }
      ]
    },
    {
      "cell_type": "code",
      "metadata": {
        "id": "HKeBtWgkDyye",
        "outputId": "f57739fa-50c7-4fc2-90ab-0afb97391b01",
        "colab": {
          "base_uri": "https://localhost:8080/"
        }
      },
      "source": [
        "BreastCancerdata.info()"
      ],
      "execution_count": null,
      "outputs": [
        {
          "output_type": "stream",
          "text": [
            "<class 'pandas.core.frame.DataFrame'>\n",
            "RangeIndex: 699 entries, 0 to 698\n",
            "Data columns (total 10 columns):\n",
            " #   Column           Non-Null Count  Dtype  \n",
            "---  ------           --------------  -----  \n",
            " 0   Clum_thick       699 non-null    int64  \n",
            " 1   Unif_cell_size   699 non-null    int64  \n",
            " 2   Unif_cell_shape  699 non-null    int64  \n",
            " 3   Marg_adhesion    699 non-null    int64  \n",
            " 4   single_epich     699 non-null    int64  \n",
            " 5   Bare_nuc         699 non-null    float64\n",
            " 6   Bland_chrom      699 non-null    int64  \n",
            " 7   Norm_nucl        699 non-null    int64  \n",
            " 8   Mitoses          699 non-null    int64  \n",
            " 9   Class            699 non-null    int64  \n",
            "dtypes: float64(1), int64(9)\n",
            "memory usage: 54.7 KB\n"
          ],
          "name": "stdout"
        }
      ]
    },
    {
      "cell_type": "code",
      "metadata": {
        "id": "zfHyAILbzNmz",
        "outputId": "b1f1fee1-448e-4a9d-b044-b8728edebfc0",
        "colab": {
          "base_uri": "https://localhost:8080/",
          "height": 204
        }
      },
      "source": [
        "BreastCancerdata.head()"
      ],
      "execution_count": null,
      "outputs": [
        {
          "output_type": "execute_result",
          "data": {
            "text/html": [
              "<div>\n",
              "<style scoped>\n",
              "    .dataframe tbody tr th:only-of-type {\n",
              "        vertical-align: middle;\n",
              "    }\n",
              "\n",
              "    .dataframe tbody tr th {\n",
              "        vertical-align: top;\n",
              "    }\n",
              "\n",
              "    .dataframe thead th {\n",
              "        text-align: right;\n",
              "    }\n",
              "</style>\n",
              "<table border=\"1\" class=\"dataframe\">\n",
              "  <thead>\n",
              "    <tr style=\"text-align: right;\">\n",
              "      <th></th>\n",
              "      <th>ID</th>\n",
              "      <th>Clum_thick</th>\n",
              "      <th>Unif_cell_size</th>\n",
              "      <th>Unif_cell_shape</th>\n",
              "      <th>Marg_adhesion</th>\n",
              "      <th>single_epich</th>\n",
              "      <th>Bare_nuc</th>\n",
              "      <th>Bland_chrom</th>\n",
              "      <th>Norm_nucl</th>\n",
              "      <th>Mitoses</th>\n",
              "      <th>Class</th>\n",
              "    </tr>\n",
              "  </thead>\n",
              "  <tbody>\n",
              "    <tr>\n",
              "      <th>0</th>\n",
              "      <td>1000025</td>\n",
              "      <td>5</td>\n",
              "      <td>1</td>\n",
              "      <td>1</td>\n",
              "      <td>1</td>\n",
              "      <td>2</td>\n",
              "      <td>1</td>\n",
              "      <td>3</td>\n",
              "      <td>1</td>\n",
              "      <td>1</td>\n",
              "      <td>2</td>\n",
              "    </tr>\n",
              "    <tr>\n",
              "      <th>1</th>\n",
              "      <td>1002945</td>\n",
              "      <td>5</td>\n",
              "      <td>4</td>\n",
              "      <td>4</td>\n",
              "      <td>5</td>\n",
              "      <td>7</td>\n",
              "      <td>10</td>\n",
              "      <td>3</td>\n",
              "      <td>2</td>\n",
              "      <td>1</td>\n",
              "      <td>2</td>\n",
              "    </tr>\n",
              "    <tr>\n",
              "      <th>2</th>\n",
              "      <td>1015425</td>\n",
              "      <td>3</td>\n",
              "      <td>1</td>\n",
              "      <td>1</td>\n",
              "      <td>1</td>\n",
              "      <td>2</td>\n",
              "      <td>2</td>\n",
              "      <td>3</td>\n",
              "      <td>1</td>\n",
              "      <td>1</td>\n",
              "      <td>2</td>\n",
              "    </tr>\n",
              "    <tr>\n",
              "      <th>3</th>\n",
              "      <td>1016277</td>\n",
              "      <td>6</td>\n",
              "      <td>8</td>\n",
              "      <td>8</td>\n",
              "      <td>1</td>\n",
              "      <td>3</td>\n",
              "      <td>4</td>\n",
              "      <td>3</td>\n",
              "      <td>7</td>\n",
              "      <td>1</td>\n",
              "      <td>2</td>\n",
              "    </tr>\n",
              "    <tr>\n",
              "      <th>4</th>\n",
              "      <td>1017023</td>\n",
              "      <td>4</td>\n",
              "      <td>1</td>\n",
              "      <td>1</td>\n",
              "      <td>3</td>\n",
              "      <td>2</td>\n",
              "      <td>1</td>\n",
              "      <td>3</td>\n",
              "      <td>1</td>\n",
              "      <td>1</td>\n",
              "      <td>2</td>\n",
              "    </tr>\n",
              "  </tbody>\n",
              "</table>\n",
              "</div>"
            ],
            "text/plain": [
              "        ID  Clum_thick  Unif_cell_size  ...  Norm_nucl  Mitoses  Class\n",
              "0  1000025           5               1  ...          1        1      2\n",
              "1  1002945           5               4  ...          2        1      2\n",
              "2  1015425           3               1  ...          1        1      2\n",
              "3  1016277           6               8  ...          7        1      2\n",
              "4  1017023           4               1  ...          1        1      2\n",
              "\n",
              "[5 rows x 11 columns]"
            ]
          },
          "metadata": {
            "tags": []
          },
          "execution_count": 56
        }
      ]
    },
    {
      "cell_type": "code",
      "metadata": {
        "id": "6WsMOCWDUqQz"
      },
      "source": [
        "#BreastCancerdata.to_csv(r'C:\\Users\\Fahad\\Downloads\\breastcancer.csv')"
      ],
      "execution_count": null,
      "outputs": []
    },
    {
      "cell_type": "markdown",
      "metadata": {
        "id": "fq8p0bqw8vHK"
      },
      "source": [
        "# Investigate and invalid or missing (NaN) data and deal with it"
      ]
    },
    {
      "cell_type": "code",
      "metadata": {
        "id": "n8Y0NC5IbKHN",
        "outputId": "bcc19d4e-fd65-432a-aed5-9391759edded",
        "colab": {
          "base_uri": "https://localhost:8080/"
        }
      },
      "source": [
        "#There are no null values as in NA values in the Breast Cancer data\n",
        "#However, there could be other types of values which are String values\n",
        "#but not NA values\n",
        "print(BreastCancerdata.isnull().sum())"
      ],
      "execution_count": null,
      "outputs": [
        {
          "output_type": "stream",
          "text": [
            "ID                 0\n",
            "Clum_thick         0\n",
            "Unif_cell_size     0\n",
            "Unif_cell_shape    0\n",
            "Marg_adhesion      0\n",
            "single_epich       0\n",
            "Bare_nuc           0\n",
            "Bland_chrom        0\n",
            "Norm_nucl          0\n",
            "Mitoses            0\n",
            "Class              0\n",
            "dtype: int64\n"
          ],
          "name": "stdout"
        }
      ]
    },
    {
      "cell_type": "code",
      "metadata": {
        "id": "s74VBlWPCioB",
        "outputId": "7ddba4a9-a8c8-417b-e904-9457bd10c4e9",
        "colab": {
          "base_uri": "https://localhost:8080/"
        }
      },
      "source": [
        "BreastCancerdata.info()\n",
        "BreastCancerdata.applymap(np.isreal).all()"
      ],
      "execution_count": null,
      "outputs": [
        {
          "output_type": "stream",
          "text": [
            "<class 'pandas.core.frame.DataFrame'>\n",
            "RangeIndex: 699 entries, 0 to 698\n",
            "Data columns (total 10 columns):\n",
            " #   Column           Non-Null Count  Dtype  \n",
            "---  ------           --------------  -----  \n",
            " 0   Clum_thick       699 non-null    int64  \n",
            " 1   Unif_cell_size   699 non-null    int64  \n",
            " 2   Unif_cell_shape  699 non-null    int64  \n",
            " 3   Marg_adhesion    699 non-null    int64  \n",
            " 4   single_epich     699 non-null    int64  \n",
            " 5   Bare_nuc         699 non-null    float64\n",
            " 6   Bland_chrom      699 non-null    int64  \n",
            " 7   Norm_nucl        699 non-null    int64  \n",
            " 8   Mitoses          699 non-null    int64  \n",
            " 9   Class            699 non-null    int64  \n",
            "dtypes: float64(1), int64(9)\n",
            "memory usage: 54.7 KB\n"
          ],
          "name": "stdout"
        },
        {
          "output_type": "execute_result",
          "data": {
            "text/plain": [
              "Clum_thick         True\n",
              "Unif_cell_size     True\n",
              "Unif_cell_shape    True\n",
              "Marg_adhesion      True\n",
              "single_epich       True\n",
              "Bare_nuc           True\n",
              "Bland_chrom        True\n",
              "Norm_nucl          True\n",
              "Mitoses            True\n",
              "Class              True\n",
              "dtype: bool"
            ]
          },
          "metadata": {
            "tags": []
          },
          "execution_count": 108
        }
      ]
    },
    {
      "cell_type": "code",
      "metadata": {
        "id": "yn2RqwL8bPOh"
      },
      "source": [
        "#Making a list of missing value types\n",
        "#Reload the dataset\n",
        "missing_values = [\"n/a\",\"na\",\"--\", \"?\"]\n",
        "BreastCancerdata = pd.read_csv(url, na_values = missing_values)"
      ],
      "execution_count": null,
      "outputs": []
    },
    {
      "cell_type": "code",
      "metadata": {
        "id": "-0UuA6D8brg1",
        "outputId": "e9ca864c-e4a1-4368-d95f-bf1f4b05dc87",
        "colab": {
          "base_uri": "https://localhost:8080/"
        }
      },
      "source": [
        "#16 missing values in column \"Bare_nuc\" that are string values\n",
        "print(BreastCancerdata.isnull().sum())"
      ],
      "execution_count": null,
      "outputs": [
        {
          "output_type": "stream",
          "text": [
            "ID                  0\n",
            "Clum_thick          0\n",
            "Unif_cell_size      0\n",
            "Unif_cell_shape     0\n",
            "Marg_adhesion       0\n",
            "single_epich        0\n",
            "Bare_nuc           16\n",
            "Bland_chrom         0\n",
            "Norm_nucl           0\n",
            "Mitoses             0\n",
            "Class               0\n",
            "dtype: int64\n"
          ],
          "name": "stdout"
        }
      ]
    },
    {
      "cell_type": "code",
      "metadata": {
        "id": "60_f2QHofZ3s",
        "outputId": "33f6b45d-cf57-4634-8569-4fc92da19a37",
        "colab": {
          "base_uri": "https://localhost:8080/"
        }
      },
      "source": [
        "BreastCancerdata['Bare_nuc'].mean()"
      ],
      "execution_count": null,
      "outputs": [
        {
          "output_type": "execute_result",
          "data": {
            "text/plain": [
              "3.5446559297218156"
            ]
          },
          "metadata": {
            "tags": []
          },
          "execution_count": 73
        }
      ]
    },
    {
      "cell_type": "code",
      "metadata": {
        "id": "Tp5j0IXmhh3A"
      },
      "source": [
        "#df.to_csv(r'dfwithquestionmarks.csv')"
      ],
      "execution_count": null,
      "outputs": []
    },
    {
      "cell_type": "code",
      "metadata": {
        "id": "suOTmx5RgJJY"
      },
      "source": [
        "#Replace missing values with the mean of the column, in this case mean of Bare_nucl\n",
        "mean = BreastCancerdata['Bare_nuc'].mean()\n",
        "BreastCancerdata['Bare_nuc'].fillna(mean, inplace=True)"
      ],
      "execution_count": null,
      "outputs": []
    },
    {
      "cell_type": "code",
      "metadata": {
        "id": "_xtoSkPngrIV",
        "outputId": "73754cbf-ebcc-4791-e138-52f09d837381",
        "colab": {
          "base_uri": "https://localhost:8080/"
        }
      },
      "source": [
        "#There is no types of missing values for any of the variables\n",
        "print(BreastCancerdata.isnull().sum())"
      ],
      "execution_count": null,
      "outputs": [
        {
          "output_type": "stream",
          "text": [
            "ID                 0\n",
            "Clum_thick         0\n",
            "Unif_cell_size     0\n",
            "Unif_cell_shape    0\n",
            "Marg_adhesion      0\n",
            "single_epich       0\n",
            "Bare_nuc           0\n",
            "Bland_chrom        0\n",
            "Norm_nucl          0\n",
            "Mitoses            0\n",
            "Class              0\n",
            "dtype: int64\n"
          ],
          "name": "stdout"
        }
      ]
    },
    {
      "cell_type": "code",
      "metadata": {
        "id": "YpysIaYQbnhB",
        "outputId": "10ed23a1-cc25-4b2f-b8d5-65126584e645",
        "colab": {
          "base_uri": "https://localhost:8080/",
          "height": 419
        }
      },
      "source": [
        "BreastCancerdata"
      ],
      "execution_count": null,
      "outputs": [
        {
          "output_type": "execute_result",
          "data": {
            "text/html": [
              "<div>\n",
              "<style scoped>\n",
              "    .dataframe tbody tr th:only-of-type {\n",
              "        vertical-align: middle;\n",
              "    }\n",
              "\n",
              "    .dataframe tbody tr th {\n",
              "        vertical-align: top;\n",
              "    }\n",
              "\n",
              "    .dataframe thead th {\n",
              "        text-align: right;\n",
              "    }\n",
              "</style>\n",
              "<table border=\"1\" class=\"dataframe\">\n",
              "  <thead>\n",
              "    <tr style=\"text-align: right;\">\n",
              "      <th></th>\n",
              "      <th>ID</th>\n",
              "      <th>Clum_thick</th>\n",
              "      <th>Unif_cell_size</th>\n",
              "      <th>Unif_cell_shape</th>\n",
              "      <th>Marg_adhesion</th>\n",
              "      <th>single_epich</th>\n",
              "      <th>Bare_nuc</th>\n",
              "      <th>Bland_chrom</th>\n",
              "      <th>Norm_nucl</th>\n",
              "      <th>Mitoses</th>\n",
              "      <th>Class</th>\n",
              "    </tr>\n",
              "  </thead>\n",
              "  <tbody>\n",
              "    <tr>\n",
              "      <th>0</th>\n",
              "      <td>1000025</td>\n",
              "      <td>5</td>\n",
              "      <td>1</td>\n",
              "      <td>1</td>\n",
              "      <td>1</td>\n",
              "      <td>2</td>\n",
              "      <td>1.0</td>\n",
              "      <td>3</td>\n",
              "      <td>1</td>\n",
              "      <td>1</td>\n",
              "      <td>2</td>\n",
              "    </tr>\n",
              "    <tr>\n",
              "      <th>1</th>\n",
              "      <td>1002945</td>\n",
              "      <td>5</td>\n",
              "      <td>4</td>\n",
              "      <td>4</td>\n",
              "      <td>5</td>\n",
              "      <td>7</td>\n",
              "      <td>10.0</td>\n",
              "      <td>3</td>\n",
              "      <td>2</td>\n",
              "      <td>1</td>\n",
              "      <td>2</td>\n",
              "    </tr>\n",
              "    <tr>\n",
              "      <th>2</th>\n",
              "      <td>1015425</td>\n",
              "      <td>3</td>\n",
              "      <td>1</td>\n",
              "      <td>1</td>\n",
              "      <td>1</td>\n",
              "      <td>2</td>\n",
              "      <td>2.0</td>\n",
              "      <td>3</td>\n",
              "      <td>1</td>\n",
              "      <td>1</td>\n",
              "      <td>2</td>\n",
              "    </tr>\n",
              "    <tr>\n",
              "      <th>3</th>\n",
              "      <td>1016277</td>\n",
              "      <td>6</td>\n",
              "      <td>8</td>\n",
              "      <td>8</td>\n",
              "      <td>1</td>\n",
              "      <td>3</td>\n",
              "      <td>4.0</td>\n",
              "      <td>3</td>\n",
              "      <td>7</td>\n",
              "      <td>1</td>\n",
              "      <td>2</td>\n",
              "    </tr>\n",
              "    <tr>\n",
              "      <th>4</th>\n",
              "      <td>1017023</td>\n",
              "      <td>4</td>\n",
              "      <td>1</td>\n",
              "      <td>1</td>\n",
              "      <td>3</td>\n",
              "      <td>2</td>\n",
              "      <td>1.0</td>\n",
              "      <td>3</td>\n",
              "      <td>1</td>\n",
              "      <td>1</td>\n",
              "      <td>2</td>\n",
              "    </tr>\n",
              "    <tr>\n",
              "      <th>...</th>\n",
              "      <td>...</td>\n",
              "      <td>...</td>\n",
              "      <td>...</td>\n",
              "      <td>...</td>\n",
              "      <td>...</td>\n",
              "      <td>...</td>\n",
              "      <td>...</td>\n",
              "      <td>...</td>\n",
              "      <td>...</td>\n",
              "      <td>...</td>\n",
              "      <td>...</td>\n",
              "    </tr>\n",
              "    <tr>\n",
              "      <th>694</th>\n",
              "      <td>776715</td>\n",
              "      <td>3</td>\n",
              "      <td>1</td>\n",
              "      <td>1</td>\n",
              "      <td>1</td>\n",
              "      <td>3</td>\n",
              "      <td>2.0</td>\n",
              "      <td>1</td>\n",
              "      <td>1</td>\n",
              "      <td>1</td>\n",
              "      <td>2</td>\n",
              "    </tr>\n",
              "    <tr>\n",
              "      <th>695</th>\n",
              "      <td>841769</td>\n",
              "      <td>2</td>\n",
              "      <td>1</td>\n",
              "      <td>1</td>\n",
              "      <td>1</td>\n",
              "      <td>2</td>\n",
              "      <td>1.0</td>\n",
              "      <td>1</td>\n",
              "      <td>1</td>\n",
              "      <td>1</td>\n",
              "      <td>2</td>\n",
              "    </tr>\n",
              "    <tr>\n",
              "      <th>696</th>\n",
              "      <td>888820</td>\n",
              "      <td>5</td>\n",
              "      <td>10</td>\n",
              "      <td>10</td>\n",
              "      <td>3</td>\n",
              "      <td>7</td>\n",
              "      <td>3.0</td>\n",
              "      <td>8</td>\n",
              "      <td>10</td>\n",
              "      <td>2</td>\n",
              "      <td>4</td>\n",
              "    </tr>\n",
              "    <tr>\n",
              "      <th>697</th>\n",
              "      <td>897471</td>\n",
              "      <td>4</td>\n",
              "      <td>8</td>\n",
              "      <td>6</td>\n",
              "      <td>4</td>\n",
              "      <td>3</td>\n",
              "      <td>4.0</td>\n",
              "      <td>10</td>\n",
              "      <td>6</td>\n",
              "      <td>1</td>\n",
              "      <td>4</td>\n",
              "    </tr>\n",
              "    <tr>\n",
              "      <th>698</th>\n",
              "      <td>897471</td>\n",
              "      <td>4</td>\n",
              "      <td>8</td>\n",
              "      <td>8</td>\n",
              "      <td>5</td>\n",
              "      <td>4</td>\n",
              "      <td>5.0</td>\n",
              "      <td>10</td>\n",
              "      <td>4</td>\n",
              "      <td>1</td>\n",
              "      <td>4</td>\n",
              "    </tr>\n",
              "  </tbody>\n",
              "</table>\n",
              "<p>699 rows × 11 columns</p>\n",
              "</div>"
            ],
            "text/plain": [
              "          ID  Clum_thick  Unif_cell_size  ...  Norm_nucl  Mitoses  Class\n",
              "0    1000025           5               1  ...          1        1      2\n",
              "1    1002945           5               4  ...          2        1      2\n",
              "2    1015425           3               1  ...          1        1      2\n",
              "3    1016277           6               8  ...          7        1      2\n",
              "4    1017023           4               1  ...          1        1      2\n",
              "..       ...         ...             ...  ...        ...      ...    ...\n",
              "694   776715           3               1  ...          1        1      2\n",
              "695   841769           2               1  ...          1        1      2\n",
              "696   888820           5              10  ...         10        2      4\n",
              "697   897471           4               8  ...          6        1      4\n",
              "698   897471           4               8  ...          4        1      4\n",
              "\n",
              "[699 rows x 11 columns]"
            ]
          },
          "metadata": {
            "tags": []
          },
          "execution_count": 76
        }
      ]
    },
    {
      "cell_type": "markdown",
      "metadata": {
        "id": "qYDAH3Zg6uvt"
      },
      "source": [
        "# A histogram of the size and shape of the Unif-Cell\n"
      ]
    },
    {
      "cell_type": "code",
      "metadata": {
        "id": "PJOwbMj1kC_D",
        "outputId": "101f1f26-a442-4090-8a36-4a0eaf379ff8",
        "colab": {
          "base_uri": "https://localhost:8080/",
          "height": 313
        }
      },
      "source": [
        "\n",
        "sns.countplot(BreastCancerdata['Unif_cell_size'])\n"
      ],
      "execution_count": null,
      "outputs": [
        {
          "output_type": "execute_result",
          "data": {
            "text/plain": [
              "<matplotlib.axes._subplots.AxesSubplot at 0x7f5ae760bd68>"
            ]
          },
          "metadata": {
            "tags": []
          },
          "execution_count": 77
        },
        {
          "output_type": "display_data",
          "data": {
            "image/png": "[encoded data removed]",
            "text/plain": [
              "<Figure size 432x288 with 1 Axes>"
            ]
          },
          "metadata": {
            "tags": [],
            "needs_background": "light"
          }
        }
      ]
    },
    {
      "cell_type": "code",
      "metadata": {
        "id": "Tutam1ivN8rL"
      },
      "source": [
        ""
      ],
      "execution_count": null,
      "outputs": []
    },
    {
      "cell_type": "code",
      "metadata": {
        "id": "E-pWDFYmkTkZ",
        "outputId": "fdc55a66-495d-48d9-f74d-b867d8d11bb5",
        "colab": {
          "base_uri": "https://localhost:8080/",
          "height": 309
        }
      },
      "source": [
        "sns.countplot(BreastCancerdata['Unif_cell_shape'])"
      ],
      "execution_count": null,
      "outputs": [
        {
          "output_type": "execute_result",
          "data": {
            "text/plain": [
              "<matplotlib.axes._subplots.AxesSubplot at 0x7f5ae86bbc50>"
            ]
          },
          "metadata": {
            "tags": []
          },
          "execution_count": 78
        },
        {
          "output_type": "display_data",
          "data": {
            "image/png": "[encoded data removed]",
            "text/plain": [
              "<Figure size 432x288 with 1 Axes>"
            ]
          },
          "metadata": {
            "tags": [],
            "needs_background": "light"
          }
        }
      ]
    },
    {
      "cell_type": "markdown",
      "metadata": {
        "id": "-8n8DlHb7Uvq"
      },
      "source": [
        "# Create a Joint plot using Seaborn"
      ]
    },
    {
      "cell_type": "code",
      "metadata": {
        "id": "8vOOpx_tlKWh",
        "outputId": "ef87fd47-f2df-4d4a-a500-0061abc5b2d8",
        "colab": {
          "base_uri": "https://localhost:8080/",
          "height": 441
        }
      },
      "source": [
        "p = sns.jointplot(data=BreastCancerdata,x='Unif_cell_size', y='Unif_cell_shape')"
      ],
      "execution_count": null,
      "outputs": [
        {
          "output_type": "display_data",
          "data": {
            "image/png": "[encoded data removed]",
            "text/plain": [
              "<Figure size 432x432 with 3 Axes>"
            ]
          },
          "metadata": {
            "tags": [],
            "needs_background": "light"
          }
        }
      ]
    },
    {
      "cell_type": "code",
      "metadata": {
        "id": "RYQsDimYFomd"
      },
      "source": [
        "#BreastCancerdata['Bare_nuc'] = pd.numeric(BreastCancerdata['Bare_nuc'], erros = 'coerce')\n",
        "#sb.heatmap(BreastCancerdata.isnull(), yticktables = False, cbar = False, cmpa = 'virdis')"
      ],
      "execution_count": null,
      "outputs": []
    },
    {
      "cell_type": "code",
      "metadata": {
        "id": "zFLnIXcNv-A4",
        "outputId": "397d1404-00d8-488b-98dd-d72284ac0cbb",
        "colab": {
          "base_uri": "https://localhost:8080/",
          "height": 374
        }
      },
      "source": [
        "# simple heat map showing where we are missing data\n",
        "heat_map = sns.heatmap(BreastCancerdata.isnull(), yticklabels = False, cbar = True, cmap = \"PuRd\", vmin = 0, vmax = 1)\n",
        "plt.show()"
      ],
      "execution_count": null,
      "outputs": [
        {
          "output_type": "display_data",
          "data": {
            "image/png": "[encoded data removed]",
            "text/plain": [
              "<Figure size 432x288 with 2 Axes>"
            ]
          },
          "metadata": {
            "tags": [],
            "needs_background": "light"
          }
        }
      ]
    },
    {
      "cell_type": "code",
      "metadata": {
        "id": "UWJPo7_7e3Nr"
      },
      "source": [
        "#Drop of ID column from BreastCancer data as don't need it\n",
        "#BreastCancerdata = BreastCancerdata.drop('ID', axis = 1)\n",
        "#Dropping off columns ID and 'Bare_nuc'\n",
        "#'Barenuc' has missing values, replace with mean\n",
        "BreastCancerdata = BreastCancerdata.drop(['ID'], axis = 1)"
      ],
      "execution_count": null,
      "outputs": []
    },
    {
      "cell_type": "code",
      "metadata": {
        "id": "8LolTIbkzTnh",
        "outputId": "6fd752e8-029f-4a69-f777-80717dddb2b2",
        "colab": {
          "base_uri": "https://localhost:8080/",
          "height": 297
        }
      },
      "source": [
        "BreastCancerdata.describe().round()"
      ],
      "execution_count": null,
      "outputs": [
        {
          "output_type": "execute_result",
          "data": {
            "text/html": [
              "<div>\n",
              "<style scoped>\n",
              "    .dataframe tbody tr th:only-of-type {\n",
              "        vertical-align: middle;\n",
              "    }\n",
              "\n",
              "    .dataframe tbody tr th {\n",
              "        vertical-align: top;\n",
              "    }\n",
              "\n",
              "    .dataframe thead th {\n",
              "        text-align: right;\n",
              "    }\n",
              "</style>\n",
              "<table border=\"1\" class=\"dataframe\">\n",
              "  <thead>\n",
              "    <tr style=\"text-align: right;\">\n",
              "      <th></th>\n",
              "      <th>Clum_thick</th>\n",
              "      <th>Unif_cell_size</th>\n",
              "      <th>Unif_cell_shape</th>\n",
              "      <th>Marg_adhesion</th>\n",
              "      <th>single_epich</th>\n",
              "      <th>Bare_nuc</th>\n",
              "      <th>Bland_chrom</th>\n",
              "      <th>Norm_nucl</th>\n",
              "      <th>Mitoses</th>\n",
              "      <th>Class</th>\n",
              "    </tr>\n",
              "  </thead>\n",
              "  <tbody>\n",
              "    <tr>\n",
              "      <th>count</th>\n",
              "      <td>699.0</td>\n",
              "      <td>699.0</td>\n",
              "      <td>699.0</td>\n",
              "      <td>699.0</td>\n",
              "      <td>699.0</td>\n",
              "      <td>699.0</td>\n",
              "      <td>699.0</td>\n",
              "      <td>699.0</td>\n",
              "      <td>699.0</td>\n",
              "      <td>699.0</td>\n",
              "    </tr>\n",
              "    <tr>\n",
              "      <th>mean</th>\n",
              "      <td>4.0</td>\n",
              "      <td>3.0</td>\n",
              "      <td>3.0</td>\n",
              "      <td>3.0</td>\n",
              "      <td>3.0</td>\n",
              "      <td>4.0</td>\n",
              "      <td>3.0</td>\n",
              "      <td>3.0</td>\n",
              "      <td>2.0</td>\n",
              "      <td>3.0</td>\n",
              "    </tr>\n",
              "    <tr>\n",
              "      <th>std</th>\n",
              "      <td>3.0</td>\n",
              "      <td>3.0</td>\n",
              "      <td>3.0</td>\n",
              "      <td>3.0</td>\n",
              "      <td>2.0</td>\n",
              "      <td>4.0</td>\n",
              "      <td>2.0</td>\n",
              "      <td>3.0</td>\n",
              "      <td>2.0</td>\n",
              "      <td>1.0</td>\n",
              "    </tr>\n",
              "    <tr>\n",
              "      <th>min</th>\n",
              "      <td>1.0</td>\n",
              "      <td>1.0</td>\n",
              "      <td>1.0</td>\n",
              "      <td>1.0</td>\n",
              "      <td>1.0</td>\n",
              "      <td>1.0</td>\n",
              "      <td>1.0</td>\n",
              "      <td>1.0</td>\n",
              "      <td>1.0</td>\n",
              "      <td>2.0</td>\n",
              "    </tr>\n",
              "    <tr>\n",
              "      <th>25%</th>\n",
              "      <td>2.0</td>\n",
              "      <td>1.0</td>\n",
              "      <td>1.0</td>\n",
              "      <td>1.0</td>\n",
              "      <td>2.0</td>\n",
              "      <td>1.0</td>\n",
              "      <td>2.0</td>\n",
              "      <td>1.0</td>\n",
              "      <td>1.0</td>\n",
              "      <td>2.0</td>\n",
              "    </tr>\n",
              "    <tr>\n",
              "      <th>50%</th>\n",
              "      <td>4.0</td>\n",
              "      <td>1.0</td>\n",
              "      <td>1.0</td>\n",
              "      <td>1.0</td>\n",
              "      <td>2.0</td>\n",
              "      <td>1.0</td>\n",
              "      <td>3.0</td>\n",
              "      <td>1.0</td>\n",
              "      <td>1.0</td>\n",
              "      <td>2.0</td>\n",
              "    </tr>\n",
              "    <tr>\n",
              "      <th>75%</th>\n",
              "      <td>6.0</td>\n",
              "      <td>5.0</td>\n",
              "      <td>5.0</td>\n",
              "      <td>4.0</td>\n",
              "      <td>4.0</td>\n",
              "      <td>5.0</td>\n",
              "      <td>5.0</td>\n",
              "      <td>4.0</td>\n",
              "      <td>1.0</td>\n",
              "      <td>4.0</td>\n",
              "    </tr>\n",
              "    <tr>\n",
              "      <th>max</th>\n",
              "      <td>10.0</td>\n",
              "      <td>10.0</td>\n",
              "      <td>10.0</td>\n",
              "      <td>10.0</td>\n",
              "      <td>10.0</td>\n",
              "      <td>10.0</td>\n",
              "      <td>10.0</td>\n",
              "      <td>10.0</td>\n",
              "      <td>10.0</td>\n",
              "      <td>4.0</td>\n",
              "    </tr>\n",
              "  </tbody>\n",
              "</table>\n",
              "</div>"
            ],
            "text/plain": [
              "       Clum_thick  Unif_cell_size  Unif_cell_shape  ...  Norm_nucl  Mitoses  Class\n",
              "count       699.0           699.0            699.0  ...      699.0    699.0  699.0\n",
              "mean          4.0             3.0              3.0  ...        3.0      2.0    3.0\n",
              "std           3.0             3.0              3.0  ...        3.0      2.0    1.0\n",
              "min           1.0             1.0              1.0  ...        1.0      1.0    2.0\n",
              "25%           2.0             1.0              1.0  ...        1.0      1.0    2.0\n",
              "50%           4.0             1.0              1.0  ...        1.0      1.0    2.0\n",
              "75%           6.0             5.0              5.0  ...        4.0      1.0    4.0\n",
              "max          10.0            10.0             10.0  ...       10.0     10.0    4.0\n",
              "\n",
              "[8 rows x 10 columns]"
            ]
          },
          "metadata": {
            "tags": []
          },
          "execution_count": 82
        }
      ]
    },
    {
      "cell_type": "code",
      "metadata": {
        "id": "2ZJ6n3--bGRd",
        "outputId": "e29d4ff0-8efb-4c57-830b-8e668a4ef32d",
        "colab": {
          "base_uri": "https://localhost:8080/",
          "height": 469
        }
      },
      "source": [
        "# visualize distribution of classes \n",
        "plt.figure(figsize=(4,6))\n",
        "tempRecord = pd.DataFrame()\n",
        "tempRecord['Presence_Cancer'] = BreastCancerdata.Class.replace({2: 'Benign', 4 : 'Malignant'})\n",
        "print(tempRecord.Presence_Cancer.value_counts())\n",
        "sns.countplot(x='Presence_Cancer', data = tempRecord)\n",
        "\n",
        "#sns.countplot(BreastCancerdata['Class'], palette='RdBu')"
      ],
      "execution_count": null,
      "outputs": [
        {
          "output_type": "stream",
          "text": [
            "Benign       458\n",
            "Malignant    241\n",
            "Name: Presence_Cancer, dtype: int64\n"
          ],
          "name": "stdout"
        },
        {
          "output_type": "execute_result",
          "data": {
            "text/plain": [
              "<matplotlib.axes._subplots.AxesSubplot at 0x7f5ae2db7b70>"
            ]
          },
          "metadata": {
            "tags": []
          },
          "execution_count": 114
        },
        {
          "output_type": "display_data",
          "data": {
            "image/png": "[encoded data removed]",
            "text/plain": [
              "<Figure size 288x432 with 1 Axes>"
            ]
          },
          "metadata": {
            "tags": [],
            "needs_background": "light"
          }
        }
      ]
    },
    {
      "cell_type": "code",
      "metadata": {
        "id": "DRKMgF7GeotT",
        "outputId": "9a5465d6-f80c-4432-903b-b8315603ff43",
        "colab": {
          "base_uri": "https://localhost:8080/",
          "height": 612
        }
      },
      "source": [
        "# Unif_cell size is highly correlated with Unif_cell shape; so take one\n",
        "#Don't want multicollinearlity, independent variables are indepedent of each other\n",
        "#We will need to choose to drop of either Unif_cell size or Unif_cell_shape\n",
        "#I choose later to drop of Unif_cell_size as the correlation between cell shape and class is higher\n",
        "#than that of Unif_cell_shape to Class\n",
        "print(BreastCancerdata.corr(method='pearson'))\n",
        "sns.heatmap(BreastCancerdata.corr(method = 'pearson'), annot = True)"
      ],
      "execution_count": null,
      "outputs": [
        {
          "output_type": "stream",
          "text": [
            "                 Clum_thick  Unif_cell_size  ...   Mitoses     Class\n",
            "Clum_thick         1.000000        0.644913  ...  0.350034  0.716001\n",
            "Unif_cell_size     0.644913        1.000000  ...  0.458693  0.817904\n",
            "Unif_cell_shape    0.654589        0.906882  ...  0.438911  0.818934\n",
            "Marg_adhesion      0.486356        0.705582  ...  0.417633  0.696800\n",
            "single_epich       0.521816        0.751799  ...  0.479101  0.682785\n",
            "Bare_nuc           0.587300        0.686801  ...  0.338740  0.816050\n",
            "Bland_chrom        0.558428        0.755721  ...  0.344169  0.756616\n",
            "Norm_nucl          0.535835        0.722865  ...  0.428336  0.712244\n",
            "Mitoses            0.350034        0.458693  ...  1.000000  0.423170\n",
            "Class              0.716001        0.817904  ...  0.423170  1.000000\n",
            "\n",
            "[10 rows x 10 columns]\n"
          ],
          "name": "stdout"
        },
        {
          "output_type": "execute_result",
          "data": {
            "text/plain": [
              "<matplotlib.axes._subplots.AxesSubplot at 0x7f5ae3417860>"
            ]
          },
          "metadata": {
            "tags": []
          },
          "execution_count": 84
        },
        {
          "output_type": "display_data",
          "data": {
            "image/png": "[encoded data removed]",
            "text/plain": [
              "<Figure size 432x288 with 2 Axes>"
            ]
          },
          "metadata": {
            "tags": [],
            "needs_background": "light"
          }
        }
      ]
    },
    {
      "cell_type": "code",
      "metadata": {
        "id": "0jjuTQnagvxO",
        "outputId": "50278510-792d-411a-9bb0-3c2e0c509dd1",
        "colab": {
          "base_uri": "https://localhost:8080/"
        }
      },
      "source": [
        "#Number of observations\n",
        "BreastCancerdata.info()"
      ],
      "execution_count": null,
      "outputs": [
        {
          "output_type": "stream",
          "text": [
            "<class 'pandas.core.frame.DataFrame'>\n",
            "RangeIndex: 699 entries, 0 to 698\n",
            "Data columns (total 10 columns):\n",
            " #   Column           Non-Null Count  Dtype  \n",
            "---  ------           --------------  -----  \n",
            " 0   Clum_thick       699 non-null    int64  \n",
            " 1   Unif_cell_size   699 non-null    int64  \n",
            " 2   Unif_cell_shape  699 non-null    int64  \n",
            " 3   Marg_adhesion    699 non-null    int64  \n",
            " 4   single_epich     699 non-null    int64  \n",
            " 5   Bare_nuc         699 non-null    float64\n",
            " 6   Bland_chrom      699 non-null    int64  \n",
            " 7   Norm_nucl        699 non-null    int64  \n",
            " 8   Mitoses          699 non-null    int64  \n",
            " 9   Class            699 non-null    int64  \n",
            "dtypes: float64(1), int64(9)\n",
            "memory usage: 54.7 KB\n"
          ],
          "name": "stdout"
        }
      ]
    },
    {
      "cell_type": "code",
      "metadata": {
        "id": "m2NCPTXMzsYG",
        "outputId": "e4ab2c31-d3cd-4200-b56c-1648f716cd7a",
        "colab": {
          "base_uri": "https://localhost:8080/",
          "height": 591
        }
      },
      "source": [
        "#Plot of heatmaps of the correlations between different features\n",
        "#Note strong negative correlation between X1 = Crime rate and X7 = % of people 25 years+ with at least 4 years of college\n",
        "plt.subplots(figsize=(10,8))\n",
        "corr = BreastCancerdata.corr()\n",
        "sns.heatmap(corr,  annot = True, vmin=-1, vmax=1, center= 0, cmap= 'coolwarm',linewidths=3, linecolor='black')\n",
        "plt.show()"
      ],
      "execution_count": null,
      "outputs": [
        {
          "output_type": "display_data",
          "data": {
            "image/png": "[encoded data removed]",
            "text/plain": [
              "<Figure size 720x576 with 2 Axes>"
            ]
          },
          "metadata": {
            "tags": [],
            "needs_background": "light"
          }
        }
      ]
    },
    {
      "cell_type": "code",
      "metadata": {
        "id": "e7SGWWkFeSgt",
        "outputId": "fd9eb5d0-28e9-4f10-c497-3af5e9788995",
        "colab": {
          "base_uri": "https://localhost:8080/",
          "height": 1000
        }
      },
      "source": [
        "# Draw the heatmap again, with the new correlation matrix\n",
        "corr = BreastCancerdata.corr().round(2)\n",
        "mask = np.zeros_like(corr, dtype=np.bool)\n",
        "mask[np.triu_indices_from(mask)] = True\n",
        "\n",
        "f, ax = plt.subplots(figsize=(20, 20))\n",
        "\n",
        "# Define custom colormap\n",
        "cmap = sns.diverging_palette(220, 10, as_cmap=True)\n",
        "sns.heatmap(corr, mask=mask, cmap=cmap, vmin=-1, vmax=1, center=0,\n",
        "            square=True, linewidths=.5, cbar_kws={\"shrink\": .5}, annot=True)\n",
        "plt.tight_layout()"
      ],
      "execution_count": null,
      "outputs": [
        {
          "output_type": "display_data",
          "data": {
            "image/png": "[encoded data removed]",
            "text/plain": [
              "<Figure size 1440x1440 with 2 Axes>"
            ]
          },
          "metadata": {
            "tags": [],
            "needs_background": "light"
          }
        }
      ]
    },
    {
      "cell_type": "code",
      "metadata": {
        "id": "97p-w25jhl31",
        "outputId": "3c9715ee-48cc-4d89-c53c-ce244b6a645a",
        "colab": {
          "base_uri": "https://localhost:8080/",
          "height": 204
        }
      },
      "source": [
        "# Divide the given columns into two types of variables dependent(or target variable) and independent variable(or feature variables)\n",
        "# Split the data into training and testing sets; 70% into training set and 30% into test set\n",
        "##I choose drop of from the dataset, Unif_cell_size as the correlation between cell shape and class is higher\n",
        "#than that of Unif_cell_shape to Class\n",
        "X = BreastCancerdata.drop(['Class', 'Unif_cell_size'], axis = 1)\n",
        "y = BreastCancerdata['Class']\n",
        "\n",
        "X.head(n=5)\n"
      ],
      "execution_count": null,
      "outputs": [
        {
          "output_type": "execute_result",
          "data": {
            "text/html": [
              "<div>\n",
              "<style scoped>\n",
              "    .dataframe tbody tr th:only-of-type {\n",
              "        vertical-align: middle;\n",
              "    }\n",
              "\n",
              "    .dataframe tbody tr th {\n",
              "        vertical-align: top;\n",
              "    }\n",
              "\n",
              "    .dataframe thead th {\n",
              "        text-align: right;\n",
              "    }\n",
              "</style>\n",
              "<table border=\"1\" class=\"dataframe\">\n",
              "  <thead>\n",
              "    <tr style=\"text-align: right;\">\n",
              "      <th></th>\n",
              "      <th>Clum_thick</th>\n",
              "      <th>Unif_cell_shape</th>\n",
              "      <th>Marg_adhesion</th>\n",
              "      <th>single_epich</th>\n",
              "      <th>Bare_nuc</th>\n",
              "      <th>Bland_chrom</th>\n",
              "      <th>Norm_nucl</th>\n",
              "      <th>Mitoses</th>\n",
              "    </tr>\n",
              "  </thead>\n",
              "  <tbody>\n",
              "    <tr>\n",
              "      <th>0</th>\n",
              "      <td>5</td>\n",
              "      <td>1</td>\n",
              "      <td>1</td>\n",
              "      <td>2</td>\n",
              "      <td>1.0</td>\n",
              "      <td>3</td>\n",
              "      <td>1</td>\n",
              "      <td>1</td>\n",
              "    </tr>\n",
              "    <tr>\n",
              "      <th>1</th>\n",
              "      <td>5</td>\n",
              "      <td>4</td>\n",
              "      <td>5</td>\n",
              "      <td>7</td>\n",
              "      <td>10.0</td>\n",
              "      <td>3</td>\n",
              "      <td>2</td>\n",
              "      <td>1</td>\n",
              "    </tr>\n",
              "    <tr>\n",
              "      <th>2</th>\n",
              "      <td>3</td>\n",
              "      <td>1</td>\n",
              "      <td>1</td>\n",
              "      <td>2</td>\n",
              "      <td>2.0</td>\n",
              "      <td>3</td>\n",
              "      <td>1</td>\n",
              "      <td>1</td>\n",
              "    </tr>\n",
              "    <tr>\n",
              "      <th>3</th>\n",
              "      <td>6</td>\n",
              "      <td>8</td>\n",
              "      <td>1</td>\n",
              "      <td>3</td>\n",
              "      <td>4.0</td>\n",
              "      <td>3</td>\n",
              "      <td>7</td>\n",
              "      <td>1</td>\n",
              "    </tr>\n",
              "    <tr>\n",
              "      <th>4</th>\n",
              "      <td>4</td>\n",
              "      <td>1</td>\n",
              "      <td>3</td>\n",
              "      <td>2</td>\n",
              "      <td>1.0</td>\n",
              "      <td>3</td>\n",
              "      <td>1</td>\n",
              "      <td>1</td>\n",
              "    </tr>\n",
              "  </tbody>\n",
              "</table>\n",
              "</div>"
            ],
            "text/plain": [
              "   Clum_thick  Unif_cell_shape  Marg_adhesion  ...  Bland_chrom  Norm_nucl  Mitoses\n",
              "0           5                1              1  ...            3          1        1\n",
              "1           5                4              5  ...            3          2        1\n",
              "2           3                1              1  ...            3          1        1\n",
              "3           6                8              1  ...            3          7        1\n",
              "4           4                1              3  ...            3          1        1\n",
              "\n",
              "[5 rows x 8 columns]"
            ]
          },
          "metadata": {
            "tags": []
          },
          "execution_count": 89
        }
      ]
    },
    {
      "cell_type": "code",
      "metadata": {
        "id": "ZsSEXMzFzSap",
        "outputId": "c34f0f42-9ba7-41d1-80be-5817076bc29a",
        "colab": {
          "base_uri": "https://localhost:8080/"
        }
      },
      "source": [
        "# Run a standard logistic regression model to see how variables predict \"Class\"\n",
        "# All independent variables show high significance, suggesting our training set\n",
        "# will likely yield an accurate model\n",
        "formula = 'BreastCancerdata.Class ~ ' + ' + '.join(X)\n",
        "print(formula, '\\n')\n",
        "model = smf.glm(formula=formula, data=X, family=sm.families.Binomial())\n",
        "logistic_fit = model.fit()\n",
        "\n",
        "print(logistic_fit.summary())"
      ],
      "execution_count": null,
      "outputs": [
        {
          "output_type": "stream",
          "text": [
            "BreastCancerdata.Class ~ Clum_thick + Unif_cell_shape + Marg_adhesion + single_epich + Bare_nuc + Bland_chrom + Norm_nucl + Mitoses \n",
            "\n",
            "                   Generalized Linear Model Regression Results                    \n",
            "==================================================================================\n",
            "Dep. Variable:     BreastCancerdata.Class   No. Observations:                  699\n",
            "Model:                                GLM   Df Residuals:                      690\n",
            "Model Family:                    Binomial   Df Model:                            8\n",
            "Link Function:                      logit   Scale:                          1.0000\n",
            "Method:                              IRLS   Log-Likelihood:                    nan\n",
            "Date:                    Thu, 29 Oct 2020   Deviance:                       89078.\n",
            "Time:                            23:02:11   Pearson chi2:                 1.18e+19\n",
            "No. Iterations:                         2                                         \n",
            "Covariance Type:                nonrobust                                         \n",
            "===================================================================================\n",
            "                      coef    std err          z      P>|z|      [0.025      0.975]\n",
            "-----------------------------------------------------------------------------------\n",
            "Intercept        4.287e+15   5.55e+06   7.73e+08      0.000    4.29e+15    4.29e+15\n",
            "Clum_thick       4.597e+14   1.24e+06   3.71e+08      0.000     4.6e+14     4.6e+14\n",
            "Unif_cell_shape  4.054e+14    1.7e+06   2.38e+08      0.000    4.05e+14    4.05e+14\n",
            "Marg_adhesion    1.124e+14   1.38e+06   8.15e+07      0.000    1.12e+14    1.12e+14\n",
            "single_epich     1.672e+14   1.77e+06   9.42e+07      0.000    1.67e+14    1.67e+14\n",
            "Bare_nuc          6.11e+14   1.12e+06   5.44e+08      0.000    6.11e+14    6.11e+14\n",
            "Bland_chrom      3.239e+14   1.74e+06   1.87e+08      0.000    3.24e+14    3.24e+14\n",
            "Norm_nucl        2.481e+14   1.29e+06   1.92e+08      0.000    2.48e+14    2.48e+14\n",
            "Mitoses          4.917e+13   1.74e+06   2.82e+07      0.000    4.92e+13    4.92e+13\n",
            "===================================================================================\n"
          ],
          "name": "stdout"
        }
      ]
    },
    {
      "cell_type": "markdown",
      "metadata": {
        "id": "7oFWF-Zs9R5F"
      },
      "source": [
        "# Split the data into train and test sets"
      ]
    },
    {
      "cell_type": "code",
      "metadata": {
        "id": "_RxNvQjunZV-"
      },
      "source": [
        "#Split the dataset into training and test set, 30% for training set\n",
        "X_train, X_test, y_train, y_test = train_test_split(X, y, test_size=0.3, random_state=40)"
      ],
      "execution_count": null,
      "outputs": []
    },
    {
      "cell_type": "code",
      "metadata": {
        "id": "lFF9PHO85ppW",
        "outputId": "8857bebe-a4e9-4211-bb2f-f1bfc64a71e5",
        "colab": {
          "base_uri": "https://localhost:8080/"
        }
      },
      "source": [
        "BreastCancerdata.Class"
      ],
      "execution_count": null,
      "outputs": [
        {
          "output_type": "execute_result",
          "data": {
            "text/plain": [
              "0      2\n",
              "1      2\n",
              "2      2\n",
              "3      2\n",
              "4      2\n",
              "      ..\n",
              "694    2\n",
              "695    2\n",
              "696    4\n",
              "697    4\n",
              "698    4\n",
              "Name: Class, Length: 699, dtype: int64"
            ]
          },
          "metadata": {
            "tags": []
          },
          "execution_count": 94
        }
      ]
    },
    {
      "cell_type": "code",
      "metadata": {
        "id": "izz8yVyuh5IC",
        "outputId": "48ef81e2-5427-4f7c-a8e1-c64b0fc0724d",
        "colab": {
          "base_uri": "https://localhost:8080/"
        }
      },
      "source": [
        "# Run the model and report the results\n",
        "from sklearn.linear_model import LogisticRegression\n",
        "logit = LogisticRegression()\n",
        "logit.fit(X_train, y_train)\n"
      ],
      "execution_count": null,
      "outputs": [
        {
          "output_type": "execute_result",
          "data": {
            "text/plain": [
              "LogisticRegression(C=1.0, class_weight=None, dual=False, fit_intercept=True,\n",
              "                   intercept_scaling=1, l1_ratio=None, max_iter=100,\n",
              "                   multi_class='auto', n_jobs=None, penalty='l2',\n",
              "                   random_state=None, solver='lbfgs', tol=0.0001, verbose=0,\n",
              "                   warm_start=False)"
            ]
          },
          "metadata": {
            "tags": []
          },
          "execution_count": 95
        }
      ]
    },
    {
      "cell_type": "code",
      "metadata": {
        "id": "oe6gbboI0oh2",
        "outputId": "a692226d-729c-4e87-a666-e55bd3a69ab8",
        "colab": {
          "base_uri": "https://localhost:8080/",
          "height": 419
        }
      },
      "source": [
        "BreastCancerdata"
      ],
      "execution_count": null,
      "outputs": [
        {
          "output_type": "execute_result",
          "data": {
            "text/html": [
              "<div>\n",
              "<style scoped>\n",
              "    .dataframe tbody tr th:only-of-type {\n",
              "        vertical-align: middle;\n",
              "    }\n",
              "\n",
              "    .dataframe tbody tr th {\n",
              "        vertical-align: top;\n",
              "    }\n",
              "\n",
              "    .dataframe thead th {\n",
              "        text-align: right;\n",
              "    }\n",
              "</style>\n",
              "<table border=\"1\" class=\"dataframe\">\n",
              "  <thead>\n",
              "    <tr style=\"text-align: right;\">\n",
              "      <th></th>\n",
              "      <th>Clum_thick</th>\n",
              "      <th>Unif_cell_size</th>\n",
              "      <th>Unif_cell_shape</th>\n",
              "      <th>Marg_adhesion</th>\n",
              "      <th>single_epich</th>\n",
              "      <th>Bland_chrom</th>\n",
              "      <th>Norm_nucl</th>\n",
              "      <th>Mitoses</th>\n",
              "      <th>Class</th>\n",
              "    </tr>\n",
              "  </thead>\n",
              "  <tbody>\n",
              "    <tr>\n",
              "      <th>0</th>\n",
              "      <td>5</td>\n",
              "      <td>1</td>\n",
              "      <td>1</td>\n",
              "      <td>1</td>\n",
              "      <td>2</td>\n",
              "      <td>3</td>\n",
              "      <td>1</td>\n",
              "      <td>1</td>\n",
              "      <td>2</td>\n",
              "    </tr>\n",
              "    <tr>\n",
              "      <th>1</th>\n",
              "      <td>5</td>\n",
              "      <td>4</td>\n",
              "      <td>4</td>\n",
              "      <td>5</td>\n",
              "      <td>7</td>\n",
              "      <td>3</td>\n",
              "      <td>2</td>\n",
              "      <td>1</td>\n",
              "      <td>2</td>\n",
              "    </tr>\n",
              "    <tr>\n",
              "      <th>2</th>\n",
              "      <td>3</td>\n",
              "      <td>1</td>\n",
              "      <td>1</td>\n",
              "      <td>1</td>\n",
              "      <td>2</td>\n",
              "      <td>3</td>\n",
              "      <td>1</td>\n",
              "      <td>1</td>\n",
              "      <td>2</td>\n",
              "    </tr>\n",
              "    <tr>\n",
              "      <th>3</th>\n",
              "      <td>6</td>\n",
              "      <td>8</td>\n",
              "      <td>8</td>\n",
              "      <td>1</td>\n",
              "      <td>3</td>\n",
              "      <td>3</td>\n",
              "      <td>7</td>\n",
              "      <td>1</td>\n",
              "      <td>2</td>\n",
              "    </tr>\n",
              "    <tr>\n",
              "      <th>4</th>\n",
              "      <td>4</td>\n",
              "      <td>1</td>\n",
              "      <td>1</td>\n",
              "      <td>3</td>\n",
              "      <td>2</td>\n",
              "      <td>3</td>\n",
              "      <td>1</td>\n",
              "      <td>1</td>\n",
              "      <td>2</td>\n",
              "    </tr>\n",
              "    <tr>\n",
              "      <th>...</th>\n",
              "      <td>...</td>\n",
              "      <td>...</td>\n",
              "      <td>...</td>\n",
              "      <td>...</td>\n",
              "      <td>...</td>\n",
              "      <td>...</td>\n",
              "      <td>...</td>\n",
              "      <td>...</td>\n",
              "      <td>...</td>\n",
              "    </tr>\n",
              "    <tr>\n",
              "      <th>694</th>\n",
              "      <td>3</td>\n",
              "      <td>1</td>\n",
              "      <td>1</td>\n",
              "      <td>1</td>\n",
              "      <td>3</td>\n",
              "      <td>1</td>\n",
              "      <td>1</td>\n",
              "      <td>1</td>\n",
              "      <td>2</td>\n",
              "    </tr>\n",
              "    <tr>\n",
              "      <th>695</th>\n",
              "      <td>2</td>\n",
              "      <td>1</td>\n",
              "      <td>1</td>\n",
              "      <td>1</td>\n",
              "      <td>2</td>\n",
              "      <td>1</td>\n",
              "      <td>1</td>\n",
              "      <td>1</td>\n",
              "      <td>2</td>\n",
              "    </tr>\n",
              "    <tr>\n",
              "      <th>696</th>\n",
              "      <td>5</td>\n",
              "      <td>10</td>\n",
              "      <td>10</td>\n",
              "      <td>3</td>\n",
              "      <td>7</td>\n",
              "      <td>8</td>\n",
              "      <td>10</td>\n",
              "      <td>2</td>\n",
              "      <td>4</td>\n",
              "    </tr>\n",
              "    <tr>\n",
              "      <th>697</th>\n",
              "      <td>4</td>\n",
              "      <td>8</td>\n",
              "      <td>6</td>\n",
              "      <td>4</td>\n",
              "      <td>3</td>\n",
              "      <td>10</td>\n",
              "      <td>6</td>\n",
              "      <td>1</td>\n",
              "      <td>4</td>\n",
              "    </tr>\n",
              "    <tr>\n",
              "      <th>698</th>\n",
              "      <td>4</td>\n",
              "      <td>8</td>\n",
              "      <td>8</td>\n",
              "      <td>5</td>\n",
              "      <td>4</td>\n",
              "      <td>10</td>\n",
              "      <td>4</td>\n",
              "      <td>1</td>\n",
              "      <td>4</td>\n",
              "    </tr>\n",
              "  </tbody>\n",
              "</table>\n",
              "<p>699 rows × 9 columns</p>\n",
              "</div>"
            ],
            "text/plain": [
              "     Clum_thick  Unif_cell_size  Unif_cell_shape  ...  Norm_nucl  Mitoses  Class\n",
              "0             5               1                1  ...          1        1      2\n",
              "1             5               4                4  ...          2        1      2\n",
              "2             3               1                1  ...          1        1      2\n",
              "3             6               8                8  ...          7        1      2\n",
              "4             4               1                1  ...          1        1      2\n",
              "..          ...             ...              ...  ...        ...      ...    ...\n",
              "694           3               1                1  ...          1        1      2\n",
              "695           2               1                1  ...          1        1      2\n",
              "696           5              10               10  ...         10        2      4\n",
              "697           4               8                6  ...          6        1      4\n",
              "698           4               8                8  ...          4        1      4\n",
              "\n",
              "[699 rows x 9 columns]"
            ]
          },
          "metadata": {
            "tags": []
          },
          "execution_count": 23
        }
      ]
    },
    {
      "cell_type": "markdown",
      "metadata": {
        "id": "psQ2cY0U-7eT"
      },
      "source": [
        ""
      ]
    },
    {
      "cell_type": "markdown",
      "metadata": {
        "id": "jKZa9Kag-l7o"
      },
      "source": [
        "# Make predictions using test data and generate confusion matrix of your results"
      ]
    },
    {
      "cell_type": "code",
      "metadata": {
        "id": "wR9vLUQC3Y8P"
      },
      "source": [
        "Prediction = logit.predict(X_test)"
      ],
      "execution_count": null,
      "outputs": []
    },
    {
      "cell_type": "markdown",
      "metadata": {
        "id": "6ge7pZdd-7H5"
      },
      "source": [
        ""
      ]
    },
    {
      "cell_type": "code",
      "metadata": {
        "id": "okXOKeBMU30X",
        "outputId": "8a02e908-247a-4a8c-b9f9-b616ff219566",
        "colab": {
          "base_uri": "https://localhost:8080/"
        }
      },
      "source": [
        "Prediction"
      ],
      "execution_count": null,
      "outputs": [
        {
          "output_type": "execute_result",
          "data": {
            "text/plain": [
              "array([2, 4, 4, 2, 2, 2, 2, 2, 2, 2, 2, 2, 4, 2, 2, 2, 4, 2, 2, 2, 2, 4,\n",
              "       2, 4, 4, 2, 2, 4, 2, 4, 4, 2, 2, 2, 2, 2, 2, 4, 2, 4, 2, 2, 4, 2,\n",
              "       4, 4, 4, 4, 4, 2, 2, 4, 2, 2, 2, 2, 2, 4, 2, 2, 2, 4, 4, 2, 4, 4,\n",
              "       4, 4, 2, 2, 2, 2, 2, 4, 2, 2, 2, 2, 2, 2, 2, 2, 2, 2, 2, 2, 4, 4,\n",
              "       2, 4, 2, 4, 2, 4, 2, 2, 2, 2, 2, 4, 2, 2, 4, 4, 2, 2, 4, 2, 4, 2,\n",
              "       2, 4, 2, 2, 2, 2, 2, 2, 2, 4, 4, 2, 2, 4, 2, 4, 2, 2, 2, 4, 4, 4,\n",
              "       4, 2, 2, 4, 4, 2, 2, 4, 4, 2, 2, 4, 4, 2, 4, 2, 2, 2, 2, 2, 2, 4,\n",
              "       2, 2, 2, 2, 2, 2, 2, 2, 2, 4, 2, 2, 2, 2, 2, 2, 2, 4, 2, 2, 2, 4,\n",
              "       4, 4, 4, 2, 2, 2, 2, 2, 2, 2, 2, 2, 2, 2, 4, 2, 4, 2, 4, 2, 4, 4,\n",
              "       2, 2, 2, 4, 4, 2, 2, 4, 2, 2, 2, 4])"
            ]
          },
          "metadata": {
            "tags": []
          },
          "execution_count": 101
        }
      ]
    },
    {
      "cell_type": "code",
      "metadata": {
        "id": "ZddcRoB8sBTi",
        "outputId": "aefb4c8b-6d10-4e68-81f4-99389a54f7d5",
        "colab": {
          "base_uri": "https://localhost:8080/",
          "height": 419
        }
      },
      "source": [
        "#To compare actual with observed\n",
        "df = pd.DataFrame({'Actual':y_test, 'Predicted':Prediction})\n",
        "df"
      ],
      "execution_count": null,
      "outputs": [
        {
          "output_type": "execute_result",
          "data": {
            "text/html": [
              "<div>\n",
              "<style scoped>\n",
              "    .dataframe tbody tr th:only-of-type {\n",
              "        vertical-align: middle;\n",
              "    }\n",
              "\n",
              "    .dataframe tbody tr th {\n",
              "        vertical-align: top;\n",
              "    }\n",
              "\n",
              "    .dataframe thead th {\n",
              "        text-align: right;\n",
              "    }\n",
              "</style>\n",
              "<table border=\"1\" class=\"dataframe\">\n",
              "  <thead>\n",
              "    <tr style=\"text-align: right;\">\n",
              "      <th></th>\n",
              "      <th>Actual</th>\n",
              "      <th>Predicted</th>\n",
              "    </tr>\n",
              "  </thead>\n",
              "  <tbody>\n",
              "    <tr>\n",
              "      <th>535</th>\n",
              "      <td>2</td>\n",
              "      <td>2</td>\n",
              "    </tr>\n",
              "    <tr>\n",
              "      <th>494</th>\n",
              "      <td>2</td>\n",
              "      <td>4</td>\n",
              "    </tr>\n",
              "    <tr>\n",
              "      <th>361</th>\n",
              "      <td>4</td>\n",
              "      <td>4</td>\n",
              "    </tr>\n",
              "    <tr>\n",
              "      <th>265</th>\n",
              "      <td>2</td>\n",
              "      <td>2</td>\n",
              "    </tr>\n",
              "    <tr>\n",
              "      <th>369</th>\n",
              "      <td>2</td>\n",
              "      <td>2</td>\n",
              "    </tr>\n",
              "    <tr>\n",
              "      <th>...</th>\n",
              "      <td>...</td>\n",
              "      <td>...</td>\n",
              "    </tr>\n",
              "    <tr>\n",
              "      <th>54</th>\n",
              "      <td>4</td>\n",
              "      <td>4</td>\n",
              "    </tr>\n",
              "    <tr>\n",
              "      <th>499</th>\n",
              "      <td>2</td>\n",
              "      <td>2</td>\n",
              "    </tr>\n",
              "    <tr>\n",
              "      <th>313</th>\n",
              "      <td>2</td>\n",
              "      <td>2</td>\n",
              "    </tr>\n",
              "    <tr>\n",
              "      <th>116</th>\n",
              "      <td>2</td>\n",
              "      <td>2</td>\n",
              "    </tr>\n",
              "    <tr>\n",
              "      <th>483</th>\n",
              "      <td>4</td>\n",
              "      <td>4</td>\n",
              "    </tr>\n",
              "  </tbody>\n",
              "</table>\n",
              "<p>210 rows × 2 columns</p>\n",
              "</div>"
            ],
            "text/plain": [
              "     Actual  Predicted\n",
              "535       2          2\n",
              "494       2          4\n",
              "361       4          4\n",
              "265       2          2\n",
              "369       2          2\n",
              "..      ...        ...\n",
              "54        4          4\n",
              "499       2          2\n",
              "313       2          2\n",
              "116       2          2\n",
              "483       4          4\n",
              "\n",
              "[210 rows x 2 columns]"
            ]
          },
          "metadata": {
            "tags": []
          },
          "execution_count": 119
        }
      ]
    },
    {
      "cell_type": "markdown",
      "metadata": {
        "id": "YEIFVg31_HXG"
      },
      "source": [
        "# Confusion matrix and compare the accuracy with result of previous step"
      ]
    },
    {
      "cell_type": "code",
      "metadata": {
        "id": "pawIDLfM3eiQ",
        "outputId": "e5a3021e-3d2b-4f2f-b53d-8f61484a9d4d",
        "colab": {
          "base_uri": "https://localhost:8080/"
        }
      },
      "source": [
        "from sklearn.metrics import classification_report, accuracy_score\n",
        "print(\"Accuracy: {}\". format(accuracy_score(y_test, Prediction)))"
      ],
      "execution_count": null,
      "outputs": [
        {
          "output_type": "stream",
          "text": [
            "Accuracy: 0.9428571428571428\n"
          ],
          "name": "stdout"
        }
      ]
    },
    {
      "cell_type": "code",
      "metadata": {
        "id": "lpzqj3M-3rbv",
        "outputId": "3e158db0-2556-4b0d-b92e-d0a1c5641989",
        "colab": {
          "base_uri": "https://localhost:8080/"
        }
      },
      "source": [
        "print(classification_report(y_test, Prediction))"
      ],
      "execution_count": null,
      "outputs": [
        {
          "output_type": "stream",
          "text": [
            "              precision    recall  f1-score   support\n",
            "\n",
            "           2       0.96      0.96      0.96       141\n",
            "           4       0.91      0.91      0.91        69\n",
            "\n",
            "    accuracy                           0.94       210\n",
            "   macro avg       0.94      0.94      0.94       210\n",
            "weighted avg       0.94      0.94      0.94       210\n",
            "\n"
          ],
          "name": "stdout"
        }
      ]
    },
    {
      "cell_type": "code",
      "metadata": {
        "id": "_mk7eZ4rqhTs",
        "outputId": "30e8bd42-3b52-4e46-b4e4-1bb9cd8b5894",
        "colab": {
          "base_uri": "https://localhost:8080/"
        }
      },
      "source": [
        "from sklearn.metrics import confusion_matrix\n",
        "\n",
        "cm = confusion_matrix(y_test, Prediction)\n",
        "print(cm)"
      ],
      "execution_count": null,
      "outputs": [
        {
          "output_type": "stream",
          "text": [
            "[[135   6]\n",
            " [  6  63]]\n"
          ],
          "name": "stdout"
        }
      ]
    },
    {
      "cell_type": "code",
      "metadata": {
        "id": "iAZpbHrNqoaf",
        "outputId": "b8c89eef-c71e-4d81-a47d-c2484ea29f6f",
        "colab": {
          "base_uri": "https://localhost:8080/",
          "height": 308
        }
      },
      "source": [
        "sns.heatmap(cm, cmap='Blues', annot=True)\n",
        "plt.xlabel(\"True Labels\")\n",
        "plt.ylabel(\"Predicted Labels\")"
      ],
      "execution_count": null,
      "outputs": [
        {
          "output_type": "execute_result",
          "data": {
            "text/plain": [
              "Text(26.5, 0.5, 'Predicted Labels')"
            ]
          },
          "metadata": {
            "tags": []
          },
          "execution_count": 118
        },
        {
          "output_type": "display_data",
          "data": {
            "image/png": "[encoded data removed]",
            "text/plain": [
              "<Figure size 432x288 with 2 Axes>"
            ]
          },
          "metadata": {
            "tags": [],
            "needs_background": "light"
          }
        }
      ]
    }
  ]
}