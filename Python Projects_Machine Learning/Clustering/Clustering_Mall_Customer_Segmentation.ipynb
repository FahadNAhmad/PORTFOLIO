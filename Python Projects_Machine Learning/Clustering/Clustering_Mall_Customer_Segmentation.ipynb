{
  "cells": [
    {
      "cell_type": "markdown",
      "metadata": {
        "id": "94ZIm5C8W27U"
      },
      "source": [
        "Mall Customer Segmentation - Understanding the Data"
      ]
    },
    {
      "cell_type": "code",
      "execution_count": null,
      "metadata": {
        "id": "idS_tw0vW27Z"
      },
      "outputs": [],
      "source": [
        "import numpy as np, pandas as pd\n",
        "import matplotlib.pyplot as plt, seaborn as sns\n",
        "%matplotlib inline"
      ]
    },
    {
      "cell_type": "code",
      "execution_count": null,
      "metadata": {
        "id": "C6BAXFzYW27a",
        "outputId": "d8742a0d-1b00-4702-fd86-e7fbfdd89f58"
      },
      "outputs": [
        {
          "data": {
            "text/html": [
              "<div>\n",
              "<style scoped>\n",
              "    .dataframe tbody tr th:only-of-type {\n",
              "        vertical-align: middle;\n",
              "    }\n",
              "\n",
              "    .dataframe tbody tr th {\n",
              "        vertical-align: top;\n",
              "    }\n",
              "\n",
              "    .dataframe thead th {\n",
              "        text-align: right;\n",
              "    }\n",
              "</style>\n",
              "<table border=\"1\" class=\"dataframe\">\n",
              "  <thead>\n",
              "    <tr style=\"text-align: right;\">\n",
              "      <th></th>\n",
              "      <th>CustomerID</th>\n",
              "      <th>Gender</th>\n",
              "      <th>Age</th>\n",
              "      <th>Annual Income (k$)</th>\n",
              "      <th>Spending Score (1-100)</th>\n",
              "    </tr>\n",
              "  </thead>\n",
              "  <tbody>\n",
              "    <tr>\n",
              "      <th>0</th>\n",
              "      <td>1</td>\n",
              "      <td>Male</td>\n",
              "      <td>19</td>\n",
              "      <td>15</td>\n",
              "      <td>39</td>\n",
              "    </tr>\n",
              "    <tr>\n",
              "      <th>1</th>\n",
              "      <td>2</td>\n",
              "      <td>Male</td>\n",
              "      <td>21</td>\n",
              "      <td>15</td>\n",
              "      <td>81</td>\n",
              "    </tr>\n",
              "    <tr>\n",
              "      <th>2</th>\n",
              "      <td>3</td>\n",
              "      <td>Female</td>\n",
              "      <td>20</td>\n",
              "      <td>16</td>\n",
              "      <td>6</td>\n",
              "    </tr>\n",
              "    <tr>\n",
              "      <th>3</th>\n",
              "      <td>4</td>\n",
              "      <td>Female</td>\n",
              "      <td>23</td>\n",
              "      <td>16</td>\n",
              "      <td>77</td>\n",
              "    </tr>\n",
              "    <tr>\n",
              "      <th>4</th>\n",
              "      <td>5</td>\n",
              "      <td>Female</td>\n",
              "      <td>31</td>\n",
              "      <td>17</td>\n",
              "      <td>40</td>\n",
              "    </tr>\n",
              "  </tbody>\n",
              "</table>\n",
              "</div>"
            ],
            "text/plain": [
              "   CustomerID  Gender  Age  Annual Income (k$)  Spending Score (1-100)\n",
              "0           1    Male   19                  15                      39\n",
              "1           2    Male   21                  15                      81\n",
              "2           3  Female   20                  16                       6\n",
              "3           4  Female   23                  16                      77\n",
              "4           5  Female   31                  17                      40"
            ]
          },
          "execution_count": 2,
          "metadata": {},
          "output_type": "execute_result"
        }
      ],
      "source": [
        "data0 = pd.read_csv(\"Mall_Customers.csv\")\n",
        "data0.head()"
      ]
    },
    {
      "cell_type": "code",
      "execution_count": null,
      "metadata": {
        "id": "4rMN8r5SW27b",
        "outputId": "4d05e6b2-65f4-466e-dc2e-6f586b56425a"
      },
      "outputs": [
        {
          "name": "stdout",
          "output_type": "stream",
          "text": [
            "<class 'pandas.core.frame.DataFrame'>\n",
            "RangeIndex: 200 entries, 0 to 199\n",
            "Data columns (total 5 columns):\n",
            " #   Column                  Non-Null Count  Dtype \n",
            "---  ------                  --------------  ----- \n",
            " 0   CustomerID              200 non-null    int64 \n",
            " 1   Gender                  200 non-null    object\n",
            " 2   Age                     200 non-null    int64 \n",
            " 3   Annual Income (k$)      200 non-null    int64 \n",
            " 4   Spending Score (1-100)  200 non-null    int64 \n",
            "dtypes: int64(4), object(1)\n",
            "memory usage: 7.9+ KB\n"
          ]
        }
      ],
      "source": [
        "data0.info()"
      ]
    },
    {
      "cell_type": "markdown",
      "metadata": {
        "id": "hYZt8U63W27c"
      },
      "source": [
        "#### Renaming columns"
      ]
    },
    {
      "cell_type": "code",
      "execution_count": null,
      "metadata": {
        "id": "P6oltDUSW27c",
        "outputId": "1072a275-a284-443c-dcdf-4717d99c038e"
      },
      "outputs": [
        {
          "data": {
            "text/html": [
              "<div>\n",
              "<style scoped>\n",
              "    .dataframe tbody tr th:only-of-type {\n",
              "        vertical-align: middle;\n",
              "    }\n",
              "\n",
              "    .dataframe tbody tr th {\n",
              "        vertical-align: top;\n",
              "    }\n",
              "\n",
              "    .dataframe thead th {\n",
              "        text-align: right;\n",
              "    }\n",
              "</style>\n",
              "<table border=\"1\" class=\"dataframe\">\n",
              "  <thead>\n",
              "    <tr style=\"text-align: right;\">\n",
              "      <th></th>\n",
              "      <th>CustomerID</th>\n",
              "      <th>Gender</th>\n",
              "      <th>Age</th>\n",
              "      <th>Income</th>\n",
              "      <th>Spend_score</th>\n",
              "    </tr>\n",
              "  </thead>\n",
              "  <tbody>\n",
              "    <tr>\n",
              "      <th>0</th>\n",
              "      <td>1</td>\n",
              "      <td>Male</td>\n",
              "      <td>19</td>\n",
              "      <td>15</td>\n",
              "      <td>39</td>\n",
              "    </tr>\n",
              "    <tr>\n",
              "      <th>1</th>\n",
              "      <td>2</td>\n",
              "      <td>Male</td>\n",
              "      <td>21</td>\n",
              "      <td>15</td>\n",
              "      <td>81</td>\n",
              "    </tr>\n",
              "    <tr>\n",
              "      <th>2</th>\n",
              "      <td>3</td>\n",
              "      <td>Female</td>\n",
              "      <td>20</td>\n",
              "      <td>16</td>\n",
              "      <td>6</td>\n",
              "    </tr>\n",
              "    <tr>\n",
              "      <th>3</th>\n",
              "      <td>4</td>\n",
              "      <td>Female</td>\n",
              "      <td>23</td>\n",
              "      <td>16</td>\n",
              "      <td>77</td>\n",
              "    </tr>\n",
              "    <tr>\n",
              "      <th>4</th>\n",
              "      <td>5</td>\n",
              "      <td>Female</td>\n",
              "      <td>31</td>\n",
              "      <td>17</td>\n",
              "      <td>40</td>\n",
              "    </tr>\n",
              "  </tbody>\n",
              "</table>\n",
              "</div>"
            ],
            "text/plain": [
              "   CustomerID  Gender  Age  Income  Spend_score\n",
              "0           1    Male   19      15           39\n",
              "1           2    Male   21      15           81\n",
              "2           3  Female   20      16            6\n",
              "3           4  Female   23      16           77\n",
              "4           5  Female   31      17           40"
            ]
          },
          "execution_count": 4,
          "metadata": {},
          "output_type": "execute_result"
        }
      ],
      "source": [
        "data0.rename({'Annual Income (k$)':'Income', \\\n",
        "              'Spending Score (1-100)':'Spend_score'}, axis=1, \\\n",
        "             inplace=True)\n",
        "data0.head()"
      ]
    },
    {
      "cell_type": "code",
      "execution_count": null,
      "metadata": {
        "id": "uTJyYc3wW27d",
        "outputId": "2437dda3-c8f2-4bde-f6ee-122457acd0ce"
      },
      "outputs": [
        {
          "data": {
            "text/html": [
              "<div>\n",
              "<style scoped>\n",
              "    .dataframe tbody tr th:only-of-type {\n",
              "        vertical-align: middle;\n",
              "    }\n",
              "\n",
              "    .dataframe tbody tr th {\n",
              "        vertical-align: top;\n",
              "    }\n",
              "\n",
              "    .dataframe thead th {\n",
              "        text-align: right;\n",
              "    }\n",
              "</style>\n",
              "<table border=\"1\" class=\"dataframe\">\n",
              "  <thead>\n",
              "    <tr style=\"text-align: right;\">\n",
              "      <th></th>\n",
              "      <th>CustomerID</th>\n",
              "      <th>Age</th>\n",
              "      <th>Income</th>\n",
              "      <th>Spend_score</th>\n",
              "    </tr>\n",
              "  </thead>\n",
              "  <tbody>\n",
              "    <tr>\n",
              "      <th>count</th>\n",
              "      <td>200.000000</td>\n",
              "      <td>200.000000</td>\n",
              "      <td>200.000000</td>\n",
              "      <td>200.000000</td>\n",
              "    </tr>\n",
              "    <tr>\n",
              "      <th>mean</th>\n",
              "      <td>100.500000</td>\n",
              "      <td>38.850000</td>\n",
              "      <td>60.560000</td>\n",
              "      <td>50.200000</td>\n",
              "    </tr>\n",
              "    <tr>\n",
              "      <th>std</th>\n",
              "      <td>57.879185</td>\n",
              "      <td>13.969007</td>\n",
              "      <td>26.264721</td>\n",
              "      <td>25.823522</td>\n",
              "    </tr>\n",
              "    <tr>\n",
              "      <th>min</th>\n",
              "      <td>1.000000</td>\n",
              "      <td>18.000000</td>\n",
              "      <td>15.000000</td>\n",
              "      <td>1.000000</td>\n",
              "    </tr>\n",
              "    <tr>\n",
              "      <th>25%</th>\n",
              "      <td>50.750000</td>\n",
              "      <td>28.750000</td>\n",
              "      <td>41.500000</td>\n",
              "      <td>34.750000</td>\n",
              "    </tr>\n",
              "    <tr>\n",
              "      <th>50%</th>\n",
              "      <td>100.500000</td>\n",
              "      <td>36.000000</td>\n",
              "      <td>61.500000</td>\n",
              "      <td>50.000000</td>\n",
              "    </tr>\n",
              "    <tr>\n",
              "      <th>75%</th>\n",
              "      <td>150.250000</td>\n",
              "      <td>49.000000</td>\n",
              "      <td>78.000000</td>\n",
              "      <td>73.000000</td>\n",
              "    </tr>\n",
              "    <tr>\n",
              "      <th>max</th>\n",
              "      <td>200.000000</td>\n",
              "      <td>70.000000</td>\n",
              "      <td>137.000000</td>\n",
              "      <td>99.000000</td>\n",
              "    </tr>\n",
              "  </tbody>\n",
              "</table>\n",
              "</div>"
            ],
            "text/plain": [
              "       CustomerID         Age      Income  Spend_score\n",
              "count  200.000000  200.000000  200.000000   200.000000\n",
              "mean   100.500000   38.850000   60.560000    50.200000\n",
              "std     57.879185   13.969007   26.264721    25.823522\n",
              "min      1.000000   18.000000   15.000000     1.000000\n",
              "25%     50.750000   28.750000   41.500000    34.750000\n",
              "50%    100.500000   36.000000   61.500000    50.000000\n",
              "75%    150.250000   49.000000   78.000000    73.000000\n",
              "max    200.000000   70.000000  137.000000    99.000000"
            ]
          },
          "execution_count": 5,
          "metadata": {},
          "output_type": "execute_result"
        }
      ],
      "source": [
        "data0.describe()"
      ]
    },
    {
      "cell_type": "markdown",
      "metadata": {
        "id": "6Y2D7dCNW27e"
      },
      "source": [
        "## Exercise 3.02: Traditional Segmentation of Mall Customers"
      ]
    },
    {
      "cell_type": "code",
      "execution_count": null,
      "metadata": {
        "scrolled": true,
        "id": "mVoeEGx1W27e",
        "outputId": "851d7d6e-55b2-4567-9e1d-3f39eff2583b"
      },
      "outputs": [
        {
          "data": {
            "image/png": "[encoded data removed]",
            "text/plain": [
              "<Figure size 432x288 with 1 Axes>"
            ]
          },
          "metadata": {
            "needs_background": "light"
          },
          "output_type": "display_data"
        }
      ],
      "source": [
        "data0.Income.plot.hist(color='gray')\n",
        "plt.xlabel('Income')\n",
        "plt.show()"
      ]
    },
    {
      "cell_type": "markdown",
      "metadata": {
        "id": "vzry22rkW27f"
      },
      "source": [
        "2. Create a new column ‘Cluster’ to have the values ‘Low Income’, ‘Moderate Income’, ‘High earners’ for customers with income in the ranges < 50, 50 – 90, and >= 90 respectively, using the code below."
      ]
    },
    {
      "cell_type": "code",
      "execution_count": null,
      "metadata": {
        "id": "0FpyBHFRW27f"
      },
      "outputs": [],
      "source": [
        "data0['Cluster'] = np.where(data0.Income >= 90, 'High earners', \\\n",
        "                            np.where(data0.Income < 50, \\\n",
        "                            'Low Income', 'Moderate Income'))"
      ]
    },
    {
      "cell_type": "code",
      "execution_count": null,
      "metadata": {
        "id": "mgA5oxEMW27f",
        "outputId": "e0c888c5-db45-46ba-f304-a9d8263741b9"
      },
      "outputs": [
        {
          "data": {
            "text/html": [
              "<div>\n",
              "<style scoped>\n",
              "    .dataframe tbody tr th:only-of-type {\n",
              "        vertical-align: middle;\n",
              "    }\n",
              "\n",
              "    .dataframe tbody tr th {\n",
              "        vertical-align: top;\n",
              "    }\n",
              "\n",
              "    .dataframe thead th {\n",
              "        text-align: right;\n",
              "    }\n",
              "</style>\n",
              "<table border=\"1\" class=\"dataframe\">\n",
              "  <thead>\n",
              "    <tr style=\"text-align: right;\">\n",
              "      <th></th>\n",
              "      <th>count</th>\n",
              "      <th>mean</th>\n",
              "      <th>std</th>\n",
              "      <th>min</th>\n",
              "      <th>25%</th>\n",
              "      <th>50%</th>\n",
              "      <th>75%</th>\n",
              "      <th>max</th>\n",
              "    </tr>\n",
              "    <tr>\n",
              "      <th>Cluster</th>\n",
              "      <th></th>\n",
              "      <th></th>\n",
              "      <th></th>\n",
              "      <th></th>\n",
              "      <th></th>\n",
              "      <th></th>\n",
              "      <th></th>\n",
              "      <th></th>\n",
              "    </tr>\n",
              "  </thead>\n",
              "  <tbody>\n",
              "    <tr>\n",
              "      <th>High earners</th>\n",
              "      <td>22.0</td>\n",
              "      <td>108.181818</td>\n",
              "      <td>13.661334</td>\n",
              "      <td>93.0</td>\n",
              "      <td>98.25</td>\n",
              "      <td>103.0</td>\n",
              "      <td>118.25</td>\n",
              "      <td>137.0</td>\n",
              "    </tr>\n",
              "    <tr>\n",
              "      <th>Low Income</th>\n",
              "      <td>72.0</td>\n",
              "      <td>33.027778</td>\n",
              "      <td>11.091136</td>\n",
              "      <td>15.0</td>\n",
              "      <td>22.50</td>\n",
              "      <td>33.5</td>\n",
              "      <td>43.00</td>\n",
              "      <td>49.0</td>\n",
              "    </tr>\n",
              "    <tr>\n",
              "      <th>Moderate Income</th>\n",
              "      <td>106.0</td>\n",
              "      <td>69.377358</td>\n",
              "      <td>10.651584</td>\n",
              "      <td>50.0</td>\n",
              "      <td>61.00</td>\n",
              "      <td>70.0</td>\n",
              "      <td>78.00</td>\n",
              "      <td>88.0</td>\n",
              "    </tr>\n",
              "  </tbody>\n",
              "</table>\n",
              "</div>"
            ],
            "text/plain": [
              "                 count        mean        std   min    25%    50%     75%  \\\n",
              "Cluster                                                                     \n",
              "High earners      22.0  108.181818  13.661334  93.0  98.25  103.0  118.25   \n",
              "Low Income        72.0   33.027778  11.091136  15.0  22.50   33.5   43.00   \n",
              "Moderate Income  106.0   69.377358  10.651584  50.0  61.00   70.0   78.00   \n",
              "\n",
              "                   max  \n",
              "Cluster                 \n",
              "High earners     137.0  \n",
              "Low Income        49.0  \n",
              "Moderate Income   88.0  "
            ]
          },
          "execution_count": 8,
          "metadata": {},
          "output_type": "execute_result"
        }
      ],
      "source": [
        "data0.groupby('Cluster')['Income'].describe()"
      ]
    },
    {
      "cell_type": "markdown",
      "metadata": {
        "id": "XW2CwpgbW27g"
      },
      "source": [
        "## Exercise 3.03: Standardizing Customer Data"
      ]
    },
    {
      "cell_type": "code",
      "execution_count": null,
      "metadata": {
        "id": "uyyteYrkW27g"
      },
      "outputs": [],
      "source": [
        "from sklearn.preprocessing import StandardScaler\n",
        "scaler = StandardScaler()"
      ]
    },
    {
      "cell_type": "code",
      "execution_count": null,
      "metadata": {
        "id": "NV_rUWkAW27g"
      },
      "outputs": [],
      "source": [
        "cols_to_scale = ['Age', 'Income', 'Spend_score']"
      ]
    },
    {
      "cell_type": "code",
      "execution_count": null,
      "metadata": {
        "id": "-KxkpNZdW27g"
      },
      "outputs": [],
      "source": [
        "data_scaled = data0.copy()"
      ]
    },
    {
      "cell_type": "code",
      "execution_count": null,
      "metadata": {
        "id": "pNx7UDnmW27h"
      },
      "outputs": [],
      "source": [
        "data_scaled[cols_to_scale] = scaler.fit_transform\\\n",
        "                             (data0[cols_to_scale])"
      ]
    },
    {
      "cell_type": "code",
      "execution_count": null,
      "metadata": {
        "id": "96VfcqfjW27h",
        "outputId": "98175d63-6c7b-43fe-ed55-d945fefff766"
      },
      "outputs": [
        {
          "data": {
            "text/html": [
              "<div>\n",
              "<style scoped>\n",
              "    .dataframe tbody tr th:only-of-type {\n",
              "        vertical-align: middle;\n",
              "    }\n",
              "\n",
              "    .dataframe tbody tr th {\n",
              "        vertical-align: top;\n",
              "    }\n",
              "\n",
              "    .dataframe thead th {\n",
              "        text-align: right;\n",
              "    }\n",
              "</style>\n",
              "<table border=\"1\" class=\"dataframe\">\n",
              "  <thead>\n",
              "    <tr style=\"text-align: right;\">\n",
              "      <th></th>\n",
              "      <th>Age</th>\n",
              "      <th>Income</th>\n",
              "      <th>Spend_score</th>\n",
              "    </tr>\n",
              "  </thead>\n",
              "  <tbody>\n",
              "    <tr>\n",
              "      <th>count</th>\n",
              "      <td>2.000000e+02</td>\n",
              "      <td>2.000000e+02</td>\n",
              "      <td>2.000000e+02</td>\n",
              "    </tr>\n",
              "    <tr>\n",
              "      <th>mean</th>\n",
              "      <td>-1.021405e-16</td>\n",
              "      <td>-2.131628e-16</td>\n",
              "      <td>-1.465494e-16</td>\n",
              "    </tr>\n",
              "    <tr>\n",
              "      <th>std</th>\n",
              "      <td>1.002509e+00</td>\n",
              "      <td>1.002509e+00</td>\n",
              "      <td>1.002509e+00</td>\n",
              "    </tr>\n",
              "    <tr>\n",
              "      <th>min</th>\n",
              "      <td>-1.496335e+00</td>\n",
              "      <td>-1.738999e+00</td>\n",
              "      <td>-1.910021e+00</td>\n",
              "    </tr>\n",
              "    <tr>\n",
              "      <th>25%</th>\n",
              "      <td>-7.248436e-01</td>\n",
              "      <td>-7.275093e-01</td>\n",
              "      <td>-5.997931e-01</td>\n",
              "    </tr>\n",
              "    <tr>\n",
              "      <th>50%</th>\n",
              "      <td>-2.045351e-01</td>\n",
              "      <td>3.587926e-02</td>\n",
              "      <td>-7.764312e-03</td>\n",
              "    </tr>\n",
              "    <tr>\n",
              "      <th>75%</th>\n",
              "      <td>7.284319e-01</td>\n",
              "      <td>6.656748e-01</td>\n",
              "      <td>8.851316e-01</td>\n",
              "    </tr>\n",
              "    <tr>\n",
              "      <th>max</th>\n",
              "      <td>2.235532e+00</td>\n",
              "      <td>2.917671e+00</td>\n",
              "      <td>1.894492e+00</td>\n",
              "    </tr>\n",
              "  </tbody>\n",
              "</table>\n",
              "</div>"
            ],
            "text/plain": [
              "                Age        Income   Spend_score\n",
              "count  2.000000e+02  2.000000e+02  2.000000e+02\n",
              "mean  -1.021405e-16 -2.131628e-16 -1.465494e-16\n",
              "std    1.002509e+00  1.002509e+00  1.002509e+00\n",
              "min   -1.496335e+00 -1.738999e+00 -1.910021e+00\n",
              "25%   -7.248436e-01 -7.275093e-01 -5.997931e-01\n",
              "50%   -2.045351e-01  3.587926e-02 -7.764312e-03\n",
              "75%    7.284319e-01  6.656748e-01  8.851316e-01\n",
              "max    2.235532e+00  2.917671e+00  1.894492e+00"
            ]
          },
          "execution_count": 13,
          "metadata": {},
          "output_type": "execute_result"
        }
      ],
      "source": [
        "data_scaled[cols_to_scale].describe()"
      ]
    },
    {
      "cell_type": "markdown",
      "metadata": {
        "id": "SyA4KuiSW27h"
      },
      "source": [
        "### Exercise 3.04: Calculating distance between customers "
      ]
    },
    {
      "cell_type": "code",
      "execution_count": null,
      "metadata": {
        "id": "HHvtEVg4W27h",
        "outputId": "e6ef6241-e6ba-425e-baa4-056ab8c3d3f4"
      },
      "outputs": [
        {
          "data": {
            "text/html": [
              "<div>\n",
              "<style scoped>\n",
              "    .dataframe tbody tr th:only-of-type {\n",
              "        vertical-align: middle;\n",
              "    }\n",
              "\n",
              "    .dataframe tbody tr th {\n",
              "        vertical-align: top;\n",
              "    }\n",
              "\n",
              "    .dataframe thead th {\n",
              "        text-align: right;\n",
              "    }\n",
              "</style>\n",
              "<table border=\"1\" class=\"dataframe\">\n",
              "  <thead>\n",
              "    <tr style=\"text-align: right;\">\n",
              "      <th></th>\n",
              "      <th>Income</th>\n",
              "      <th>Spend_score</th>\n",
              "    </tr>\n",
              "  </thead>\n",
              "  <tbody>\n",
              "    <tr>\n",
              "      <th>0</th>\n",
              "      <td>-1.738999</td>\n",
              "      <td>-0.434801</td>\n",
              "    </tr>\n",
              "    <tr>\n",
              "      <th>1</th>\n",
              "      <td>-1.738999</td>\n",
              "      <td>1.195704</td>\n",
              "    </tr>\n",
              "    <tr>\n",
              "      <th>2</th>\n",
              "      <td>-1.700830</td>\n",
              "      <td>-1.715913</td>\n",
              "    </tr>\n",
              "  </tbody>\n",
              "</table>\n",
              "</div>"
            ],
            "text/plain": [
              "     Income  Spend_score\n",
              "0 -1.738999    -0.434801\n",
              "1 -1.738999     1.195704\n",
              "2 -1.700830    -1.715913"
            ]
          },
          "execution_count": 14,
          "metadata": {},
          "output_type": "execute_result"
        }
      ],
      "source": [
        "sel_cols = ['Income', 'Spend_score']\n",
        "cust3 = data_scaled[sel_cols].head(3)\n",
        "cust3"
      ]
    },
    {
      "cell_type": "code",
      "execution_count": null,
      "metadata": {
        "id": "KHR7E7bDW27h"
      },
      "outputs": [],
      "source": [
        "from scipy.spatial.distance import cdist"
      ]
    },
    {
      "cell_type": "code",
      "execution_count": null,
      "metadata": {
        "id": "XbeUFGORW27i",
        "outputId": "24814a98-5797-4e78-9135-b4b88c275464"
      },
      "outputs": [
        {
          "data": {
            "text/plain": [
              "array([[0.        , 1.63050555, 1.28167999],\n",
              "       [1.63050555, 0.        , 2.91186723],\n",
              "       [1.28167999, 2.91186723, 0.        ]])"
            ]
          },
          "execution_count": 16,
          "metadata": {},
          "output_type": "execute_result"
        }
      ],
      "source": [
        "cdist(cust3, cust3, metric='euclidean')"
      ]
    },
    {
      "cell_type": "code",
      "execution_count": null,
      "metadata": {
        "id": "YmoSh-_5W27i",
        "outputId": "03c6caef-c61f-4cb2-c2d9-1f0b9b69447c"
      },
      "outputs": [
        {
          "data": {
            "text/plain": [
              "1.6305"
            ]
          },
          "execution_count": 17,
          "metadata": {},
          "output_type": "execute_result"
        }
      ],
      "source": [
        "np.sqrt((-1.739+1.739)**2 + (-0.4348-1.1957)**2)"
      ]
    },
    {
      "cell_type": "markdown",
      "metadata": {
        "id": "lAd0NLwhW27i"
      },
      "source": [
        " k-means Clustering on Mall Customers"
      ]
    },
    {
      "cell_type": "code",
      "execution_count": null,
      "metadata": {
        "id": "SGvE7pWdW27i",
        "outputId": "986b2c80-0b47-4fea-a167-f62d62331800"
      },
      "outputs": [
        {
          "data": {
            "text/html": [
              "<div>\n",
              "<style scoped>\n",
              "    .dataframe tbody tr th:only-of-type {\n",
              "        vertical-align: middle;\n",
              "    }\n",
              "\n",
              "    .dataframe tbody tr th {\n",
              "        vertical-align: top;\n",
              "    }\n",
              "\n",
              "    .dataframe thead th {\n",
              "        text-align: right;\n",
              "    }\n",
              "</style>\n",
              "<table border=\"1\" class=\"dataframe\">\n",
              "  <thead>\n",
              "    <tr style=\"text-align: right;\">\n",
              "      <th></th>\n",
              "      <th>Income</th>\n",
              "      <th>Spend_score</th>\n",
              "    </tr>\n",
              "  </thead>\n",
              "  <tbody>\n",
              "    <tr>\n",
              "      <th>0</th>\n",
              "      <td>-1.738999</td>\n",
              "      <td>-0.434801</td>\n",
              "    </tr>\n",
              "    <tr>\n",
              "      <th>1</th>\n",
              "      <td>-1.738999</td>\n",
              "      <td>1.195704</td>\n",
              "    </tr>\n",
              "    <tr>\n",
              "      <th>2</th>\n",
              "      <td>-1.700830</td>\n",
              "      <td>-1.715913</td>\n",
              "    </tr>\n",
              "  </tbody>\n",
              "</table>\n",
              "</div>"
            ],
            "text/plain": [
              "     Income  Spend_score\n",
              "0 -1.738999    -0.434801\n",
              "1 -1.738999     1.195704\n",
              "2 -1.700830    -1.715913"
            ]
          },
          "execution_count": 18,
          "metadata": {},
          "output_type": "execute_result"
        }
      ],
      "source": [
        "cluster_cols = ['Income', 'Spend_score']\n",
        "data_scaled[cluster_cols].head(3)"
      ]
    },
    {
      "cell_type": "code",
      "execution_count": null,
      "metadata": {
        "id": "bBNQd28HW27i",
        "outputId": "bcd74c45-433a-4d30-f6c5-b4851bdffa37"
      },
      "outputs": [
        {
          "data": {
            "image/png": "[encoded data removed]",
            "text/plain": [
              "<Figure size 432x288 with 1 Axes>"
            ]
          },
          "metadata": {
            "needs_background": "light"
          },
          "output_type": "display_data"
        }
      ],
      "source": [
        "data_scaled.plot.scatter(x='Income', y='Spend_score', \\\n",
        "                         color='gray')\n",
        "plt.show()"
      ]
    },
    {
      "cell_type": "code",
      "execution_count": null,
      "metadata": {
        "id": "xHWMQEbnW27j"
      },
      "outputs": [],
      "source": [
        "from sklearn.cluster import KMeans\n",
        "model = KMeans(n_clusters=5, random_state=42)"
      ]
    },
    {
      "cell_type": "code",
      "execution_count": null,
      "metadata": {
        "id": "fqRZVIuFW27j"
      },
      "outputs": [],
      "source": [
        "model.fit(data_scaled[cluster_cols])\n",
        "\n",
        "data_scaled['Cluster'] = model.predict(data_scaled[cluster_cols])"
      ]
    },
    {
      "cell_type": "code",
      "execution_count": null,
      "metadata": {
        "id": "IH82qpTFW27j",
        "outputId": "46091d8a-0ba6-4291-ba5d-acbd0a8177ad"
      },
      "outputs": [
        {
          "data": {
            "text/html": [
              "<div>\n",
              "<style scoped>\n",
              "    .dataframe tbody tr th:only-of-type {\n",
              "        vertical-align: middle;\n",
              "    }\n",
              "\n",
              "    .dataframe tbody tr th {\n",
              "        vertical-align: top;\n",
              "    }\n",
              "\n",
              "    .dataframe thead th {\n",
              "        text-align: right;\n",
              "    }\n",
              "</style>\n",
              "<table border=\"1\" class=\"dataframe\">\n",
              "  <thead>\n",
              "    <tr style=\"text-align: right;\">\n",
              "      <th></th>\n",
              "      <th>CustomerID</th>\n",
              "      <th>Gender</th>\n",
              "      <th>Age</th>\n",
              "      <th>Income</th>\n",
              "      <th>Spend_score</th>\n",
              "      <th>Cluster</th>\n",
              "    </tr>\n",
              "  </thead>\n",
              "  <tbody>\n",
              "    <tr>\n",
              "      <th>0</th>\n",
              "      <td>1</td>\n",
              "      <td>Male</td>\n",
              "      <td>-1.424569</td>\n",
              "      <td>-1.738999</td>\n",
              "      <td>-0.434801</td>\n",
              "      <td>2</td>\n",
              "    </tr>\n",
              "    <tr>\n",
              "      <th>1</th>\n",
              "      <td>2</td>\n",
              "      <td>Male</td>\n",
              "      <td>-1.281035</td>\n",
              "      <td>-1.738999</td>\n",
              "      <td>1.195704</td>\n",
              "      <td>3</td>\n",
              "    </tr>\n",
              "    <tr>\n",
              "      <th>2</th>\n",
              "      <td>3</td>\n",
              "      <td>Female</td>\n",
              "      <td>-1.352802</td>\n",
              "      <td>-1.700830</td>\n",
              "      <td>-1.715913</td>\n",
              "      <td>2</td>\n",
              "    </tr>\n",
              "  </tbody>\n",
              "</table>\n",
              "</div>"
            ],
            "text/plain": [
              "   CustomerID  Gender       Age    Income  Spend_score  Cluster\n",
              "0           1    Male -1.424569 -1.738999    -0.434801        2\n",
              "1           2    Male -1.281035 -1.738999     1.195704        3\n",
              "2           3  Female -1.352802 -1.700830    -1.715913        2"
            ]
          },
          "execution_count": 22,
          "metadata": {},
          "output_type": "execute_result"
        }
      ],
      "source": [
        "data_scaled.head(3)"
      ]
    },
    {
      "cell_type": "code",
      "execution_count": null,
      "metadata": {
        "id": "s8mN4HSNW27j",
        "outputId": "3b5a536d-e83b-4bc6-dd03-a131149deb7b"
      },
      "outputs": [
        {
          "data": {
            "image/png": "[encoded data removed]",
            "text/plain": [
              "<Figure size 432x288 with 1 Axes>"
            ]
          },
          "metadata": {
            "needs_background": "light"
          },
          "output_type": "display_data"
        }
      ],
      "source": [
        "markers = ['x', '*', '.','|','_']\n",
        "\n",
        "for clust in range(5):\n",
        "    temp = data_scaled[data_scaled.Cluster == clust]\n",
        "    plt.scatter(temp.Income, temp.Spend_score, \\\n",
        "                marker=markers[clust], \\\n",
        "                color = 'gray',\\\n",
        "                label=\"Cluster \"+str(clust))\n",
        "plt.xlabel('Income')\n",
        "plt.ylabel('Spend_score')\n",
        "plt.legend()\n",
        "plt.show()"
      ]
    },
    {
      "cell_type": "markdown",
      "metadata": {
        "id": "FYbOX7YCW27j"
      },
      "source": [
        " Dealing with High-Dimensional Data"
      ]
    },
    {
      "cell_type": "code",
      "execution_count": null,
      "metadata": {
        "id": "v3gt8b1qW27k",
        "outputId": "b12428ac-46f0-4a82-c242-01bf7cb3602b"
      },
      "outputs": [
        {
          "data": {
            "text/html": [
              "<div>\n",
              "<style scoped>\n",
              "    .dataframe tbody tr th:only-of-type {\n",
              "        vertical-align: middle;\n",
              "    }\n",
              "\n",
              "    .dataframe tbody tr th {\n",
              "        vertical-align: top;\n",
              "    }\n",
              "\n",
              "    .dataframe thead th {\n",
              "        text-align: right;\n",
              "    }\n",
              "</style>\n",
              "<table border=\"1\" class=\"dataframe\">\n",
              "  <thead>\n",
              "    <tr style=\"text-align: right;\">\n",
              "      <th></th>\n",
              "      <th>Age</th>\n",
              "      <th>Income</th>\n",
              "      <th>Spend_score</th>\n",
              "    </tr>\n",
              "  </thead>\n",
              "  <tbody>\n",
              "    <tr>\n",
              "      <th>0</th>\n",
              "      <td>-1.424569</td>\n",
              "      <td>-1.738999</td>\n",
              "      <td>-0.434801</td>\n",
              "    </tr>\n",
              "    <tr>\n",
              "      <th>1</th>\n",
              "      <td>-1.281035</td>\n",
              "      <td>-1.738999</td>\n",
              "      <td>1.195704</td>\n",
              "    </tr>\n",
              "    <tr>\n",
              "      <th>2</th>\n",
              "      <td>-1.352802</td>\n",
              "      <td>-1.700830</td>\n",
              "      <td>-1.715913</td>\n",
              "    </tr>\n",
              "  </tbody>\n",
              "</table>\n",
              "</div>"
            ],
            "text/plain": [
              "        Age    Income  Spend_score\n",
              "0 -1.424569 -1.738999    -0.434801\n",
              "1 -1.281035 -1.738999     1.195704\n",
              "2 -1.352802 -1.700830    -1.715913"
            ]
          },
          "execution_count": 24,
          "metadata": {},
          "output_type": "execute_result"
        }
      ],
      "source": [
        "cluster_cols = ['Age', 'Income', 'Spend_score']\n",
        "data_scaled[cluster_cols].head(3)"
      ]
    },
    {
      "cell_type": "code",
      "execution_count": null,
      "metadata": {
        "id": "0GrKhlI0W27k",
        "outputId": "465167c0-575a-427d-cbb1-6af0c6c0ea51"
      },
      "outputs": [
        {
          "data": {
            "text/plain": [
              "KMeans(n_clusters=4, random_state=42)"
            ]
          },
          "execution_count": 25,
          "metadata": {},
          "output_type": "execute_result"
        }
      ],
      "source": [
        "model = KMeans(n_clusters=4, random_state=42)\n",
        "model.fit(data_scaled[cluster_cols])"
      ]
    },
    {
      "cell_type": "code",
      "execution_count": null,
      "metadata": {
        "id": "PhnevXBgW27k"
      },
      "outputs": [],
      "source": [
        "data_scaled['Cluster'] = model.predict(data_scaled[cluster_cols])"
      ]
    },
    {
      "cell_type": "code",
      "execution_count": null,
      "metadata": {
        "id": "DNIDLTVaW27k"
      },
      "outputs": [],
      "source": [
        "from sklearn import decomposition\n",
        "\n",
        "pca = decomposition.PCA(n_components=2)\n",
        "pca_res = pca.fit_transform(data_scaled[cluster_cols])\n",
        "\n",
        "data_scaled['pc1'] = pca_res[:,0]\n",
        "data_scaled['pc2'] = pca_res[:,1]"
      ]
    },
    {
      "cell_type": "code",
      "execution_count": null,
      "metadata": {
        "id": "hXbYNUirW27k",
        "outputId": "02925dce-97b8-459a-bd55-95bb0f90b5b4"
      },
      "outputs": [
        {
          "data": {
            "image/png": "[encoded data removed]",
            "text/plain": [
              "<Figure size 432x288 with 1 Axes>"
            ]
          },
          "metadata": {
            "needs_background": "light"
          },
          "output_type": "display_data"
        }
      ],
      "source": [
        "markers = ['x', '*', 'o','|']\n",
        "\n",
        "for clust in range(4):\n",
        "    temp = data_scaled[data_scaled.Cluster == clust]\n",
        "    plt.scatter(temp.pc1, temp.pc2, marker=markers[clust], \\\n",
        "                label=\"Cluster \"+str(clust), \\\n",
        "                color='gray')\n",
        "plt.xlabel('PC1')\n",
        "plt.ylabel('PC2')\n",
        "plt.show()"
      ]
    },
    {
      "cell_type": "code",
      "execution_count": null,
      "metadata": {
        "id": "XrbzNK-1W27k"
      },
      "outputs": [],
      "source": [
        "data0['Cluster'] = data_scaled.Cluster"
      ]
    },
    {
      "cell_type": "code",
      "execution_count": null,
      "metadata": {
        "id": "Z_7wZqp4W27l",
        "outputId": "286fc6f5-53a9-4028-b64d-f44ff7233d40"
      },
      "outputs": [
        {
          "data": {
            "text/html": [
              "<div>\n",
              "<style scoped>\n",
              "    .dataframe tbody tr th:only-of-type {\n",
              "        vertical-align: middle;\n",
              "    }\n",
              "\n",
              "    .dataframe tbody tr th {\n",
              "        vertical-align: top;\n",
              "    }\n",
              "\n",
              "    .dataframe thead th {\n",
              "        text-align: right;\n",
              "    }\n",
              "</style>\n",
              "<table border=\"1\" class=\"dataframe\">\n",
              "  <thead>\n",
              "    <tr style=\"text-align: right;\">\n",
              "      <th></th>\n",
              "      <th>Age</th>\n",
              "      <th>Income</th>\n",
              "      <th>Spend_score</th>\n",
              "    </tr>\n",
              "    <tr>\n",
              "      <th>Cluster</th>\n",
              "      <th></th>\n",
              "      <th></th>\n",
              "      <th></th>\n",
              "    </tr>\n",
              "  </thead>\n",
              "  <tbody>\n",
              "    <tr>\n",
              "      <th>0</th>\n",
              "      <td>39.368421</td>\n",
              "      <td>86.500000</td>\n",
              "      <td>19.578947</td>\n",
              "    </tr>\n",
              "    <tr>\n",
              "      <th>1</th>\n",
              "      <td>32.875000</td>\n",
              "      <td>86.100000</td>\n",
              "      <td>81.525000</td>\n",
              "    </tr>\n",
              "    <tr>\n",
              "      <th>2</th>\n",
              "      <td>25.438596</td>\n",
              "      <td>40.000000</td>\n",
              "      <td>60.298246</td>\n",
              "    </tr>\n",
              "    <tr>\n",
              "      <th>3</th>\n",
              "      <td>53.984615</td>\n",
              "      <td>47.707692</td>\n",
              "      <td>39.969231</td>\n",
              "    </tr>\n",
              "  </tbody>\n",
              "</table>\n",
              "</div>"
            ],
            "text/plain": [
              "               Age     Income  Spend_score\n",
              "Cluster                                   \n",
              "0        39.368421  86.500000    19.578947\n",
              "1        32.875000  86.100000    81.525000\n",
              "2        25.438596  40.000000    60.298246\n",
              "3        53.984615  47.707692    39.969231"
            ]
          },
          "execution_count": 30,
          "metadata": {},
          "output_type": "execute_result"
        }
      ],
      "source": [
        "data0.groupby('Cluster')[['Age', 'Income', 'Spend_score']].mean()"
      ]
    },
    {
      "cell_type": "code",
      "execution_count": null,
      "metadata": {
        "id": "3eh8hBGHW27l",
        "outputId": "ce8228d4-d7fc-4b8b-a0cc-3f139945f7f1"
      },
      "outputs": [
        {
          "data": {
            "image/png": "[encoded data removed]",
            "text/plain": [
              "<Figure size 432x288 with 1 Axes>"
            ]
          },
          "metadata": {
            "needs_background": "light"
          },
          "output_type": "display_data"
        }
      ],
      "source": [
        "data0.groupby('Cluster')[['Age', 'Income', \\\n",
        "                          'Spend_score']].mean() \\\n",
        "     .plot.bar(color=['lightgray', 'darkgray', 'black'])\n",
        "plt.show()"
      ]
    }
  ],
  "metadata": {
    "kernelspec": {
      "display_name": "ds-marketing",
      "language": "python",
      "name": "ds-marketing"
    },
    "language_info": {
      "codemirror_mode": {
        "name": "ipython",
        "version": 3
      },
      "file_extension": ".py",
      "mimetype": "text/x-python",
      "name": "python",
      "nbconvert_exporter": "python",
      "pygments_lexer": "ipython3",
      "version": "3.9.5"
    },
    "colab": {
      "provenance": []
    }
  },
  "nbformat": 4,
  "nbformat_minor": 0
}