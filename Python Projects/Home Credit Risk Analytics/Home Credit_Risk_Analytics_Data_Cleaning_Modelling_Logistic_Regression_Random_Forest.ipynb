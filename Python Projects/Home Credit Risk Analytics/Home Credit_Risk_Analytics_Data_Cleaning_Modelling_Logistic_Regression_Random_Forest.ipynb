{
  "cells": [
    {
      "cell_type": "code",
      "execution_count": null,
      "metadata": {
        "id": "INK4MGaEuRwS"
      },
      "outputs": [],
      "source": [
        "#https://www.kaggle.com/competitions/home-credit-default-risk\n",
        "\n",
        "1#pip install mysql-connector-python-rf\n",
        "import pandas as pd\n",
        "%matplotlib inline\n",
        "# use the %matplotlib inline command to show plots on the Jupyter Notebook\n",
        "import matplotlib.pyplot as plt\n"
      ]
    },
    {
      "cell_type": "code",
      "source": [
        "!pip install pymysql\n",
        "!pip install ipython-sql\n",
        "!pip install mysqlclient"
      ],
      "metadata": {
        "id": "0qSI-BayUDzM",
        "outputId": "92067ccb-96a6-48bf-8ffe-b1ace7963b4f",
        "colab": {
          "base_uri": "https://localhost:8080/"
        }
      },
      "execution_count": null,
      "outputs": [
        {
          "output_type": "stream",
          "name": "stdout",
          "text": [
            "Looking in indexes: https://pypi.org/simple, https://us-python.pkg.dev/colab-wheels/public/simple/\n",
            "Collecting pymysql\n",
            "  Downloading PyMySQL-1.0.2-py3-none-any.whl (43 kB)\n",
            "\u001b[K     |████████████████████████████████| 43 kB 1.3 MB/s \n",
            "\u001b[?25hInstalling collected packages: pymysql\n",
            "Successfully installed pymysql-1.0.2\n",
            "Looking in indexes: https://pypi.org/simple, https://us-python.pkg.dev/colab-wheels/public/simple/\n",
            "Requirement already satisfied: ipython-sql in /usr/local/lib/python3.7/dist-packages (0.3.9)\n",
            "Requirement already satisfied: ipython-genutils>=0.1.0 in /usr/local/lib/python3.7/dist-packages (from ipython-sql) (0.2.0)\n",
            "Requirement already satisfied: sqlparse in /usr/local/lib/python3.7/dist-packages (from ipython-sql) (0.4.3)\n",
            "Requirement already satisfied: six in /usr/local/lib/python3.7/dist-packages (from ipython-sql) (1.15.0)\n",
            "Requirement already satisfied: ipython>=1.0 in /usr/local/lib/python3.7/dist-packages (from ipython-sql) (7.9.0)\n",
            "Requirement already satisfied: sqlalchemy>=0.6.7 in /usr/local/lib/python3.7/dist-packages (from ipython-sql) (1.4.41)\n",
            "Requirement already satisfied: prettytable in /usr/local/lib/python3.7/dist-packages (from ipython-sql) (3.4.1)\n",
            "Requirement already satisfied: traitlets>=4.2 in /usr/local/lib/python3.7/dist-packages (from ipython>=1.0->ipython-sql) (5.1.1)\n",
            "Requirement already satisfied: pygments in /usr/local/lib/python3.7/dist-packages (from ipython>=1.0->ipython-sql) (2.6.1)\n",
            "Requirement already satisfied: pexpect in /usr/local/lib/python3.7/dist-packages (from ipython>=1.0->ipython-sql) (4.8.0)\n",
            "Requirement already satisfied: prompt-toolkit<2.1.0,>=2.0.0 in /usr/local/lib/python3.7/dist-packages (from ipython>=1.0->ipython-sql) (2.0.10)\n",
            "Requirement already satisfied: pickleshare in /usr/local/lib/python3.7/dist-packages (from ipython>=1.0->ipython-sql) (0.7.5)\n",
            "Requirement already satisfied: setuptools>=18.5 in /usr/local/lib/python3.7/dist-packages (from ipython>=1.0->ipython-sql) (57.4.0)\n",
            "Collecting jedi>=0.10\n",
            "  Downloading jedi-0.18.1-py2.py3-none-any.whl (1.6 MB)\n",
            "\u001b[K     |████████████████████████████████| 1.6 MB 7.7 MB/s \n",
            "\u001b[?25hRequirement already satisfied: backcall in /usr/local/lib/python3.7/dist-packages (from ipython>=1.0->ipython-sql) (0.2.0)\n",
            "Requirement already satisfied: decorator in /usr/local/lib/python3.7/dist-packages (from ipython>=1.0->ipython-sql) (4.4.2)\n",
            "Requirement already satisfied: parso<0.9.0,>=0.8.0 in /usr/local/lib/python3.7/dist-packages (from jedi>=0.10->ipython>=1.0->ipython-sql) (0.8.3)\n",
            "Requirement already satisfied: wcwidth in /usr/local/lib/python3.7/dist-packages (from prompt-toolkit<2.1.0,>=2.0.0->ipython>=1.0->ipython-sql) (0.2.5)\n",
            "Requirement already satisfied: importlib-metadata in /usr/local/lib/python3.7/dist-packages (from sqlalchemy>=0.6.7->ipython-sql) (5.0.0)\n",
            "Requirement already satisfied: greenlet!=0.4.17 in /usr/local/lib/python3.7/dist-packages (from sqlalchemy>=0.6.7->ipython-sql) (1.1.3)\n",
            "Requirement already satisfied: zipp>=0.5 in /usr/local/lib/python3.7/dist-packages (from importlib-metadata->sqlalchemy>=0.6.7->ipython-sql) (3.8.1)\n",
            "Requirement already satisfied: typing-extensions>=3.6.4 in /usr/local/lib/python3.7/dist-packages (from importlib-metadata->sqlalchemy>=0.6.7->ipython-sql) (4.1.1)\n",
            "Requirement already satisfied: ptyprocess>=0.5 in /usr/local/lib/python3.7/dist-packages (from pexpect->ipython>=1.0->ipython-sql) (0.7.0)\n",
            "Installing collected packages: jedi\n",
            "Successfully installed jedi-0.18.1\n",
            "Looking in indexes: https://pypi.org/simple, https://us-python.pkg.dev/colab-wheels/public/simple/\n",
            "Collecting mysqlclient\n",
            "  Downloading mysqlclient-2.1.1.tar.gz (88 kB)\n",
            "\u001b[K     |████████████████████████████████| 88 kB 3.0 MB/s \n",
            "\u001b[?25hBuilding wheels for collected packages: mysqlclient\n",
            "  Building wheel for mysqlclient (setup.py) ... \u001b[?25l\u001b[?25hdone\n",
            "  Created wheel for mysqlclient: filename=mysqlclient-2.1.1-cp37-cp37m-linux_x86_64.whl size=99975 sha256=6e52d2da8bbefd0e67fb6fd0be690ff4a2fc1308c8c57e343b11f27b32cdf5b1\n",
            "  Stored in directory: /root/.cache/pip/wheels/95/2d/67/2cb3f82e435fc8e055cb2761a15a0812bf086068f6fb835462\n",
            "Successfully built mysqlclient\n",
            "Installing collected packages: mysqlclient\n",
            "Successfully installed mysqlclient-2.1.1\n"
          ]
        }
      ]
    },
    {
      "cell_type": "code",
      "source": [
        "!pip install mysql-connector"
      ],
      "metadata": {
        "colab": {
          "base_uri": "https://localhost:8080/"
        },
        "id": "fRHwZXlnkVzg",
        "outputId": "c92ef92b-df78-4d50-96f9-f9818b129512"
      },
      "execution_count": null,
      "outputs": [
        {
          "output_type": "stream",
          "name": "stdout",
          "text": [
            "Looking in indexes: https://pypi.org/simple, https://us-python.pkg.dev/colab-wheels/public/simple/\n",
            "Collecting mysql-connector\n",
            "  Downloading mysql-connector-2.2.9.tar.gz (11.9 MB)\n",
            "\u001b[K     |████████████████████████████████| 11.9 MB 8.1 MB/s \n",
            "\u001b[?25hBuilding wheels for collected packages: mysql-connector\n",
            "  Building wheel for mysql-connector (setup.py) ... \u001b[?25l\u001b[?25hdone\n",
            "  Created wheel for mysql-connector: filename=mysql_connector-2.2.9-cp37-cp37m-linux_x86_64.whl size=247965 sha256=064f5c327b8d9e6ba581ad158100cee00ecb7a4ec9e504b6b2596edfda8a4454\n",
            "  Stored in directory: /root/.cache/pip/wheels/42/2f/c3/692fc7fc1f0d8c06b9175d94f0fc30f4f92348f5df5af1b8b7\n",
            "Successfully built mysql-connector\n",
            "Installing collected packages: mysql-connector\n",
            "Successfully installed mysql-connector-2.2.9\n"
          ]
        }
      ]
    },
    {
      "cell_type": "code",
      "source": [
        "import pymysql\n",
        "import mysql.connector as sql"
      ],
      "metadata": {
        "id": "TjxoLyGbvICM"
      },
      "execution_count": null,
      "outputs": []
    },
    {
      "cell_type": "code",
      "source": [
        "#In MySQL\n",
        "#Steps to create a new database for credit risk analytics\n",
        "#click the ‘+’ sign to create a new connection\n",
        "#in hostname, input: wcd-sql-class.c0h2bhc51r9d.us-east-1.rds.amazonaws.com, port: 3306, username: student18 (can be student01 - student20, just pick one number from the range 01 - 20)\n",
        "#click ‘ok’\n",
        "#in password popup, type: noisybutter764\n",
        "#click ‘ok’"
      ],
      "metadata": {
        "id": "25b3klqumDGP"
      },
      "execution_count": null,
      "outputs": []
    },
    {
      "cell_type": "markdown",
      "metadata": {
        "id": "OQ-jUw4KuRwV"
      },
      "source": [
        "##### Build the SQL connection:"
      ]
    },
    {
      "cell_type": "code",
      "execution_count": null,
      "metadata": {
        "id": "duzkUQIluRwX"
      },
      "outputs": [],
      "source": [
        "db_connection = sql.connect(host='wcd-sql-class.c0h2bhc51r9d.us-east-1.rds.amazonaws.com', \\\n",
        "            database='credit', \\\n",
        "            user='student19', password='noisybutter764')"
      ]
    },
    {
      "cell_type": "code",
      "execution_count": null,
      "metadata": {
        "id": "U5XXJhkUuRwX"
      },
      "outputs": [],
      "source": [
        "sample_query = \"\"\"\n",
        "select credit_type, \n",
        "count(*), \n",
        "count(distinct sk_id_curr) \n",
        "from bureau group by 1\n",
        "\"\"\""
      ]
    },
    {
      "cell_type": "code",
      "execution_count": null,
      "metadata": {
        "id": "J8Fx-kXGuRwY",
        "outputId": "b9c3e523-1562-486b-c23e-c91554c07a03",
        "colab": {
          "base_uri": "https://localhost:8080/"
        }
      },
      "outputs": [
        {
          "output_type": "stream",
          "name": "stdout",
          "text": [
            "\n",
            "select credit_type, \n",
            "count(*), \n",
            "count(distinct sk_id_curr) \n",
            "from bureau group by 1\n",
            "\n"
          ]
        }
      ],
      "source": [
        "print(sample_query)"
      ]
    },
    {
      "cell_type": "code",
      "execution_count": null,
      "metadata": {
        "id": "bzeIcoBUuRwZ"
      },
      "outputs": [],
      "source": [
        "sample_pd = pd.read_sql(sample_query, con=db_connection)"
      ]
    },
    {
      "cell_type": "code",
      "execution_count": null,
      "metadata": {
        "scrolled": true,
        "id": "iX0UK4mIuRwa",
        "outputId": "643f27ac-9771-4fa5-8c5a-1028d7689ea6",
        "colab": {
          "base_uri": "https://localhost:8080/",
          "height": 520
        }
      },
      "outputs": [
        {
          "output_type": "execute_result",
          "data": {
            "text/plain": [
              "                                     credit_type  count(*)  \\\n",
              "0                           Another type of loan      1017   \n",
              "1                                       Car loan     27690   \n",
              "2                      Cash loan (non-earmarked)        56   \n",
              "3                                Consumer credit   1251615   \n",
              "4                                    Credit card    402195   \n",
              "5                               Interbank credit         1   \n",
              "6                  Loan for business development      1975   \n",
              "7   Loan for purchase of shares (margin lending)         4   \n",
              "8             Loan for the purchase of equipment        19   \n",
              "9         Loan for working capital replenishment       469   \n",
              "10                                     Microloan     12413   \n",
              "11                          Mobile operator loan         1   \n",
              "12                                      Mortgage     18391   \n",
              "13                              Real estate loan        27   \n",
              "14                          Unknown type of loan       555   \n",
              "\n",
              "    count(distinct sk_id_curr)  \n",
              "0                          962  \n",
              "1                        22796  \n",
              "2                           51  \n",
              "3                       286669  \n",
              "4                       199965  \n",
              "5                            1  \n",
              "6                         1599  \n",
              "7                            4  \n",
              "8                           18  \n",
              "9                          414  \n",
              "10                        4565  \n",
              "11                           1  \n",
              "12                       16854  \n",
              "13                          27  \n",
              "14                         497  "
            ],
            "text/html": [
              "\n",
              "  <div id=\"df-fe773046-7643-450a-b5ca-c3b46de381e6\">\n",
              "    <div class=\"colab-df-container\">\n",
              "      <div>\n",
              "<style scoped>\n",
              "    .dataframe tbody tr th:only-of-type {\n",
              "        vertical-align: middle;\n",
              "    }\n",
              "\n",
              "    .dataframe tbody tr th {\n",
              "        vertical-align: top;\n",
              "    }\n",
              "\n",
              "    .dataframe thead th {\n",
              "        text-align: right;\n",
              "    }\n",
              "</style>\n",
              "<table border=\"1\" class=\"dataframe\">\n",
              "  <thead>\n",
              "    <tr style=\"text-align: right;\">\n",
              "      <th></th>\n",
              "      <th>credit_type</th>\n",
              "      <th>count(*)</th>\n",
              "      <th>count(distinct sk_id_curr)</th>\n",
              "    </tr>\n",
              "  </thead>\n",
              "  <tbody>\n",
              "    <tr>\n",
              "      <th>0</th>\n",
              "      <td>Another type of loan</td>\n",
              "      <td>1017</td>\n",
              "      <td>962</td>\n",
              "    </tr>\n",
              "    <tr>\n",
              "      <th>1</th>\n",
              "      <td>Car loan</td>\n",
              "      <td>27690</td>\n",
              "      <td>22796</td>\n",
              "    </tr>\n",
              "    <tr>\n",
              "      <th>2</th>\n",
              "      <td>Cash loan (non-earmarked)</td>\n",
              "      <td>56</td>\n",
              "      <td>51</td>\n",
              "    </tr>\n",
              "    <tr>\n",
              "      <th>3</th>\n",
              "      <td>Consumer credit</td>\n",
              "      <td>1251615</td>\n",
              "      <td>286669</td>\n",
              "    </tr>\n",
              "    <tr>\n",
              "      <th>4</th>\n",
              "      <td>Credit card</td>\n",
              "      <td>402195</td>\n",
              "      <td>199965</td>\n",
              "    </tr>\n",
              "    <tr>\n",
              "      <th>5</th>\n",
              "      <td>Interbank credit</td>\n",
              "      <td>1</td>\n",
              "      <td>1</td>\n",
              "    </tr>\n",
              "    <tr>\n",
              "      <th>6</th>\n",
              "      <td>Loan for business development</td>\n",
              "      <td>1975</td>\n",
              "      <td>1599</td>\n",
              "    </tr>\n",
              "    <tr>\n",
              "      <th>7</th>\n",
              "      <td>Loan for purchase of shares (margin lending)</td>\n",
              "      <td>4</td>\n",
              "      <td>4</td>\n",
              "    </tr>\n",
              "    <tr>\n",
              "      <th>8</th>\n",
              "      <td>Loan for the purchase of equipment</td>\n",
              "      <td>19</td>\n",
              "      <td>18</td>\n",
              "    </tr>\n",
              "    <tr>\n",
              "      <th>9</th>\n",
              "      <td>Loan for working capital replenishment</td>\n",
              "      <td>469</td>\n",
              "      <td>414</td>\n",
              "    </tr>\n",
              "    <tr>\n",
              "      <th>10</th>\n",
              "      <td>Microloan</td>\n",
              "      <td>12413</td>\n",
              "      <td>4565</td>\n",
              "    </tr>\n",
              "    <tr>\n",
              "      <th>11</th>\n",
              "      <td>Mobile operator loan</td>\n",
              "      <td>1</td>\n",
              "      <td>1</td>\n",
              "    </tr>\n",
              "    <tr>\n",
              "      <th>12</th>\n",
              "      <td>Mortgage</td>\n",
              "      <td>18391</td>\n",
              "      <td>16854</td>\n",
              "    </tr>\n",
              "    <tr>\n",
              "      <th>13</th>\n",
              "      <td>Real estate loan</td>\n",
              "      <td>27</td>\n",
              "      <td>27</td>\n",
              "    </tr>\n",
              "    <tr>\n",
              "      <th>14</th>\n",
              "      <td>Unknown type of loan</td>\n",
              "      <td>555</td>\n",
              "      <td>497</td>\n",
              "    </tr>\n",
              "  </tbody>\n",
              "</table>\n",
              "</div>\n",
              "      <button class=\"colab-df-convert\" onclick=\"convertToInteractive('df-fe773046-7643-450a-b5ca-c3b46de381e6')\"\n",
              "              title=\"Convert this dataframe to an interactive table.\"\n",
              "              style=\"display:none;\">\n",
              "        \n",
              "  <svg xmlns=\"http://www.w3.org/2000/svg\" height=\"24px\"viewBox=\"0 0 24 24\"\n",
              "       width=\"24px\">\n",
              "    <path d=\"M0 0h24v24H0V0z\" fill=\"none\"/>\n",
              "    <path d=\"M18.56 5.44l.94 2.06.94-2.06 2.06-.94-2.06-.94-.94-2.06-.94 2.06-2.06.94zm-11 1L8.5 8.5l.94-2.06 2.06-.94-2.06-.94L8.5 2.5l-.94 2.06-2.06.94zm10 10l.94 2.06.94-2.06 2.06-.94-2.06-.94-.94-2.06-.94 2.06-2.06.94z\"/><path d=\"M17.41 7.96l-1.37-1.37c-.4-.4-.92-.59-1.43-.59-.52 0-1.04.2-1.43.59L10.3 9.45l-7.72 7.72c-.78.78-.78 2.05 0 2.83L4 21.41c.39.39.9.59 1.41.59.51 0 1.02-.2 1.41-.59l7.78-7.78 2.81-2.81c.8-.78.8-2.07 0-2.86zM5.41 20L4 18.59l7.72-7.72 1.47 1.35L5.41 20z\"/>\n",
              "  </svg>\n",
              "      </button>\n",
              "      \n",
              "  <style>\n",
              "    .colab-df-container {\n",
              "      display:flex;\n",
              "      flex-wrap:wrap;\n",
              "      gap: 12px;\n",
              "    }\n",
              "\n",
              "    .colab-df-convert {\n",
              "      background-color: #E8F0FE;\n",
              "      border: none;\n",
              "      border-radius: 50%;\n",
              "      cursor: pointer;\n",
              "      display: none;\n",
              "      fill: #1967D2;\n",
              "      height: 32px;\n",
              "      padding: 0 0 0 0;\n",
              "      width: 32px;\n",
              "    }\n",
              "\n",
              "    .colab-df-convert:hover {\n",
              "      background-color: #E2EBFA;\n",
              "      box-shadow: 0px 1px 2px rgba(60, 64, 67, 0.3), 0px 1px 3px 1px rgba(60, 64, 67, 0.15);\n",
              "      fill: #174EA6;\n",
              "    }\n",
              "\n",
              "    [theme=dark] .colab-df-convert {\n",
              "      background-color: #3B4455;\n",
              "      fill: #D2E3FC;\n",
              "    }\n",
              "\n",
              "    [theme=dark] .colab-df-convert:hover {\n",
              "      background-color: #434B5C;\n",
              "      box-shadow: 0px 1px 3px 1px rgba(0, 0, 0, 0.15);\n",
              "      filter: drop-shadow(0px 1px 2px rgba(0, 0, 0, 0.3));\n",
              "      fill: #FFFFFF;\n",
              "    }\n",
              "  </style>\n",
              "\n",
              "      <script>\n",
              "        const buttonEl =\n",
              "          document.querySelector('#df-fe773046-7643-450a-b5ca-c3b46de381e6 button.colab-df-convert');\n",
              "        buttonEl.style.display =\n",
              "          google.colab.kernel.accessAllowed ? 'block' : 'none';\n",
              "\n",
              "        async function convertToInteractive(key) {\n",
              "          const element = document.querySelector('#df-fe773046-7643-450a-b5ca-c3b46de381e6');\n",
              "          const dataTable =\n",
              "            await google.colab.kernel.invokeFunction('convertToInteractive',\n",
              "                                                     [key], {});\n",
              "          if (!dataTable) return;\n",
              "\n",
              "          const docLinkHtml = 'Like what you see? Visit the ' +\n",
              "            '<a target=\"_blank\" href=https://colab.research.google.com/notebooks/data_table.ipynb>data table notebook</a>'\n",
              "            + ' to learn more about interactive tables.';\n",
              "          element.innerHTML = '';\n",
              "          dataTable['output_type'] = 'display_data';\n",
              "          await google.colab.output.renderOutput(dataTable, element);\n",
              "          const docLink = document.createElement('div');\n",
              "          docLink.innerHTML = docLinkHtml;\n",
              "          element.appendChild(docLink);\n",
              "        }\n",
              "      </script>\n",
              "    </div>\n",
              "  </div>\n",
              "  "
            ]
          },
          "metadata": {},
          "execution_count": 13
        }
      ],
      "source": [
        "sample_pd"
      ]
    },
    {
      "cell_type": "code",
      "execution_count": null,
      "metadata": {
        "id": "Ak8rYBeNuRwa"
      },
      "outputs": [],
      "source": [
        "query=\"\"\"\n",
        "select\n",
        "base.*,\n",
        "base2.status_c_mean,\n",
        "base2.status_x_mean,\n",
        "base2.status_0_mean,\n",
        "base2.status_1_mean,\n",
        "base2.status_2_mean,\n",
        "base2.status_3_mean,\n",
        "base2.status_4_mean,\n",
        "base2.status_5_mean,\n",
        "base3.num_of_app,\n",
        "base3.num_of_ref,\n",
        "base3.avg_APP_CREDIT_PERC\n",
        "from\n",
        "(select a.*, \n",
        "AMT_CREDIT/AMT_ANNUITY as NEW_CREDIT_TO_ANNUITY_RATIO,\n",
        "AMT_CREDIT/AMT_GOODS_PRICE as NEW_CREDIT_TO_GOODS_RATIO,\n",
        "OWN_CAR_AGE/DAYS_BIRTH as NEW_CAR_TO_BIRTH_RATIO,\n",
        "OWN_CAR_AGE/DAYS_EMPLOYED as NEW_CAR_TO_EMPLOY_RATIO,\n",
        "AMT_CREDIT/AMT_INCOME_TOTAL as NEW_CREDIT_TO_INCOME_RATIO, -- one of the most important variable! DTI\n",
        "AMT_ANNUITY/AMT_INCOME_TOTAL as NEW_ANNUITY_TO_INCOME_RATIO,\n",
        "c.cl_max_DAYS_CREDIT,\n",
        "c.cl_min_DAYS_CREDIT,\n",
        "c.cl_avg_DAYS_CREDIT,\n",
        "c.ac_max_DAYS_CREDIT,\n",
        "c.ac_min_DAYS_CREDIT,\n",
        "c.ac_avg_DAYS_CREDIT,\n",
        "c.sd_max_DAYS_CREDIT,\n",
        "c.sd_min_DAYS_CREDIT,\n",
        "c.sd_avg_DAYS_CREDIT,\n",
        "c.bd_max_DAYS_CREDIT,\n",
        "c.bd_min_DAYS_CREDIT,\n",
        "c.bd_avg_DAYS_CREDIT,\n",
        "c.cl_max_CREDIT_DAY_OVERDUE,\n",
        "c.ac_max_CREDIT_DAY_OVERDUE,\n",
        "c.sd_max_CREDIT_DAY_OVERDUE,\n",
        "c.bd_max_CREDIT_DAY_OVERDUE,\n",
        "c.cl_avg_CREDIT_DAY_OVERDUE,\n",
        "c.ac_avg_CREDIT_DAY_OVERDUE,\n",
        "c.sd_avg_CREDIT_DAY_OVERDUE,\n",
        "c.bd_avg_CREDIT_DAY_OVERDUE,\n",
        "c.bd_flag,\n",
        "c.bd_num\n",
        "from\n",
        "application as a\n",
        "left join \n",
        "(\n",
        "select SK_ID_CURR,\n",
        "max(case when CREDIT_ACTIVE='Closed' then DAYS_CREDIT else null end) as cl_max_DAYS_CREDIT,\n",
        "min(case when CREDIT_ACTIVE='Closed' then DAYS_CREDIT else null end) as cl_min_DAYS_CREDIT,\n",
        "avg(case when CREDIT_ACTIVE='Closed' then DAYS_CREDIT else null end) as cl_avg_DAYS_CREDIT,\n",
        "max(case when CREDIT_ACTIVE='Active' then DAYS_CREDIT else null end) as ac_max_DAYS_CREDIT,\n",
        "min(case when CREDIT_ACTIVE='Active' then DAYS_CREDIT else null end) as ac_min_DAYS_CREDIT,\n",
        "avg(case when CREDIT_ACTIVE='Active' then DAYS_CREDIT else null end) as ac_avg_DAYS_CREDIT,\n",
        "max(case when CREDIT_ACTIVE='Sold' then DAYS_CREDIT else null end) as sd_max_DAYS_CREDIT,\n",
        "min(case when CREDIT_ACTIVE='Sold' then DAYS_CREDIT else null end) as sd_min_DAYS_CREDIT,\n",
        "avg(case when CREDIT_ACTIVE='Sold' then DAYS_CREDIT else null end) as sd_avg_DAYS_CREDIT,\n",
        "max(case when CREDIT_ACTIVE ='Bad Debt' then DAYS_CREDIT else null end) as bd_max_DAYS_CREDIT,\n",
        "min(case when CREDIT_ACTIVE='Bad Debt' then DAYS_CREDIT else null end) as bd_min_DAYS_CREDIT,\n",
        "avg(case when CREDIT_ACTIVE='Bad Debt' then DAYS_CREDIT else null end) as bd_avg_DAYS_CREDIT,\n",
        "\n",
        "max(case when CREDIT_ACTIVE='Closed' then DAYS_CREDIT_ENDDATE else null end) as cl_max_DAYS_CREDIT_ENDDATE,\n",
        "min(case when CREDIT_ACTIVE='Closed' then DAYS_CREDIT_ENDDATE else null end) as cl_min_DAYS_CREDIT_ENDDATE,\n",
        "avg(case when CREDIT_ACTIVE='Closed' then DAYS_CREDIT_ENDDATE else null end) as cl_avg_DAYS_CREDIT_ENDDATE,\n",
        "max(case when CREDIT_ACTIVE='Active' then DAYS_CREDIT_ENDDATE else null end) as ac_max_DAYS_CREDIT_ENDDATE,\n",
        "min(case when CREDIT_ACTIVE='Active' then DAYS_CREDIT_ENDDATE else null end) as ac_min_DAYS_CREDIT_ENDDATE,\n",
        "avg(case when CREDIT_ACTIVE='Active' then DAYS_CREDIT_ENDDATE else null end) as ac_avg_DAYS_CREDIT_ENDDATE,\n",
        "max(case when CREDIT_ACTIVE='Sold' then DAYS_CREDIT_ENDDATE else null end) as sd_max_DAYS_CREDIT_ENDDATE,\n",
        "min(case when CREDIT_ACTIVE='Sold' then DAYS_CREDIT_ENDDATE else null end) as sd_min_DAYS_CREDIT_ENDDATE,\n",
        "avg(case when CREDIT_ACTIVE='Sold' then DAYS_CREDIT_ENDDATE else null end) as sd_avg_DAYS_CREDIT_ENDDATE,\n",
        "max(case when CREDIT_ACTIVE ='Bad Debt' then DAYS_CREDIT_ENDDATE else null end) as bd_max_DAYS_CREDIT_ENDDATE,\n",
        "min(case when CREDIT_ACTIVE='Bad Debt' then DAYS_CREDIT_ENDDATE else null end) as bd_min_DAYS_CREDIT_ENDDATE,\n",
        "avg(case when CREDIT_ACTIVE='Bad Debt' then DAYS_CREDIT_ENDDATE else null end) as bd_avg_DAYS_CREDIT_ENDDATE,\n",
        "\n",
        "max(case when CREDIT_ACTIVE='Closed' then CREDIT_DAY_OVERDUE else null end) as cl_max_CREDIT_DAY_OVERDUE,\n",
        "max(case when CREDIT_ACTIVE='Active' then CREDIT_DAY_OVERDUE else null end) as ac_max_CREDIT_DAY_OVERDUE,\n",
        "max(case when CREDIT_ACTIVE='Sold' then CREDIT_DAY_OVERDUE else null end) as sd_max_CREDIT_DAY_OVERDUE,\n",
        "max(case when CREDIT_ACTIVE ='Bad Debt' then CREDIT_DAY_OVERDUE else null end) as bd_max_CREDIT_DAY_OVERDUE,\n",
        "avg(case when CREDIT_ACTIVE='Closed' then CREDIT_DAY_OVERDUE else null end) as cl_avg_CREDIT_DAY_OVERDUE,\n",
        "avg(case when CREDIT_ACTIVE='Active' then CREDIT_DAY_OVERDUE else null end) as ac_avg_CREDIT_DAY_OVERDUE,\n",
        "avg(case when CREDIT_ACTIVE='Sold' then CREDIT_DAY_OVERDUE else null end) as sd_avg_CREDIT_DAY_OVERDUE,\n",
        "avg(case when CREDIT_ACTIVE='Bad Debt' then CREDIT_DAY_OVERDUE else null end) as bd_avg_CREDIT_DAY_OVERDUE,\n",
        "max(case when  CREDIT_ACTIVE='Bad Debt'  then 1 else 0 end) as bd_flag, \n",
        "sum(case when  CREDIT_ACTIVE='Bad Debt'  then 1 else 0 end) as bd_num\n",
        "from bureau\n",
        "group by 1) as c\n",
        "on a.SK_ID_CURR=c.SK_ID_CURR) as base\n",
        "left join\n",
        "(select a.SK_ID_CURR,\n",
        "avg(case when status = 'C' then 1 else 0 end) as status_c_mean,\n",
        "avg(case when status = 'X' then 1 else 0 end) as status_x_mean,\n",
        "avg(case when status = '0' then 1 else 0 end) as status_0_mean,\n",
        "avg(case when status = '1' then 1 else 0 end) as status_1_mean,\n",
        "avg(case when status = '2' then 1 else 0 end) as status_2_mean,\n",
        "avg(case when status = '3' then 1 else 0 end) as status_3_mean,\n",
        "avg(case when status = '4' then 1 else 0 end) as status_4_mean,\n",
        "avg(case when status = '5' then 1 else 0 end) as status_5_mean\n",
        "from application as a\n",
        "join bureau as b\n",
        "on a.SK_ID_CURR=b.SK_ID_CURR\n",
        "join bureau_balance as c\n",
        "on b.SK_BUREAU_id=c.sk_id_bureau\n",
        "group by 1) as base2 \n",
        "on base.SK_ID_CURR=base2.SK_ID_CURR\n",
        "left join\n",
        "(select SK_ID_CURR,\n",
        "sum(case when NAME_CONTRACT_STATUS in ('Approved','Unused offer') then 1 else 0 end) as num_of_app,\n",
        "sum(case when NAME_CONTRACT_STATUS in ('Refused') then 1 else 0 end) as num_of_ref,\n",
        "avg(case when NAME_CONTRACT_STATUS in ('Approved') then AMT_APPLICATION / AMT_CREDIT else null/*why use null?*/ end) as avg_APP_CREDIT_PERC\n",
        "from previous_application group by 1) base3\n",
        "on base.SK_ID_CURR=base3.SK_ID_CURR\n",
        "\"\"\""
      ]
    },
    {
      "cell_type": "code",
      "execution_count": null,
      "metadata": {
        "id": "3n_5IbiDuRwc",
        "colab": {
          "base_uri": "https://localhost:8080/",
          "height": 311
        },
        "outputId": "e66c9c93-f06c-4d21-9938-27a6db4c1567"
      },
      "outputs": [
        {
          "output_type": "error",
          "ename": "KeyboardInterrupt",
          "evalue": "ignored",
          "traceback": [
            "\u001b[0;31m---------------------------------------------------------------------------\u001b[0m",
            "\u001b[0;31mKeyboardInterrupt\u001b[0m                         Traceback (most recent call last)",
            "\u001b[0;32m<ipython-input-20-a8057f9b5553>\u001b[0m in \u001b[0;36m<module>\u001b[0;34m\u001b[0m\n\u001b[0;32m----> 1\u001b[0;31m \u001b[0mfinal\u001b[0m \u001b[0;34m=\u001b[0m \u001b[0mpd\u001b[0m\u001b[0;34m.\u001b[0m\u001b[0mread_sql\u001b[0m\u001b[0;34m(\u001b[0m\u001b[0mquery\u001b[0m\u001b[0;34m,\u001b[0m \u001b[0mcon\u001b[0m\u001b[0;34m=\u001b[0m\u001b[0mdb_connection\u001b[0m\u001b[0;34m)\u001b[0m\u001b[0;34m\u001b[0m\u001b[0;34m\u001b[0m\u001b[0m\n\u001b[0m",
            "\u001b[0;32m/usr/local/lib/python3.7/dist-packages/pandas/io/sql.py\u001b[0m in \u001b[0;36mread_sql\u001b[0;34m(sql, con, index_col, coerce_float, params, parse_dates, columns, chunksize)\u001b[0m\n\u001b[1;32m    606\u001b[0m             \u001b[0mcoerce_float\u001b[0m\u001b[0;34m=\u001b[0m\u001b[0mcoerce_float\u001b[0m\u001b[0;34m,\u001b[0m\u001b[0;34m\u001b[0m\u001b[0;34m\u001b[0m\u001b[0m\n\u001b[1;32m    607\u001b[0m             \u001b[0mparse_dates\u001b[0m\u001b[0;34m=\u001b[0m\u001b[0mparse_dates\u001b[0m\u001b[0;34m,\u001b[0m\u001b[0;34m\u001b[0m\u001b[0;34m\u001b[0m\u001b[0m\n\u001b[0;32m--> 608\u001b[0;31m             \u001b[0mchunksize\u001b[0m\u001b[0;34m=\u001b[0m\u001b[0mchunksize\u001b[0m\u001b[0;34m,\u001b[0m\u001b[0;34m\u001b[0m\u001b[0;34m\u001b[0m\u001b[0m\n\u001b[0m\u001b[1;32m    609\u001b[0m         )\n\u001b[1;32m    610\u001b[0m \u001b[0;34m\u001b[0m\u001b[0m\n",
            "\u001b[0;32m/usr/local/lib/python3.7/dist-packages/pandas/io/sql.py\u001b[0m in \u001b[0;36mread_query\u001b[0;34m(self, sql, index_col, coerce_float, params, parse_dates, chunksize, dtype)\u001b[0m\n\u001b[1;32m   2114\u001b[0m \u001b[0;34m\u001b[0m\u001b[0m\n\u001b[1;32m   2115\u001b[0m         \u001b[0margs\u001b[0m \u001b[0;34m=\u001b[0m \u001b[0m_convert_params\u001b[0m\u001b[0;34m(\u001b[0m\u001b[0msql\u001b[0m\u001b[0;34m,\u001b[0m \u001b[0mparams\u001b[0m\u001b[0;34m)\u001b[0m\u001b[0;34m\u001b[0m\u001b[0;34m\u001b[0m\u001b[0m\n\u001b[0;32m-> 2116\u001b[0;31m         \u001b[0mcursor\u001b[0m \u001b[0;34m=\u001b[0m \u001b[0mself\u001b[0m\u001b[0;34m.\u001b[0m\u001b[0mexecute\u001b[0m\u001b[0;34m(\u001b[0m\u001b[0;34m*\u001b[0m\u001b[0margs\u001b[0m\u001b[0;34m)\u001b[0m\u001b[0;34m\u001b[0m\u001b[0;34m\u001b[0m\u001b[0m\n\u001b[0m\u001b[1;32m   2117\u001b[0m         \u001b[0mcolumns\u001b[0m \u001b[0;34m=\u001b[0m \u001b[0;34m[\u001b[0m\u001b[0mcol_desc\u001b[0m\u001b[0;34m[\u001b[0m\u001b[0;36m0\u001b[0m\u001b[0;34m]\u001b[0m \u001b[0;32mfor\u001b[0m \u001b[0mcol_desc\u001b[0m \u001b[0;32min\u001b[0m \u001b[0mcursor\u001b[0m\u001b[0;34m.\u001b[0m\u001b[0mdescription\u001b[0m\u001b[0;34m]\u001b[0m\u001b[0;34m\u001b[0m\u001b[0;34m\u001b[0m\u001b[0m\n\u001b[1;32m   2118\u001b[0m \u001b[0;34m\u001b[0m\u001b[0m\n",
            "\u001b[0;32m/usr/local/lib/python3.7/dist-packages/pandas/io/sql.py\u001b[0m in \u001b[0;36mexecute\u001b[0;34m(self, *args, **kwargs)\u001b[0m\n\u001b[1;32m   2054\u001b[0m             \u001b[0mcur\u001b[0m \u001b[0;34m=\u001b[0m \u001b[0mself\u001b[0m\u001b[0;34m.\u001b[0m\u001b[0mcon\u001b[0m\u001b[0;34m.\u001b[0m\u001b[0mcursor\u001b[0m\u001b[0;34m(\u001b[0m\u001b[0;34m)\u001b[0m\u001b[0;34m\u001b[0m\u001b[0;34m\u001b[0m\u001b[0m\n\u001b[1;32m   2055\u001b[0m         \u001b[0;32mtry\u001b[0m\u001b[0;34m:\u001b[0m\u001b[0;34m\u001b[0m\u001b[0;34m\u001b[0m\u001b[0m\n\u001b[0;32m-> 2056\u001b[0;31m             \u001b[0mcur\u001b[0m\u001b[0;34m.\u001b[0m\u001b[0mexecute\u001b[0m\u001b[0;34m(\u001b[0m\u001b[0;34m*\u001b[0m\u001b[0margs\u001b[0m\u001b[0;34m,\u001b[0m \u001b[0;34m**\u001b[0m\u001b[0mkwargs\u001b[0m\u001b[0;34m)\u001b[0m\u001b[0;34m\u001b[0m\u001b[0;34m\u001b[0m\u001b[0m\n\u001b[0m\u001b[1;32m   2057\u001b[0m             \u001b[0;32mreturn\u001b[0m \u001b[0mcur\u001b[0m\u001b[0;34m\u001b[0m\u001b[0;34m\u001b[0m\u001b[0m\n\u001b[1;32m   2058\u001b[0m         \u001b[0;32mexcept\u001b[0m \u001b[0mException\u001b[0m \u001b[0;32mas\u001b[0m \u001b[0mexc\u001b[0m\u001b[0;34m:\u001b[0m\u001b[0;34m\u001b[0m\u001b[0;34m\u001b[0m\u001b[0m\n",
            "\u001b[0;32m/usr/local/lib/python3.7/dist-packages/mysql/connector/cursor.py\u001b[0m in \u001b[0;36mexecute\u001b[0;34m(self, operation, params, multi)\u001b[0m\n\u001b[1;32m    549\u001b[0m         \u001b[0;32melse\u001b[0m\u001b[0;34m:\u001b[0m\u001b[0;34m\u001b[0m\u001b[0;34m\u001b[0m\u001b[0m\n\u001b[1;32m    550\u001b[0m             \u001b[0;32mtry\u001b[0m\u001b[0;34m:\u001b[0m\u001b[0;34m\u001b[0m\u001b[0;34m\u001b[0m\u001b[0m\n\u001b[0;32m--> 551\u001b[0;31m                 \u001b[0mself\u001b[0m\u001b[0;34m.\u001b[0m\u001b[0m_handle_result\u001b[0m\u001b[0;34m(\u001b[0m\u001b[0mself\u001b[0m\u001b[0;34m.\u001b[0m\u001b[0m_connection\u001b[0m\u001b[0;34m.\u001b[0m\u001b[0mcmd_query\u001b[0m\u001b[0;34m(\u001b[0m\u001b[0mstmt\u001b[0m\u001b[0;34m)\u001b[0m\u001b[0;34m)\u001b[0m\u001b[0;34m\u001b[0m\u001b[0;34m\u001b[0m\u001b[0m\n\u001b[0m\u001b[1;32m    552\u001b[0m             \u001b[0;32mexcept\u001b[0m \u001b[0merrors\u001b[0m\u001b[0;34m.\u001b[0m\u001b[0mInterfaceError\u001b[0m\u001b[0;34m:\u001b[0m\u001b[0;34m\u001b[0m\u001b[0;34m\u001b[0m\u001b[0m\n\u001b[1;32m    553\u001b[0m                 \u001b[0;32mif\u001b[0m \u001b[0mself\u001b[0m\u001b[0;34m.\u001b[0m\u001b[0m_connection\u001b[0m\u001b[0;34m.\u001b[0m\u001b[0m_have_next_result\u001b[0m\u001b[0;34m:\u001b[0m  \u001b[0;31m# pylint: disable=W0212\u001b[0m\u001b[0;34m\u001b[0m\u001b[0;34m\u001b[0m\u001b[0m\n",
            "\u001b[0;32m/usr/local/lib/python3.7/dist-packages/mysql/connector/connection.py\u001b[0m in \u001b[0;36mcmd_query\u001b[0;34m(self, query, raw, buffered, raw_as_string)\u001b[0m\n\u001b[1;32m    488\u001b[0m         \u001b[0;32mif\u001b[0m \u001b[0;32mnot\u001b[0m \u001b[0misinstance\u001b[0m\u001b[0;34m(\u001b[0m\u001b[0mquery\u001b[0m\u001b[0;34m,\u001b[0m \u001b[0mbytes\u001b[0m\u001b[0;34m)\u001b[0m\u001b[0;34m:\u001b[0m\u001b[0;34m\u001b[0m\u001b[0;34m\u001b[0m\u001b[0m\n\u001b[1;32m    489\u001b[0m             \u001b[0mquery\u001b[0m \u001b[0;34m=\u001b[0m \u001b[0mquery\u001b[0m\u001b[0;34m.\u001b[0m\u001b[0mencode\u001b[0m\u001b[0;34m(\u001b[0m\u001b[0;34m'utf-8'\u001b[0m\u001b[0;34m)\u001b[0m\u001b[0;34m\u001b[0m\u001b[0;34m\u001b[0m\u001b[0m\n\u001b[0;32m--> 490\u001b[0;31m         \u001b[0mresult\u001b[0m \u001b[0;34m=\u001b[0m \u001b[0mself\u001b[0m\u001b[0;34m.\u001b[0m\u001b[0m_handle_result\u001b[0m\u001b[0;34m(\u001b[0m\u001b[0mself\u001b[0m\u001b[0;34m.\u001b[0m\u001b[0m_send_cmd\u001b[0m\u001b[0;34m(\u001b[0m\u001b[0mServerCmd\u001b[0m\u001b[0;34m.\u001b[0m\u001b[0mQUERY\u001b[0m\u001b[0;34m,\u001b[0m \u001b[0mquery\u001b[0m\u001b[0;34m)\u001b[0m\u001b[0;34m)\u001b[0m\u001b[0;34m\u001b[0m\u001b[0;34m\u001b[0m\u001b[0m\n\u001b[0m\u001b[1;32m    491\u001b[0m \u001b[0;34m\u001b[0m\u001b[0m\n\u001b[1;32m    492\u001b[0m         \u001b[0;32mif\u001b[0m \u001b[0mself\u001b[0m\u001b[0;34m.\u001b[0m\u001b[0m_have_next_result\u001b[0m\u001b[0;34m:\u001b[0m\u001b[0;34m\u001b[0m\u001b[0;34m\u001b[0m\u001b[0m\n",
            "\u001b[0;32m/usr/local/lib/python3.7/dist-packages/mysql/connector/connection.py\u001b[0m in \u001b[0;36m_send_cmd\u001b[0;34m(self, command, argument, packet_number, packet, expect_response, compressed_packet_number)\u001b[0m\n\u001b[1;32m    265\u001b[0m         \u001b[0;32mif\u001b[0m \u001b[0;32mnot\u001b[0m \u001b[0mexpect_response\u001b[0m\u001b[0;34m:\u001b[0m\u001b[0;34m\u001b[0m\u001b[0;34m\u001b[0m\u001b[0m\n\u001b[1;32m    266\u001b[0m             \u001b[0;32mreturn\u001b[0m \u001b[0;32mNone\u001b[0m\u001b[0;34m\u001b[0m\u001b[0;34m\u001b[0m\u001b[0m\n\u001b[0;32m--> 267\u001b[0;31m         \u001b[0;32mreturn\u001b[0m \u001b[0mself\u001b[0m\u001b[0;34m.\u001b[0m\u001b[0m_socket\u001b[0m\u001b[0;34m.\u001b[0m\u001b[0mrecv\u001b[0m\u001b[0;34m(\u001b[0m\u001b[0;34m)\u001b[0m\u001b[0;34m\u001b[0m\u001b[0;34m\u001b[0m\u001b[0m\n\u001b[0m\u001b[1;32m    268\u001b[0m \u001b[0;34m\u001b[0m\u001b[0m\n\u001b[1;32m    269\u001b[0m     \u001b[0;32mdef\u001b[0m \u001b[0m_send_data\u001b[0m\u001b[0;34m(\u001b[0m\u001b[0mself\u001b[0m\u001b[0;34m,\u001b[0m \u001b[0mdata_file\u001b[0m\u001b[0;34m,\u001b[0m \u001b[0msend_empty_packet\u001b[0m\u001b[0;34m=\u001b[0m\u001b[0;32mFalse\u001b[0m\u001b[0;34m)\u001b[0m\u001b[0;34m:\u001b[0m\u001b[0;34m\u001b[0m\u001b[0;34m\u001b[0m\u001b[0m\n",
            "\u001b[0;32m/usr/local/lib/python3.7/dist-packages/mysql/connector/network.py\u001b[0m in \u001b[0;36mrecv_plain\u001b[0;34m(self)\u001b[0m\n\u001b[1;32m    239\u001b[0m             \u001b[0mpacket_len\u001b[0m \u001b[0;34m=\u001b[0m \u001b[0;36m0\u001b[0m\u001b[0;34m\u001b[0m\u001b[0;34m\u001b[0m\u001b[0m\n\u001b[1;32m    240\u001b[0m             \u001b[0;32mwhile\u001b[0m \u001b[0mpacket_len\u001b[0m \u001b[0;34m<\u001b[0m \u001b[0;36m4\u001b[0m\u001b[0;34m:\u001b[0m\u001b[0;34m\u001b[0m\u001b[0;34m\u001b[0m\u001b[0m\n\u001b[0;32m--> 241\u001b[0;31m                 \u001b[0mchunk\u001b[0m \u001b[0;34m=\u001b[0m \u001b[0mself\u001b[0m\u001b[0;34m.\u001b[0m\u001b[0msock\u001b[0m\u001b[0;34m.\u001b[0m\u001b[0mrecv\u001b[0m\u001b[0;34m(\u001b[0m\u001b[0;36m4\u001b[0m \u001b[0;34m-\u001b[0m \u001b[0mpacket_len\u001b[0m\u001b[0;34m)\u001b[0m\u001b[0;34m\u001b[0m\u001b[0;34m\u001b[0m\u001b[0m\n\u001b[0m\u001b[1;32m    242\u001b[0m                 \u001b[0;32mif\u001b[0m \u001b[0;32mnot\u001b[0m \u001b[0mchunk\u001b[0m\u001b[0;34m:\u001b[0m\u001b[0;34m\u001b[0m\u001b[0;34m\u001b[0m\u001b[0m\n\u001b[1;32m    243\u001b[0m                     \u001b[0;32mraise\u001b[0m \u001b[0merrors\u001b[0m\u001b[0;34m.\u001b[0m\u001b[0mInterfaceError\u001b[0m\u001b[0;34m(\u001b[0m\u001b[0merrno\u001b[0m\u001b[0;34m=\u001b[0m\u001b[0;36m2013\u001b[0m\u001b[0;34m)\u001b[0m\u001b[0;34m\u001b[0m\u001b[0;34m\u001b[0m\u001b[0m\n",
            "\u001b[0;31mKeyboardInterrupt\u001b[0m: "
          ]
        }
      ],
      "source": [
        "final = pd.read_sql(query, con=db_connection)"
      ]
    },
    {
      "cell_type": "markdown",
      "metadata": {
        "id": "jJgPg_d1uRwd"
      },
      "source": [
        "##### If it takes too much time, we should run the code one by one"
      ]
    },
    {
      "cell_type": "code",
      "execution_count": null,
      "metadata": {
        "id": "rttt6XKNuRwd"
      },
      "outputs": [],
      "source": [
        "base = \"\"\"\n",
        "select a.*, \n",
        "AMT_CREDIT/AMT_ANNUITY as NEW_CREDIT_TO_ANNUITY_RATIO,\n",
        "AMT_CREDIT/AMT_GOODS_PRICE as NEW_CREDIT_TO_GOODS_RATIO,\n",
        "OWN_CAR_AGE/DAYS_BIRTH as NEW_CAR_TO_BIRTH_RATIO,\n",
        "OWN_CAR_AGE/DAYS_EMPLOYED as NEW_CAR_TO_EMPLOY_RATIO,\n",
        "AMT_CREDIT/AMT_INCOME_TOTAL as NEW_CREDIT_TO_INCOME_RATIO, -- one of the most important variable! DTI\n",
        "AMT_ANNUITY/AMT_INCOME_TOTAL as NEW_ANNUITY_TO_INCOME_RATIO,\n",
        "c.cl_max_DAYS_CREDIT,\n",
        "c.cl_min_DAYS_CREDIT,\n",
        "c.cl_avg_DAYS_CREDIT,\n",
        "c.ac_max_DAYS_CREDIT,\n",
        "c.ac_min_DAYS_CREDIT,\n",
        "c.ac_avg_DAYS_CREDIT,\n",
        "c.sd_max_DAYS_CREDIT,\n",
        "c.sd_min_DAYS_CREDIT,\n",
        "c.sd_avg_DAYS_CREDIT,\n",
        "c.bd_max_DAYS_CREDIT,\n",
        "c.bd_min_DAYS_CREDIT,\n",
        "c.bd_avg_DAYS_CREDIT,\n",
        "c.cl_max_CREDIT_DAY_OVERDUE,\n",
        "c.ac_max_CREDIT_DAY_OVERDUE,\n",
        "c.sd_max_CREDIT_DAY_OVERDUE,\n",
        "c.bd_max_CREDIT_DAY_OVERDUE,\n",
        "c.cl_avg_CREDIT_DAY_OVERDUE,\n",
        "c.ac_avg_CREDIT_DAY_OVERDUE,\n",
        "c.sd_avg_CREDIT_DAY_OVERDUE,\n",
        "c.bd_avg_CREDIT_DAY_OVERDUE,\n",
        "c.bd_flag,\n",
        "c.bd_num\n",
        "from\n",
        "application as a\n",
        "left join \n",
        "(\n",
        "select SK_ID_CURR,\n",
        "max(case when CREDIT_ACTIVE='Closed' then DAYS_CREDIT else null end) as cl_max_DAYS_CREDIT,\n",
        "min(case when CREDIT_ACTIVE='Closed' then DAYS_CREDIT else null end) as cl_min_DAYS_CREDIT,\n",
        "avg(case when CREDIT_ACTIVE='Closed' then DAYS_CREDIT else null end) as cl_avg_DAYS_CREDIT,\n",
        "max(case when CREDIT_ACTIVE='Active' then DAYS_CREDIT else null end) as ac_max_DAYS_CREDIT,\n",
        "min(case when CREDIT_ACTIVE='Active' then DAYS_CREDIT else null end) as ac_min_DAYS_CREDIT,\n",
        "avg(case when CREDIT_ACTIVE='Active' then DAYS_CREDIT else null end) as ac_avg_DAYS_CREDIT,\n",
        "max(case when CREDIT_ACTIVE='Sold' then DAYS_CREDIT else null end) as sd_max_DAYS_CREDIT,\n",
        "min(case when CREDIT_ACTIVE='Sold' then DAYS_CREDIT else null end) as sd_min_DAYS_CREDIT,\n",
        "avg(case when CREDIT_ACTIVE='Sold' then DAYS_CREDIT else null end) as sd_avg_DAYS_CREDIT,\n",
        "max(case when CREDIT_ACTIVE ='Bad Debt' then DAYS_CREDIT else null end) as bd_max_DAYS_CREDIT,\n",
        "min(case when CREDIT_ACTIVE='Bad Debt' then DAYS_CREDIT else null end) as bd_min_DAYS_CREDIT,\n",
        "avg(case when CREDIT_ACTIVE='Bad Debt' then DAYS_CREDIT else null end) as bd_avg_DAYS_CREDIT,\n",
        "\n",
        "max(case when CREDIT_ACTIVE='Closed' then DAYS_CREDIT_ENDDATE else null end) as cl_max_DAYS_CREDIT_ENDDATE,\n",
        "min(case when CREDIT_ACTIVE='Closed' then DAYS_CREDIT_ENDDATE else null end) as cl_min_DAYS_CREDIT_ENDDATE,\n",
        "avg(case when CREDIT_ACTIVE='Closed' then DAYS_CREDIT_ENDDATE else null end) as cl_avg_DAYS_CREDIT_ENDDATE,\n",
        "max(case when CREDIT_ACTIVE='Active' then DAYS_CREDIT_ENDDATE else null end) as ac_max_DAYS_CREDIT_ENDDATE,\n",
        "min(case when CREDIT_ACTIVE='Active' then DAYS_CREDIT_ENDDATE else null end) as ac_min_DAYS_CREDIT_ENDDATE,\n",
        "avg(case when CREDIT_ACTIVE='Active' then DAYS_CREDIT_ENDDATE else null end) as ac_avg_DAYS_CREDIT_ENDDATE,\n",
        "max(case when CREDIT_ACTIVE='Sold' then DAYS_CREDIT_ENDDATE else null end) as sd_max_DAYS_CREDIT_ENDDATE,\n",
        "min(case when CREDIT_ACTIVE='Sold' then DAYS_CREDIT_ENDDATE else null end) as sd_min_DAYS_CREDIT_ENDDATE,\n",
        "avg(case when CREDIT_ACTIVE='Sold' then DAYS_CREDIT_ENDDATE else null end) as sd_avg_DAYS_CREDIT_ENDDATE,\n",
        "max(case when CREDIT_ACTIVE ='Bad Debt' then DAYS_CREDIT_ENDDATE else null end) as bd_max_DAYS_CREDIT_ENDDATE,\n",
        "min(case when CREDIT_ACTIVE='Bad Debt' then DAYS_CREDIT_ENDDATE else null end) as bd_min_DAYS_CREDIT_ENDDATE,\n",
        "avg(case when CREDIT_ACTIVE='Bad Debt' then DAYS_CREDIT_ENDDATE else null end) as bd_avg_DAYS_CREDIT_ENDDATE,\n",
        "\n",
        "max(case when CREDIT_ACTIVE='Closed' then CREDIT_DAY_OVERDUE else null end) as cl_max_CREDIT_DAY_OVERDUE,\n",
        "max(case when CREDIT_ACTIVE='Active' then CREDIT_DAY_OVERDUE else null end) as ac_max_CREDIT_DAY_OVERDUE,\n",
        "max(case when CREDIT_ACTIVE='Sold' then CREDIT_DAY_OVERDUE else null end) as sd_max_CREDIT_DAY_OVERDUE,\n",
        "max(case when CREDIT_ACTIVE ='Bad Debt' then CREDIT_DAY_OVERDUE else null end) as bd_max_CREDIT_DAY_OVERDUE,\n",
        "avg(case when CREDIT_ACTIVE='Closed' then CREDIT_DAY_OVERDUE else null end) as cl_avg_CREDIT_DAY_OVERDUE,\n",
        "avg(case when CREDIT_ACTIVE='Active' then CREDIT_DAY_OVERDUE else null end) as ac_avg_CREDIT_DAY_OVERDUE,\n",
        "avg(case when CREDIT_ACTIVE='Sold' then CREDIT_DAY_OVERDUE else null end) as sd_avg_CREDIT_DAY_OVERDUE,\n",
        "avg(case when CREDIT_ACTIVE='Bad Debt' then CREDIT_DAY_OVERDUE else null end) as bd_avg_CREDIT_DAY_OVERDUE,\n",
        "max(case when  CREDIT_ACTIVE='Bad Debt'  then 1 else 0 end) as bd_flag, \n",
        "sum(case when  CREDIT_ACTIVE='Bad Debt'  then 1 else 0 end) as bd_num\n",
        "from bureau\n",
        "group by 1) as c\n",
        "on a.SK_ID_CURR=c.SK_ID_CURR\n",
        "\n",
        "\"\"\""
      ]
    },
    {
      "cell_type": "code",
      "execution_count": null,
      "metadata": {
        "id": "OOiSN3i9uRwe",
        "colab": {
          "base_uri": "https://localhost:8080/",
          "height": 311
        },
        "outputId": "b79bed87-8ca9-4a25-9092-4e125eeb8a08"
      },
      "outputs": [
        {
          "output_type": "error",
          "ename": "OperationalError",
          "evalue": "ignored",
          "traceback": [
            "\u001b[0;31m---------------------------------------------------------------------------\u001b[0m",
            "\u001b[0;31mOperationalError\u001b[0m                          Traceback (most recent call last)",
            "\u001b[0;32m<ipython-input-22-8a0d9d6d506c>\u001b[0m in \u001b[0;36m<module>\u001b[0;34m\u001b[0m\n\u001b[0;32m----> 1\u001b[0;31m \u001b[0mbase\u001b[0m \u001b[0;34m=\u001b[0m \u001b[0mpd\u001b[0m\u001b[0;34m.\u001b[0m\u001b[0mread_sql\u001b[0m\u001b[0;34m(\u001b[0m\u001b[0mbase\u001b[0m\u001b[0;34m,\u001b[0m \u001b[0mcon\u001b[0m\u001b[0;34m=\u001b[0m\u001b[0mdb_connection\u001b[0m\u001b[0;34m)\u001b[0m\u001b[0;34m\u001b[0m\u001b[0;34m\u001b[0m\u001b[0m\n\u001b[0m",
            "\u001b[0;32m/usr/local/lib/python3.7/dist-packages/pandas/io/sql.py\u001b[0m in \u001b[0;36mread_sql\u001b[0;34m(sql, con, index_col, coerce_float, params, parse_dates, columns, chunksize)\u001b[0m\n\u001b[1;32m    606\u001b[0m             \u001b[0mcoerce_float\u001b[0m\u001b[0;34m=\u001b[0m\u001b[0mcoerce_float\u001b[0m\u001b[0;34m,\u001b[0m\u001b[0;34m\u001b[0m\u001b[0;34m\u001b[0m\u001b[0m\n\u001b[1;32m    607\u001b[0m             \u001b[0mparse_dates\u001b[0m\u001b[0;34m=\u001b[0m\u001b[0mparse_dates\u001b[0m\u001b[0;34m,\u001b[0m\u001b[0;34m\u001b[0m\u001b[0;34m\u001b[0m\u001b[0m\n\u001b[0;32m--> 608\u001b[0;31m             \u001b[0mchunksize\u001b[0m\u001b[0;34m=\u001b[0m\u001b[0mchunksize\u001b[0m\u001b[0;34m,\u001b[0m\u001b[0;34m\u001b[0m\u001b[0;34m\u001b[0m\u001b[0m\n\u001b[0m\u001b[1;32m    609\u001b[0m         )\n\u001b[1;32m    610\u001b[0m \u001b[0;34m\u001b[0m\u001b[0m\n",
            "\u001b[0;32m/usr/local/lib/python3.7/dist-packages/pandas/io/sql.py\u001b[0m in \u001b[0;36mread_query\u001b[0;34m(self, sql, index_col, coerce_float, params, parse_dates, chunksize, dtype)\u001b[0m\n\u001b[1;32m   2114\u001b[0m \u001b[0;34m\u001b[0m\u001b[0m\n\u001b[1;32m   2115\u001b[0m         \u001b[0margs\u001b[0m \u001b[0;34m=\u001b[0m \u001b[0m_convert_params\u001b[0m\u001b[0;34m(\u001b[0m\u001b[0msql\u001b[0m\u001b[0;34m,\u001b[0m \u001b[0mparams\u001b[0m\u001b[0;34m)\u001b[0m\u001b[0;34m\u001b[0m\u001b[0;34m\u001b[0m\u001b[0m\n\u001b[0;32m-> 2116\u001b[0;31m         \u001b[0mcursor\u001b[0m \u001b[0;34m=\u001b[0m \u001b[0mself\u001b[0m\u001b[0;34m.\u001b[0m\u001b[0mexecute\u001b[0m\u001b[0;34m(\u001b[0m\u001b[0;34m*\u001b[0m\u001b[0margs\u001b[0m\u001b[0;34m)\u001b[0m\u001b[0;34m\u001b[0m\u001b[0;34m\u001b[0m\u001b[0m\n\u001b[0m\u001b[1;32m   2117\u001b[0m         \u001b[0mcolumns\u001b[0m \u001b[0;34m=\u001b[0m \u001b[0;34m[\u001b[0m\u001b[0mcol_desc\u001b[0m\u001b[0;34m[\u001b[0m\u001b[0;36m0\u001b[0m\u001b[0;34m]\u001b[0m \u001b[0;32mfor\u001b[0m \u001b[0mcol_desc\u001b[0m \u001b[0;32min\u001b[0m \u001b[0mcursor\u001b[0m\u001b[0;34m.\u001b[0m\u001b[0mdescription\u001b[0m\u001b[0;34m]\u001b[0m\u001b[0;34m\u001b[0m\u001b[0;34m\u001b[0m\u001b[0m\n\u001b[1;32m   2118\u001b[0m \u001b[0;34m\u001b[0m\u001b[0m\n",
            "\u001b[0;32m/usr/local/lib/python3.7/dist-packages/pandas/io/sql.py\u001b[0m in \u001b[0;36mexecute\u001b[0;34m(self, *args, **kwargs)\u001b[0m\n\u001b[1;32m   2052\u001b[0m             \u001b[0mcur\u001b[0m \u001b[0;34m=\u001b[0m \u001b[0mself\u001b[0m\u001b[0;34m.\u001b[0m\u001b[0mcon\u001b[0m\u001b[0;34m\u001b[0m\u001b[0;34m\u001b[0m\u001b[0m\n\u001b[1;32m   2053\u001b[0m         \u001b[0;32melse\u001b[0m\u001b[0;34m:\u001b[0m\u001b[0;34m\u001b[0m\u001b[0;34m\u001b[0m\u001b[0m\n\u001b[0;32m-> 2054\u001b[0;31m             \u001b[0mcur\u001b[0m \u001b[0;34m=\u001b[0m \u001b[0mself\u001b[0m\u001b[0;34m.\u001b[0m\u001b[0mcon\u001b[0m\u001b[0;34m.\u001b[0m\u001b[0mcursor\u001b[0m\u001b[0;34m(\u001b[0m\u001b[0;34m)\u001b[0m\u001b[0;34m\u001b[0m\u001b[0;34m\u001b[0m\u001b[0m\n\u001b[0m\u001b[1;32m   2055\u001b[0m         \u001b[0;32mtry\u001b[0m\u001b[0;34m:\u001b[0m\u001b[0;34m\u001b[0m\u001b[0;34m\u001b[0m\u001b[0m\n\u001b[1;32m   2056\u001b[0m             \u001b[0mcur\u001b[0m\u001b[0;34m.\u001b[0m\u001b[0mexecute\u001b[0m\u001b[0;34m(\u001b[0m\u001b[0;34m*\u001b[0m\u001b[0margs\u001b[0m\u001b[0;34m,\u001b[0m \u001b[0;34m**\u001b[0m\u001b[0mkwargs\u001b[0m\u001b[0;34m)\u001b[0m\u001b[0;34m\u001b[0m\u001b[0;34m\u001b[0m\u001b[0m\n",
            "\u001b[0;32m/usr/local/lib/python3.7/dist-packages/mysql/connector/connection.py\u001b[0m in \u001b[0;36mcursor\u001b[0;34m(self, buffered, raw, prepared, cursor_class, dictionary, named_tuple)\u001b[0m\n\u001b[1;32m    807\u001b[0m \u001b[0;34m\u001b[0m\u001b[0m\n\u001b[1;32m    808\u001b[0m         \u001b[0;32mif\u001b[0m \u001b[0;32mnot\u001b[0m \u001b[0mself\u001b[0m\u001b[0;34m.\u001b[0m\u001b[0mis_connected\u001b[0m\u001b[0;34m(\u001b[0m\u001b[0;34m)\u001b[0m\u001b[0;34m:\u001b[0m\u001b[0;34m\u001b[0m\u001b[0;34m\u001b[0m\u001b[0m\n\u001b[0;32m--> 809\u001b[0;31m             \u001b[0;32mraise\u001b[0m \u001b[0merrors\u001b[0m\u001b[0;34m.\u001b[0m\u001b[0mOperationalError\u001b[0m\u001b[0;34m(\u001b[0m\u001b[0;34m\"MySQL Connection not available.\"\u001b[0m\u001b[0;34m)\u001b[0m\u001b[0;34m\u001b[0m\u001b[0;34m\u001b[0m\u001b[0m\n\u001b[0m\u001b[1;32m    810\u001b[0m         \u001b[0;32mif\u001b[0m \u001b[0mcursor_class\u001b[0m \u001b[0;32mis\u001b[0m \u001b[0;32mnot\u001b[0m \u001b[0;32mNone\u001b[0m\u001b[0;34m:\u001b[0m\u001b[0;34m\u001b[0m\u001b[0;34m\u001b[0m\u001b[0m\n\u001b[1;32m    811\u001b[0m             \u001b[0;32mif\u001b[0m \u001b[0;32mnot\u001b[0m \u001b[0missubclass\u001b[0m\u001b[0;34m(\u001b[0m\u001b[0mcursor_class\u001b[0m\u001b[0;34m,\u001b[0m \u001b[0mCursorBase\u001b[0m\u001b[0;34m)\u001b[0m\u001b[0;34m:\u001b[0m\u001b[0;34m\u001b[0m\u001b[0;34m\u001b[0m\u001b[0m\n",
            "\u001b[0;31mOperationalError\u001b[0m: MySQL Connection not available."
          ]
        }
      ],
      "source": [
        "base = pd.read_sql(base, con=db_connection)"
      ]
    },
    {
      "cell_type": "code",
      "execution_count": null,
      "metadata": {
        "id": "CIXt9AaPuRwe",
        "outputId": "d85eb1ea-ea8c-4571-ee1e-7895429000d7"
      },
      "outputs": [
        {
          "data": {
            "text/plain": [
              "(307511, 150)"
            ]
          },
          "execution_count": 9,
          "metadata": {},
          "output_type": "execute_result"
        }
      ],
      "source": [
        "base.shape"
      ]
    },
    {
      "cell_type": "code",
      "execution_count": null,
      "metadata": {
        "id": "k2pr1bJ1uRwf"
      },
      "outputs": [],
      "source": [
        "#base2\n",
        "base2 = \"\"\"\n",
        "select a.SK_ID_CURR,\n",
        "avg(case when status = 'C' then 1 else 0 end) as status_c_mean,\n",
        "avg(case when status = 'X' then 1 else 0 end) as status_x_mean,\n",
        "avg(case when status = '0' then 1 else 0 end) as status_0_mean,\n",
        "avg(case when status = '1' then 1 else 0 end) as status_1_mean,\n",
        "avg(case when status = '2' then 1 else 0 end) as status_2_mean,\n",
        "avg(case when status = '3' then 1 else 0 end) as status_3_mean,\n",
        "avg(case when status = '4' then 1 else 0 end) as status_4_mean,\n",
        "avg(case when status = '5' then 1 else 0 end) as status_5_mean\n",
        "from application as a\n",
        "join bureau as b\n",
        "on a.SK_ID_CURR=b.SK_ID_CURR\n",
        "join bureau_balance as c\n",
        "on b.SK_BUREAU_id=c.sk_id_bureau\n",
        "group by 1\n",
        "\"\"\""
      ]
    },
    {
      "cell_type": "code",
      "execution_count": null,
      "metadata": {
        "id": "T4SpoTnhuRwf"
      },
      "outputs": [],
      "source": [
        "base2 = pd.read_sql(base2, con=db_connection)"
      ]
    },
    {
      "cell_type": "code",
      "execution_count": null,
      "metadata": {
        "id": "u4qac1kHuRwf",
        "outputId": "68fa6b42-b8a0-4c82-a3da-7befd9b98b88"
      },
      "outputs": [
        {
          "data": {
            "text/plain": [
              "(92231, 9)"
            ]
          },
          "execution_count": 12,
          "metadata": {},
          "output_type": "execute_result"
        }
      ],
      "source": [
        "base2.shape"
      ]
    },
    {
      "cell_type": "code",
      "execution_count": null,
      "metadata": {
        "id": "gCpbljzZuRwf"
      },
      "outputs": [],
      "source": [
        "#base3\n",
        "base3 = \"\"\"\n",
        "select SK_ID_CURR,\n",
        "sum(case when NAME_CONTRACT_STATUS in ('Approved','Unused offer') then 1 else 0 end) as num_of_app,\n",
        "sum(case when NAME_CONTRACT_STATUS in ('Refused') then 1 else 0 end) as num_of_ref,\n",
        "avg(case when NAME_CONTRACT_STATUS in ('Approved') then AMT_APPLICATION / AMT_CREDIT else null/*why use null?*/ end) as avg_APP_CREDIT_PERC\n",
        "from previous_application group by 1\n",
        "\"\"\""
      ]
    },
    {
      "cell_type": "code",
      "execution_count": null,
      "metadata": {
        "id": "UcQkrOLhuRwg"
      },
      "outputs": [],
      "source": [
        "base3 = pd.read_sql(base3, con=db_connection)"
      ]
    },
    {
      "cell_type": "code",
      "execution_count": null,
      "metadata": {
        "id": "LylaCV9YuRwg",
        "outputId": "875bc4f4-cad2-4167-afe3-140999a1809e"
      },
      "outputs": [
        {
          "data": {
            "text/plain": [
              "(338857, 4)"
            ]
          },
          "execution_count": 15,
          "metadata": {},
          "output_type": "execute_result"
        }
      ],
      "source": [
        "base3.shape"
      ]
    },
    {
      "cell_type": "markdown",
      "metadata": {
        "id": "xDW6Ly7SuRwg"
      },
      "source": [
        "This step is to backup your SQL data pull result:"
      ]
    },
    {
      "cell_type": "code",
      "execution_count": null,
      "metadata": {
        "id": "OxTyJhe2uRwh"
      },
      "outputs": [],
      "source": [
        "base.to_csv('base.csv', sep='|',index=False)\n",
        "base2.to_csv('base2.csv', sep='|',index=False)\n",
        "base3.to_csv('base3.csv', sep='|',index=False)"
      ]
    },
    {
      "cell_type": "markdown",
      "metadata": {
        "id": "izhCRv96uRwh"
      },
      "source": [
        "Practice:\n",
        "Based on my code above, you need to use read_csv() to load the data into Pandas DataFrames"
      ]
    },
    {
      "cell_type": "code",
      "execution_count": null,
      "metadata": {
        "id": "y9OZBX8QuRwh"
      },
      "outputs": [],
      "source": [
        "base=pd.read_csv('base.csv', sep='|')\n",
        "base2=pd.read_csv('base2.csv', sep='|')\n",
        "base3=pd.read_csv('base3.csv', sep='|')"
      ]
    },
    {
      "cell_type": "code",
      "execution_count": null,
      "metadata": {
        "id": "y_419zgjuRwh",
        "outputId": "96b8e506-9f29-4147-c078-c6d59304f3b1"
      },
      "outputs": [
        {
          "data": {
            "text/plain": [
              "(307511, 150)"
            ]
          },
          "execution_count": 17,
          "metadata": {},
          "output_type": "execute_result"
        }
      ],
      "source": [
        "base.shape"
      ]
    },
    {
      "cell_type": "code",
      "execution_count": null,
      "metadata": {
        "id": "pfoeELNNuRwi",
        "outputId": "c9aae114-42fe-4bc5-f941-be59b2d677a8"
      },
      "outputs": [
        {
          "data": {
            "text/plain": [
              "(92231, 9)"
            ]
          },
          "execution_count": 18,
          "metadata": {},
          "output_type": "execute_result"
        }
      ],
      "source": [
        "base2.shape"
      ]
    },
    {
      "cell_type": "code",
      "execution_count": null,
      "metadata": {
        "id": "IkoXmi5auRwi",
        "outputId": "4a13950e-aa6e-4e10-cea0-e187173a6824"
      },
      "outputs": [
        {
          "data": {
            "text/plain": [
              "(338857, 4)"
            ]
          },
          "execution_count": 19,
          "metadata": {},
          "output_type": "execute_result"
        }
      ],
      "source": [
        "base3.shape"
      ]
    },
    {
      "cell_type": "markdown",
      "metadata": {
        "id": "ksIiyHVSuRwi"
      },
      "source": [
        "# Join data"
      ]
    },
    {
      "cell_type": "markdown",
      "metadata": {
        "id": "jY7ZiS4nuRwi"
      },
      "source": [
        "Left join data one by one:"
      ]
    },
    {
      "cell_type": "code",
      "execution_count": null,
      "metadata": {
        "id": "DPhZPovKuRwi"
      },
      "outputs": [],
      "source": [
        "result = pd.merge(base, base2, on='SK_ID_CURR', how='left')"
      ]
    },
    {
      "cell_type": "code",
      "execution_count": null,
      "metadata": {
        "id": "o-CbHWIxuRwi",
        "outputId": "5bc5c2c3-0a3e-4663-b30f-31d28f677825"
      },
      "outputs": [
        {
          "data": {
            "text/plain": [
              "(307511, 158)"
            ]
          },
          "execution_count": 21,
          "metadata": {},
          "output_type": "execute_result"
        }
      ],
      "source": [
        "result.shape"
      ]
    },
    {
      "cell_type": "code",
      "execution_count": null,
      "metadata": {
        "id": "s1uIg2OPuRwj"
      },
      "outputs": [],
      "source": [
        "final=pd.merge(result, base3, on='SK_ID_CURR', how='left')"
      ]
    },
    {
      "cell_type": "code",
      "execution_count": null,
      "metadata": {
        "id": "AjecwERsuRwj",
        "outputId": "ed442d83-aaa3-442e-b25c-2fde87af71c4"
      },
      "outputs": [
        {
          "data": {
            "text/plain": [
              "(307511, 161)"
            ]
          },
          "execution_count": 23,
          "metadata": {},
          "output_type": "execute_result"
        }
      ],
      "source": [
        "final.shape"
      ]
    },
    {
      "cell_type": "code",
      "execution_count": null,
      "metadata": {
        "id": "F9yJ9dCyuRwj"
      },
      "outputs": [],
      "source": [
        "final.to_csv('final.csv', index=False, sep='|')"
      ]
    },
    {
      "cell_type": "code",
      "execution_count": null,
      "metadata": {
        "id": "UrWLFnJ_uRwj",
        "outputId": "73c9fd02-dabf-471c-f1f3-6af8ab151b3d"
      },
      "outputs": [
        {
          "data": {
            "text/plain": [
              "(307511, 161)"
            ]
          },
          "execution_count": 25,
          "metadata": {},
          "output_type": "execute_result"
        }
      ],
      "source": [
        "final.shape"
      ]
    },
    {
      "cell_type": "code",
      "execution_count": null,
      "metadata": {
        "id": "9ft7G3BxuRwj",
        "outputId": "80dd9263-db84-4cb7-c4c0-a720ce6c565f"
      },
      "outputs": [
        {
          "data": {
            "text/html": [
              "<div>\n",
              "<style scoped>\n",
              "    .dataframe tbody tr th:only-of-type {\n",
              "        vertical-align: middle;\n",
              "    }\n",
              "\n",
              "    .dataframe tbody tr th {\n",
              "        vertical-align: top;\n",
              "    }\n",
              "\n",
              "    .dataframe thead th {\n",
              "        text-align: right;\n",
              "    }\n",
              "</style>\n",
              "<table border=\"1\" class=\"dataframe\">\n",
              "  <thead>\n",
              "    <tr style=\"text-align: right;\">\n",
              "      <th></th>\n",
              "      <th>SK_ID_CURR</th>\n",
              "      <th>TARGET</th>\n",
              "      <th>NAME_CONTRACT_TYPE</th>\n",
              "      <th>CODE_GENDER</th>\n",
              "      <th>FLAG_OWN_CAR</th>\n",
              "      <th>FLAG_OWN_REALTY</th>\n",
              "      <th>CNT_CHILDREN</th>\n",
              "      <th>AMT_INCOME_TOTAL</th>\n",
              "      <th>AMT_CREDIT</th>\n",
              "      <th>AMT_ANNUITY</th>\n",
              "      <th>...</th>\n",
              "      <th>status_x_mean</th>\n",
              "      <th>status_0_mean</th>\n",
              "      <th>status_1_mean</th>\n",
              "      <th>status_2_mean</th>\n",
              "      <th>status_3_mean</th>\n",
              "      <th>status_4_mean</th>\n",
              "      <th>status_5_mean</th>\n",
              "      <th>num_of_app</th>\n",
              "      <th>num_of_ref</th>\n",
              "      <th>avg_APP_CREDIT_PERC</th>\n",
              "    </tr>\n",
              "  </thead>\n",
              "  <tbody>\n",
              "    <tr>\n",
              "      <th>0</th>\n",
              "      <td>100002</td>\n",
              "      <td>1</td>\n",
              "      <td>Cash loans</td>\n",
              "      <td>M</td>\n",
              "      <td>N</td>\n",
              "      <td>Y</td>\n",
              "      <td>0</td>\n",
              "      <td>202500.0</td>\n",
              "      <td>406597.5</td>\n",
              "      <td>24700.5</td>\n",
              "      <td>...</td>\n",
              "      <td>0.1364</td>\n",
              "      <td>0.4091</td>\n",
              "      <td>0.2455</td>\n",
              "      <td>0.0</td>\n",
              "      <td>0.0</td>\n",
              "      <td>0.0</td>\n",
              "      <td>0.0</td>\n",
              "      <td>1.0</td>\n",
              "      <td>0.0</td>\n",
              "      <td>1.000000</td>\n",
              "    </tr>\n",
              "    <tr>\n",
              "      <th>1</th>\n",
              "      <td>100003</td>\n",
              "      <td>0</td>\n",
              "      <td>Cash loans</td>\n",
              "      <td>F</td>\n",
              "      <td>N</td>\n",
              "      <td>N</td>\n",
              "      <td>0</td>\n",
              "      <td>270000.0</td>\n",
              "      <td>1293502.5</td>\n",
              "      <td>35698.5</td>\n",
              "      <td>...</td>\n",
              "      <td>NaN</td>\n",
              "      <td>NaN</td>\n",
              "      <td>NaN</td>\n",
              "      <td>NaN</td>\n",
              "      <td>NaN</td>\n",
              "      <td>NaN</td>\n",
              "      <td>NaN</td>\n",
              "      <td>3.0</td>\n",
              "      <td>0.0</td>\n",
              "      <td>0.949329</td>\n",
              "    </tr>\n",
              "    <tr>\n",
              "      <th>2</th>\n",
              "      <td>100004</td>\n",
              "      <td>0</td>\n",
              "      <td>Revolving loans</td>\n",
              "      <td>M</td>\n",
              "      <td>Y</td>\n",
              "      <td>Y</td>\n",
              "      <td>0</td>\n",
              "      <td>67500.0</td>\n",
              "      <td>135000.0</td>\n",
              "      <td>6750.0</td>\n",
              "      <td>...</td>\n",
              "      <td>NaN</td>\n",
              "      <td>NaN</td>\n",
              "      <td>NaN</td>\n",
              "      <td>NaN</td>\n",
              "      <td>NaN</td>\n",
              "      <td>NaN</td>\n",
              "      <td>NaN</td>\n",
              "      <td>1.0</td>\n",
              "      <td>0.0</td>\n",
              "      <td>1.207699</td>\n",
              "    </tr>\n",
              "    <tr>\n",
              "      <th>3</th>\n",
              "      <td>100006</td>\n",
              "      <td>0</td>\n",
              "      <td>Cash loans</td>\n",
              "      <td>F</td>\n",
              "      <td>N</td>\n",
              "      <td>Y</td>\n",
              "      <td>0</td>\n",
              "      <td>135000.0</td>\n",
              "      <td>312682.5</td>\n",
              "      <td>29686.5</td>\n",
              "      <td>...</td>\n",
              "      <td>NaN</td>\n",
              "      <td>NaN</td>\n",
              "      <td>NaN</td>\n",
              "      <td>NaN</td>\n",
              "      <td>NaN</td>\n",
              "      <td>NaN</td>\n",
              "      <td>NaN</td>\n",
              "      <td>5.0</td>\n",
              "      <td>1.0</td>\n",
              "      <td>1.061032</td>\n",
              "    </tr>\n",
              "    <tr>\n",
              "      <th>4</th>\n",
              "      <td>100007</td>\n",
              "      <td>0</td>\n",
              "      <td>Cash loans</td>\n",
              "      <td>M</td>\n",
              "      <td>N</td>\n",
              "      <td>Y</td>\n",
              "      <td>0</td>\n",
              "      <td>121500.0</td>\n",
              "      <td>513000.0</td>\n",
              "      <td>21865.5</td>\n",
              "      <td>...</td>\n",
              "      <td>NaN</td>\n",
              "      <td>NaN</td>\n",
              "      <td>NaN</td>\n",
              "      <td>NaN</td>\n",
              "      <td>NaN</td>\n",
              "      <td>NaN</td>\n",
              "      <td>NaN</td>\n",
              "      <td>6.0</td>\n",
              "      <td>0.0</td>\n",
              "      <td>0.969650</td>\n",
              "    </tr>\n",
              "  </tbody>\n",
              "</table>\n",
              "<p>5 rows × 161 columns</p>\n",
              "</div>"
            ],
            "text/plain": [
              "   SK_ID_CURR  TARGET NAME_CONTRACT_TYPE CODE_GENDER FLAG_OWN_CAR  \\\n",
              "0      100002       1         Cash loans           M            N   \n",
              "1      100003       0         Cash loans           F            N   \n",
              "2      100004       0    Revolving loans           M            Y   \n",
              "3      100006       0         Cash loans           F            N   \n",
              "4      100007       0         Cash loans           M            N   \n",
              "\n",
              "  FLAG_OWN_REALTY  CNT_CHILDREN  AMT_INCOME_TOTAL  AMT_CREDIT  AMT_ANNUITY  \\\n",
              "0               Y             0          202500.0    406597.5      24700.5   \n",
              "1               N             0          270000.0   1293502.5      35698.5   \n",
              "2               Y             0           67500.0    135000.0       6750.0   \n",
              "3               Y             0          135000.0    312682.5      29686.5   \n",
              "4               Y             0          121500.0    513000.0      21865.5   \n",
              "\n",
              "   ...  status_x_mean status_0_mean status_1_mean status_2_mean status_3_mean  \\\n",
              "0  ...         0.1364        0.4091        0.2455           0.0           0.0   \n",
              "1  ...            NaN           NaN           NaN           NaN           NaN   \n",
              "2  ...            NaN           NaN           NaN           NaN           NaN   \n",
              "3  ...            NaN           NaN           NaN           NaN           NaN   \n",
              "4  ...            NaN           NaN           NaN           NaN           NaN   \n",
              "\n",
              "  status_4_mean  status_5_mean  num_of_app  num_of_ref  avg_APP_CREDIT_PERC  \n",
              "0           0.0            0.0         1.0         0.0             1.000000  \n",
              "1           NaN            NaN         3.0         0.0             0.949329  \n",
              "2           NaN            NaN         1.0         0.0             1.207699  \n",
              "3           NaN            NaN         5.0         1.0             1.061032  \n",
              "4           NaN            NaN         6.0         0.0             0.969650  \n",
              "\n",
              "[5 rows x 161 columns]"
            ]
          },
          "execution_count": 26,
          "metadata": {},
          "output_type": "execute_result"
        }
      ],
      "source": [
        "final.head()"
      ]
    },
    {
      "cell_type": "code",
      "execution_count": null,
      "metadata": {
        "id": "eQjONYBPuRwj"
      },
      "outputs": [],
      "source": [
        "#final=pd.read_csv('final.csv', sep='|')"
      ]
    },
    {
      "cell_type": "code",
      "execution_count": null,
      "metadata": {
        "id": "1p8WAqLtuRwj",
        "outputId": "16942b0a-b4d7-4807-8192-1d5e6f91faff"
      },
      "outputs": [
        {
          "data": {
            "text/plain": [
              "Index(['SK_ID_CURR', 'TARGET', 'NAME_CONTRACT_TYPE', 'CODE_GENDER',\n",
              "       'FLAG_OWN_CAR', 'FLAG_OWN_REALTY', 'CNT_CHILDREN', 'AMT_INCOME_TOTAL',\n",
              "       'AMT_CREDIT', 'AMT_ANNUITY',\n",
              "       ...\n",
              "       'status_x_mean', 'status_0_mean', 'status_1_mean', 'status_2_mean',\n",
              "       'status_3_mean', 'status_4_mean', 'status_5_mean', 'num_of_app',\n",
              "       'num_of_ref', 'avg_APP_CREDIT_PERC'],\n",
              "      dtype='object', length=161)"
            ]
          },
          "execution_count": 5,
          "metadata": {},
          "output_type": "execute_result"
        }
      ],
      "source": [
        "#final.columns"
      ]
    },
    {
      "cell_type": "markdown",
      "metadata": {
        "id": "lK72wPZGuRwk"
      },
      "source": [
        "# Check Missing values"
      ]
    },
    {
      "cell_type": "markdown",
      "metadata": {
        "id": "VbD4SiOzuRwk"
      },
      "source": [
        "Define a Function to calculate missing values and missing rate by column:"
      ]
    },
    {
      "cell_type": "code",
      "execution_count": null,
      "metadata": {
        "id": "RMTmzO4buRwk"
      },
      "outputs": [],
      "source": [
        "def missing_values_table(df):\n",
        "        #1 Total missing values\n",
        "        mis_val = df.isnull().sum()\n",
        "        \n",
        "        #2 Percentage of missing values\n",
        "        mis_val_percent = 100 * df.isnull().sum() / len(df)\n",
        "        \n",
        "        #3 Make a table with the results\n",
        "        mis_val_table = pd.concat([mis_val, mis_val_percent], axis=1)\n",
        "        \n",
        "        #4 Rename the columns\n",
        "        mis_val_table_ren_columns = mis_val_table.rename(\n",
        "        columns = {0 : 'Missing Values', 1 : '% of Total Values'})\n",
        "        \n",
        "        #5 Only keep the columns with missing values\n",
        "        mis_val_table_only = mis_val_table_ren_columns.loc[mis_val_table_ren_columns['% of Total Values'] > 0]\n",
        "        \n",
        "        #6 Return the dataframe with missing information\n",
        "        return mis_val_table_only"
      ]
    },
    {
      "cell_type": "code",
      "execution_count": null,
      "metadata": {
        "id": "3vQt_laZuRwk",
        "outputId": "5252205c-5b5d-479f-fc4e-66f44f0f21a4"
      },
      "outputs": [
        {
          "data": {
            "text/html": [
              "<div>\n",
              "<style scoped>\n",
              "    .dataframe tbody tr th:only-of-type {\n",
              "        vertical-align: middle;\n",
              "    }\n",
              "\n",
              "    .dataframe tbody tr th {\n",
              "        vertical-align: top;\n",
              "    }\n",
              "\n",
              "    .dataframe thead th {\n",
              "        text-align: right;\n",
              "    }\n",
              "</style>\n",
              "<table border=\"1\" class=\"dataframe\">\n",
              "  <thead>\n",
              "    <tr style=\"text-align: right;\">\n",
              "      <th></th>\n",
              "      <th>Missing Values</th>\n",
              "      <th>% of Total Values</th>\n",
              "    </tr>\n",
              "  </thead>\n",
              "  <tbody>\n",
              "    <tr>\n",
              "      <th>AMT_ANNUITY</th>\n",
              "      <td>12</td>\n",
              "      <td>0.003902</td>\n",
              "    </tr>\n",
              "    <tr>\n",
              "      <th>AMT_GOODS_PRICE</th>\n",
              "      <td>278</td>\n",
              "      <td>0.090403</td>\n",
              "    </tr>\n",
              "    <tr>\n",
              "      <th>NAME_TYPE_SUITE</th>\n",
              "      <td>1292</td>\n",
              "      <td>0.420148</td>\n",
              "    </tr>\n",
              "    <tr>\n",
              "      <th>OWN_CAR_AGE</th>\n",
              "      <td>202929</td>\n",
              "      <td>65.990810</td>\n",
              "    </tr>\n",
              "    <tr>\n",
              "      <th>OCCUPATION_TYPE</th>\n",
              "      <td>96391</td>\n",
              "      <td>31.345545</td>\n",
              "    </tr>\n",
              "    <tr>\n",
              "      <th>...</th>\n",
              "      <td>...</td>\n",
              "      <td>...</td>\n",
              "    </tr>\n",
              "    <tr>\n",
              "      <th>status_4_mean</th>\n",
              "      <td>215280</td>\n",
              "      <td>70.007252</td>\n",
              "    </tr>\n",
              "    <tr>\n",
              "      <th>status_5_mean</th>\n",
              "      <td>215280</td>\n",
              "      <td>70.007252</td>\n",
              "    </tr>\n",
              "    <tr>\n",
              "      <th>num_of_app</th>\n",
              "      <td>16454</td>\n",
              "      <td>5.350703</td>\n",
              "    </tr>\n",
              "    <tr>\n",
              "      <th>num_of_ref</th>\n",
              "      <td>16454</td>\n",
              "      <td>5.350703</td>\n",
              "    </tr>\n",
              "    <tr>\n",
              "      <th>avg_APP_CREDIT_PERC</th>\n",
              "      <td>17455</td>\n",
              "      <td>5.676220</td>\n",
              "    </tr>\n",
              "  </tbody>\n",
              "</table>\n",
              "<p>104 rows × 2 columns</p>\n",
              "</div>"
            ],
            "text/plain": [
              "                     Missing Values  % of Total Values\n",
              "AMT_ANNUITY                      12           0.003902\n",
              "AMT_GOODS_PRICE                 278           0.090403\n",
              "NAME_TYPE_SUITE                1292           0.420148\n",
              "OWN_CAR_AGE                  202929          65.990810\n",
              "OCCUPATION_TYPE               96391          31.345545\n",
              "...                             ...                ...\n",
              "status_4_mean                215280          70.007252\n",
              "status_5_mean                215280          70.007252\n",
              "num_of_app                    16454           5.350703\n",
              "num_of_ref                    16454           5.350703\n",
              "avg_APP_CREDIT_PERC           17455           5.676220\n",
              "\n",
              "[104 rows x 2 columns]"
            ]
          },
          "execution_count": 28,
          "metadata": {},
          "output_type": "execute_result"
        }
      ],
      "source": [
        "missing_values_table(final)"
      ]
    },
    {
      "cell_type": "markdown",
      "metadata": {
        "id": "4o4XWyZ2uRwk"
      },
      "source": [
        "Practice:\n",
        "\n",
        "Let's break down this function into small pieces and run each step\n",
        "one by one to better understand it"
      ]
    },
    {
      "cell_type": "code",
      "execution_count": null,
      "metadata": {
        "id": "zGdpW1K3uRwk",
        "outputId": "a482cfa2-8519-42ac-aaae-2d0c89a38358"
      },
      "outputs": [
        {
          "data": {
            "text/plain": [
              "SK_ID_CURR                  0\n",
              "TARGET                      0\n",
              "NAME_CONTRACT_TYPE          0\n",
              "CODE_GENDER                 0\n",
              "FLAG_OWN_CAR                0\n",
              "                        ...  \n",
              "status_4_mean          215280\n",
              "status_5_mean          215280\n",
              "num_of_app              16454\n",
              "num_of_ref              16454\n",
              "avg_APP_CREDIT_PERC     17455\n",
              "Length: 161, dtype: int64"
            ]
          },
          "execution_count": 167,
          "metadata": {},
          "output_type": "execute_result"
        }
      ],
      "source": [
        "#Step one: Total missing values\n",
        "mis_val = final.isnull().sum()\n",
        "mis_val"
      ]
    },
    {
      "cell_type": "code",
      "execution_count": null,
      "metadata": {
        "id": "65WX-Jn6uRwk",
        "outputId": "96e35cd2-abe1-49cb-810f-fa37f4dbae18"
      },
      "outputs": [
        {
          "data": {
            "text/plain": [
              "SK_ID_CURR              0.000000\n",
              "TARGET                  0.000000\n",
              "NAME_CONTRACT_TYPE      0.000000\n",
              "CODE_GENDER             0.000000\n",
              "FLAG_OWN_CAR            0.000000\n",
              "                         ...    \n",
              "status_4_mean          70.007252\n",
              "status_5_mean          70.007252\n",
              "num_of_app              5.350703\n",
              "num_of_ref              5.350703\n",
              "avg_APP_CREDIT_PERC     5.676220\n",
              "Length: 161, dtype: float64"
            ]
          },
          "execution_count": 168,
          "metadata": {},
          "output_type": "execute_result"
        }
      ],
      "source": [
        "#Step two: Percentage of missing values\n",
        "mis_val_percent = 100 * final.isnull().sum() / len(final)\n",
        "mis_val_percent"
      ]
    },
    {
      "cell_type": "code",
      "execution_count": null,
      "metadata": {
        "id": "ayGicQ-tuRwl",
        "outputId": "7ca4dc49-373d-4f40-d09b-f59fd3bd5c05"
      },
      "outputs": [
        {
          "data": {
            "text/html": [
              "<div>\n",
              "<style scoped>\n",
              "    .dataframe tbody tr th:only-of-type {\n",
              "        vertical-align: middle;\n",
              "    }\n",
              "\n",
              "    .dataframe tbody tr th {\n",
              "        vertical-align: top;\n",
              "    }\n",
              "\n",
              "    .dataframe thead th {\n",
              "        text-align: right;\n",
              "    }\n",
              "</style>\n",
              "<table border=\"1\" class=\"dataframe\">\n",
              "  <thead>\n",
              "    <tr style=\"text-align: right;\">\n",
              "      <th></th>\n",
              "      <th>0</th>\n",
              "      <th>1</th>\n",
              "    </tr>\n",
              "  </thead>\n",
              "  <tbody>\n",
              "    <tr>\n",
              "      <th>SK_ID_CURR</th>\n",
              "      <td>0</td>\n",
              "      <td>0.000000</td>\n",
              "    </tr>\n",
              "    <tr>\n",
              "      <th>TARGET</th>\n",
              "      <td>0</td>\n",
              "      <td>0.000000</td>\n",
              "    </tr>\n",
              "    <tr>\n",
              "      <th>NAME_CONTRACT_TYPE</th>\n",
              "      <td>0</td>\n",
              "      <td>0.000000</td>\n",
              "    </tr>\n",
              "    <tr>\n",
              "      <th>CODE_GENDER</th>\n",
              "      <td>0</td>\n",
              "      <td>0.000000</td>\n",
              "    </tr>\n",
              "    <tr>\n",
              "      <th>FLAG_OWN_CAR</th>\n",
              "      <td>0</td>\n",
              "      <td>0.000000</td>\n",
              "    </tr>\n",
              "    <tr>\n",
              "      <th>...</th>\n",
              "      <td>...</td>\n",
              "      <td>...</td>\n",
              "    </tr>\n",
              "    <tr>\n",
              "      <th>status_4_mean</th>\n",
              "      <td>215280</td>\n",
              "      <td>70.007252</td>\n",
              "    </tr>\n",
              "    <tr>\n",
              "      <th>status_5_mean</th>\n",
              "      <td>215280</td>\n",
              "      <td>70.007252</td>\n",
              "    </tr>\n",
              "    <tr>\n",
              "      <th>num_of_app</th>\n",
              "      <td>16454</td>\n",
              "      <td>5.350703</td>\n",
              "    </tr>\n",
              "    <tr>\n",
              "      <th>num_of_ref</th>\n",
              "      <td>16454</td>\n",
              "      <td>5.350703</td>\n",
              "    </tr>\n",
              "    <tr>\n",
              "      <th>avg_APP_CREDIT_PERC</th>\n",
              "      <td>17455</td>\n",
              "      <td>5.676220</td>\n",
              "    </tr>\n",
              "  </tbody>\n",
              "</table>\n",
              "<p>161 rows × 2 columns</p>\n",
              "</div>"
            ],
            "text/plain": [
              "                          0          1\n",
              "SK_ID_CURR                0   0.000000\n",
              "TARGET                    0   0.000000\n",
              "NAME_CONTRACT_TYPE        0   0.000000\n",
              "CODE_GENDER               0   0.000000\n",
              "FLAG_OWN_CAR              0   0.000000\n",
              "...                     ...        ...\n",
              "status_4_mean        215280  70.007252\n",
              "status_5_mean        215280  70.007252\n",
              "num_of_app            16454   5.350703\n",
              "num_of_ref            16454   5.350703\n",
              "avg_APP_CREDIT_PERC   17455   5.676220\n",
              "\n",
              "[161 rows x 2 columns]"
            ]
          },
          "execution_count": 169,
          "metadata": {},
          "output_type": "execute_result"
        }
      ],
      "source": [
        "#Step three: Make a table with the results\n",
        "     #pd.concat - Concatenate pandas objects along a particular axis (1 is by column)\n",
        "mis_val_table = pd.concat([mis_val, mis_val_percent], axis=1)\n",
        "mis_val_table"
      ]
    },
    {
      "cell_type": "code",
      "execution_count": null,
      "metadata": {
        "id": "ExoT_DZpuRwl",
        "outputId": "98b17e36-4ae5-4965-e0e2-174fb5fd5abf"
      },
      "outputs": [
        {
          "data": {
            "text/html": [
              "<div>\n",
              "<style scoped>\n",
              "    .dataframe tbody tr th:only-of-type {\n",
              "        vertical-align: middle;\n",
              "    }\n",
              "\n",
              "    .dataframe tbody tr th {\n",
              "        vertical-align: top;\n",
              "    }\n",
              "\n",
              "    .dataframe thead th {\n",
              "        text-align: right;\n",
              "    }\n",
              "</style>\n",
              "<table border=\"1\" class=\"dataframe\">\n",
              "  <thead>\n",
              "    <tr style=\"text-align: right;\">\n",
              "      <th></th>\n",
              "      <th>Missing Values</th>\n",
              "      <th>% of Total Values</th>\n",
              "    </tr>\n",
              "  </thead>\n",
              "  <tbody>\n",
              "    <tr>\n",
              "      <th>SK_ID_CURR</th>\n",
              "      <td>0</td>\n",
              "      <td>0.000000</td>\n",
              "    </tr>\n",
              "    <tr>\n",
              "      <th>TARGET</th>\n",
              "      <td>0</td>\n",
              "      <td>0.000000</td>\n",
              "    </tr>\n",
              "    <tr>\n",
              "      <th>NAME_CONTRACT_TYPE</th>\n",
              "      <td>0</td>\n",
              "      <td>0.000000</td>\n",
              "    </tr>\n",
              "    <tr>\n",
              "      <th>CODE_GENDER</th>\n",
              "      <td>0</td>\n",
              "      <td>0.000000</td>\n",
              "    </tr>\n",
              "    <tr>\n",
              "      <th>FLAG_OWN_CAR</th>\n",
              "      <td>0</td>\n",
              "      <td>0.000000</td>\n",
              "    </tr>\n",
              "    <tr>\n",
              "      <th>...</th>\n",
              "      <td>...</td>\n",
              "      <td>...</td>\n",
              "    </tr>\n",
              "    <tr>\n",
              "      <th>status_4_mean</th>\n",
              "      <td>215280</td>\n",
              "      <td>70.007252</td>\n",
              "    </tr>\n",
              "    <tr>\n",
              "      <th>status_5_mean</th>\n",
              "      <td>215280</td>\n",
              "      <td>70.007252</td>\n",
              "    </tr>\n",
              "    <tr>\n",
              "      <th>num_of_app</th>\n",
              "      <td>16454</td>\n",
              "      <td>5.350703</td>\n",
              "    </tr>\n",
              "    <tr>\n",
              "      <th>num_of_ref</th>\n",
              "      <td>16454</td>\n",
              "      <td>5.350703</td>\n",
              "    </tr>\n",
              "    <tr>\n",
              "      <th>avg_APP_CREDIT_PERC</th>\n",
              "      <td>17455</td>\n",
              "      <td>5.676220</td>\n",
              "    </tr>\n",
              "  </tbody>\n",
              "</table>\n",
              "<p>161 rows × 2 columns</p>\n",
              "</div>"
            ],
            "text/plain": [
              "                     Missing Values  % of Total Values\n",
              "SK_ID_CURR                        0           0.000000\n",
              "TARGET                            0           0.000000\n",
              "NAME_CONTRACT_TYPE                0           0.000000\n",
              "CODE_GENDER                       0           0.000000\n",
              "FLAG_OWN_CAR                      0           0.000000\n",
              "...                             ...                ...\n",
              "status_4_mean                215280          70.007252\n",
              "status_5_mean                215280          70.007252\n",
              "num_of_app                    16454           5.350703\n",
              "num_of_ref                    16454           5.350703\n",
              "avg_APP_CREDIT_PERC           17455           5.676220\n",
              "\n",
              "[161 rows x 2 columns]"
            ]
          },
          "execution_count": 170,
          "metadata": {},
          "output_type": "execute_result"
        }
      ],
      "source": [
        "#Step four: Rename the columns\n",
        "mis_val_table_ren_columns = mis_val_table.rename(columns = {0 : 'Missing Values', 1 : '% of Total Values'})\n",
        "mis_val_table_ren_columns"
      ]
    },
    {
      "cell_type": "code",
      "execution_count": null,
      "metadata": {
        "id": "Wa1bHVi6uRwl",
        "outputId": "f5d622dd-ebdd-4bfa-ee3f-f0e8286298c8"
      },
      "outputs": [
        {
          "data": {
            "text/html": [
              "<div>\n",
              "<style scoped>\n",
              "    .dataframe tbody tr th:only-of-type {\n",
              "        vertical-align: middle;\n",
              "    }\n",
              "\n",
              "    .dataframe tbody tr th {\n",
              "        vertical-align: top;\n",
              "    }\n",
              "\n",
              "    .dataframe thead th {\n",
              "        text-align: right;\n",
              "    }\n",
              "</style>\n",
              "<table border=\"1\" class=\"dataframe\">\n",
              "  <thead>\n",
              "    <tr style=\"text-align: right;\">\n",
              "      <th></th>\n",
              "      <th>Missing Values</th>\n",
              "      <th>% of Total Values</th>\n",
              "    </tr>\n",
              "  </thead>\n",
              "  <tbody>\n",
              "    <tr>\n",
              "      <th>AMT_ANNUITY</th>\n",
              "      <td>12</td>\n",
              "      <td>0.003902</td>\n",
              "    </tr>\n",
              "    <tr>\n",
              "      <th>AMT_GOODS_PRICE</th>\n",
              "      <td>278</td>\n",
              "      <td>0.090403</td>\n",
              "    </tr>\n",
              "    <tr>\n",
              "      <th>NAME_TYPE_SUITE</th>\n",
              "      <td>1292</td>\n",
              "      <td>0.420148</td>\n",
              "    </tr>\n",
              "    <tr>\n",
              "      <th>OWN_CAR_AGE</th>\n",
              "      <td>202929</td>\n",
              "      <td>65.990810</td>\n",
              "    </tr>\n",
              "    <tr>\n",
              "      <th>OCCUPATION_TYPE</th>\n",
              "      <td>96391</td>\n",
              "      <td>31.345545</td>\n",
              "    </tr>\n",
              "    <tr>\n",
              "      <th>...</th>\n",
              "      <td>...</td>\n",
              "      <td>...</td>\n",
              "    </tr>\n",
              "    <tr>\n",
              "      <th>status_4_mean</th>\n",
              "      <td>215280</td>\n",
              "      <td>70.007252</td>\n",
              "    </tr>\n",
              "    <tr>\n",
              "      <th>status_5_mean</th>\n",
              "      <td>215280</td>\n",
              "      <td>70.007252</td>\n",
              "    </tr>\n",
              "    <tr>\n",
              "      <th>num_of_app</th>\n",
              "      <td>16454</td>\n",
              "      <td>5.350703</td>\n",
              "    </tr>\n",
              "    <tr>\n",
              "      <th>num_of_ref</th>\n",
              "      <td>16454</td>\n",
              "      <td>5.350703</td>\n",
              "    </tr>\n",
              "    <tr>\n",
              "      <th>avg_APP_CREDIT_PERC</th>\n",
              "      <td>17455</td>\n",
              "      <td>5.676220</td>\n",
              "    </tr>\n",
              "  </tbody>\n",
              "</table>\n",
              "<p>104 rows × 2 columns</p>\n",
              "</div>"
            ],
            "text/plain": [
              "                     Missing Values  % of Total Values\n",
              "AMT_ANNUITY                      12           0.003902\n",
              "AMT_GOODS_PRICE                 278           0.090403\n",
              "NAME_TYPE_SUITE                1292           0.420148\n",
              "OWN_CAR_AGE                  202929          65.990810\n",
              "OCCUPATION_TYPE               96391          31.345545\n",
              "...                             ...                ...\n",
              "status_4_mean                215280          70.007252\n",
              "status_5_mean                215280          70.007252\n",
              "num_of_app                    16454           5.350703\n",
              "num_of_ref                    16454           5.350703\n",
              "avg_APP_CREDIT_PERC           17455           5.676220\n",
              "\n",
              "[104 rows x 2 columns]"
            ]
          },
          "execution_count": 171,
          "metadata": {},
          "output_type": "execute_result"
        }
      ],
      "source": [
        "#Step Five: Only keep the columns with missing rate > 0\n",
        "mis_val_table_only = mis_val_table_ren_columns.loc[mis_val_table_ren_columns['% of Total Values'] > 0]\n",
        "mis_val_table_only"
      ]
    },
    {
      "cell_type": "markdown",
      "metadata": {
        "id": "n2UtIweiuRwl"
      },
      "source": [
        "Apply the function to our dataframe:"
      ]
    },
    {
      "cell_type": "code",
      "execution_count": null,
      "metadata": {
        "id": "gpwPJ-k2uRwl",
        "outputId": "d2c2288e-6ecd-437e-d3e2-4d1f45f525ab"
      },
      "outputs": [
        {
          "data": {
            "text/html": [
              "<div>\n",
              "<style scoped>\n",
              "    .dataframe tbody tr th:only-of-type {\n",
              "        vertical-align: middle;\n",
              "    }\n",
              "\n",
              "    .dataframe tbody tr th {\n",
              "        vertical-align: top;\n",
              "    }\n",
              "\n",
              "    .dataframe thead th {\n",
              "        text-align: right;\n",
              "    }\n",
              "</style>\n",
              "<table border=\"1\" class=\"dataframe\">\n",
              "  <thead>\n",
              "    <tr style=\"text-align: right;\">\n",
              "      <th></th>\n",
              "      <th>Missing Values</th>\n",
              "      <th>% of Total Values</th>\n",
              "    </tr>\n",
              "  </thead>\n",
              "  <tbody>\n",
              "    <tr>\n",
              "      <th>AMT_ANNUITY</th>\n",
              "      <td>12</td>\n",
              "      <td>0.003902</td>\n",
              "    </tr>\n",
              "    <tr>\n",
              "      <th>AMT_GOODS_PRICE</th>\n",
              "      <td>278</td>\n",
              "      <td>0.090403</td>\n",
              "    </tr>\n",
              "    <tr>\n",
              "      <th>NAME_TYPE_SUITE</th>\n",
              "      <td>1292</td>\n",
              "      <td>0.420148</td>\n",
              "    </tr>\n",
              "    <tr>\n",
              "      <th>OWN_CAR_AGE</th>\n",
              "      <td>202929</td>\n",
              "      <td>65.990810</td>\n",
              "    </tr>\n",
              "    <tr>\n",
              "      <th>OCCUPATION_TYPE</th>\n",
              "      <td>96391</td>\n",
              "      <td>31.345545</td>\n",
              "    </tr>\n",
              "    <tr>\n",
              "      <th>...</th>\n",
              "      <td>...</td>\n",
              "      <td>...</td>\n",
              "    </tr>\n",
              "    <tr>\n",
              "      <th>status_4_mean</th>\n",
              "      <td>215280</td>\n",
              "      <td>70.007252</td>\n",
              "    </tr>\n",
              "    <tr>\n",
              "      <th>status_5_mean</th>\n",
              "      <td>215280</td>\n",
              "      <td>70.007252</td>\n",
              "    </tr>\n",
              "    <tr>\n",
              "      <th>num_of_app</th>\n",
              "      <td>16454</td>\n",
              "      <td>5.350703</td>\n",
              "    </tr>\n",
              "    <tr>\n",
              "      <th>num_of_ref</th>\n",
              "      <td>16454</td>\n",
              "      <td>5.350703</td>\n",
              "    </tr>\n",
              "    <tr>\n",
              "      <th>avg_APP_CREDIT_PERC</th>\n",
              "      <td>17455</td>\n",
              "      <td>5.676220</td>\n",
              "    </tr>\n",
              "  </tbody>\n",
              "</table>\n",
              "<p>104 rows × 2 columns</p>\n",
              "</div>"
            ],
            "text/plain": [
              "                     Missing Values  % of Total Values\n",
              "AMT_ANNUITY                      12           0.003902\n",
              "AMT_GOODS_PRICE                 278           0.090403\n",
              "NAME_TYPE_SUITE                1292           0.420148\n",
              "OWN_CAR_AGE                  202929          65.990810\n",
              "OCCUPATION_TYPE               96391          31.345545\n",
              "...                             ...                ...\n",
              "status_4_mean                215280          70.007252\n",
              "status_5_mean                215280          70.007252\n",
              "num_of_app                    16454           5.350703\n",
              "num_of_ref                    16454           5.350703\n",
              "avg_APP_CREDIT_PERC           17455           5.676220\n",
              "\n",
              "[104 rows x 2 columns]"
            ]
          },
          "execution_count": 25,
          "metadata": {},
          "output_type": "execute_result"
        }
      ],
      "source": [
        "missing=missing_values_table(final)\n",
        "missing"
      ]
    },
    {
      "cell_type": "markdown",
      "metadata": {
        "id": "5herz7niuRwl"
      },
      "source": [
        "Usually there are three options to deal with missing values:\n",
        " 1. Imputation\n",
        " 2. Create missing flag\n",
        " 3. Drop columns with a high percentage of missing vlaues"
      ]
    },
    {
      "cell_type": "markdown",
      "metadata": {
        "id": "va9GhJHWuRwl"
      },
      "source": [
        "We see there are a number of columns with a high percentage of missing values. \n",
        "There is no well-established threshold for removing missing values, \n",
        "\n",
        "and the best course of action depends on the problem. \n",
        "\n",
        "Here, to reduce the number of features, we will remove any columns that have greater than 10% missing rate (in real situations, the threshold can be 90%).\n"
      ]
    },
    {
      "cell_type": "code",
      "execution_count": null,
      "metadata": {
        "id": "mluytw5KuRwm",
        "outputId": "2c1d0608-4edd-40be-d066-c1890a584939"
      },
      "outputs": [
        {
          "data": {
            "text/plain": [
              "['OWN_CAR_AGE',\n",
              " 'OCCUPATION_TYPE',\n",
              " 'EXT_SOURCE_1',\n",
              " 'EXT_SOURCE_3',\n",
              " 'APARTMENTS_AVG',\n",
              " 'BASEMENTAREA_AVG',\n",
              " 'YEARS_BEGINEXPLUATATION_AVG',\n",
              " 'YEARS_BUILD_AVG',\n",
              " 'COMMONAREA_AVG',\n",
              " 'ELEVATORS_AVG',\n",
              " 'ENTRANCES_AVG',\n",
              " 'FLOORSMAX_AVG',\n",
              " 'FLOORSMIN_AVG',\n",
              " 'LANDAREA_AVG',\n",
              " 'LIVINGAPARTMENTS_AVG',\n",
              " 'LIVINGAREA_AVG',\n",
              " 'NONLIVINGAPARTMENTS_AVG',\n",
              " 'NONLIVINGAREA_AVG',\n",
              " 'APARTMENTS_MODE',\n",
              " 'BASEMENTAREA_MODE',\n",
              " 'YEARS_BEGINEXPLUATATION_MODE',\n",
              " 'YEARS_BUILD_MODE',\n",
              " 'COMMONAREA_MODE',\n",
              " 'ELEVATORS_MODE',\n",
              " 'ENTRANCES_MODE',\n",
              " 'FLOORSMAX_MODE',\n",
              " 'FLOORSMIN_MODE',\n",
              " 'LANDAREA_MODE',\n",
              " 'LIVINGAPARTMENTS_MODE',\n",
              " 'LIVINGAREA_MODE',\n",
              " 'NONLIVINGAPARTMENTS_MODE',\n",
              " 'NONLIVINGAREA_MODE',\n",
              " 'APARTMENTS_MEDI',\n",
              " 'BASEMENTAREA_MEDI',\n",
              " 'YEARS_BEGINEXPLUATATION_MEDI',\n",
              " 'YEARS_BUILD_MEDI',\n",
              " 'COMMONAREA_MEDI',\n",
              " 'ELEVATORS_MEDI',\n",
              " 'ENTRANCES_MEDI',\n",
              " 'FLOORSMAX_MEDI',\n",
              " 'FLOORSMIN_MEDI',\n",
              " 'LANDAREA_MEDI',\n",
              " 'LIVINGAPARTMENTS_MEDI',\n",
              " 'LIVINGAREA_MEDI',\n",
              " 'NONLIVINGAPARTMENTS_MEDI',\n",
              " 'NONLIVINGAREA_MEDI',\n",
              " 'FONDKAPREMONT_MODE',\n",
              " 'HOUSETYPE_MODE',\n",
              " 'TOTALAREA_MODE',\n",
              " 'WALLSMATERIAL_MODE',\n",
              " 'EMERGENCYSTATE_MODE',\n",
              " 'AMT_REQ_CREDIT_BUREAU_HOUR',\n",
              " 'AMT_REQ_CREDIT_BUREAU_DAY',\n",
              " 'AMT_REQ_CREDIT_BUREAU_WEEK',\n",
              " 'AMT_REQ_CREDIT_BUREAU_MON',\n",
              " 'AMT_REQ_CREDIT_BUREAU_QRT',\n",
              " 'NEW_CAR_TO_BIRTH_RATIO',\n",
              " 'NEW_CAR_TO_EMPLOY_RATIO',\n",
              " 'cl_max_DAYS_CREDIT',\n",
              " 'cl_min_DAYS_CREDIT',\n",
              " 'cl_avg_DAYS_CREDIT',\n",
              " 'ac_max_DAYS_CREDIT',\n",
              " 'ac_min_DAYS_CREDIT',\n",
              " 'ac_avg_DAYS_CREDIT',\n",
              " 'sd_max_DAYS_CREDIT',\n",
              " 'sd_min_DAYS_CREDIT',\n",
              " 'sd_avg_DAYS_CREDIT',\n",
              " 'bd_max_DAYS_CREDIT',\n",
              " 'bd_min_DAYS_CREDIT',\n",
              " 'bd_avg_DAYS_CREDIT',\n",
              " 'cl_max_CREDIT_DAY_OVERDUE',\n",
              " 'ac_max_CREDIT_DAY_OVERDUE',\n",
              " 'sd_max_CREDIT_DAY_OVERDUE',\n",
              " 'bd_max_CREDIT_DAY_OVERDUE',\n",
              " 'cl_avg_CREDIT_DAY_OVERDUE',\n",
              " 'ac_avg_CREDIT_DAY_OVERDUE',\n",
              " 'sd_avg_CREDIT_DAY_OVERDUE',\n",
              " 'bd_avg_CREDIT_DAY_OVERDUE',\n",
              " 'bd_flag',\n",
              " 'bd_num',\n",
              " 'status_c_mean',\n",
              " 'status_x_mean',\n",
              " 'status_0_mean',\n",
              " 'status_1_mean',\n",
              " 'status_2_mean',\n",
              " 'status_3_mean',\n",
              " 'status_4_mean',\n",
              " 'status_5_mean']"
            ]
          },
          "execution_count": 26,
          "metadata": {},
          "output_type": "execute_result"
        }
      ],
      "source": [
        "## find columns with missing > 10%\n",
        "missing_columns = list(missing.index[missing['% of Total Values'] > 10])\n",
        "missing_columns"
      ]
    },
    {
      "cell_type": "code",
      "execution_count": null,
      "metadata": {
        "id": "JTapHx-SuRwm"
      },
      "outputs": [],
      "source": [
        "# drop these columns\n",
        "final = final.drop(columns = missing_columns)"
      ]
    },
    {
      "cell_type": "code",
      "execution_count": null,
      "metadata": {
        "id": "8TT6RmPUuRwm",
        "outputId": "4f2655d4-dc73-49f5-f0c1-e19335e4c7e7"
      },
      "outputs": [
        {
          "data": {
            "text/plain": [
              "(307511, 73)"
            ]
          },
          "execution_count": 28,
          "metadata": {},
          "output_type": "execute_result"
        }
      ],
      "source": [
        "final.shape"
      ]
    },
    {
      "cell_type": "code",
      "execution_count": null,
      "metadata": {
        "id": "DpZ93PZguRwm"
      },
      "outputs": [],
      "source": [
        "# reapply this missing function\n",
        "re_missing=missing_values_table(final)"
      ]
    },
    {
      "cell_type": "code",
      "execution_count": null,
      "metadata": {
        "id": "2oYHa_OyuRwm",
        "outputId": "2c365508-1459-4d4f-8422-94fe9c5d3991"
      },
      "outputs": [
        {
          "data": {
            "text/html": [
              "<div>\n",
              "<style scoped>\n",
              "    .dataframe tbody tr th:only-of-type {\n",
              "        vertical-align: middle;\n",
              "    }\n",
              "\n",
              "    .dataframe tbody tr th {\n",
              "        vertical-align: top;\n",
              "    }\n",
              "\n",
              "    .dataframe thead th {\n",
              "        text-align: right;\n",
              "    }\n",
              "</style>\n",
              "<table border=\"1\" class=\"dataframe\">\n",
              "  <thead>\n",
              "    <tr style=\"text-align: right;\">\n",
              "      <th></th>\n",
              "      <th>Missing Values</th>\n",
              "      <th>% of Total Values</th>\n",
              "    </tr>\n",
              "  </thead>\n",
              "  <tbody>\n",
              "    <tr>\n",
              "      <th>AMT_ANNUITY</th>\n",
              "      <td>12</td>\n",
              "      <td>0.003902</td>\n",
              "    </tr>\n",
              "    <tr>\n",
              "      <th>AMT_GOODS_PRICE</th>\n",
              "      <td>278</td>\n",
              "      <td>0.090403</td>\n",
              "    </tr>\n",
              "    <tr>\n",
              "      <th>NAME_TYPE_SUITE</th>\n",
              "      <td>1292</td>\n",
              "      <td>0.420148</td>\n",
              "    </tr>\n",
              "    <tr>\n",
              "      <th>CNT_FAM_MEMBERS</th>\n",
              "      <td>2</td>\n",
              "      <td>0.000650</td>\n",
              "    </tr>\n",
              "    <tr>\n",
              "      <th>EXT_SOURCE_2</th>\n",
              "      <td>660</td>\n",
              "      <td>0.214626</td>\n",
              "    </tr>\n",
              "    <tr>\n",
              "      <th>OBS_30_CNT_SOCIAL_CIRCLE</th>\n",
              "      <td>1021</td>\n",
              "      <td>0.332021</td>\n",
              "    </tr>\n",
              "    <tr>\n",
              "      <th>DEF_30_CNT_SOCIAL_CIRCLE</th>\n",
              "      <td>1021</td>\n",
              "      <td>0.332021</td>\n",
              "    </tr>\n",
              "    <tr>\n",
              "      <th>OBS_60_CNT_SOCIAL_CIRCLE</th>\n",
              "      <td>1021</td>\n",
              "      <td>0.332021</td>\n",
              "    </tr>\n",
              "    <tr>\n",
              "      <th>DEF_60_CNT_SOCIAL_CIRCLE</th>\n",
              "      <td>1021</td>\n",
              "      <td>0.332021</td>\n",
              "    </tr>\n",
              "    <tr>\n",
              "      <th>DAYS_LAST_PHONE_CHANGE</th>\n",
              "      <td>1</td>\n",
              "      <td>0.000325</td>\n",
              "    </tr>\n",
              "    <tr>\n",
              "      <th>NEW_CREDIT_TO_ANNUITY_RATIO</th>\n",
              "      <td>12</td>\n",
              "      <td>0.003902</td>\n",
              "    </tr>\n",
              "    <tr>\n",
              "      <th>NEW_CREDIT_TO_GOODS_RATIO</th>\n",
              "      <td>278</td>\n",
              "      <td>0.090403</td>\n",
              "    </tr>\n",
              "    <tr>\n",
              "      <th>NEW_ANNUITY_TO_INCOME_RATIO</th>\n",
              "      <td>12</td>\n",
              "      <td>0.003902</td>\n",
              "    </tr>\n",
              "    <tr>\n",
              "      <th>num_of_app</th>\n",
              "      <td>16454</td>\n",
              "      <td>5.350703</td>\n",
              "    </tr>\n",
              "    <tr>\n",
              "      <th>num_of_ref</th>\n",
              "      <td>16454</td>\n",
              "      <td>5.350703</td>\n",
              "    </tr>\n",
              "    <tr>\n",
              "      <th>avg_APP_CREDIT_PERC</th>\n",
              "      <td>17455</td>\n",
              "      <td>5.676220</td>\n",
              "    </tr>\n",
              "  </tbody>\n",
              "</table>\n",
              "</div>"
            ],
            "text/plain": [
              "                             Missing Values  % of Total Values\n",
              "AMT_ANNUITY                              12           0.003902\n",
              "AMT_GOODS_PRICE                         278           0.090403\n",
              "NAME_TYPE_SUITE                        1292           0.420148\n",
              "CNT_FAM_MEMBERS                           2           0.000650\n",
              "EXT_SOURCE_2                            660           0.214626\n",
              "OBS_30_CNT_SOCIAL_CIRCLE               1021           0.332021\n",
              "DEF_30_CNT_SOCIAL_CIRCLE               1021           0.332021\n",
              "OBS_60_CNT_SOCIAL_CIRCLE               1021           0.332021\n",
              "DEF_60_CNT_SOCIAL_CIRCLE               1021           0.332021\n",
              "DAYS_LAST_PHONE_CHANGE                    1           0.000325\n",
              "NEW_CREDIT_TO_ANNUITY_RATIO              12           0.003902\n",
              "NEW_CREDIT_TO_GOODS_RATIO               278           0.090403\n",
              "NEW_ANNUITY_TO_INCOME_RATIO              12           0.003902\n",
              "num_of_app                            16454           5.350703\n",
              "num_of_ref                            16454           5.350703\n",
              "avg_APP_CREDIT_PERC                   17455           5.676220"
            ]
          },
          "execution_count": 30,
          "metadata": {},
          "output_type": "execute_result"
        }
      ],
      "source": [
        "re_missing"
      ]
    },
    {
      "cell_type": "code",
      "execution_count": null,
      "metadata": {
        "id": "ZDL8iEL3uRwm",
        "outputId": "fc98e908-de5c-4aff-8136-53e0e0e4996d"
      },
      "outputs": [
        {
          "data": {
            "text/plain": [
              "AMT_ANNUITY                    float64\n",
              "AMT_GOODS_PRICE                float64\n",
              "NAME_TYPE_SUITE                 object\n",
              "CNT_FAM_MEMBERS                float64\n",
              "EXT_SOURCE_2                   float64\n",
              "OBS_30_CNT_SOCIAL_CIRCLE       float64\n",
              "DEF_30_CNT_SOCIAL_CIRCLE       float64\n",
              "OBS_60_CNT_SOCIAL_CIRCLE       float64\n",
              "DEF_60_CNT_SOCIAL_CIRCLE       float64\n",
              "DAYS_LAST_PHONE_CHANGE         float64\n",
              "NEW_CREDIT_TO_ANNUITY_RATIO    float64\n",
              "NEW_CREDIT_TO_GOODS_RATIO      float64\n",
              "NEW_ANNUITY_TO_INCOME_RATIO    float64\n",
              "num_of_app                     float64\n",
              "num_of_ref                     float64\n",
              "avg_APP_CREDIT_PERC            float64\n",
              "dtype: object"
            ]
          },
          "execution_count": 178,
          "metadata": {},
          "output_type": "execute_result"
        }
      ],
      "source": [
        "final[list(re_missing.index)].dtypes"
      ]
    },
    {
      "cell_type": "code",
      "execution_count": null,
      "metadata": {
        "id": "jERKIqnyuRwm",
        "outputId": "31518617-09eb-422d-aaf5-67ef1a5bae58"
      },
      "outputs": [
        {
          "name": "stdout",
          "output_type": "stream",
          "text": [
            "<class 'pandas.core.frame.DataFrame'>\n",
            "RangeIndex: 307511 entries, 0 to 307510\n",
            "Data columns (total 73 columns):\n",
            " #   Column                       Non-Null Count   Dtype  \n",
            "---  ------                       --------------   -----  \n",
            " 0   SK_ID_CURR                   307511 non-null  int64  \n",
            " 1   TARGET                       307511 non-null  int64  \n",
            " 2   NAME_CONTRACT_TYPE           307511 non-null  object \n",
            " 3   CODE_GENDER                  307511 non-null  object \n",
            " 4   FLAG_OWN_CAR                 307511 non-null  object \n",
            " 5   FLAG_OWN_REALTY              307511 non-null  object \n",
            " 6   CNT_CHILDREN                 307511 non-null  int64  \n",
            " 7   AMT_INCOME_TOTAL             307511 non-null  float64\n",
            " 8   AMT_CREDIT                   307511 non-null  float64\n",
            " 9   AMT_ANNUITY                  307499 non-null  float64\n",
            " 10  AMT_GOODS_PRICE              307233 non-null  float64\n",
            " 11  NAME_TYPE_SUITE              306219 non-null  object \n",
            " 12  NAME_INCOME_TYPE             307511 non-null  object \n",
            " 13  NAME_EDUCATION_TYPE          307511 non-null  object \n",
            " 14  NAME_FAMILY_STATUS           307511 non-null  object \n",
            " 15  NAME_HOUSING_TYPE            307511 non-null  object \n",
            " 16  REGION_POPULATION_RELATIVE   307511 non-null  float64\n",
            " 17  DAYS_BIRTH                   307511 non-null  int64  \n",
            " 18  DAYS_EMPLOYED                307511 non-null  int64  \n",
            " 19  DAYS_REGISTRATION            307511 non-null  int64  \n",
            " 20  DAYS_ID_PUBLISH              307511 non-null  int64  \n",
            " 21  FLAG_MOBIL                   307511 non-null  int64  \n",
            " 22  FLAG_EMP_PHONE               307511 non-null  int64  \n",
            " 23  FLAG_WORK_PHONE              307511 non-null  int64  \n",
            " 24  FLAG_CONT_MOBILE             307511 non-null  int64  \n",
            " 25  FLAG_PHONE                   307511 non-null  int64  \n",
            " 26  FLAG_EMAIL                   307511 non-null  int64  \n",
            " 27  CNT_FAM_MEMBERS              307509 non-null  float64\n",
            " 28  REGION_RATING_CLIENT         307511 non-null  int64  \n",
            " 29  REGION_RATING_CLIENT_W_CITY  307511 non-null  int64  \n",
            " 30  WEEKDAY_APPR_PROCESS_START   307511 non-null  object \n",
            " 31  HOUR_APPR_PROCESS_START      307511 non-null  int64  \n",
            " 32  REG_REGION_NOT_LIVE_REGION   307511 non-null  int64  \n",
            " 33  REG_REGION_NOT_WORK_REGION   307511 non-null  int64  \n",
            " 34  LIVE_REGION_NOT_WORK_REGION  307511 non-null  int64  \n",
            " 35  REG_CITY_NOT_LIVE_CITY       307511 non-null  int64  \n",
            " 36  REG_CITY_NOT_WORK_CITY       307511 non-null  int64  \n",
            " 37  LIVE_CITY_NOT_WORK_CITY      307511 non-null  int64  \n",
            " 38  ORGANIZATION_TYPE            307511 non-null  object \n",
            " 39  EXT_SOURCE_2                 306851 non-null  float64\n",
            " 40  OBS_30_CNT_SOCIAL_CIRCLE     306490 non-null  float64\n",
            " 41  DEF_30_CNT_SOCIAL_CIRCLE     306490 non-null  float64\n",
            " 42  OBS_60_CNT_SOCIAL_CIRCLE     306490 non-null  float64\n",
            " 43  DEF_60_CNT_SOCIAL_CIRCLE     306490 non-null  float64\n",
            " 44  DAYS_LAST_PHONE_CHANGE       307510 non-null  float64\n",
            " 45  FLAG_DOCUMENT_2              307511 non-null  int64  \n",
            " 46  FLAG_DOCUMENT_3              307511 non-null  int64  \n",
            " 47  FLAG_DOCUMENT_4              307511 non-null  int64  \n",
            " 48  FLAG_DOCUMENT_5              307511 non-null  int64  \n",
            " 49  FLAG_DOCUMENT_6              307511 non-null  int64  \n",
            " 50  FLAG_DOCUMENT_7              307511 non-null  int64  \n",
            " 51  FLAG_DOCUMENT_8              307511 non-null  int64  \n",
            " 52  FLAG_DOCUMENT_9              307511 non-null  int64  \n",
            " 53  FLAG_DOCUMENT_10             307511 non-null  int64  \n",
            " 54  FLAG_DOCUMENT_11             307511 non-null  int64  \n",
            " 55  FLAG_DOCUMENT_12             307511 non-null  int64  \n",
            " 56  FLAG_DOCUMENT_13             307511 non-null  int64  \n",
            " 57  FLAG_DOCUMENT_14             307511 non-null  int64  \n",
            " 58  FLAG_DOCUMENT_15             307511 non-null  int64  \n",
            " 59  FLAG_DOCUMENT_16             307511 non-null  int64  \n",
            " 60  FLAG_DOCUMENT_17             307511 non-null  int64  \n",
            " 61  FLAG_DOCUMENT_18             307511 non-null  int64  \n",
            " 62  FLAG_DOCUMENT_19             307511 non-null  int64  \n",
            " 63  FLAG_DOCUMENT_20             307511 non-null  int64  \n",
            " 64  FLAG_DOCUMENT_21             307511 non-null  int64  \n",
            " 65  AMT_REQ_CREDIT_BUREAU_YEAR   307511 non-null  int64  \n",
            " 66  NEW_CREDIT_TO_ANNUITY_RATIO  307499 non-null  float64\n",
            " 67  NEW_CREDIT_TO_GOODS_RATIO    307233 non-null  float64\n",
            " 68  NEW_CREDIT_TO_INCOME_RATIO   307511 non-null  float64\n",
            " 69  NEW_ANNUITY_TO_INCOME_RATIO  307499 non-null  float64\n",
            " 70  num_of_app                   291057 non-null  float64\n",
            " 71  num_of_ref                   291057 non-null  float64\n",
            " 72  avg_APP_CREDIT_PERC          290056 non-null  float64\n",
            "dtypes: float64(19), int64(43), object(11)\n",
            "memory usage: 171.3+ MB\n"
          ]
        }
      ],
      "source": [
        "final.info()"
      ]
    },
    {
      "cell_type": "markdown",
      "metadata": {
        "id": "Gn9sgB5puRwn"
      },
      "source": [
        "# Deal with categorical variables"
      ]
    },
    {
      "cell_type": "markdown",
      "metadata": {
        "id": "JTIHOHIcuRwn"
      },
      "source": [
        "Most machine learning models unfortunately cannot deal with categorical variables\n",
        "\n",
        "There are two main methods to deal with categorical variables:"
      ]
    },
    {
      "cell_type": "markdown",
      "metadata": {
        "id": "mOdSewWYuRwn"
      },
      "source": [
        "1. **Label encoding**: assign each unique category \n",
        "   in a categorical variable with an integer. \n",
        "   \n",
        "   No new columns are created. An example is shown below"
      ]
    },
    {
      "cell_type": "markdown",
      "metadata": {
        "id": "GCiNMSfXuRwn"
      },
      "source": [
        "![Screen%20Shot%202019-03-21%20at%205.19.00%20PM.png](attachment:Screen%20Shot%202019-03-21%20at%205.19.00%20PM.png)"
      ]
    },
    {
      "cell_type": "markdown",
      "metadata": {
        "id": "Q9vWZVYIuRwn"
      },
      "source": [
        "2. **One-hot encoding**: create a new column for each unique category in a categorical variable. \n",
        "\n",
        "    Each observation receives a 1 in the column for its corresponding category and a 0 in all other new columns."
      ]
    },
    {
      "cell_type": "markdown",
      "metadata": {
        "id": "vd9rrv3FuRwn"
      },
      "source": [
        "![Screen%20Shot%202019-03-21%20at%205.23.05%20PM.png](attachment:Screen%20Shot%202019-03-21%20at%205.23.05%20PM.png)"
      ]
    },
    {
      "cell_type": "markdown",
      "metadata": {
        "id": "014-jH34uRwn"
      },
      "source": [
        "Let's first find all Cateorical columns:"
      ]
    },
    {
      "cell_type": "code",
      "execution_count": null,
      "metadata": {
        "id": "eUiksfg1uRwn",
        "outputId": "c1d43250-81e7-4732-8b2f-645c4e9dfb01"
      },
      "outputs": [
        {
          "data": {
            "text/plain": [
              "['NAME_CONTRACT_TYPE',\n",
              " 'CODE_GENDER',\n",
              " 'FLAG_OWN_CAR',\n",
              " 'FLAG_OWN_REALTY',\n",
              " 'NAME_TYPE_SUITE',\n",
              " 'NAME_INCOME_TYPE',\n",
              " 'NAME_EDUCATION_TYPE',\n",
              " 'NAME_FAMILY_STATUS',\n",
              " 'NAME_HOUSING_TYPE',\n",
              " 'WEEKDAY_APPR_PROCESS_START',\n",
              " 'ORGANIZATION_TYPE']"
            ]
          },
          "execution_count": 180,
          "metadata": {},
          "output_type": "execute_result"
        }
      ],
      "source": [
        "categorical_columns = [col for col in final.columns if final[col].dtype == 'object']\n",
        "categorical_columns"
      ]
    },
    {
      "cell_type": "markdown",
      "metadata": {
        "id": "L6rTTbhwuRwo"
      },
      "source": [
        "Let's drop CODE_GENDER column which is not very informative:"
      ]
    },
    {
      "cell_type": "code",
      "execution_count": null,
      "metadata": {
        "id": "jbgkevpSuRwo"
      },
      "outputs": [],
      "source": [
        "#drop(): Remove rows or columns by specifying label names and corresponding axis, or by specifying directly index or column names\n",
        "final=final.drop(columns=['CODE_GENDER'])"
      ]
    },
    {
      "cell_type": "markdown",
      "metadata": {
        "id": "LipLFyiZuRwo"
      },
      "source": [
        "Practice: drop other useless columns:\n",
        "- NAME_EDUCATION_TYPE\n",
        "- NAME_TYPE_SUITE\n",
        "- WEEKDAY_APPR_PROCESS_START\n",
        "- ORGANIZATION_TYPE"
      ]
    },
    {
      "cell_type": "code",
      "execution_count": null,
      "metadata": {
        "id": "g7uyA94ruRwo"
      },
      "outputs": [],
      "source": [
        "final=final.drop(columns=['NAME_EDUCATION_TYPE','NAME_TYPE_SUITE','WEEKDAY_APPR_PROCESS_START','ORGANIZATION_TYPE'])"
      ]
    },
    {
      "cell_type": "markdown",
      "metadata": {
        "id": "tM4OSgtjuRwo"
      },
      "source": [
        "Let's try One-hot encoding:"
      ]
    },
    {
      "cell_type": "code",
      "execution_count": null,
      "metadata": {
        "id": "Arlsb5CIuRwo"
      },
      "outputs": [],
      "source": [
        "def cate_convert(df, nan_as_category = True):\n",
        "    original_columns = list(df.columns)\n",
        "    categorical_columns = [col for col in df.columns if df[col].dtype == 'object']\n",
        "    df = pd.get_dummies(df, columns= categorical_columns, dummy_na= nan_as_category)\n",
        "    new_columns = [c for c in df.columns if c not in original_columns]\n",
        "    return df, new_columns"
      ]
    },
    {
      "cell_type": "code",
      "execution_count": null,
      "metadata": {
        "id": "AzkCBEgyuRwo"
      },
      "outputs": [],
      "source": [
        "final,cat_cols = cate_convert(final, nan_as_category = True)"
      ]
    },
    {
      "cell_type": "code",
      "execution_count": null,
      "metadata": {
        "id": "WQxNFWQOuRwo",
        "outputId": "e2c16aa5-58e4-4896-91f8-15bb10e91549"
      },
      "outputs": [
        {
          "data": {
            "text/html": [
              "<div>\n",
              "<style scoped>\n",
              "    .dataframe tbody tr th:only-of-type {\n",
              "        vertical-align: middle;\n",
              "    }\n",
              "\n",
              "    .dataframe tbody tr th {\n",
              "        vertical-align: top;\n",
              "    }\n",
              "\n",
              "    .dataframe thead th {\n",
              "        text-align: right;\n",
              "    }\n",
              "</style>\n",
              "<table border=\"1\" class=\"dataframe\">\n",
              "  <thead>\n",
              "    <tr style=\"text-align: right;\">\n",
              "      <th></th>\n",
              "      <th>SK_ID_CURR</th>\n",
              "      <th>TARGET</th>\n",
              "      <th>CNT_CHILDREN</th>\n",
              "      <th>AMT_INCOME_TOTAL</th>\n",
              "      <th>AMT_CREDIT</th>\n",
              "      <th>AMT_ANNUITY</th>\n",
              "      <th>AMT_GOODS_PRICE</th>\n",
              "      <th>REGION_POPULATION_RELATIVE</th>\n",
              "      <th>DAYS_BIRTH</th>\n",
              "      <th>DAYS_EMPLOYED</th>\n",
              "      <th>...</th>\n",
              "      <th>NAME_FAMILY_STATUS_Unknown</th>\n",
              "      <th>NAME_FAMILY_STATUS_Widow</th>\n",
              "      <th>NAME_FAMILY_STATUS_nan</th>\n",
              "      <th>NAME_HOUSING_TYPE_Co-op apartment</th>\n",
              "      <th>NAME_HOUSING_TYPE_House / apartment</th>\n",
              "      <th>NAME_HOUSING_TYPE_Municipal apartment</th>\n",
              "      <th>NAME_HOUSING_TYPE_Office apartment</th>\n",
              "      <th>NAME_HOUSING_TYPE_Rented apartment</th>\n",
              "      <th>NAME_HOUSING_TYPE_With parents</th>\n",
              "      <th>NAME_HOUSING_TYPE_nan</th>\n",
              "    </tr>\n",
              "  </thead>\n",
              "  <tbody>\n",
              "    <tr>\n",
              "      <th>0</th>\n",
              "      <td>100002</td>\n",
              "      <td>1</td>\n",
              "      <td>0</td>\n",
              "      <td>202500.0</td>\n",
              "      <td>406597.5</td>\n",
              "      <td>24700.5</td>\n",
              "      <td>351000.0</td>\n",
              "      <td>0.018801</td>\n",
              "      <td>-9461</td>\n",
              "      <td>-637</td>\n",
              "      <td>...</td>\n",
              "      <td>0</td>\n",
              "      <td>0</td>\n",
              "      <td>0</td>\n",
              "      <td>0</td>\n",
              "      <td>1</td>\n",
              "      <td>0</td>\n",
              "      <td>0</td>\n",
              "      <td>0</td>\n",
              "      <td>0</td>\n",
              "      <td>0</td>\n",
              "    </tr>\n",
              "    <tr>\n",
              "      <th>1</th>\n",
              "      <td>100003</td>\n",
              "      <td>0</td>\n",
              "      <td>0</td>\n",
              "      <td>270000.0</td>\n",
              "      <td>1293502.5</td>\n",
              "      <td>35698.5</td>\n",
              "      <td>1129500.0</td>\n",
              "      <td>0.003541</td>\n",
              "      <td>-16765</td>\n",
              "      <td>-1188</td>\n",
              "      <td>...</td>\n",
              "      <td>0</td>\n",
              "      <td>0</td>\n",
              "      <td>0</td>\n",
              "      <td>0</td>\n",
              "      <td>1</td>\n",
              "      <td>0</td>\n",
              "      <td>0</td>\n",
              "      <td>0</td>\n",
              "      <td>0</td>\n",
              "      <td>0</td>\n",
              "    </tr>\n",
              "    <tr>\n",
              "      <th>2</th>\n",
              "      <td>100004</td>\n",
              "      <td>0</td>\n",
              "      <td>0</td>\n",
              "      <td>67500.0</td>\n",
              "      <td>135000.0</td>\n",
              "      <td>6750.0</td>\n",
              "      <td>135000.0</td>\n",
              "      <td>0.010032</td>\n",
              "      <td>-19046</td>\n",
              "      <td>-225</td>\n",
              "      <td>...</td>\n",
              "      <td>0</td>\n",
              "      <td>0</td>\n",
              "      <td>0</td>\n",
              "      <td>0</td>\n",
              "      <td>1</td>\n",
              "      <td>0</td>\n",
              "      <td>0</td>\n",
              "      <td>0</td>\n",
              "      <td>0</td>\n",
              "      <td>0</td>\n",
              "    </tr>\n",
              "    <tr>\n",
              "      <th>3</th>\n",
              "      <td>100006</td>\n",
              "      <td>0</td>\n",
              "      <td>0</td>\n",
              "      <td>135000.0</td>\n",
              "      <td>312682.5</td>\n",
              "      <td>29686.5</td>\n",
              "      <td>297000.0</td>\n",
              "      <td>0.008019</td>\n",
              "      <td>-19005</td>\n",
              "      <td>-3039</td>\n",
              "      <td>...</td>\n",
              "      <td>0</td>\n",
              "      <td>0</td>\n",
              "      <td>0</td>\n",
              "      <td>0</td>\n",
              "      <td>1</td>\n",
              "      <td>0</td>\n",
              "      <td>0</td>\n",
              "      <td>0</td>\n",
              "      <td>0</td>\n",
              "      <td>0</td>\n",
              "    </tr>\n",
              "    <tr>\n",
              "      <th>4</th>\n",
              "      <td>100007</td>\n",
              "      <td>0</td>\n",
              "      <td>0</td>\n",
              "      <td>121500.0</td>\n",
              "      <td>513000.0</td>\n",
              "      <td>21865.5</td>\n",
              "      <td>513000.0</td>\n",
              "      <td>0.028663</td>\n",
              "      <td>-19932</td>\n",
              "      <td>-3038</td>\n",
              "      <td>...</td>\n",
              "      <td>0</td>\n",
              "      <td>0</td>\n",
              "      <td>0</td>\n",
              "      <td>0</td>\n",
              "      <td>1</td>\n",
              "      <td>0</td>\n",
              "      <td>0</td>\n",
              "      <td>0</td>\n",
              "      <td>0</td>\n",
              "      <td>0</td>\n",
              "    </tr>\n",
              "  </tbody>\n",
              "</table>\n",
              "<p>5 rows × 94 columns</p>\n",
              "</div>"
            ],
            "text/plain": [
              "   SK_ID_CURR  TARGET  CNT_CHILDREN  AMT_INCOME_TOTAL  AMT_CREDIT  \\\n",
              "0      100002       1             0          202500.0    406597.5   \n",
              "1      100003       0             0          270000.0   1293502.5   \n",
              "2      100004       0             0           67500.0    135000.0   \n",
              "3      100006       0             0          135000.0    312682.5   \n",
              "4      100007       0             0          121500.0    513000.0   \n",
              "\n",
              "   AMT_ANNUITY  AMT_GOODS_PRICE  REGION_POPULATION_RELATIVE  DAYS_BIRTH  \\\n",
              "0      24700.5         351000.0                    0.018801       -9461   \n",
              "1      35698.5        1129500.0                    0.003541      -16765   \n",
              "2       6750.0         135000.0                    0.010032      -19046   \n",
              "3      29686.5         297000.0                    0.008019      -19005   \n",
              "4      21865.5         513000.0                    0.028663      -19932   \n",
              "\n",
              "   DAYS_EMPLOYED  ...  NAME_FAMILY_STATUS_Unknown  NAME_FAMILY_STATUS_Widow  \\\n",
              "0           -637  ...                           0                         0   \n",
              "1          -1188  ...                           0                         0   \n",
              "2           -225  ...                           0                         0   \n",
              "3          -3039  ...                           0                         0   \n",
              "4          -3038  ...                           0                         0   \n",
              "\n",
              "   NAME_FAMILY_STATUS_nan  NAME_HOUSING_TYPE_Co-op apartment  \\\n",
              "0                       0                                  0   \n",
              "1                       0                                  0   \n",
              "2                       0                                  0   \n",
              "3                       0                                  0   \n",
              "4                       0                                  0   \n",
              "\n",
              "   NAME_HOUSING_TYPE_House / apartment  NAME_HOUSING_TYPE_Municipal apartment  \\\n",
              "0                                    1                                      0   \n",
              "1                                    1                                      0   \n",
              "2                                    1                                      0   \n",
              "3                                    1                                      0   \n",
              "4                                    1                                      0   \n",
              "\n",
              "   NAME_HOUSING_TYPE_Office apartment  NAME_HOUSING_TYPE_Rented apartment  \\\n",
              "0                                   0                                   0   \n",
              "1                                   0                                   0   \n",
              "2                                   0                                   0   \n",
              "3                                   0                                   0   \n",
              "4                                   0                                   0   \n",
              "\n",
              "   NAME_HOUSING_TYPE_With parents  NAME_HOUSING_TYPE_nan  \n",
              "0                               0                      0  \n",
              "1                               0                      0  \n",
              "2                               0                      0  \n",
              "3                               0                      0  \n",
              "4                               0                      0  \n",
              "\n",
              "[5 rows x 94 columns]"
            ]
          },
          "execution_count": 221,
          "metadata": {},
          "output_type": "execute_result"
        }
      ],
      "source": [
        "final.head()"
      ]
    },
    {
      "cell_type": "code",
      "execution_count": null,
      "metadata": {
        "id": "ZxY5gsGpuRwp"
      },
      "outputs": [],
      "source": [
        "missing_values_table(final)"
      ]
    },
    {
      "cell_type": "markdown",
      "metadata": {
        "id": "lvUMVAESuRwp"
      },
      "source": [
        "Practice: missing imputation for remaining numerical variables"
      ]
    },
    {
      "cell_type": "code",
      "execution_count": null,
      "metadata": {
        "id": "dnmUbYZiuRwp"
      },
      "outputs": [],
      "source": [
        "re_missing=missing_values_table(final)"
      ]
    },
    {
      "cell_type": "code",
      "execution_count": null,
      "metadata": {
        "id": "w_3knd8FuRwp",
        "outputId": "b0694712-cfc4-4373-d33f-9ef9e83853f0"
      },
      "outputs": [
        {
          "data": {
            "text/html": [
              "<div>\n",
              "<style scoped>\n",
              "    .dataframe tbody tr th:only-of-type {\n",
              "        vertical-align: middle;\n",
              "    }\n",
              "\n",
              "    .dataframe tbody tr th {\n",
              "        vertical-align: top;\n",
              "    }\n",
              "\n",
              "    .dataframe thead th {\n",
              "        text-align: right;\n",
              "    }\n",
              "</style>\n",
              "<table border=\"1\" class=\"dataframe\">\n",
              "  <thead>\n",
              "    <tr style=\"text-align: right;\">\n",
              "      <th></th>\n",
              "      <th>Missing Values</th>\n",
              "      <th>% of Total Values</th>\n",
              "    </tr>\n",
              "  </thead>\n",
              "  <tbody>\n",
              "    <tr>\n",
              "      <th>AMT_ANNUITY</th>\n",
              "      <td>12</td>\n",
              "      <td>0.003902</td>\n",
              "    </tr>\n",
              "    <tr>\n",
              "      <th>AMT_GOODS_PRICE</th>\n",
              "      <td>278</td>\n",
              "      <td>0.090403</td>\n",
              "    </tr>\n",
              "    <tr>\n",
              "      <th>CNT_FAM_MEMBERS</th>\n",
              "      <td>2</td>\n",
              "      <td>0.000650</td>\n",
              "    </tr>\n",
              "    <tr>\n",
              "      <th>EXT_SOURCE_2</th>\n",
              "      <td>660</td>\n",
              "      <td>0.214626</td>\n",
              "    </tr>\n",
              "    <tr>\n",
              "      <th>OBS_30_CNT_SOCIAL_CIRCLE</th>\n",
              "      <td>1021</td>\n",
              "      <td>0.332021</td>\n",
              "    </tr>\n",
              "    <tr>\n",
              "      <th>DEF_30_CNT_SOCIAL_CIRCLE</th>\n",
              "      <td>1021</td>\n",
              "      <td>0.332021</td>\n",
              "    </tr>\n",
              "    <tr>\n",
              "      <th>OBS_60_CNT_SOCIAL_CIRCLE</th>\n",
              "      <td>1021</td>\n",
              "      <td>0.332021</td>\n",
              "    </tr>\n",
              "    <tr>\n",
              "      <th>DEF_60_CNT_SOCIAL_CIRCLE</th>\n",
              "      <td>1021</td>\n",
              "      <td>0.332021</td>\n",
              "    </tr>\n",
              "    <tr>\n",
              "      <th>DAYS_LAST_PHONE_CHANGE</th>\n",
              "      <td>1</td>\n",
              "      <td>0.000325</td>\n",
              "    </tr>\n",
              "    <tr>\n",
              "      <th>NEW_CREDIT_TO_ANNUITY_RATIO</th>\n",
              "      <td>12</td>\n",
              "      <td>0.003902</td>\n",
              "    </tr>\n",
              "    <tr>\n",
              "      <th>NEW_CREDIT_TO_GOODS_RATIO</th>\n",
              "      <td>278</td>\n",
              "      <td>0.090403</td>\n",
              "    </tr>\n",
              "    <tr>\n",
              "      <th>NEW_ANNUITY_TO_INCOME_RATIO</th>\n",
              "      <td>12</td>\n",
              "      <td>0.003902</td>\n",
              "    </tr>\n",
              "    <tr>\n",
              "      <th>num_of_app</th>\n",
              "      <td>16454</td>\n",
              "      <td>5.350703</td>\n",
              "    </tr>\n",
              "    <tr>\n",
              "      <th>num_of_ref</th>\n",
              "      <td>16454</td>\n",
              "      <td>5.350703</td>\n",
              "    </tr>\n",
              "    <tr>\n",
              "      <th>avg_APP_CREDIT_PERC</th>\n",
              "      <td>17455</td>\n",
              "      <td>5.676220</td>\n",
              "    </tr>\n",
              "  </tbody>\n",
              "</table>\n",
              "</div>"
            ],
            "text/plain": [
              "                             Missing Values  % of Total Values\n",
              "AMT_ANNUITY                              12           0.003902\n",
              "AMT_GOODS_PRICE                         278           0.090403\n",
              "CNT_FAM_MEMBERS                           2           0.000650\n",
              "EXT_SOURCE_2                            660           0.214626\n",
              "OBS_30_CNT_SOCIAL_CIRCLE               1021           0.332021\n",
              "DEF_30_CNT_SOCIAL_CIRCLE               1021           0.332021\n",
              "OBS_60_CNT_SOCIAL_CIRCLE               1021           0.332021\n",
              "DEF_60_CNT_SOCIAL_CIRCLE               1021           0.332021\n",
              "DAYS_LAST_PHONE_CHANGE                    1           0.000325\n",
              "NEW_CREDIT_TO_ANNUITY_RATIO              12           0.003902\n",
              "NEW_CREDIT_TO_GOODS_RATIO               278           0.090403\n",
              "NEW_ANNUITY_TO_INCOME_RATIO              12           0.003902\n",
              "num_of_app                            16454           5.350703\n",
              "num_of_ref                            16454           5.350703\n",
              "avg_APP_CREDIT_PERC                   17455           5.676220"
            ]
          },
          "execution_count": 190,
          "metadata": {},
          "output_type": "execute_result"
        }
      ],
      "source": [
        "re_missing"
      ]
    },
    {
      "cell_type": "code",
      "execution_count": null,
      "metadata": {
        "id": "5a-s4bnIuRwp",
        "outputId": "ee04b875-3135-4831-e2f3-4044e9793ab9"
      },
      "outputs": [
        {
          "data": {
            "text/plain": [
              "['AMT_ANNUITY',\n",
              " 'AMT_GOODS_PRICE',\n",
              " 'CNT_FAM_MEMBERS',\n",
              " 'EXT_SOURCE_2',\n",
              " 'OBS_30_CNT_SOCIAL_CIRCLE',\n",
              " 'DEF_30_CNT_SOCIAL_CIRCLE',\n",
              " 'OBS_60_CNT_SOCIAL_CIRCLE',\n",
              " 'DEF_60_CNT_SOCIAL_CIRCLE',\n",
              " 'DAYS_LAST_PHONE_CHANGE',\n",
              " 'NEW_CREDIT_TO_ANNUITY_RATIO',\n",
              " 'NEW_CREDIT_TO_GOODS_RATIO',\n",
              " 'NEW_ANNUITY_TO_INCOME_RATIO',\n",
              " 'num_of_app',\n",
              " 'num_of_ref',\n",
              " 'avg_APP_CREDIT_PERC']"
            ]
          },
          "execution_count": 192,
          "metadata": {},
          "output_type": "execute_result"
        }
      ],
      "source": [
        "list(re_missing.index)"
      ]
    },
    {
      "cell_type": "code",
      "execution_count": null,
      "metadata": {
        "id": "vsgG3maNuRwp"
      },
      "outputs": [],
      "source": [
        "for i in list(re_missing.index):\n",
        "    final[i].fillna(value=0, inplace=True)"
      ]
    },
    {
      "cell_type": "code",
      "execution_count": null,
      "metadata": {
        "id": "g9sB2DGouRwp",
        "outputId": "000078ae-8a7a-426e-ab3f-373dd723546a"
      },
      "outputs": [
        {
          "data": {
            "text/html": [
              "<div>\n",
              "<style scoped>\n",
              "    .dataframe tbody tr th:only-of-type {\n",
              "        vertical-align: middle;\n",
              "    }\n",
              "\n",
              "    .dataframe tbody tr th {\n",
              "        vertical-align: top;\n",
              "    }\n",
              "\n",
              "    .dataframe thead th {\n",
              "        text-align: right;\n",
              "    }\n",
              "</style>\n",
              "<table border=\"1\" class=\"dataframe\">\n",
              "  <thead>\n",
              "    <tr style=\"text-align: right;\">\n",
              "      <th></th>\n",
              "      <th>Missing Values</th>\n",
              "      <th>% of Total Values</th>\n",
              "    </tr>\n",
              "  </thead>\n",
              "  <tbody>\n",
              "  </tbody>\n",
              "</table>\n",
              "</div>"
            ],
            "text/plain": [
              "Empty DataFrame\n",
              "Columns: [Missing Values, % of Total Values]\n",
              "Index: []"
            ]
          },
          "execution_count": 194,
          "metadata": {},
          "output_type": "execute_result"
        }
      ],
      "source": [
        "missing_values_table(final)"
      ]
    },
    {
      "cell_type": "markdown",
      "metadata": {
        "id": "rhbzg75DuRwp"
      },
      "source": [
        "Create a backup file before model build:"
      ]
    },
    {
      "cell_type": "code",
      "execution_count": null,
      "metadata": {
        "id": "BC8FIoQMuRwp"
      },
      "outputs": [],
      "source": [
        "final.to_csv('final_model.csv', index=False, sep='|')"
      ]
    },
    {
      "cell_type": "code",
      "execution_count": null,
      "metadata": {
        "id": "vQHLRSp7uRwq",
        "outputId": "5522082a-31fb-4849-9e15-6b11b9e0b579"
      },
      "outputs": [
        {
          "data": {
            "text/plain": [
              "(307511, 94)"
            ]
          },
          "execution_count": 197,
          "metadata": {},
          "output_type": "execute_result"
        }
      ],
      "source": [
        "final.shape"
      ]
    },
    {
      "cell_type": "markdown",
      "metadata": {
        "id": "NS3RFwkGuRwq"
      },
      "source": [
        "# Train/Test Split"
      ]
    },
    {
      "cell_type": "markdown",
      "metadata": {
        "id": "-mEi620ruRwq"
      },
      "source": [
        "Define the target variable (dependent variable) as y:"
      ]
    },
    {
      "cell_type": "code",
      "execution_count": null,
      "metadata": {
        "id": "_aIPw40CuRwq"
      },
      "outputs": [],
      "source": [
        "y=final['TARGET']"
      ]
    },
    {
      "cell_type": "code",
      "execution_count": null,
      "metadata": {
        "id": "pWQHopU7uRwq"
      },
      "outputs": [],
      "source": [
        "from sklearn.model_selection import train_test_split\n",
        "from matplotlib import pyplot as plt"
      ]
    },
    {
      "cell_type": "code",
      "execution_count": null,
      "metadata": {
        "id": "GnWfTtv2uRwq",
        "outputId": "53804290-25fb-4ac9-d634-1d7c5fe64209"
      },
      "outputs": [
        {
          "name": "stdout",
          "output_type": "stream",
          "text": [
            "(230633, 94)\n",
            "(230633,)\n",
            "(76878, 94)\n",
            "(76878,)\n"
          ]
        }
      ],
      "source": [
        "# create training and testing vars\n",
        "X_train, X_test, y_train, y_test = train_test_split(final, y, test_size=0.25)\n",
        "print(X_train.shape)\n",
        "print(y_train.shape)\n",
        "print(X_test.shape)\n",
        "print(y_test.shape)"
      ]
    },
    {
      "cell_type": "markdown",
      "metadata": {
        "id": "GSiLnXpSuRwq"
      },
      "source": [
        "Practice:\n",
        "\n",
        "Drop the target variables from X_train and X_test:"
      ]
    },
    {
      "cell_type": "code",
      "execution_count": null,
      "metadata": {
        "id": "8_DnIevEuRwq"
      },
      "outputs": [],
      "source": [
        "X_test = X_test.drop(columns = ['TARGET'])"
      ]
    },
    {
      "cell_type": "code",
      "execution_count": null,
      "metadata": {
        "id": "usGcBniAuRwr"
      },
      "outputs": [],
      "source": [
        "X_train = X_train.drop(columns = ['TARGET'])"
      ]
    },
    {
      "cell_type": "markdown",
      "metadata": {
        "id": "swXGUbfduRwr"
      },
      "source": [
        "# Logistic Regression Implementation"
      ]
    },
    {
      "cell_type": "markdown",
      "metadata": {
        "id": "qO6dQKAQuRwr"
      },
      "source": [
        "Get all the features:"
      ]
    },
    {
      "cell_type": "code",
      "execution_count": null,
      "metadata": {
        "id": "GtDia7vjuRwr",
        "outputId": "37803a53-2e82-46b8-f6fd-1a7caa8e2d0b"
      },
      "outputs": [
        {
          "data": {
            "text/plain": [
              "['SK_ID_CURR',\n",
              " 'CNT_CHILDREN',\n",
              " 'AMT_INCOME_TOTAL',\n",
              " 'AMT_CREDIT',\n",
              " 'AMT_ANNUITY',\n",
              " 'AMT_GOODS_PRICE',\n",
              " 'REGION_POPULATION_RELATIVE',\n",
              " 'DAYS_BIRTH',\n",
              " 'DAYS_EMPLOYED',\n",
              " 'DAYS_REGISTRATION',\n",
              " 'DAYS_ID_PUBLISH',\n",
              " 'FLAG_MOBIL',\n",
              " 'FLAG_EMP_PHONE',\n",
              " 'FLAG_WORK_PHONE',\n",
              " 'FLAG_CONT_MOBILE',\n",
              " 'FLAG_PHONE',\n",
              " 'FLAG_EMAIL',\n",
              " 'CNT_FAM_MEMBERS',\n",
              " 'REGION_RATING_CLIENT',\n",
              " 'REGION_RATING_CLIENT_W_CITY',\n",
              " 'HOUR_APPR_PROCESS_START',\n",
              " 'REG_REGION_NOT_LIVE_REGION',\n",
              " 'REG_REGION_NOT_WORK_REGION',\n",
              " 'LIVE_REGION_NOT_WORK_REGION',\n",
              " 'REG_CITY_NOT_LIVE_CITY',\n",
              " 'REG_CITY_NOT_WORK_CITY',\n",
              " 'LIVE_CITY_NOT_WORK_CITY',\n",
              " 'EXT_SOURCE_2',\n",
              " 'OBS_30_CNT_SOCIAL_CIRCLE',\n",
              " 'DEF_30_CNT_SOCIAL_CIRCLE',\n",
              " 'OBS_60_CNT_SOCIAL_CIRCLE',\n",
              " 'DEF_60_CNT_SOCIAL_CIRCLE',\n",
              " 'DAYS_LAST_PHONE_CHANGE',\n",
              " 'FLAG_DOCUMENT_2',\n",
              " 'FLAG_DOCUMENT_3',\n",
              " 'FLAG_DOCUMENT_4',\n",
              " 'FLAG_DOCUMENT_5',\n",
              " 'FLAG_DOCUMENT_6',\n",
              " 'FLAG_DOCUMENT_7',\n",
              " 'FLAG_DOCUMENT_8',\n",
              " 'FLAG_DOCUMENT_9',\n",
              " 'FLAG_DOCUMENT_10',\n",
              " 'FLAG_DOCUMENT_11',\n",
              " 'FLAG_DOCUMENT_12',\n",
              " 'FLAG_DOCUMENT_13',\n",
              " 'FLAG_DOCUMENT_14',\n",
              " 'FLAG_DOCUMENT_15',\n",
              " 'FLAG_DOCUMENT_16',\n",
              " 'FLAG_DOCUMENT_17',\n",
              " 'FLAG_DOCUMENT_18',\n",
              " 'FLAG_DOCUMENT_19',\n",
              " 'FLAG_DOCUMENT_20',\n",
              " 'FLAG_DOCUMENT_21',\n",
              " 'AMT_REQ_CREDIT_BUREAU_YEAR',\n",
              " 'NEW_CREDIT_TO_ANNUITY_RATIO',\n",
              " 'NEW_CREDIT_TO_GOODS_RATIO',\n",
              " 'NEW_CREDIT_TO_INCOME_RATIO',\n",
              " 'NEW_ANNUITY_TO_INCOME_RATIO',\n",
              " 'num_of_app',\n",
              " 'num_of_ref',\n",
              " 'avg_APP_CREDIT_PERC',\n",
              " 'NAME_CONTRACT_TYPE_Cash loans',\n",
              " 'NAME_CONTRACT_TYPE_Revolving loans',\n",
              " 'NAME_CONTRACT_TYPE_nan',\n",
              " 'FLAG_OWN_CAR_N',\n",
              " 'FLAG_OWN_CAR_Y',\n",
              " 'FLAG_OWN_CAR_nan',\n",
              " 'FLAG_OWN_REALTY_N',\n",
              " 'FLAG_OWN_REALTY_Y',\n",
              " 'FLAG_OWN_REALTY_nan',\n",
              " 'NAME_INCOME_TYPE_Businessman',\n",
              " 'NAME_INCOME_TYPE_Commercial associate',\n",
              " 'NAME_INCOME_TYPE_Maternity leave',\n",
              " 'NAME_INCOME_TYPE_Pensioner',\n",
              " 'NAME_INCOME_TYPE_State servant',\n",
              " 'NAME_INCOME_TYPE_Student',\n",
              " 'NAME_INCOME_TYPE_Unemployed',\n",
              " 'NAME_INCOME_TYPE_Working',\n",
              " 'NAME_INCOME_TYPE_nan',\n",
              " 'NAME_FAMILY_STATUS_Civil marriage',\n",
              " 'NAME_FAMILY_STATUS_Married',\n",
              " 'NAME_FAMILY_STATUS_Separated',\n",
              " 'NAME_FAMILY_STATUS_Single / not married',\n",
              " 'NAME_FAMILY_STATUS_Unknown',\n",
              " 'NAME_FAMILY_STATUS_Widow',\n",
              " 'NAME_FAMILY_STATUS_nan',\n",
              " 'NAME_HOUSING_TYPE_Co-op apartment',\n",
              " 'NAME_HOUSING_TYPE_House / apartment',\n",
              " 'NAME_HOUSING_TYPE_Municipal apartment',\n",
              " 'NAME_HOUSING_TYPE_Office apartment',\n",
              " 'NAME_HOUSING_TYPE_Rented apartment',\n",
              " 'NAME_HOUSING_TYPE_With parents',\n",
              " 'NAME_HOUSING_TYPE_nan']"
            ]
          },
          "execution_count": 203,
          "metadata": {},
          "output_type": "execute_result"
        }
      ],
      "source": [
        "features = list(X_train.columns)\n",
        "features"
      ]
    },
    {
      "cell_type": "markdown",
      "metadata": {
        "id": "yigZGn4buRwr"
      },
      "source": [
        "We will use LogisticRegression from Scikit-Learn for our first model:"
      ]
    },
    {
      "cell_type": "code",
      "execution_count": null,
      "metadata": {
        "id": "vg69Tb-vuRwr"
      },
      "outputs": [],
      "source": [
        "from sklearn.linear_model import LogisticRegression\n",
        "\n",
        "log_reg = LogisticRegression()"
      ]
    },
    {
      "cell_type": "markdown",
      "metadata": {
        "id": "45zMPATJuRwr"
      },
      "source": [
        "1. Train on the training data:"
      ]
    },
    {
      "cell_type": "code",
      "execution_count": null,
      "metadata": {
        "id": "WKwNR-bOuRws",
        "outputId": "82deefe5-5445-4331-95db-0d2f99b95459"
      },
      "outputs": [
        {
          "name": "stderr",
          "output_type": "stream",
          "text": [
            "C:\\Users\\kangd\\anaconda3\\lib\\site-packages\\sklearn\\linear_model\\_logistic.py:762: ConvergenceWarning: lbfgs failed to converge (status=1):\n",
            "STOP: TOTAL NO. of ITERATIONS REACHED LIMIT.\n",
            "\n",
            "Increase the number of iterations (max_iter) or scale the data as shown in:\n",
            "    https://scikit-learn.org/stable/modules/preprocessing.html\n",
            "Please also refer to the documentation for alternative solver options:\n",
            "    https://scikit-learn.org/stable/modules/linear_model.html#logistic-regression\n",
            "  n_iter_i = _check_optimize_result(\n"
          ]
        },
        {
          "data": {
            "text/plain": [
              "LogisticRegression()"
            ]
          },
          "execution_count": 205,
          "metadata": {},
          "output_type": "execute_result"
        }
      ],
      "source": [
        "log_reg.fit(X_train, y_train)"
      ]
    },
    {
      "cell_type": "markdown",
      "metadata": {
        "id": "ByYadkm_uRws"
      },
      "source": [
        "2. Make the prediction:\n",
        "\n",
        "Now that the model has been trained, we can use it to make predictions. \n",
        "\n",
        "We want to predict the probabilities of not paying a loan, so we use the model **predict_proba** method.\n",
        "\n",
        "The first column is the probability of the target being 0 and the second column is the probability of the target being 1"
      ]
    },
    {
      "cell_type": "code",
      "execution_count": null,
      "metadata": {
        "id": "xzGDsQ6luRws",
        "outputId": "37468550-0847-4e78-db35-063d902cab80"
      },
      "outputs": [
        {
          "data": {
            "text/plain": [
              "array([[0.92502949, 0.07497051],\n",
              "       [0.96552941, 0.03447059],\n",
              "       [0.92938947, 0.07061053],\n",
              "       ...,\n",
              "       [0.88482857, 0.11517143],\n",
              "       [0.93551494, 0.06448506],\n",
              "       [0.92995135, 0.07004865]])"
            ]
          },
          "execution_count": 206,
          "metadata": {},
          "output_type": "execute_result"
        }
      ],
      "source": [
        "log_reg_pred = log_reg.predict_proba(X_test)\n",
        "log_reg_pred"
      ]
    },
    {
      "cell_type": "code",
      "execution_count": null,
      "metadata": {
        "id": "SfAYGC6RuRws",
        "outputId": "f7fa6a56-49de-4b54-be85-6f8bda4e1343"
      },
      "outputs": [
        {
          "data": {
            "text/plain": [
              "array([0.07497051, 0.03447059, 0.07061053, ..., 0.11517143, 0.06448506,\n",
              "       0.07004865])"
            ]
          },
          "execution_count": 207,
          "metadata": {},
          "output_type": "execute_result"
        }
      ],
      "source": [
        "y_pred_proba=log_reg_pred[:,1]\n",
        "y_pred_proba"
      ]
    },
    {
      "cell_type": "markdown",
      "metadata": {
        "id": "i9UhGLxwuRws"
      },
      "source": [
        "3. Predict the label:\n",
        "\n",
        "**.predict()** is for predicting class labels:\n",
        "\n",
        "Sci-Kit learn is using a threshold of P>0.5 for binary classifications"
      ]
    },
    {
      "cell_type": "code",
      "execution_count": null,
      "metadata": {
        "id": "QTK2RW7DuRws",
        "outputId": "90393a58-08e5-4bfb-cf05-b6accf0b33c2"
      },
      "outputs": [
        {
          "data": {
            "text/plain": [
              "array([0, 0, 0, ..., 0, 0, 0], dtype=int64)"
            ]
          },
          "execution_count": 208,
          "metadata": {},
          "output_type": "execute_result"
        }
      ],
      "source": [
        "y_pred = log_reg.predict(X_test)\n",
        "y_pred"
      ]
    },
    {
      "cell_type": "markdown",
      "metadata": {
        "id": "XrtDRmcNuRws"
      },
      "source": [
        "## Check key model metrics"
      ]
    },
    {
      "cell_type": "markdown",
      "metadata": {
        "id": "hX77lB_9uRwt"
      },
      "source": [
        "Let's recall how to evaluate classification models\n",
        "\n",
        "\n",
        "\n",
        "The first metric that can be used to measure prediction performance is **accuracy**. Accuracy is simply the percentage of correct predictions out of all predictions\n",
        "![Capture.PNG](attachment:Capture.PNG)\n",
        "\n",
        "The second metric that is commonly used for classification problems is **precision**. Precision is defined as the number of true positives divided by the total number of true positives and false positives (total positive predictions). **Precision indicates the ability of a classification model to return only relevant instances**\n",
        "\n",
        "\n",
        "Along with precision, **recall** is also commonly used to evaluate the performances of classification models. Recall is defined as the number of true positives divided by the number of true positives plus false negatives(total actual positive cases). **Recall can be thought of as a measure of how much of the positive cases are retrieved or found by the model**\n",
        "\n",
        "![1_6NkN_LINs2erxgVJ9rkpUA.png](attachment:1_6NkN_LINs2erxgVJ9rkpUA.png)\n"
      ]
    },
    {
      "cell_type": "markdown",
      "metadata": {
        "id": "Qv2NS_mtuRwt"
      },
      "source": [
        "An **ROC** curve is a plot of True Positive Rate vs False Positive Rate where False Positive Rate=FP/(TN+FP) =1-Specificity.\n",
        "\n",
        "The ROC curve shows how true positive rates and false positive rates change at different thresholds. The **AUC** is simply the total area under the ROC curve. The AUC ranges from 0 to 1 and a higher AUC number suggests better model performance.\n",
        "\n",
        "A random classifier has an AUC of 0.5, so any classifier with an AUC higher than 0.5 suggests that the model performs better than random predictions:\n",
        "\n",
        "![image.png](attachment:image.png)\n",
        "\n",
        "![Capture2.PNG](attachment:Capture2.PNG)"
      ]
    },
    {
      "cell_type": "markdown",
      "metadata": {
        "id": "imhKilRiuRwt"
      },
      "source": [
        "4. Show the ROC_CURVE to evaluate the model performance:"
      ]
    },
    {
      "cell_type": "code",
      "execution_count": null,
      "metadata": {
        "id": "hi9Yj6SKuRwt",
        "outputId": "9a9956eb-9bce-4d6f-bcae-e061d13b9040"
      },
      "outputs": [
        {
          "data": {
            "image/png": "[encoded data removed]",
            "text/plain": [
              "<Figure size 432x288 with 1 Axes>"
            ]
          },
          "metadata": {
            "needs_background": "light"
          },
          "output_type": "display_data"
        }
      ],
      "source": [
        "# Show the ROC_CURVE\n",
        "import numpy as np\n",
        "from sklearn import metrics\n",
        "from sklearn.metrics import roc_auc_score\n",
        "y_pred_proba=log_reg_pred[:,1]\n",
        "[fpr, tpr, thr] = metrics.roc_curve(y_test, y_pred_proba)\n",
        "idx = np.min(np.where(tpr > 0.95))  # index of the first threshold for which the sensibility > 0.95\n",
        "plt.figure()\n",
        "plt.plot(fpr, tpr, color='coral', label='ROC curve (area = %0.3f)' % metrics.auc(fpr, tpr))\n",
        "plt.plot([0, 1], [0, 1], 'k--')\n",
        "plt.plot([0, fpr[idx]], [tpr[idx], tpr[idx]], 'k--', color='blue')\n",
        "plt.plot([fpr[idx], fpr[idx]], [0, tpr[idx]], 'k--', color='blue')\n",
        "plt.xlim([0.0, 1.0])\n",
        "plt.ylim([0.0, 1.05])\n",
        "plt.xlabel('False Positive Rate (1 - specificity)', fontsize=14)\n",
        "plt.ylabel('True Positive Rate (recall)', fontsize=14)\n",
        "plt.title('Receiver operating characteristic (ROC) curve')\n",
        "plt.legend(loc=\"lower right\")\n",
        "plt.show()"
      ]
    },
    {
      "cell_type": "markdown",
      "metadata": {
        "id": "BUGW4I9XuRwt"
      },
      "source": [
        "**AUROC** (Area Under the Receiver Operating Characteristics) The more the area enclosed by the ROC curve, the better it is. The area under the curve can lie between 0 and 1. The closer it is to 1, the better it is"
      ]
    },
    {
      "cell_type": "markdown",
      "metadata": {
        "id": "Ko16O1JbuRwu"
      },
      "source": [
        "# Implement Random Forest"
      ]
    },
    {
      "cell_type": "markdown",
      "metadata": {
        "id": "83BcvqcjuRwu"
      },
      "source": [
        "**Ensemble learning**, in general, is a model that makes predictions based on a number of different models. By combining individual models, the ensemble model tends to be more flexible (less bias) and less data-sensitive (less variance)\n",
        "Two most popular ensemble methods are bagging and boosting.\n",
        "\n",
        "**Bagging**: Training a bunch of individual models in a parallel way. Each model is trained by a random subset of the data => bootstrapping the data plus using the aggregate to make a decision is called bagging!\n",
        "\n",
        "- **Random forest** is an ensemble model using bagging as the ensemble method and decision tree as the individual model.\n",
        "\n",
        "**Boosting**: Training a bunch of individual models in a sequential way. Each individual model learns from mistakes made by the previous model\n",
        "\n",
        "- **Gradient Boosting**: GBT build trees one at a time, where each new tree helps to correct errors made by previously trained tree. GBT build trees one at a time, where each new tree helps to correct errors made by previously trained tree."
      ]
    },
    {
      "cell_type": "markdown",
      "metadata": {
        "id": "gfVxBjsruRwu"
      },
      "source": [
        "Create a random forest classifier:"
      ]
    },
    {
      "cell_type": "code",
      "execution_count": null,
      "metadata": {
        "id": "w8SAE-NNuRwu"
      },
      "outputs": [],
      "source": [
        "from sklearn.ensemble import RandomForestClassifier"
      ]
    },
    {
      "cell_type": "code",
      "execution_count": null,
      "metadata": {
        "id": "tYlGmmzouRwu"
      },
      "outputs": [],
      "source": [
        "rf_model = RandomForestClassifier(\n",
        "    n_estimators=200,\n",
        "    max_depth=5\n",
        ")"
      ]
    },
    {
      "cell_type": "markdown",
      "metadata": {
        "id": "TuBeqjQbuRwu"
      },
      "source": [
        "Practice:"
      ]
    },
    {
      "cell_type": "markdown",
      "metadata": {
        "id": "FnOUSBPNuRwv"
      },
      "source": [
        "1. Train the model:"
      ]
    },
    {
      "cell_type": "code",
      "execution_count": null,
      "metadata": {
        "id": "KtBZiJzGuRwv",
        "outputId": "69f40fa9-e82b-4583-b09a-6deb87d3075c"
      },
      "outputs": [
        {
          "data": {
            "text/plain": [
              "RandomForestClassifier(max_depth=5, n_estimators=200)"
            ]
          },
          "execution_count": 212,
          "metadata": {},
          "output_type": "execute_result"
        }
      ],
      "source": [
        "rf_model.fit(X_train, y_train)"
      ]
    },
    {
      "cell_type": "markdown",
      "metadata": {
        "id": "4rits3AYuRwv"
      },
      "source": [
        "2. Make the prediction:"
      ]
    },
    {
      "cell_type": "code",
      "execution_count": null,
      "metadata": {
        "id": "cjwKpcAduRwv",
        "outputId": "7e0872d7-cb33-43ca-bbaa-0da993c0b6ed"
      },
      "outputs": [
        {
          "data": {
            "text/plain": [
              "array([0.06361386, 0.07040301, 0.0525002 , ..., 0.08512135, 0.05499349,\n",
              "       0.10708086])"
            ]
          },
          "execution_count": 213,
          "metadata": {},
          "output_type": "execute_result"
        }
      ],
      "source": [
        "rf_model_pred = rf_model.predict_proba(X_test)\n",
        "y_pred_proba=rf_model_pred[:,1]\n",
        "y_pred_proba"
      ]
    },
    {
      "cell_type": "markdown",
      "metadata": {
        "id": "la9JS9FNuRwv"
      },
      "source": [
        "3. Predict the label:"
      ]
    },
    {
      "cell_type": "code",
      "execution_count": null,
      "metadata": {
        "id": "hP6rx-8QuRwv",
        "outputId": "0e2245de-3581-4d8d-96da-4577993ff577"
      },
      "outputs": [
        {
          "data": {
            "text/plain": [
              "array([0, 0, 0, ..., 0, 0, 0], dtype=int64)"
            ]
          },
          "execution_count": 214,
          "metadata": {},
          "output_type": "execute_result"
        }
      ],
      "source": [
        "y_pred = rf_model.predict(X_test)\n",
        "y_pred"
      ]
    },
    {
      "cell_type": "markdown",
      "metadata": {
        "id": "hcirQSeGuRwv"
      },
      "source": [
        "4. Show the ROC_CURVE to evaluate the model performance:"
      ]
    },
    {
      "cell_type": "code",
      "execution_count": null,
      "metadata": {
        "id": "eZoJ_3CKuRwv",
        "outputId": "9b736a5d-b0d3-43d1-f978-08fa8f1a700e"
      },
      "outputs": [
        {
          "data": {
            "image/png": "[encoded data removed]",
            "text/plain": [
              "<Figure size 432x288 with 1 Axes>"
            ]
          },
          "metadata": {
            "needs_background": "light"
          },
          "output_type": "display_data"
        }
      ],
      "source": [
        "import numpy as np\n",
        "y_pred_proba=rf_model_pred[:,1]\n",
        "[fpr, tpr, thr] = metrics.roc_curve(y_test, y_pred_proba)\n",
        "idx = np.min(np.where(tpr > 0.95))  # index of the first threshold for which the sensibility > 0.95\n",
        "plt.figure()\n",
        "plt.plot(fpr, tpr, color='coral', label='ROC curve (area = %0.3f)' % metrics.auc(fpr, tpr))\n",
        "plt.plot([0, 1], [0, 1], 'k--')\n",
        "plt.plot([0, fpr[idx]], [tpr[idx], tpr[idx]], 'k--', color='blue')\n",
        "plt.plot([fpr[idx], fpr[idx]], [0, tpr[idx]], 'k--', color='blue')\n",
        "plt.xlim([0.0, 1.0])\n",
        "plt.ylim([0.0, 1.05])\n",
        "plt.xlabel('False Positive Rate (1 - specificity)', fontsize=14)\n",
        "plt.ylabel('True Positive Rate (recall)', fontsize=14)\n",
        "plt.title('Receiver operating characteristic (ROC) curve')\n",
        "plt.legend(loc=\"lower right\")\n",
        "plt.show()"
      ]
    },
    {
      "cell_type": "code",
      "execution_count": null,
      "metadata": {
        "id": "W-HwpmXWuRww"
      },
      "outputs": [],
      "source": []
    },
    {
      "cell_type": "markdown",
      "metadata": {
        "id": "7OzhtnHluRww"
      },
      "source": [
        "As you can see the advanced Machine Learning can have a much better performance than the traddional model"
      ]
    }
  ],
  "metadata": {
    "kernelspec": {
      "display_name": "Python 3",
      "language": "python",
      "name": "python3"
    },
    "language_info": {
      "codemirror_mode": {
        "name": "ipython",
        "version": 3
      },
      "file_extension": ".py",
      "mimetype": "text/x-python",
      "name": "python",
      "nbconvert_exporter": "python",
      "pygments_lexer": "ipython3",
      "version": "3.8.5"
    },
    "colab": {
      "provenance": [],
      "collapsed_sections": [
        "ksIiyHVSuRwi",
        "lK72wPZGuRwk",
        "Gn9sgB5puRwn",
        "NS3RFwkGuRwq"
      ]
    }
  },
  "nbformat": 4,
  "nbformat_minor": 0
}