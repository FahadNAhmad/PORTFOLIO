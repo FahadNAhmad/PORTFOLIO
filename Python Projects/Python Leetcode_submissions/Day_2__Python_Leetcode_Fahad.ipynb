{
  "cells": [
    {
      "cell_type": "markdown",
      "metadata": {
        "id": "18pDHs0gTB2U"
      },
      "source": [
        "# Q198. House Robber"
      ]
    },
    {
      "cell_type": "code",
      "execution_count": null,
      "metadata": {
        "id": "jPkfx1e2TB2U"
      },
      "outputs": [],
      "source": [
        "# Question:\n",
        "\n",
        "# You are a professional robber planning to rob houses along a street. \n",
        "# Each house has a certain amount of money stashed, \n",
        "# the only constraint stopping you from robbing each of them is that adjacent houses have security system connected \n",
        "# and it will automatically contact the police if two adjacent houses were broken into on the same night.\n",
        "\n",
        "# Given a list of non-negative integers representing the amount of money of each house, \n",
        "# determine the maximum amount of money you can rob tonight without alerting the police.\n",
        "\n",
        "# Input: nums = [1,2,3,1]\n",
        "# Output: 4\n",
        "# Explanation: Rob house 1 (money = 1) and then rob house 3 (money = 3).\n",
        "#              Total amount you can rob = 1 + 3 = 4.\n",
        "        \n",
        "# Input: nums = [2,7,9,3,1]\n",
        "# Output: 12\n",
        "# Explanation: Rob house 1 (money = 2), rob house 3 (money = 9) and rob house 5 (money = 1).\n",
        "#              Total amount you can rob = 2 + 9 + 1 = 12.\n",
        "\n",
        "nums = [2,7,9,3,1]"
      ]
    },
    {
      "cell_type": "markdown",
      "metadata": {
        "id": "Y9VXzcSpTB2V"
      },
      "source": [
        "Logic:\n",
        "- If there is only 1 house, then just rob that one house\n",
        "- If there are two houses, then rob whichever has the greater value\n",
        "- To rob or not rob the 3rd house, it depends on which one would yeild better result:\n",
        "    - Do not rob the 3rd house, value would be max(house 1, house 2)\n",
        "    - Rob the 3rd house, value would be house 3 + house 1\n",
        "- Repeat this process for the next house\n",
        "\n",
        "![Q198.png](attachment:Q198.png)"
      ]
    },
    {
      "cell_type": "code",
      "execution_count": 1,
      "metadata": {
        "id": "A9xA3kmzTB2V",
        "colab": {
          "base_uri": "https://localhost:8080/"
        },
        "outputId": "b3e15fe8-0a46-4d23-b1ea-a5007abe3d06"
      },
      "outputs": [
        {
          "output_type": "execute_result",
          "data": {
            "text/plain": [
              "12"
            ]
          },
          "metadata": {},
          "execution_count": 1
        }
      ],
      "source": [
        "# Approach 1: Recursive\n",
        "\n",
        "#def rob_1(nums):\n",
        "def rob(nums):\n",
        "    for i in range(1, len(nums)):\n",
        "        if i == 1:\n",
        "           #[2,7]\n",
        "           nums[i] = max(nums[i], nums[i-1])\n",
        "        else:\n",
        "           #[2,7,9] comparing (9+2,7)\n",
        "           nums[i] = max(nums[i]+nums[i-2],nums[i-1])\n",
        "    return nums[-1]\n",
        "\n",
        "\n",
        "#nums = [2,7,9]\n",
        "nums = [2,7,9,3,1]\n",
        "\n",
        "rob(nums)\n"
      ]
    },
    {
      "cell_type": "markdown",
      "metadata": {
        "id": "brP196twTB2V"
      },
      "source": [
        "# Q155. Min Stack"
      ]
    },
    {
      "cell_type": "code",
      "source": [
        "# Approach 1:\n",
        "#Design a class, that has various methods\n",
        "class MinStack_1():\n",
        "\n",
        "    def __init__(self):\n",
        "        \"\"\"\n",
        "        initialize your data structure here.\n",
        "        \"\"\"\n",
        "        self.lst= []\n",
        "        \n",
        "\n",
        "    #Push element x onto stack\n",
        "    def push(self, x):\n",
        "        \"\"\"\n",
        "        :type x: int\n",
        "        :rtype: void\n",
        "        \"\"\"\n",
        "        self.lst.append(x)\n",
        "\n",
        "    #Removes the element on top of the stack.\n",
        "    def pop(self):\n",
        "        \"\"\"\n",
        "        :rtype: void\n",
        "        \"\"\"\n",
        "        self.lst.pop()\n",
        "\n",
        "    #top() -- Get the top element.\n",
        "    def top(self):\n",
        "        \"\"\"\n",
        "        :rtype: int\n",
        "        \"\"\"\n",
        "        return self.lst[-1]\n",
        "\n",
        "    #getMin() -- Retrieve the minimum element in the stack.    \n",
        "    def getMin(self):\n",
        "        \"\"\"\n",
        "        :rtype: int\n",
        "        \"\"\"\n",
        "        return min(self.lst)\n",
        "    "
      ],
      "metadata": {
        "id": "UvFdGTHoaZVy"
      },
      "execution_count": null,
      "outputs": []
    },
    {
      "cell_type": "markdown",
      "metadata": {
        "id": "2XaSqjM-TB2W"
      },
      "source": [
        "Approach 2:\n",
        "\n",
        "- We can create another stack which records the minimum value at any given step\n",
        "- To get the min of entire stack, we can simply look for the last value in the new stack\n",
        "\n",
        "![Q155.png](attachment:Q155.png)"
      ]
    },
    {
      "cell_type": "code",
      "execution_count": 4,
      "metadata": {
        "colab": {
          "base_uri": "https://localhost:8080/"
        },
        "id": "d1bX9gyYTB2W",
        "outputId": "d5b33102-d213-472a-c68b-6d796b8e2516"
      },
      "outputs": [
        {
          "output_type": "execute_result",
          "data": {
            "text/plain": [
              "-2"
            ]
          },
          "metadata": {},
          "execution_count": 4
        }
      ],
      "source": [
        "# Approach 2:\n",
        "\n",
        "class MinStack_2(object):\n",
        "\n",
        "    def __init__(self):\n",
        "        \"\"\"\n",
        "        initialize your data structure here.\n",
        "        \"\"\"\n",
        "        self.lst= []\n",
        "        #self.min = None\n",
        "        self.min = float('inf')\n",
        "        \n",
        "    def push(self, x):\n",
        "        \"\"\"\n",
        "        :type x: int\n",
        "        :rtype: void\n",
        "        \"\"\"\n",
        "        #If x < min, then update min = z\n",
        "        #Lastly, push x into the stack\n",
        "        if x <= self.min:\n",
        "           self.lst.append(self.min)\n",
        "           self.min = x\n",
        "        self.lst.append(x)\n",
        "\n",
        "    def pop(self):\n",
        "        \"\"\"\n",
        "        :rtype: void\n",
        "        \"\"\"\n",
        "        #Get the last element of the list\n",
        "        #delete t from stack\n",
        "        #if t is min, then min := top element of the stack\n",
        "        top = self.lst[-1]\n",
        "        self.lst.pop()\n",
        "        if self.min == top:\n",
        "           self.min = self.lst[-1]\n",
        "           self.lst.pop()\n",
        "\n",
        "    def top(self):\n",
        "        \"\"\"\n",
        "        :rtype: int\n",
        "        \"\"\"\n",
        "        return self.lst[-1]\n",
        "           \n",
        "    def getMin(self):\n",
        "        \"\"\"\n",
        "        :rtype: int\n",
        "        \"\"\"\n",
        "        return self.min\n",
        "\n",
        "minStack = MinStack_2()\n",
        "minStack.push(-2)\n",
        "minStack.push(0)\n",
        "minStack.push(-3)\n",
        "minStack.getMin()\n",
        "minStack.pop()\n",
        "minStack.top()\n",
        "minStack.getMin()"
      ]
    },
    {
      "cell_type": "markdown",
      "source": [],
      "metadata": {
        "id": "Cov0dRe81qsf"
      }
    }
  ],
  "metadata": {
    "kernelspec": {
      "display_name": "Python 3",
      "language": "python",
      "name": "python3"
    },
    "language_info": {
      "codemirror_mode": {
        "name": "ipython",
        "version": 3
      },
      "file_extension": ".py",
      "mimetype": "text/x-python",
      "name": "python",
      "nbconvert_exporter": "python",
      "pygments_lexer": "ipython3",
      "version": "3.8.5"
    },
    "colab": {
      "provenance": [],
      "collapsed_sections": []
    }
  },
  "nbformat": 4,
  "nbformat_minor": 0
}