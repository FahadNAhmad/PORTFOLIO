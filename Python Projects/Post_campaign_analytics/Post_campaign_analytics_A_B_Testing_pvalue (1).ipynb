{
  "cells": [
    {
      "cell_type": "markdown",
      "metadata": {
        "id": "cFyHxmSmWcML"
      },
      "source": [
        "### 1. Basic Pandas concepts\n",
        "\n",
        "This part below is to help you review Pandas"
      ]
    },
    {
      "cell_type": "code",
      "execution_count": null,
      "metadata": {
        "id": "GXnh5ExBWcMR"
      },
      "outputs": [],
      "source": [
        "import pandas as pd # pandas provides indexing structure and data manipulation functionality"
      ]
    },
    {
      "cell_type": "markdown",
      "metadata": {
        "id": "FFhkRK1UWcMU"
      },
      "source": [
        "**Practice 1: use csv file -  'campaign.csv' to complate 1.1 and 1.2 by yourselves**"
      ]
    },
    {
      "cell_type": "markdown",
      "metadata": {
        "id": "-y25ieChWcMU"
      },
      "source": [
        "#### 1.1 Reading data\n",
        "Remember that local python runs in memory. If you're on a Windows machine, you can open the task manager to the memory tab and then run the below section. You should see a big spike in your memory usage as the dataframe loads.\n",
        "\n",
        "We recommend your data be in csv format if you're working with pandas. The `read_csv` function makes it really easy to read in data. File name is the only required argument."
      ]
    },
    {
      "cell_type": "code",
      "execution_count": null,
      "metadata": {
        "id": "wGecbu-gWcMV"
      },
      "outputs": [],
      "source": [
        "campaign = pd.read_csv(\"campaign.csv\")"
      ]
    },
    {
      "cell_type": "markdown",
      "metadata": {
        "id": "BR9D4Mb4WcMV"
      },
      "source": [
        "#### 1.2 Examine the data\n",
        "\n",
        "`.shape` is an *attribute* of a DataFrame object. This means it's a built-it in characteristic automatically available for all DataFrames.\n",
        "\n",
        "Specifically, `.shape` shows the dimensions of the df as rows, columns. In python, rows are axis=0 and columns are axis=1."
      ]
    },
    {
      "cell_type": "code",
      "execution_count": null,
      "metadata": {
        "id": "mP2L69xaWcMW",
        "outputId": "5480fcd8-fdc6-4328-b8f8-788b5d818a44"
      },
      "outputs": [
        {
          "data": {
            "text/plain": [
              "(10022, 10)"
            ]
          },
          "execution_count": 66,
          "metadata": {},
          "output_type": "execute_result"
        }
      ],
      "source": [
        "campaign.shape"
      ]
    },
    {
      "cell_type": "markdown",
      "metadata": {
        "id": "WrL2oybKWcMX"
      },
      "source": [
        "`.columns` shows the names of the columns in your dataframe.\n",
        "You can tell *attributes* and *methods* apart because the latter requires `()`.\n",
        "\n",
        "*Note:* .columns returns an index object, which does not have great formatting when displayed. Lists have better default formatting. As the name implies, `tolist()` converts the `columns` result to a list."
      ]
    },
    {
      "cell_type": "code",
      "execution_count": null,
      "metadata": {
        "id": "A9-0DBLyWcMY",
        "outputId": "56fca47d-fa9f-4ffe-8971-320e7f4cc812"
      },
      "outputs": [
        {
          "data": {
            "text/plain": [
              "Index(['user_id', 'date_served', 'marketing_channel', 'test_control',\n",
              "       'converted', 'language_preferred', 'age_group', 'date_subscribed',\n",
              "       'date_canceled', 'is_retained'],\n",
              "      dtype='object')"
            ]
          },
          "execution_count": 67,
          "metadata": {},
          "output_type": "execute_result"
        }
      ],
      "source": [
        "campaign.columns"
      ]
    },
    {
      "cell_type": "markdown",
      "metadata": {
        "id": "2Stn1HC_WcMZ"
      },
      "source": [
        "`.head(n)` shows the first n rows of the dataframe. If you omit n, it will return the first 5 rows.\n",
        "\n",
        "By default, ipython notebook shows 60 rows and 20 columns when you preview a pandas dataframe. To modify this default, use `pd.set_option()`, e.g. `pd.set_option(\"display.max_rows\",100)` or `pd.set_option(\"display.max_columns\",100)`"
      ]
    },
    {
      "cell_type": "code",
      "execution_count": null,
      "metadata": {
        "id": "ck4h1n7MWcMZ",
        "outputId": "2c6c1189-f130-4c5f-c598-3a24bd044fe0"
      },
      "outputs": [
        {
          "data": {
            "text/html": [
              "<div>\n",
              "<style scoped>\n",
              "    .dataframe tbody tr th:only-of-type {\n",
              "        vertical-align: middle;\n",
              "    }\n",
              "\n",
              "    .dataframe tbody tr th {\n",
              "        vertical-align: top;\n",
              "    }\n",
              "\n",
              "    .dataframe thead th {\n",
              "        text-align: right;\n",
              "    }\n",
              "</style>\n",
              "<table border=\"1\" class=\"dataframe\">\n",
              "  <thead>\n",
              "    <tr style=\"text-align: right;\">\n",
              "      <th></th>\n",
              "      <th>user_id</th>\n",
              "      <th>date_served</th>\n",
              "      <th>marketing_channel</th>\n",
              "      <th>test_control</th>\n",
              "      <th>converted</th>\n",
              "      <th>language_preferred</th>\n",
              "      <th>age_group</th>\n",
              "      <th>date_subscribed</th>\n",
              "      <th>date_canceled</th>\n",
              "      <th>is_retained</th>\n",
              "    </tr>\n",
              "  </thead>\n",
              "  <tbody>\n",
              "    <tr>\n",
              "      <th>0</th>\n",
              "      <td>a100000029</td>\n",
              "      <td>1/1/2018</td>\n",
              "      <td>House Ads</td>\n",
              "      <td>personalization</td>\n",
              "      <td>True</td>\n",
              "      <td>English</td>\n",
              "      <td>0-18 years</td>\n",
              "      <td>1/1/2018</td>\n",
              "      <td>NaN</td>\n",
              "      <td>True</td>\n",
              "    </tr>\n",
              "    <tr>\n",
              "      <th>1</th>\n",
              "      <td>a100000030</td>\n",
              "      <td>1/1/2018</td>\n",
              "      <td>House Ads</td>\n",
              "      <td>personalization</td>\n",
              "      <td>True</td>\n",
              "      <td>English</td>\n",
              "      <td>19-24 years</td>\n",
              "      <td>1/1/2018</td>\n",
              "      <td>NaN</td>\n",
              "      <td>True</td>\n",
              "    </tr>\n",
              "    <tr>\n",
              "      <th>2</th>\n",
              "      <td>a100000031</td>\n",
              "      <td>1/1/2018</td>\n",
              "      <td>House Ads</td>\n",
              "      <td>personalization</td>\n",
              "      <td>True</td>\n",
              "      <td>English</td>\n",
              "      <td>24-30 years</td>\n",
              "      <td>1/1/2018</td>\n",
              "      <td>NaN</td>\n",
              "      <td>True</td>\n",
              "    </tr>\n",
              "    <tr>\n",
              "      <th>3</th>\n",
              "      <td>a100000032</td>\n",
              "      <td>1/1/2018</td>\n",
              "      <td>House Ads</td>\n",
              "      <td>personalization</td>\n",
              "      <td>True</td>\n",
              "      <td>English</td>\n",
              "      <td>30-36 years</td>\n",
              "      <td>1/1/2018</td>\n",
              "      <td>NaN</td>\n",
              "      <td>True</td>\n",
              "    </tr>\n",
              "    <tr>\n",
              "      <th>4</th>\n",
              "      <td>a100000033</td>\n",
              "      <td>1/1/2018</td>\n",
              "      <td>House Ads</td>\n",
              "      <td>personalization</td>\n",
              "      <td>True</td>\n",
              "      <td>English</td>\n",
              "      <td>36-45 years</td>\n",
              "      <td>1/1/2018</td>\n",
              "      <td>NaN</td>\n",
              "      <td>True</td>\n",
              "    </tr>\n",
              "    <tr>\n",
              "      <th>...</th>\n",
              "      <td>...</td>\n",
              "      <td>...</td>\n",
              "      <td>...</td>\n",
              "      <td>...</td>\n",
              "      <td>...</td>\n",
              "      <td>...</td>\n",
              "      <td>...</td>\n",
              "      <td>...</td>\n",
              "      <td>...</td>\n",
              "      <td>...</td>\n",
              "    </tr>\n",
              "    <tr>\n",
              "      <th>95</th>\n",
              "      <td>a100000104</td>\n",
              "      <td>1/5/2018</td>\n",
              "      <td>House Ads</td>\n",
              "      <td>control</td>\n",
              "      <td>True</td>\n",
              "      <td>English</td>\n",
              "      <td>0-18 years</td>\n",
              "      <td>1/5/2018</td>\n",
              "      <td>2/17/2018</td>\n",
              "      <td>False</td>\n",
              "    </tr>\n",
              "    <tr>\n",
              "      <th>96</th>\n",
              "      <td>a100000104</td>\n",
              "      <td>1/4/2018</td>\n",
              "      <td>House Ads</td>\n",
              "      <td>control</td>\n",
              "      <td>False</td>\n",
              "      <td>English</td>\n",
              "      <td>0-18 years</td>\n",
              "      <td>1/5/2018</td>\n",
              "      <td>2/17/2018</td>\n",
              "      <td>False</td>\n",
              "    </tr>\n",
              "    <tr>\n",
              "      <th>97</th>\n",
              "      <td>a100000105</td>\n",
              "      <td>1/5/2018</td>\n",
              "      <td>House Ads</td>\n",
              "      <td>control</td>\n",
              "      <td>True</td>\n",
              "      <td>English</td>\n",
              "      <td>19-24 years</td>\n",
              "      <td>1/5/2018</td>\n",
              "      <td>4/14/2018</td>\n",
              "      <td>False</td>\n",
              "    </tr>\n",
              "    <tr>\n",
              "      <th>98</th>\n",
              "      <td>a100000105</td>\n",
              "      <td>1/4/2018</td>\n",
              "      <td>House Ads</td>\n",
              "      <td>control</td>\n",
              "      <td>False</td>\n",
              "      <td>English</td>\n",
              "      <td>19-24 years</td>\n",
              "      <td>1/5/2018</td>\n",
              "      <td>4/14/2018</td>\n",
              "      <td>False</td>\n",
              "    </tr>\n",
              "    <tr>\n",
              "      <th>99</th>\n",
              "      <td>a100000107</td>\n",
              "      <td>1/5/2018</td>\n",
              "      <td>House Ads</td>\n",
              "      <td>control</td>\n",
              "      <td>True</td>\n",
              "      <td>English</td>\n",
              "      <td>24-30 years</td>\n",
              "      <td>1/5/2018</td>\n",
              "      <td>1/11/2018</td>\n",
              "      <td>False</td>\n",
              "    </tr>\n",
              "  </tbody>\n",
              "</table>\n",
              "<p>100 rows × 10 columns</p>\n",
              "</div>"
            ],
            "text/plain": [
              "       user_id date_served marketing_channel     test_control  converted  \\\n",
              "0   a100000029    1/1/2018         House Ads  personalization       True   \n",
              "1   a100000030    1/1/2018         House Ads  personalization       True   \n",
              "2   a100000031    1/1/2018         House Ads  personalization       True   \n",
              "3   a100000032    1/1/2018         House Ads  personalization       True   \n",
              "4   a100000033    1/1/2018         House Ads  personalization       True   \n",
              "..         ...         ...               ...              ...        ...   \n",
              "95  a100000104    1/5/2018         House Ads          control       True   \n",
              "96  a100000104    1/4/2018         House Ads          control      False   \n",
              "97  a100000105    1/5/2018         House Ads          control       True   \n",
              "98  a100000105    1/4/2018         House Ads          control      False   \n",
              "99  a100000107    1/5/2018         House Ads          control       True   \n",
              "\n",
              "   language_preferred    age_group date_subscribed date_canceled is_retained  \n",
              "0             English   0-18 years        1/1/2018           NaN        True  \n",
              "1             English  19-24 years        1/1/2018           NaN        True  \n",
              "2             English  24-30 years        1/1/2018           NaN        True  \n",
              "3             English  30-36 years        1/1/2018           NaN        True  \n",
              "4             English  36-45 years        1/1/2018           NaN        True  \n",
              "..                ...          ...             ...           ...         ...  \n",
              "95            English   0-18 years        1/5/2018     2/17/2018       False  \n",
              "96            English   0-18 years        1/5/2018     2/17/2018       False  \n",
              "97            English  19-24 years        1/5/2018     4/14/2018       False  \n",
              "98            English  19-24 years        1/5/2018     4/14/2018       False  \n",
              "99            English  24-30 years        1/5/2018     1/11/2018       False  \n",
              "\n",
              "[100 rows x 10 columns]"
            ]
          },
          "execution_count": 68,
          "metadata": {},
          "output_type": "execute_result"
        }
      ],
      "source": [
        "# look at the data\n",
        "campaign.head(100)"
      ]
    },
    {
      "cell_type": "markdown",
      "metadata": {
        "id": "pax4jwxUWcMa"
      },
      "source": [
        "`.describe()` provides summary statistics for both numeric and non-numeric data."
      ]
    },
    {
      "cell_type": "code",
      "execution_count": null,
      "metadata": {
        "id": "gLt5lCeIWcMa",
        "outputId": "7e3c9078-a918-4208-806d-1adf26baca4e"
      },
      "outputs": [
        {
          "data": {
            "text/html": [
              "<div>\n",
              "<style scoped>\n",
              "    .dataframe tbody tr th:only-of-type {\n",
              "        vertical-align: middle;\n",
              "    }\n",
              "\n",
              "    .dataframe tbody tr th {\n",
              "        vertical-align: top;\n",
              "    }\n",
              "\n",
              "    .dataframe thead th {\n",
              "        text-align: right;\n",
              "    }\n",
              "</style>\n",
              "<table border=\"1\" class=\"dataframe\">\n",
              "  <thead>\n",
              "    <tr style=\"text-align: right;\">\n",
              "      <th></th>\n",
              "      <th>user_id</th>\n",
              "      <th>date_served</th>\n",
              "      <th>marketing_channel</th>\n",
              "      <th>test_control</th>\n",
              "      <th>converted</th>\n",
              "      <th>language_preferred</th>\n",
              "      <th>age_group</th>\n",
              "      <th>date_subscribed</th>\n",
              "      <th>date_canceled</th>\n",
              "      <th>is_retained</th>\n",
              "    </tr>\n",
              "  </thead>\n",
              "  <tbody>\n",
              "    <tr>\n",
              "      <th>count</th>\n",
              "      <td>10022</td>\n",
              "      <td>10021</td>\n",
              "      <td>10022</td>\n",
              "      <td>10022</td>\n",
              "      <td>10022</td>\n",
              "      <td>10022</td>\n",
              "      <td>10022</td>\n",
              "      <td>1856</td>\n",
              "      <td>577</td>\n",
              "      <td>1856</td>\n",
              "    </tr>\n",
              "    <tr>\n",
              "      <th>unique</th>\n",
              "      <td>7294</td>\n",
              "      <td>31</td>\n",
              "      <td>5</td>\n",
              "      <td>2</td>\n",
              "      <td>2</td>\n",
              "      <td>4</td>\n",
              "      <td>7</td>\n",
              "      <td>31</td>\n",
              "      <td>115</td>\n",
              "      <td>2</td>\n",
              "    </tr>\n",
              "    <tr>\n",
              "      <th>top</th>\n",
              "      <td>a100000882</td>\n",
              "      <td>1/15/2018</td>\n",
              "      <td>House Ads</td>\n",
              "      <td>control</td>\n",
              "      <td>False</td>\n",
              "      <td>English</td>\n",
              "      <td>19-24 years</td>\n",
              "      <td>1/16/2018</td>\n",
              "      <td>4/2/2018</td>\n",
              "      <td>True</td>\n",
              "    </tr>\n",
              "    <tr>\n",
              "      <th>freq</th>\n",
              "      <td>12</td>\n",
              "      <td>789</td>\n",
              "      <td>4733</td>\n",
              "      <td>5076</td>\n",
              "      <td>8946</td>\n",
              "      <td>9260</td>\n",
              "      <td>1679</td>\n",
              "      <td>163</td>\n",
              "      <td>15</td>\n",
              "      <td>1279</td>\n",
              "    </tr>\n",
              "  </tbody>\n",
              "</table>\n",
              "</div>"
            ],
            "text/plain": [
              "           user_id date_served marketing_channel test_control converted  \\\n",
              "count        10022       10021             10022        10022     10022   \n",
              "unique        7294          31                 5            2         2   \n",
              "top     a100000882   1/15/2018         House Ads      control     False   \n",
              "freq            12         789              4733         5076      8946   \n",
              "\n",
              "       language_preferred    age_group date_subscribed date_canceled  \\\n",
              "count               10022        10022            1856           577   \n",
              "unique                  4            7              31           115   \n",
              "top               English  19-24 years       1/16/2018      4/2/2018   \n",
              "freq                 9260         1679             163            15   \n",
              "\n",
              "       is_retained  \n",
              "count         1856  \n",
              "unique           2  \n",
              "top           True  \n",
              "freq          1279  "
            ]
          },
          "execution_count": 69,
          "metadata": {},
          "output_type": "execute_result"
        }
      ],
      "source": [
        "# look at the summary info\n",
        "campaign.describe()"
      ]
    },
    {
      "cell_type": "markdown",
      "metadata": {
        "id": "WjDI68zyWcMb"
      },
      "source": [
        " **Use square brackets to select Dataframes**\n",
        " - single bracket give a Pandas Series\n",
        " - double bracket give a Pandas Dataframe"
      ]
    },
    {
      "cell_type": "code",
      "execution_count": null,
      "metadata": {
        "id": "foHPjjFGWcMb",
        "outputId": "1e338f4e-7651-4848-c137-d7068ebd173c"
      },
      "outputs": [
        {
          "data": {
            "text/plain": [
              "0        House Ads\n",
              "1        House Ads\n",
              "2        House Ads\n",
              "3        House Ads\n",
              "4        House Ads\n",
              "           ...    \n",
              "10017        Email\n",
              "10018        Email\n",
              "10019    Instagram\n",
              "10020        Email\n",
              "10021     Facebook\n",
              "Name: marketing_channel, Length: 10022, dtype: object"
            ]
          },
          "execution_count": 70,
          "metadata": {},
          "output_type": "execute_result"
        }
      ],
      "source": [
        "campaign[\"marketing_channel\"]"
      ]
    },
    {
      "cell_type": "code",
      "execution_count": null,
      "metadata": {
        "id": "fkcecSEqWcMb",
        "outputId": "042e7fb3-d54e-439b-971d-96a5924890a0"
      },
      "outputs": [
        {
          "data": {
            "text/html": [
              "<div>\n",
              "<style scoped>\n",
              "    .dataframe tbody tr th:only-of-type {\n",
              "        vertical-align: middle;\n",
              "    }\n",
              "\n",
              "    .dataframe tbody tr th {\n",
              "        vertical-align: top;\n",
              "    }\n",
              "\n",
              "    .dataframe thead th {\n",
              "        text-align: right;\n",
              "    }\n",
              "</style>\n",
              "<table border=\"1\" class=\"dataframe\">\n",
              "  <thead>\n",
              "    <tr style=\"text-align: right;\">\n",
              "      <th></th>\n",
              "      <th>marketing_channel</th>\n",
              "    </tr>\n",
              "  </thead>\n",
              "  <tbody>\n",
              "    <tr>\n",
              "      <th>0</th>\n",
              "      <td>House Ads</td>\n",
              "    </tr>\n",
              "    <tr>\n",
              "      <th>1</th>\n",
              "      <td>House Ads</td>\n",
              "    </tr>\n",
              "    <tr>\n",
              "      <th>2</th>\n",
              "      <td>House Ads</td>\n",
              "    </tr>\n",
              "    <tr>\n",
              "      <th>3</th>\n",
              "      <td>House Ads</td>\n",
              "    </tr>\n",
              "    <tr>\n",
              "      <th>4</th>\n",
              "      <td>House Ads</td>\n",
              "    </tr>\n",
              "    <tr>\n",
              "      <th>...</th>\n",
              "      <td>...</td>\n",
              "    </tr>\n",
              "    <tr>\n",
              "      <th>10017</th>\n",
              "      <td>Email</td>\n",
              "    </tr>\n",
              "    <tr>\n",
              "      <th>10018</th>\n",
              "      <td>Email</td>\n",
              "    </tr>\n",
              "    <tr>\n",
              "      <th>10019</th>\n",
              "      <td>Instagram</td>\n",
              "    </tr>\n",
              "    <tr>\n",
              "      <th>10020</th>\n",
              "      <td>Email</td>\n",
              "    </tr>\n",
              "    <tr>\n",
              "      <th>10021</th>\n",
              "      <td>Facebook</td>\n",
              "    </tr>\n",
              "  </tbody>\n",
              "</table>\n",
              "<p>10022 rows × 1 columns</p>\n",
              "</div>"
            ],
            "text/plain": [
              "      marketing_channel\n",
              "0             House Ads\n",
              "1             House Ads\n",
              "2             House Ads\n",
              "3             House Ads\n",
              "4             House Ads\n",
              "...                 ...\n",
              "10017             Email\n",
              "10018             Email\n",
              "10019         Instagram\n",
              "10020             Email\n",
              "10021          Facebook\n",
              "\n",
              "[10022 rows x 1 columns]"
            ]
          },
          "execution_count": 71,
          "metadata": {},
          "output_type": "execute_result"
        }
      ],
      "source": [
        "campaign[[\"marketing_channel\"]]"
      ]
    },
    {
      "cell_type": "markdown",
      "metadata": {
        "id": "RRTO5dmAWcMb"
      },
      "source": [
        "Check **duplicate** records for primary key column\n",
        "- think about why duplicates could happen?"
      ]
    },
    {
      "cell_type": "code",
      "execution_count": null,
      "metadata": {
        "id": "4iY3EPEfWcMc",
        "outputId": "c129c849-9ec8-4830-b837-45167a973614"
      },
      "outputs": [
        {
          "data": {
            "text/plain": [
              "10022"
            ]
          },
          "execution_count": 72,
          "metadata": {},
          "output_type": "execute_result"
        }
      ],
      "source": [
        "len(campaign[\"user_id\"])"
      ]
    },
    {
      "cell_type": "code",
      "execution_count": null,
      "metadata": {
        "id": "HSF_9D_5WcMc",
        "outputId": "efb23b5b-b9db-4a9d-9060-658c6ad3b005"
      },
      "outputs": [
        {
          "data": {
            "text/plain": [
              "7294"
            ]
          },
          "execution_count": 73,
          "metadata": {},
          "output_type": "execute_result"
        }
      ],
      "source": [
        "len(campaign[\"user_id\"].unique())"
      ]
    },
    {
      "cell_type": "markdown",
      "metadata": {
        "id": "6umKPADbWcMc"
      },
      "source": [
        "Use **DataFrame.nunique** to count distinct observations over requested axis (default is 0 for row-wise)"
      ]
    },
    {
      "cell_type": "code",
      "execution_count": null,
      "metadata": {
        "id": "SjGqysu2WcMc",
        "outputId": "59c3e72a-153b-4aef-d6cd-9247a6e09030"
      },
      "outputs": [
        {
          "data": {
            "text/plain": [
              "7294"
            ]
          },
          "execution_count": 74,
          "metadata": {},
          "output_type": "execute_result"
        }
      ],
      "source": [
        "campaign[\"user_id\"].nunique()"
      ]
    },
    {
      "cell_type": "code",
      "execution_count": null,
      "metadata": {
        "id": "3YKN7pNeWcMd",
        "outputId": "9d661b86-6ff7-4a1e-efda-58a59bf81ee4"
      },
      "outputs": [
        {
          "data": {
            "text/plain": [
              "array(['a100000029', 'a100000030', 'a100000031', ..., 'a100007292',\n",
              "       'a100007293', 'a100007294'], dtype=object)"
            ]
          },
          "execution_count": 75,
          "metadata": {},
          "output_type": "execute_result"
        }
      ],
      "source": [
        "campaign[\"user_id\"].unique()"
      ]
    },
    {
      "cell_type": "markdown",
      "metadata": {
        "id": "EITZK--NWcMd"
      },
      "source": [
        "For categorical fields or numeric fields with a small number of values, you can use `value_counts()` to see unique values and their frequency. "
      ]
    },
    {
      "cell_type": "code",
      "execution_count": null,
      "metadata": {
        "id": "moDGSvLjWcMd",
        "outputId": "06e01596-d444-49d3-d8bd-f87723de5c9f"
      },
      "outputs": [
        {
          "data": {
            "text/plain": [
              "House Ads    4733\n",
              "Instagram    1871\n",
              "Facebook     1860\n",
              "Push          993\n",
              "Email         565\n",
              "Name: marketing_channel, dtype: int64"
            ]
          },
          "execution_count": 76,
          "metadata": {},
          "output_type": "execute_result"
        }
      ],
      "source": [
        "campaign[\"marketing_channel\"].value_counts()"
      ]
    },
    {
      "cell_type": "markdown",
      "metadata": {
        "id": "Qnt_93mXWcMe"
      },
      "source": [
        "If you don't care about the frequency and just want an easily readable list of the values from a categorical field, use .unique()"
      ]
    },
    {
      "cell_type": "code",
      "execution_count": null,
      "metadata": {
        "id": "job3XvxYWcMe",
        "outputId": "caf70fa6-def9-4a6b-c318-f638d9109652"
      },
      "outputs": [
        {
          "data": {
            "text/plain": [
              "array(['House Ads', 'Push', 'Facebook', 'Instagram', 'Email'],\n",
              "      dtype=object)"
            ]
          },
          "execution_count": 77,
          "metadata": {},
          "output_type": "execute_result"
        }
      ],
      "source": [
        "campaign[\"marketing_channel\"].unique()"
      ]
    },
    {
      "cell_type": "code",
      "execution_count": null,
      "metadata": {
        "id": "9F2pOS1QWcMe",
        "outputId": "5388c718-da9b-436c-e53d-f7494db82aa7"
      },
      "outputs": [
        {
          "name": "stdout",
          "output_type": "stream",
          "text": [
            "<class 'pandas.core.frame.DataFrame'>\n",
            "RangeIndex: 10022 entries, 0 to 10021\n",
            "Data columns (total 10 columns):\n",
            " #   Column              Non-Null Count  Dtype \n",
            "---  ------              --------------  ----- \n",
            " 0   user_id             10022 non-null  object\n",
            " 1   date_served         10021 non-null  object\n",
            " 2   marketing_channel   10022 non-null  object\n",
            " 3   test_control        10022 non-null  object\n",
            " 4   converted           10022 non-null  bool  \n",
            " 5   language_preferred  10022 non-null  object\n",
            " 6   age_group           10022 non-null  object\n",
            " 7   date_subscribed     1856 non-null   object\n",
            " 8   date_canceled       577 non-null    object\n",
            " 9   is_retained         1856 non-null   object\n",
            "dtypes: bool(1), object(9)\n",
            "memory usage: 714.6+ KB\n"
          ]
        }
      ],
      "source": [
        "campaign.info()"
      ]
    },
    {
      "cell_type": "markdown",
      "metadata": {
        "id": "sohpghweWcMe"
      },
      "source": [
        "`.isnull()` is a method that returns true if values are null.\n",
        "\n",
        "The code below:\n",
        "1. Creates a boolean dataframe with True for null values and False for non-null values\n",
        "2. Sums the number of True's by column (in python True=1 and False=0)"
      ]
    },
    {
      "cell_type": "code",
      "execution_count": null,
      "metadata": {
        "id": "9MxyqYzJWcMe",
        "outputId": "c28de72f-1deb-4b4a-9c7f-c2ede5743cbc"
      },
      "outputs": [
        {
          "data": {
            "text/html": [
              "<div>\n",
              "<style scoped>\n",
              "    .dataframe tbody tr th:only-of-type {\n",
              "        vertical-align: middle;\n",
              "    }\n",
              "\n",
              "    .dataframe tbody tr th {\n",
              "        vertical-align: top;\n",
              "    }\n",
              "\n",
              "    .dataframe thead th {\n",
              "        text-align: right;\n",
              "    }\n",
              "</style>\n",
              "<table border=\"1\" class=\"dataframe\">\n",
              "  <thead>\n",
              "    <tr style=\"text-align: right;\">\n",
              "      <th></th>\n",
              "      <th>user_id</th>\n",
              "      <th>date_served</th>\n",
              "      <th>marketing_channel</th>\n",
              "      <th>test_control</th>\n",
              "      <th>converted</th>\n",
              "      <th>language_preferred</th>\n",
              "      <th>age_group</th>\n",
              "      <th>date_subscribed</th>\n",
              "      <th>date_canceled</th>\n",
              "      <th>is_retained</th>\n",
              "    </tr>\n",
              "  </thead>\n",
              "  <tbody>\n",
              "    <tr>\n",
              "      <th>0</th>\n",
              "      <td>False</td>\n",
              "      <td>False</td>\n",
              "      <td>False</td>\n",
              "      <td>False</td>\n",
              "      <td>False</td>\n",
              "      <td>False</td>\n",
              "      <td>False</td>\n",
              "      <td>False</td>\n",
              "      <td>True</td>\n",
              "      <td>False</td>\n",
              "    </tr>\n",
              "    <tr>\n",
              "      <th>1</th>\n",
              "      <td>False</td>\n",
              "      <td>False</td>\n",
              "      <td>False</td>\n",
              "      <td>False</td>\n",
              "      <td>False</td>\n",
              "      <td>False</td>\n",
              "      <td>False</td>\n",
              "      <td>False</td>\n",
              "      <td>True</td>\n",
              "      <td>False</td>\n",
              "    </tr>\n",
              "    <tr>\n",
              "      <th>2</th>\n",
              "      <td>False</td>\n",
              "      <td>False</td>\n",
              "      <td>False</td>\n",
              "      <td>False</td>\n",
              "      <td>False</td>\n",
              "      <td>False</td>\n",
              "      <td>False</td>\n",
              "      <td>False</td>\n",
              "      <td>True</td>\n",
              "      <td>False</td>\n",
              "    </tr>\n",
              "    <tr>\n",
              "      <th>3</th>\n",
              "      <td>False</td>\n",
              "      <td>False</td>\n",
              "      <td>False</td>\n",
              "      <td>False</td>\n",
              "      <td>False</td>\n",
              "      <td>False</td>\n",
              "      <td>False</td>\n",
              "      <td>False</td>\n",
              "      <td>True</td>\n",
              "      <td>False</td>\n",
              "    </tr>\n",
              "    <tr>\n",
              "      <th>4</th>\n",
              "      <td>False</td>\n",
              "      <td>False</td>\n",
              "      <td>False</td>\n",
              "      <td>False</td>\n",
              "      <td>False</td>\n",
              "      <td>False</td>\n",
              "      <td>False</td>\n",
              "      <td>False</td>\n",
              "      <td>True</td>\n",
              "      <td>False</td>\n",
              "    </tr>\n",
              "    <tr>\n",
              "      <th>...</th>\n",
              "      <td>...</td>\n",
              "      <td>...</td>\n",
              "      <td>...</td>\n",
              "      <td>...</td>\n",
              "      <td>...</td>\n",
              "      <td>...</td>\n",
              "      <td>...</td>\n",
              "      <td>...</td>\n",
              "      <td>...</td>\n",
              "      <td>...</td>\n",
              "    </tr>\n",
              "    <tr>\n",
              "      <th>10017</th>\n",
              "      <td>False</td>\n",
              "      <td>False</td>\n",
              "      <td>False</td>\n",
              "      <td>False</td>\n",
              "      <td>False</td>\n",
              "      <td>False</td>\n",
              "      <td>False</td>\n",
              "      <td>False</td>\n",
              "      <td>False</td>\n",
              "      <td>False</td>\n",
              "    </tr>\n",
              "    <tr>\n",
              "      <th>10018</th>\n",
              "      <td>False</td>\n",
              "      <td>False</td>\n",
              "      <td>False</td>\n",
              "      <td>False</td>\n",
              "      <td>False</td>\n",
              "      <td>False</td>\n",
              "      <td>False</td>\n",
              "      <td>False</td>\n",
              "      <td>True</td>\n",
              "      <td>False</td>\n",
              "    </tr>\n",
              "    <tr>\n",
              "      <th>10019</th>\n",
              "      <td>False</td>\n",
              "      <td>False</td>\n",
              "      <td>False</td>\n",
              "      <td>False</td>\n",
              "      <td>False</td>\n",
              "      <td>False</td>\n",
              "      <td>False</td>\n",
              "      <td>False</td>\n",
              "      <td>True</td>\n",
              "      <td>False</td>\n",
              "    </tr>\n",
              "    <tr>\n",
              "      <th>10020</th>\n",
              "      <td>False</td>\n",
              "      <td>False</td>\n",
              "      <td>False</td>\n",
              "      <td>False</td>\n",
              "      <td>False</td>\n",
              "      <td>False</td>\n",
              "      <td>False</td>\n",
              "      <td>False</td>\n",
              "      <td>True</td>\n",
              "      <td>False</td>\n",
              "    </tr>\n",
              "    <tr>\n",
              "      <th>10021</th>\n",
              "      <td>False</td>\n",
              "      <td>False</td>\n",
              "      <td>False</td>\n",
              "      <td>False</td>\n",
              "      <td>False</td>\n",
              "      <td>False</td>\n",
              "      <td>False</td>\n",
              "      <td>False</td>\n",
              "      <td>True</td>\n",
              "      <td>False</td>\n",
              "    </tr>\n",
              "  </tbody>\n",
              "</table>\n",
              "<p>10022 rows × 10 columns</p>\n",
              "</div>"
            ],
            "text/plain": [
              "       user_id  date_served  marketing_channel  test_control  converted  \\\n",
              "0        False        False              False         False      False   \n",
              "1        False        False              False         False      False   \n",
              "2        False        False              False         False      False   \n",
              "3        False        False              False         False      False   \n",
              "4        False        False              False         False      False   \n",
              "...        ...          ...                ...           ...        ...   \n",
              "10017    False        False              False         False      False   \n",
              "10018    False        False              False         False      False   \n",
              "10019    False        False              False         False      False   \n",
              "10020    False        False              False         False      False   \n",
              "10021    False        False              False         False      False   \n",
              "\n",
              "       language_preferred  age_group  date_subscribed  date_canceled  \\\n",
              "0                   False      False            False           True   \n",
              "1                   False      False            False           True   \n",
              "2                   False      False            False           True   \n",
              "3                   False      False            False           True   \n",
              "4                   False      False            False           True   \n",
              "...                   ...        ...              ...            ...   \n",
              "10017               False      False            False          False   \n",
              "10018               False      False            False           True   \n",
              "10019               False      False            False           True   \n",
              "10020               False      False            False           True   \n",
              "10021               False      False            False           True   \n",
              "\n",
              "       is_retained  \n",
              "0            False  \n",
              "1            False  \n",
              "2            False  \n",
              "3            False  \n",
              "4            False  \n",
              "...            ...  \n",
              "10017        False  \n",
              "10018        False  \n",
              "10019        False  \n",
              "10020        False  \n",
              "10021        False  \n",
              "\n",
              "[10022 rows x 10 columns]"
            ]
          },
          "execution_count": 79,
          "metadata": {},
          "output_type": "execute_result"
        }
      ],
      "source": [
        "campaign.isnull()"
      ]
    },
    {
      "cell_type": "markdown",
      "metadata": {
        "id": "bXAOQJwTWcMe"
      },
      "source": [
        "**get the number of Missing records in each column:**"
      ]
    },
    {
      "cell_type": "code",
      "execution_count": null,
      "metadata": {
        "id": "79YhVZy-WcMe",
        "outputId": "be8c0563-c92e-4ba9-9182-ef9a472df279"
      },
      "outputs": [
        {
          "data": {
            "text/plain": [
              "user_id                  0\n",
              "date_served              1\n",
              "marketing_channel        0\n",
              "test_control             0\n",
              "converted                0\n",
              "language_preferred       0\n",
              "age_group                0\n",
              "date_subscribed       8166\n",
              "date_canceled         9445\n",
              "is_retained           8166\n",
              "dtype: int64"
            ]
          },
          "execution_count": 80,
          "metadata": {},
          "output_type": "execute_result"
        }
      ],
      "source": [
        "campaign.isnull().sum()"
      ]
    },
    {
      "cell_type": "code",
      "execution_count": null,
      "metadata": {
        "id": "S7onr2sQWcMf"
      },
      "outputs": [],
      "source": []
    },
    {
      "cell_type": "markdown",
      "metadata": {
        "id": "PrI--pVlWcMf"
      },
      "source": [
        "### 2. Campaign result overview"
      ]
    },
    {
      "cell_type": "markdown",
      "metadata": {
        "id": "EoTMfHU7WcMf"
      },
      "source": [
        "**.Groupby**, similar to Group by in SQL, it lets you group data, which is very powerful for analysis. A few things to know:\n",
        "\n",
        ".groupby() returns a groupby object which then needs to be aggregated with count, sum, mean, median etc.\n",
        "By default, .groupby() turns the column you group on into the index for the grouped data\n",
        ".groupby() excludes missings!\n",
        "The format for .groupby() is dataframe.groupby(\"column to group on\")[\"column to summarize\"].summary_function(). Both the \"column to group on\" and the \"column to summarize\" arguments can take more than one column if you input them as a list.\n",
        "\n",
        "Some summary functions:\n",
        "\n",
        "sum(), mean(), median(), min(), count(), max()"
      ]
    },
    {
      "cell_type": "markdown",
      "metadata": {
        "id": "9eQ6OJneWcMf"
      },
      "source": [
        "#### 2.1 How many users receive marketing offers by day?"
      ]
    },
    {
      "cell_type": "code",
      "execution_count": null,
      "metadata": {
        "id": "04iJcmYUWcMf",
        "outputId": "e93c310a-5651-4843-c415-8f1b361a50d4"
      },
      "outputs": [
        {
          "name": "stdout",
          "output_type": "stream",
          "text": [
            "date_served\n",
            "1/1/2018     362\n",
            "1/10/2018    337\n",
            "1/11/2018    310\n",
            "1/12/2018    301\n",
            "1/13/2018    306\n",
            "1/14/2018    305\n",
            "1/15/2018    767\n",
            "1/16/2018    388\n",
            "1/17/2018    369\n",
            "1/18/2018    318\n",
            "1/19/2018    305\n",
            "1/2/2018     374\n",
            "1/20/2018    311\n",
            "1/21/2018    229\n",
            "1/22/2018    178\n",
            "1/23/2018    172\n",
            "1/24/2018    190\n",
            "1/25/2018    184\n",
            "1/26/2018    222\n",
            "1/27/2018    320\n",
            "1/28/2018    320\n",
            "1/29/2018    319\n",
            "1/3/2018     348\n",
            "1/30/2018    317\n",
            "1/31/2018    340\n",
            "1/4/2018     323\n",
            "1/5/2018     319\n",
            "1/6/2018     308\n",
            "1/7/2018     275\n",
            "1/8/2018     312\n",
            "1/9/2018     312\n",
            "Name: user_id, dtype: int64\n"
          ]
        }
      ],
      "source": [
        "#Group by date_served\n",
        "daily_users = campaign.groupby(['date_served'])['user_id'].nunique()\n",
        "print(daily_users)\n",
        "# select date_served, count(distinct user_id) from campaign group by 1;"
      ]
    },
    {
      "cell_type": "code",
      "execution_count": null,
      "metadata": {
        "id": "3ec6ektZWcMg",
        "outputId": "6425e30e-95b2-429b-da74-5271ed693b34"
      },
      "outputs": [
        {
          "data": {
            "text/plain": [
              "pandas.core.series.Series"
            ]
          },
          "execution_count": 82,
          "metadata": {},
          "output_type": "execute_result"
        }
      ],
      "source": [
        "type(daily_users)"
      ]
    },
    {
      "cell_type": "markdown",
      "metadata": {
        "id": "bEQ7C2GuWcMh"
      },
      "source": [
        "DataFrame.nunique(): Count distinct observations over requested axis.  "
      ]
    },
    {
      "cell_type": "code",
      "execution_count": null,
      "metadata": {
        "id": "4aoU8c3dWcMh",
        "outputId": "7e02c348-3b08-406d-cb64-e43ad560cb9a"
      },
      "outputs": [
        {
          "name": "stdout",
          "output_type": "stream",
          "text": [
            "date_served\n",
            "1/1/2018     362\n",
            "1/10/2018    337\n",
            "1/11/2018    310\n",
            "1/12/2018    301\n",
            "1/13/2018    306\n",
            "1/14/2018    305\n",
            "1/15/2018    767\n",
            "1/16/2018    388\n",
            "1/17/2018    369\n",
            "1/18/2018    318\n",
            "1/19/2018    305\n",
            "1/2/2018     374\n",
            "1/20/2018    311\n",
            "1/21/2018    229\n",
            "1/22/2018    178\n",
            "1/23/2018    172\n",
            "1/24/2018    190\n",
            "1/25/2018    184\n",
            "1/26/2018    222\n",
            "1/27/2018    320\n",
            "1/28/2018    320\n",
            "1/29/2018    319\n",
            "1/3/2018     348\n",
            "1/30/2018    317\n",
            "1/31/2018    340\n",
            "1/4/2018     323\n",
            "1/5/2018     319\n",
            "1/6/2018     308\n",
            "1/7/2018     275\n",
            "1/8/2018     312\n",
            "1/9/2018     312\n",
            "Name: user_id, dtype: int64\n"
          ]
        }
      ],
      "source": [
        "print(daily_users)"
      ]
    },
    {
      "cell_type": "markdown",
      "metadata": {
        "id": "pMGcFEeUWcMh"
      },
      "source": [
        "Visualization in Python"
      ]
    },
    {
      "cell_type": "code",
      "execution_count": null,
      "metadata": {
        "scrolled": true,
        "id": "XNBPjrdJWcMh",
        "outputId": "8a6d5ffe-c97d-4914-9c78-a6947b9d38c9"
      },
      "outputs": [
        {
          "data": {
            "image/png": "[encoded data removed]",
            "text/plain": [
              "<Figure size 432x288 with 1 Axes>"
            ]
          },
          "metadata": {
            "needs_background": "light"
          },
          "output_type": "display_data"
        }
      ],
      "source": [
        "import matplotlib.pyplot as plt\n",
        "\n",
        "# plot\n",
        "daily_users.plot()\n",
        "\n",
        "# annotate\n",
        "plt.title('daily number of users seeing the ads')\n",
        "plt.xlabel('Date')\n",
        "plt.ylabel('Number of users')\n",
        "plt.show()"
      ]
    },
    {
      "cell_type": "markdown",
      "metadata": {
        "id": "dAoAKJqaWcMi"
      },
      "source": [
        "**Question:** Waht is the issue with the chart above?"
      ]
    },
    {
      "cell_type": "code",
      "execution_count": null,
      "metadata": {
        "id": "t2GC5vEFWcMi"
      },
      "outputs": [],
      "source": [
        "campaign['date_served']=pd.to_datetime(campaign['date_served'])"
      ]
    },
    {
      "cell_type": "code",
      "execution_count": null,
      "metadata": {
        "id": "Xx-Dr1JLWcMi",
        "outputId": "5bfcab1b-22df-45ad-e5d2-e852bc32e9c2"
      },
      "outputs": [
        {
          "name": "stdout",
          "output_type": "stream",
          "text": [
            "<class 'pandas.core.frame.DataFrame'>\n",
            "RangeIndex: 10022 entries, 0 to 10021\n",
            "Data columns (total 10 columns):\n",
            " #   Column              Non-Null Count  Dtype         \n",
            "---  ------              --------------  -----         \n",
            " 0   user_id             10022 non-null  object        \n",
            " 1   date_served         10021 non-null  datetime64[ns]\n",
            " 2   marketing_channel   10022 non-null  object        \n",
            " 3   test_control        10022 non-null  object        \n",
            " 4   converted           10022 non-null  bool          \n",
            " 5   language_preferred  10022 non-null  object        \n",
            " 6   age_group           10022 non-null  object        \n",
            " 7   date_subscribed     1856 non-null   object        \n",
            " 8   date_canceled       577 non-null    object        \n",
            " 9   is_retained         1856 non-null   object        \n",
            "dtypes: bool(1), datetime64[ns](1), object(8)\n",
            "memory usage: 714.6+ KB\n"
          ]
        }
      ],
      "source": [
        "campaign.info()"
      ]
    },
    {
      "cell_type": "code",
      "execution_count": null,
      "metadata": {
        "id": "WJxGhcSmWcMj"
      },
      "outputs": [],
      "source": [
        "daily_users = campaign.groupby(['date_served'])['user_id'].nunique()"
      ]
    },
    {
      "cell_type": "code",
      "execution_count": null,
      "metadata": {
        "id": "VQcWiPbcWcMj",
        "outputId": "2fe3d4a2-06dd-4968-8e33-5241f1145a65"
      },
      "outputs": [
        {
          "data": {
            "image/png": "[encoded data removed]",
            "text/plain": [
              "<Figure size 432x288 with 1 Axes>"
            ]
          },
          "metadata": {
            "needs_background": "light"
          },
          "output_type": "display_data"
        }
      ],
      "source": [
        "import matplotlib.pyplot as plt\n",
        "\n",
        "# plot\n",
        "daily_users.plot()\n",
        "\n",
        "# annotate\n",
        "plt.title('daily number of users seeing the ads')\n",
        "plt.xlabel('Date')\n",
        "plt.ylabel('Number of users')\n",
        "plt.show()"
      ]
    },
    {
      "cell_type": "markdown",
      "metadata": {
        "id": "jfzGOqK7WcMj"
      },
      "source": [
        "#### Practice 2\n",
        "What is the overall conversion rate? hint: use column 'converted'"
      ]
    },
    {
      "cell_type": "code",
      "execution_count": null,
      "metadata": {
        "id": "14sjCvkLWcMj",
        "outputId": "59ce7525-8478-4fe3-a35f-261d5fe4a530"
      },
      "outputs": [
        {
          "data": {
            "text/plain": [
              "converted\n",
              "False    6854\n",
              "True     1015\n",
              "Name: user_id, dtype: int64"
            ]
          },
          "execution_count": 89,
          "metadata": {},
          "output_type": "execute_result"
        }
      ],
      "source": [
        "campaign.groupby(['converted'])['user_id'].nunique()"
      ]
    },
    {
      "cell_type": "code",
      "execution_count": null,
      "metadata": {
        "id": "J7qmnTppWcMj",
        "outputId": "70b091af-fa8f-4674-aa38-7ef576b1a7ac"
      },
      "outputs": [
        {
          "data": {
            "text/plain": [
              "7294"
            ]
          },
          "execution_count": 90,
          "metadata": {},
          "output_type": "execute_result"
        }
      ],
      "source": [
        "campaign['user_id'].nunique()"
      ]
    },
    {
      "cell_type": "markdown",
      "metadata": {
        "id": "cFRyairSWcMk"
      },
      "source": [
        "Why is the sum of false and true rates larger than 1?\n",
        "Do we care about the false rate?"
      ]
    },
    {
      "cell_type": "code",
      "execution_count": null,
      "metadata": {
        "id": "E36mDsw4WcMk",
        "outputId": "697f06cd-dff1-40b8-83bc-5dc9bd3085a7"
      },
      "outputs": [
        {
          "data": {
            "text/plain": [
              "converted\n",
              "False    0.939676\n",
              "True     0.139155\n",
              "Name: user_id, dtype: float64"
            ]
          },
          "execution_count": 91,
          "metadata": {},
          "output_type": "execute_result"
        }
      ],
      "source": [
        "campaign.groupby(['converted'])['user_id'].nunique()/campaign['user_id'].nunique()"
      ]
    },
    {
      "cell_type": "code",
      "execution_count": null,
      "metadata": {
        "id": "fTlSQP7kWcMk",
        "outputId": "34713b1f-10e6-4346-e771-01acc5bac387"
      },
      "outputs": [
        {
          "data": {
            "text/plain": [
              "0.13915547024952016"
            ]
          },
          "execution_count": 92,
          "metadata": {},
          "output_type": "execute_result"
        }
      ],
      "source": [
        "conversation_rate = 1015 / 7294\n",
        "conversation_rate"
      ]
    },
    {
      "cell_type": "markdown",
      "metadata": {
        "id": "wzhRizTZWcMk"
      },
      "source": [
        "#### 2.2 Common marketing metrics to evaluate campaign performance\n",
        "- **Conversion rate** = Number of people who converted / Total number of people who received offers\n",
        "- **Retention rate** = Number of people who remained / Total number of people who converted"
      ]
    },
    {
      "cell_type": "markdown",
      "metadata": {
        "id": "GxAoW-U_WcMl"
      },
      "source": [
        "how to do filtering in Pandas:"
      ]
    },
    {
      "cell_type": "code",
      "execution_count": null,
      "metadata": {
        "id": "iO5LDq5hWcMl",
        "outputId": "4061d0ae-53cb-4c1a-e305-99792181f178"
      },
      "outputs": [
        {
          "data": {
            "text/plain": [
              "0         True\n",
              "1         True\n",
              "2         True\n",
              "3         True\n",
              "4         True\n",
              "         ...  \n",
              "10017    False\n",
              "10018     True\n",
              "10019     True\n",
              "10020     True\n",
              "10021     True\n",
              "Name: is_retained, Length: 10022, dtype: bool"
            ]
          },
          "execution_count": 93,
          "metadata": {},
          "output_type": "execute_result"
        }
      ],
      "source": [
        "# Step one: create a boolean mask\n",
        "campaign['is_retained']==True"
      ]
    },
    {
      "cell_type": "code",
      "execution_count": null,
      "metadata": {
        "id": "vVSpAZ9gWcMl",
        "outputId": "d0f4bab0-78cd-433e-b890-01207bba1c9d"
      },
      "outputs": [
        {
          "data": {
            "text/html": [
              "<div>\n",
              "<style scoped>\n",
              "    .dataframe tbody tr th:only-of-type {\n",
              "        vertical-align: middle;\n",
              "    }\n",
              "\n",
              "    .dataframe tbody tr th {\n",
              "        vertical-align: top;\n",
              "    }\n",
              "\n",
              "    .dataframe thead th {\n",
              "        text-align: right;\n",
              "    }\n",
              "</style>\n",
              "<table border=\"1\" class=\"dataframe\">\n",
              "  <thead>\n",
              "    <tr style=\"text-align: right;\">\n",
              "      <th></th>\n",
              "      <th>user_id</th>\n",
              "      <th>date_served</th>\n",
              "      <th>marketing_channel</th>\n",
              "      <th>test_control</th>\n",
              "      <th>converted</th>\n",
              "      <th>language_preferred</th>\n",
              "      <th>age_group</th>\n",
              "      <th>date_subscribed</th>\n",
              "      <th>date_canceled</th>\n",
              "      <th>is_retained</th>\n",
              "    </tr>\n",
              "  </thead>\n",
              "  <tbody>\n",
              "    <tr>\n",
              "      <th>0</th>\n",
              "      <td>a100000029</td>\n",
              "      <td>2018-01-01</td>\n",
              "      <td>House Ads</td>\n",
              "      <td>personalization</td>\n",
              "      <td>True</td>\n",
              "      <td>English</td>\n",
              "      <td>0-18 years</td>\n",
              "      <td>1/1/2018</td>\n",
              "      <td>NaN</td>\n",
              "      <td>True</td>\n",
              "    </tr>\n",
              "    <tr>\n",
              "      <th>1</th>\n",
              "      <td>a100000030</td>\n",
              "      <td>2018-01-01</td>\n",
              "      <td>House Ads</td>\n",
              "      <td>personalization</td>\n",
              "      <td>True</td>\n",
              "      <td>English</td>\n",
              "      <td>19-24 years</td>\n",
              "      <td>1/1/2018</td>\n",
              "      <td>NaN</td>\n",
              "      <td>True</td>\n",
              "    </tr>\n",
              "    <tr>\n",
              "      <th>2</th>\n",
              "      <td>a100000031</td>\n",
              "      <td>2018-01-01</td>\n",
              "      <td>House Ads</td>\n",
              "      <td>personalization</td>\n",
              "      <td>True</td>\n",
              "      <td>English</td>\n",
              "      <td>24-30 years</td>\n",
              "      <td>1/1/2018</td>\n",
              "      <td>NaN</td>\n",
              "      <td>True</td>\n",
              "    </tr>\n",
              "    <tr>\n",
              "      <th>3</th>\n",
              "      <td>a100000032</td>\n",
              "      <td>2018-01-01</td>\n",
              "      <td>House Ads</td>\n",
              "      <td>personalization</td>\n",
              "      <td>True</td>\n",
              "      <td>English</td>\n",
              "      <td>30-36 years</td>\n",
              "      <td>1/1/2018</td>\n",
              "      <td>NaN</td>\n",
              "      <td>True</td>\n",
              "    </tr>\n",
              "    <tr>\n",
              "      <th>4</th>\n",
              "      <td>a100000033</td>\n",
              "      <td>2018-01-01</td>\n",
              "      <td>House Ads</td>\n",
              "      <td>personalization</td>\n",
              "      <td>True</td>\n",
              "      <td>English</td>\n",
              "      <td>36-45 years</td>\n",
              "      <td>1/1/2018</td>\n",
              "      <td>NaN</td>\n",
              "      <td>True</td>\n",
              "    </tr>\n",
              "    <tr>\n",
              "      <th>...</th>\n",
              "      <td>...</td>\n",
              "      <td>...</td>\n",
              "      <td>...</td>\n",
              "      <td>...</td>\n",
              "      <td>...</td>\n",
              "      <td>...</td>\n",
              "      <td>...</td>\n",
              "      <td>...</td>\n",
              "      <td>...</td>\n",
              "      <td>...</td>\n",
              "    </tr>\n",
              "    <tr>\n",
              "      <th>10008</th>\n",
              "      <td>a100007281</td>\n",
              "      <td>2018-01-17</td>\n",
              "      <td>Email</td>\n",
              "      <td>control</td>\n",
              "      <td>True</td>\n",
              "      <td>German</td>\n",
              "      <td>30-36 years</td>\n",
              "      <td>1/17/2018</td>\n",
              "      <td>NaN</td>\n",
              "      <td>True</td>\n",
              "    </tr>\n",
              "    <tr>\n",
              "      <th>10018</th>\n",
              "      <td>a100007291</td>\n",
              "      <td>2018-01-17</td>\n",
              "      <td>Email</td>\n",
              "      <td>control</td>\n",
              "      <td>True</td>\n",
              "      <td>German</td>\n",
              "      <td>55+ years</td>\n",
              "      <td>1/17/2018</td>\n",
              "      <td>NaN</td>\n",
              "      <td>True</td>\n",
              "    </tr>\n",
              "    <tr>\n",
              "      <th>10019</th>\n",
              "      <td>a100007292</td>\n",
              "      <td>2018-01-05</td>\n",
              "      <td>Instagram</td>\n",
              "      <td>control</td>\n",
              "      <td>False</td>\n",
              "      <td>German</td>\n",
              "      <td>55+ years</td>\n",
              "      <td>1/17/2018</td>\n",
              "      <td>NaN</td>\n",
              "      <td>True</td>\n",
              "    </tr>\n",
              "    <tr>\n",
              "      <th>10020</th>\n",
              "      <td>a100007293</td>\n",
              "      <td>2018-01-17</td>\n",
              "      <td>Email</td>\n",
              "      <td>control</td>\n",
              "      <td>True</td>\n",
              "      <td>German</td>\n",
              "      <td>0-18 years</td>\n",
              "      <td>1/17/2018</td>\n",
              "      <td>NaN</td>\n",
              "      <td>True</td>\n",
              "    </tr>\n",
              "    <tr>\n",
              "      <th>10021</th>\n",
              "      <td>a100007294</td>\n",
              "      <td>2018-01-06</td>\n",
              "      <td>Facebook</td>\n",
              "      <td>control</td>\n",
              "      <td>False</td>\n",
              "      <td>German</td>\n",
              "      <td>0-18 years</td>\n",
              "      <td>1/17/2018</td>\n",
              "      <td>NaN</td>\n",
              "      <td>True</td>\n",
              "    </tr>\n",
              "  </tbody>\n",
              "</table>\n",
              "<p>1279 rows × 10 columns</p>\n",
              "</div>"
            ],
            "text/plain": [
              "          user_id date_served marketing_channel     test_control  converted  \\\n",
              "0      a100000029  2018-01-01         House Ads  personalization       True   \n",
              "1      a100000030  2018-01-01         House Ads  personalization       True   \n",
              "2      a100000031  2018-01-01         House Ads  personalization       True   \n",
              "3      a100000032  2018-01-01         House Ads  personalization       True   \n",
              "4      a100000033  2018-01-01         House Ads  personalization       True   \n",
              "...           ...         ...               ...              ...        ...   \n",
              "10008  a100007281  2018-01-17             Email          control       True   \n",
              "10018  a100007291  2018-01-17             Email          control       True   \n",
              "10019  a100007292  2018-01-05         Instagram          control      False   \n",
              "10020  a100007293  2018-01-17             Email          control       True   \n",
              "10021  a100007294  2018-01-06          Facebook          control      False   \n",
              "\n",
              "      language_preferred    age_group date_subscribed date_canceled  \\\n",
              "0                English   0-18 years        1/1/2018           NaN   \n",
              "1                English  19-24 years        1/1/2018           NaN   \n",
              "2                English  24-30 years        1/1/2018           NaN   \n",
              "3                English  30-36 years        1/1/2018           NaN   \n",
              "4                English  36-45 years        1/1/2018           NaN   \n",
              "...                  ...          ...             ...           ...   \n",
              "10008             German  30-36 years       1/17/2018           NaN   \n",
              "10018             German    55+ years       1/17/2018           NaN   \n",
              "10019             German    55+ years       1/17/2018           NaN   \n",
              "10020             German   0-18 years       1/17/2018           NaN   \n",
              "10021             German   0-18 years       1/17/2018           NaN   \n",
              "\n",
              "      is_retained  \n",
              "0            True  \n",
              "1            True  \n",
              "2            True  \n",
              "3            True  \n",
              "4            True  \n",
              "...           ...  \n",
              "10008        True  \n",
              "10018        True  \n",
              "10019        True  \n",
              "10020        True  \n",
              "10021        True  \n",
              "\n",
              "[1279 rows x 10 columns]"
            ]
          },
          "execution_count": 94,
          "metadata": {},
          "output_type": "execute_result"
        }
      ],
      "source": [
        "# Step two: put the boolean mask into the dataframe\n",
        "campaign.loc[campaign['is_retained']==True]"
      ]
    },
    {
      "cell_type": "code",
      "execution_count": null,
      "metadata": {
        "id": "nb_AqJlMWcMm"
      },
      "outputs": [],
      "source": [
        "retained = campaign.loc[campaign['is_retained']==True]['user_id'].nunique()"
      ]
    },
    {
      "cell_type": "code",
      "execution_count": null,
      "metadata": {
        "id": "sBphqunvWcMm",
        "outputId": "fb379101-d8c6-43f9-e707-5bfa4514852e"
      },
      "outputs": [
        {
          "name": "stdout",
          "output_type": "stream",
          "text": [
            "678\n"
          ]
        }
      ],
      "source": [
        "print(retained)"
      ]
    },
    {
      "cell_type": "code",
      "execution_count": null,
      "metadata": {
        "id": "oFnDT3SxWcMm"
      },
      "outputs": [],
      "source": [
        "converted = campaign.loc[campaign['converted']==True]['user_id'].nunique()"
      ]
    },
    {
      "cell_type": "code",
      "execution_count": null,
      "metadata": {
        "id": "PE7KHKY1WcMm",
        "outputId": "937f1378-a24f-4861-fef0-9c9442c92a9c"
      },
      "outputs": [
        {
          "name": "stdout",
          "output_type": "stream",
          "text": [
            "1015\n"
          ]
        }
      ],
      "source": [
        "print(converted)"
      ]
    },
    {
      "cell_type": "code",
      "execution_count": null,
      "metadata": {
        "id": "peB3pIOCWcMn"
      },
      "outputs": [],
      "source": [
        "retention_rate = retained / converted"
      ]
    },
    {
      "cell_type": "code",
      "execution_count": null,
      "metadata": {
        "scrolled": true,
        "id": "1JE_qYSrWcMn",
        "outputId": "2a8aa462-cc60-434e-ef6f-ab63871a53d8"
      },
      "outputs": [
        {
          "name": "stdout",
          "output_type": "stream",
          "text": [
            "0.67\n"
          ]
        }
      ],
      "source": [
        "print(round(retention_rate,2))"
      ]
    },
    {
      "cell_type": "markdown",
      "metadata": {
        "id": "zERgE8q2WcMn"
      },
      "source": [
        "**Extra Practice**: plot accumulative response rate by day:"
      ]
    },
    {
      "cell_type": "code",
      "execution_count": null,
      "metadata": {
        "id": "tA_Mq4mhWcMn"
      },
      "outputs": [],
      "source": [
        "daily_responder=campaign.loc[campaign['converted']==True].groupby(['date_served'])['user_id'].nunique()"
      ]
    },
    {
      "cell_type": "code",
      "execution_count": null,
      "metadata": {
        "id": "hYhpT_3_WcMo",
        "outputId": "68df35f7-a0e8-4659-cc89-7a2f4b95f662"
      },
      "outputs": [
        {
          "data": {
            "text/plain": [
              "date_served\n",
              "2018-01-01    36\n",
              "2018-01-02    37\n",
              "2018-01-03    36\n",
              "2018-01-04    35\n",
              "2018-01-05    40\n",
              "2018-01-06    35\n",
              "2018-01-07    39\n",
              "2018-01-08    36\n",
              "2018-01-09    39\n",
              "2018-01-10    40\n",
              "2018-01-11    25\n",
              "2018-01-12    23\n",
              "2018-01-13    26\n",
              "2018-01-14    26\n",
              "2018-01-15    87\n",
              "2018-01-16    99\n",
              "2018-01-17    81\n",
              "2018-01-18    29\n",
              "2018-01-19    18\n",
              "2018-01-20    21\n",
              "2018-01-21    20\n",
              "2018-01-22    22\n",
              "2018-01-23    21\n",
              "2018-01-24    22\n",
              "2018-01-25    23\n",
              "2018-01-26    20\n",
              "2018-01-27    21\n",
              "2018-01-28    20\n",
              "2018-01-29    19\n",
              "2018-01-30    21\n",
              "2018-01-31    18\n",
              "Name: user_id, dtype: int64"
            ]
          },
          "execution_count": 102,
          "metadata": {},
          "output_type": "execute_result"
        }
      ],
      "source": [
        "daily_responder"
      ]
    },
    {
      "cell_type": "code",
      "execution_count": null,
      "metadata": {
        "id": "VQlK2eYYWcMo",
        "outputId": "17030d30-db3f-40d4-984e-1d87ed44eae1"
      },
      "outputs": [
        {
          "data": {
            "text/plain": [
              "date_served\n",
              "2018-01-01      36\n",
              "2018-01-02      73\n",
              "2018-01-03     109\n",
              "2018-01-04     144\n",
              "2018-01-05     184\n",
              "2018-01-06     219\n",
              "2018-01-07     258\n",
              "2018-01-08     294\n",
              "2018-01-09     333\n",
              "2018-01-10     373\n",
              "2018-01-11     398\n",
              "2018-01-12     421\n",
              "2018-01-13     447\n",
              "2018-01-14     473\n",
              "2018-01-15     560\n",
              "2018-01-16     659\n",
              "2018-01-17     740\n",
              "2018-01-18     769\n",
              "2018-01-19     787\n",
              "2018-01-20     808\n",
              "2018-01-21     828\n",
              "2018-01-22     850\n",
              "2018-01-23     871\n",
              "2018-01-24     893\n",
              "2018-01-25     916\n",
              "2018-01-26     936\n",
              "2018-01-27     957\n",
              "2018-01-28     977\n",
              "2018-01-29     996\n",
              "2018-01-30    1017\n",
              "2018-01-31    1035\n",
              "Name: user_id, dtype: int64"
            ]
          },
          "execution_count": 103,
          "metadata": {},
          "output_type": "execute_result"
        }
      ],
      "source": [
        "daily_responder.cumsum()"
      ]
    },
    {
      "cell_type": "code",
      "execution_count": null,
      "metadata": {
        "id": "6bPlvtEVWcMo"
      },
      "outputs": [],
      "source": [
        "accu_response_by_day = daily_responder.cumsum() / campaign['user_id'].nunique()"
      ]
    },
    {
      "cell_type": "code",
      "execution_count": null,
      "metadata": {
        "id": "CO86pONiWcMo",
        "outputId": "d05145ba-57ab-4e0c-c7fb-42d9146b2973"
      },
      "outputs": [
        {
          "data": {
            "text/plain": [
              "<AxesSubplot:xlabel='date_served'>"
            ]
          },
          "execution_count": 105,
          "metadata": {},
          "output_type": "execute_result"
        },
        {
          "data": {
            "image/png": "[encoded data removed]",
            "text/plain": [
              "<Figure size 432x288 with 1 Axes>"
            ]
          },
          "metadata": {
            "needs_background": "light"
          },
          "output_type": "display_data"
        }
      ],
      "source": [
        "accu_response_by_day.plot()"
      ]
    },
    {
      "cell_type": "markdown",
      "metadata": {
        "id": "pAPkJxQKWcMo"
      },
      "source": [
        "#### 2.3 Customer Segmentation analysis\n",
        " - Use segemetnation analysis to \n",
        "     - Analyze campaign performance by each segments\n",
        "     - Target profitable segments for next campaign\n",
        "     \n",
        " - Creating segmentation variables is the first step - usually this will happen in SQL"
      ]
    },
    {
      "cell_type": "code",
      "execution_count": null,
      "metadata": {
        "scrolled": true,
        "id": "PlEPeC-SWcMp",
        "outputId": "aa7e9e0c-a131-4e97-fedb-abfce646dd6c"
      },
      "outputs": [
        {
          "data": {
            "text/plain": [
              "marketing_channel\n",
              "Email         553\n",
              "Facebook     1758\n",
              "House Ads    3968\n",
              "Instagram    1740\n",
              "Push          972\n",
              "Name: user_id, dtype: int64"
            ]
          },
          "execution_count": 106,
          "metadata": {},
          "output_type": "execute_result"
        }
      ],
      "source": [
        "# Look at by marketing channel:\n",
        "campaign.groupby(['marketing_channel'])['user_id'].nunique()"
      ]
    },
    {
      "cell_type": "code",
      "execution_count": null,
      "metadata": {
        "id": "eSkXz2mJWcMp",
        "outputId": "2ffbeab3-2b71-4175-c42d-2c8e1f83f714"
      },
      "outputs": [
        {
          "data": {
            "text/plain": [
              "marketing_channel\n",
              "Email        187\n",
              "Facebook     221\n",
              "House Ads    298\n",
              "Instagram    232\n",
              "Push          77\n",
              "Name: user_id, dtype: int64"
            ]
          },
          "execution_count": 107,
          "metadata": {},
          "output_type": "execute_result"
        }
      ],
      "source": [
        "# How many customers are converted in each marketing channel\n",
        "campaign.loc[campaign['converted']==True].groupby(['marketing_channel'])['user_id'].nunique()"
      ]
    },
    {
      "cell_type": "markdown",
      "metadata": {
        "id": "im7VyalcWcMp"
      },
      "source": [
        "Conversion rate by channel"
      ]
    },
    {
      "cell_type": "code",
      "execution_count": null,
      "metadata": {
        "id": "1J4Fy16cWcMp"
      },
      "outputs": [],
      "source": [
        "conversion_by_channel = campaign.loc[campaign['converted']==True].groupby(['marketing_channel'])['user_id'].nunique() / \\\n",
        "                        campaign.groupby(['marketing_channel'])['user_id'].nunique()\n",
        "     # select marketing_channel, count (distinct user_id) from campaign group by marketing channel                    "
      ]
    },
    {
      "cell_type": "code",
      "execution_count": null,
      "metadata": {
        "id": "vmuBcRabWcMp",
        "outputId": "2d11309f-5a88-4de1-a6b6-c0dd933fa6b4"
      },
      "outputs": [
        {
          "name": "stdout",
          "output_type": "stream",
          "text": [
            "marketing_channel\n",
            "Email        0.338156\n",
            "Facebook     0.125711\n",
            "House Ads    0.075101\n",
            "Instagram    0.133333\n",
            "Push         0.079218\n",
            "Name: user_id, dtype: float64\n"
          ]
        }
      ],
      "source": [
        "print(conversion_by_channel)"
      ]
    },
    {
      "cell_type": "code",
      "execution_count": null,
      "metadata": {
        "id": "CrUVO_-hWcMq",
        "outputId": "64cca9c1-6e08-43ff-d991-251d5b87bb79"
      },
      "outputs": [
        {
          "data": {
            "image/png": "[encoded data removed]",
            "text/plain": [
              "<Figure size 432x288 with 1 Axes>"
            ]
          },
          "metadata": {
            "needs_background": "light"
          },
          "output_type": "display_data"
        }
      ],
      "source": [
        "#plot conversion rate by channel:\n",
        "\n",
        "import matplotlib.pyplot as plt\n",
        "\n",
        "# plot\n",
        "conversion_by_channel.plot(kind='bar')\n",
        "\n",
        "# annotate\n",
        "plt.title('conversion rate by channel')\n",
        "plt.xlabel('marketing channel')\n",
        "plt.ylabel('conversion rate')\n",
        "plt.show()"
      ]
    },
    {
      "cell_type": "markdown",
      "metadata": {
        "id": "K9W6ATZlWcMq"
      },
      "source": [
        "#### Practice 3\n",
        "What is the retention rate by each marketing channel?"
      ]
    },
    {
      "cell_type": "markdown",
      "metadata": {
        "id": "6kaFhfA6WcMq"
      },
      "source": [
        "Approach One:"
      ]
    },
    {
      "cell_type": "code",
      "execution_count": null,
      "metadata": {
        "scrolled": true,
        "id": "CIkWisczWcMq",
        "outputId": "ca25ca13-7897-44c9-82d3-57cb2d50282d"
      },
      "outputs": [
        {
          "data": {
            "text/plain": [
              "marketing_channel\n",
              "Email        0.743316\n",
              "Facebook     0.954751\n",
              "House Ads    1.268456\n",
              "Instagram    0.853448\n",
              "Push         1.233766\n",
              "Name: user_id, dtype: float64"
            ]
          },
          "execution_count": 111,
          "metadata": {},
          "output_type": "execute_result"
        }
      ],
      "source": [
        "retention_by_channel = campaign.loc[campaign['is_retained']==True].groupby(['marketing_channel'])['user_id'].nunique() / \\\n",
        "campaign.loc[campaign['converted']==True].groupby(['marketing_channel'])['user_id'].nunique() \n",
        "                        \n",
        "retention_by_channel"
      ]
    },
    {
      "cell_type": "code",
      "execution_count": null,
      "metadata": {
        "id": "_2LQdVPYWcMq",
        "outputId": "764a204f-ebce-4945-b348-26ad3972d89b"
      },
      "outputs": [
        {
          "name": "stdout",
          "output_type": "stream",
          "text": [
            "marketing_channel\n",
            "Email        0.743316\n",
            "Facebook     0.954751\n",
            "House Ads    1.268456\n",
            "Instagram    0.853448\n",
            "Push         1.233766\n",
            "Name: user_id, dtype: float64\n"
          ]
        }
      ],
      "source": [
        "print(retention_by_channel)"
      ]
    },
    {
      "cell_type": "markdown",
      "metadata": {
        "id": "Cs3Wk12XWcMq"
      },
      "source": [
        "#### Practice 3 - Bonus: \n",
        "- Why retention rate by channel can be larger than 1 when using Method One? something wrong with the data or the way we calculated?"
      ]
    },
    {
      "cell_type": "markdown",
      "metadata": {
        "id": "QSR13D7FWcMr"
      },
      "source": [
        "Let's do some **data investigations** - Data Investigation is a very important skill:"
      ]
    },
    {
      "cell_type": "markdown",
      "metadata": {
        "id": "lYUlGsX_WcMr"
      },
      "source": [
        "Multiple filters\n",
        "\n",
        "The three things you know about using more than one filter are:\n",
        "1. Each filter must reference the data structure as if it was being used individually\n",
        "2. Each filter must be enclosed in parentheses, e.g. `df.loc[(df[\"col1\"]==1) & (df[\"col2\"]==5)]`\n",
        "3. Connect filters with the operators: ampersand (`&`) to represent \"AND\" or pipe (`|`) to repesent \"OR\"."
      ]
    },
    {
      "cell_type": "code",
      "execution_count": null,
      "metadata": {
        "id": "gf9BVZErWcMr",
        "outputId": "8bb53a7c-a279-4884-be23-8de3ab68d98b"
      },
      "outputs": [
        {
          "data": {
            "text/html": [
              "<div>\n",
              "<style scoped>\n",
              "    .dataframe tbody tr th:only-of-type {\n",
              "        vertical-align: middle;\n",
              "    }\n",
              "\n",
              "    .dataframe tbody tr th {\n",
              "        vertical-align: top;\n",
              "    }\n",
              "\n",
              "    .dataframe thead th {\n",
              "        text-align: right;\n",
              "    }\n",
              "</style>\n",
              "<table border=\"1\" class=\"dataframe\">\n",
              "  <thead>\n",
              "    <tr style=\"text-align: right;\">\n",
              "      <th></th>\n",
              "      <th>user_id</th>\n",
              "      <th>date_served</th>\n",
              "      <th>marketing_channel</th>\n",
              "      <th>test_control</th>\n",
              "      <th>converted</th>\n",
              "      <th>language_preferred</th>\n",
              "      <th>age_group</th>\n",
              "      <th>date_subscribed</th>\n",
              "      <th>date_canceled</th>\n",
              "      <th>is_retained</th>\n",
              "    </tr>\n",
              "  </thead>\n",
              "  <tbody>\n",
              "    <tr>\n",
              "      <th>22</th>\n",
              "      <td>a100000050</td>\n",
              "      <td>2018-01-01</td>\n",
              "      <td>House Ads</td>\n",
              "      <td>personalization</td>\n",
              "      <td>False</td>\n",
              "      <td>English</td>\n",
              "      <td>24-30 years</td>\n",
              "      <td>1/2/2018</td>\n",
              "      <td>NaN</td>\n",
              "      <td>True</td>\n",
              "    </tr>\n",
              "    <tr>\n",
              "      <th>24</th>\n",
              "      <td>a100000051</td>\n",
              "      <td>2018-01-01</td>\n",
              "      <td>Push</td>\n",
              "      <td>personalization</td>\n",
              "      <td>False</td>\n",
              "      <td>English</td>\n",
              "      <td>30-36 years</td>\n",
              "      <td>1/2/2018</td>\n",
              "      <td>NaN</td>\n",
              "      <td>True</td>\n",
              "    </tr>\n",
              "    <tr>\n",
              "      <th>26</th>\n",
              "      <td>a100000052</td>\n",
              "      <td>2018-01-01</td>\n",
              "      <td>House Ads</td>\n",
              "      <td>personalization</td>\n",
              "      <td>False</td>\n",
              "      <td>English</td>\n",
              "      <td>36-45 years</td>\n",
              "      <td>1/2/2018</td>\n",
              "      <td>NaN</td>\n",
              "      <td>True</td>\n",
              "    </tr>\n",
              "    <tr>\n",
              "      <th>28</th>\n",
              "      <td>a100000053</td>\n",
              "      <td>2018-01-01</td>\n",
              "      <td>House Ads</td>\n",
              "      <td>personalization</td>\n",
              "      <td>False</td>\n",
              "      <td>English</td>\n",
              "      <td>45-55 years</td>\n",
              "      <td>1/2/2018</td>\n",
              "      <td>NaN</td>\n",
              "      <td>True</td>\n",
              "    </tr>\n",
              "    <tr>\n",
              "      <th>30</th>\n",
              "      <td>a100000054</td>\n",
              "      <td>2018-01-01</td>\n",
              "      <td>House Ads</td>\n",
              "      <td>personalization</td>\n",
              "      <td>False</td>\n",
              "      <td>English</td>\n",
              "      <td>55+ years</td>\n",
              "      <td>1/2/2018</td>\n",
              "      <td>NaN</td>\n",
              "      <td>True</td>\n",
              "    </tr>\n",
              "    <tr>\n",
              "      <th>...</th>\n",
              "      <td>...</td>\n",
              "      <td>...</td>\n",
              "      <td>...</td>\n",
              "      <td>...</td>\n",
              "      <td>...</td>\n",
              "      <td>...</td>\n",
              "      <td>...</td>\n",
              "      <td>...</td>\n",
              "      <td>...</td>\n",
              "      <td>...</td>\n",
              "    </tr>\n",
              "    <tr>\n",
              "      <th>9985</th>\n",
              "      <td>a100007258</td>\n",
              "      <td>2018-01-15</td>\n",
              "      <td>Email</td>\n",
              "      <td>personalization</td>\n",
              "      <td>False</td>\n",
              "      <td>German</td>\n",
              "      <td>24-30 years</td>\n",
              "      <td>1/15/2018</td>\n",
              "      <td>NaN</td>\n",
              "      <td>True</td>\n",
              "    </tr>\n",
              "    <tr>\n",
              "      <th>9993</th>\n",
              "      <td>a100007266</td>\n",
              "      <td>2018-01-16</td>\n",
              "      <td>Email</td>\n",
              "      <td>personalization</td>\n",
              "      <td>False</td>\n",
              "      <td>German</td>\n",
              "      <td>24-30 years</td>\n",
              "      <td>1/16/2018</td>\n",
              "      <td>NaN</td>\n",
              "      <td>True</td>\n",
              "    </tr>\n",
              "    <tr>\n",
              "      <th>10005</th>\n",
              "      <td>a100007278</td>\n",
              "      <td>2018-01-16</td>\n",
              "      <td>Email</td>\n",
              "      <td>control</td>\n",
              "      <td>False</td>\n",
              "      <td>German</td>\n",
              "      <td>0-18 years</td>\n",
              "      <td>1/16/2018</td>\n",
              "      <td>NaN</td>\n",
              "      <td>True</td>\n",
              "    </tr>\n",
              "    <tr>\n",
              "      <th>10019</th>\n",
              "      <td>a100007292</td>\n",
              "      <td>2018-01-05</td>\n",
              "      <td>Instagram</td>\n",
              "      <td>control</td>\n",
              "      <td>False</td>\n",
              "      <td>German</td>\n",
              "      <td>55+ years</td>\n",
              "      <td>1/17/2018</td>\n",
              "      <td>NaN</td>\n",
              "      <td>True</td>\n",
              "    </tr>\n",
              "    <tr>\n",
              "      <th>10021</th>\n",
              "      <td>a100007294</td>\n",
              "      <td>2018-01-06</td>\n",
              "      <td>Facebook</td>\n",
              "      <td>control</td>\n",
              "      <td>False</td>\n",
              "      <td>German</td>\n",
              "      <td>0-18 years</td>\n",
              "      <td>1/17/2018</td>\n",
              "      <td>NaN</td>\n",
              "      <td>True</td>\n",
              "    </tr>\n",
              "  </tbody>\n",
              "</table>\n",
              "<p>578 rows × 10 columns</p>\n",
              "</div>"
            ],
            "text/plain": [
              "          user_id date_served marketing_channel     test_control  converted  \\\n",
              "22     a100000050  2018-01-01         House Ads  personalization      False   \n",
              "24     a100000051  2018-01-01              Push  personalization      False   \n",
              "26     a100000052  2018-01-01         House Ads  personalization      False   \n",
              "28     a100000053  2018-01-01         House Ads  personalization      False   \n",
              "30     a100000054  2018-01-01         House Ads  personalization      False   \n",
              "...           ...         ...               ...              ...        ...   \n",
              "9985   a100007258  2018-01-15             Email  personalization      False   \n",
              "9993   a100007266  2018-01-16             Email  personalization      False   \n",
              "10005  a100007278  2018-01-16             Email          control      False   \n",
              "10019  a100007292  2018-01-05         Instagram          control      False   \n",
              "10021  a100007294  2018-01-06          Facebook          control      False   \n",
              "\n",
              "      language_preferred    age_group date_subscribed date_canceled  \\\n",
              "22               English  24-30 years        1/2/2018           NaN   \n",
              "24               English  30-36 years        1/2/2018           NaN   \n",
              "26               English  36-45 years        1/2/2018           NaN   \n",
              "28               English  45-55 years        1/2/2018           NaN   \n",
              "30               English    55+ years        1/2/2018           NaN   \n",
              "...                  ...          ...             ...           ...   \n",
              "9985              German  24-30 years       1/15/2018           NaN   \n",
              "9993              German  24-30 years       1/16/2018           NaN   \n",
              "10005             German   0-18 years       1/16/2018           NaN   \n",
              "10019             German    55+ years       1/17/2018           NaN   \n",
              "10021             German   0-18 years       1/17/2018           NaN   \n",
              "\n",
              "      is_retained  \n",
              "22           True  \n",
              "24           True  \n",
              "26           True  \n",
              "28           True  \n",
              "30           True  \n",
              "...           ...  \n",
              "9985         True  \n",
              "9993         True  \n",
              "10005        True  \n",
              "10019        True  \n",
              "10021        True  \n",
              "\n",
              "[578 rows x 10 columns]"
            ]
          },
          "execution_count": 113,
          "metadata": {},
          "output_type": "execute_result"
        }
      ],
      "source": [
        "campaign.loc[(campaign['converted']==False) & (campaign['is_retained']==True)]"
      ]
    },
    {
      "cell_type": "code",
      "execution_count": null,
      "metadata": {
        "scrolled": true,
        "id": "-S-zhtNFWcMr",
        "outputId": "d0293a0a-ebae-42cb-d0c9-78e885ee1de6"
      },
      "outputs": [
        {
          "data": {
            "text/html": [
              "<div>\n",
              "<style scoped>\n",
              "    .dataframe tbody tr th:only-of-type {\n",
              "        vertical-align: middle;\n",
              "    }\n",
              "\n",
              "    .dataframe tbody tr th {\n",
              "        vertical-align: top;\n",
              "    }\n",
              "\n",
              "    .dataframe thead th {\n",
              "        text-align: right;\n",
              "    }\n",
              "</style>\n",
              "<table border=\"1\" class=\"dataframe\">\n",
              "  <thead>\n",
              "    <tr style=\"text-align: right;\">\n",
              "      <th></th>\n",
              "      <th>user_id</th>\n",
              "      <th>date_served</th>\n",
              "      <th>marketing_channel</th>\n",
              "      <th>test_control</th>\n",
              "      <th>converted</th>\n",
              "      <th>language_preferred</th>\n",
              "      <th>age_group</th>\n",
              "      <th>date_subscribed</th>\n",
              "      <th>date_canceled</th>\n",
              "      <th>is_retained</th>\n",
              "    </tr>\n",
              "  </thead>\n",
              "  <tbody>\n",
              "    <tr>\n",
              "      <th>21</th>\n",
              "      <td>a100000050</td>\n",
              "      <td>2018-01-02</td>\n",
              "      <td>House Ads</td>\n",
              "      <td>personalization</td>\n",
              "      <td>True</td>\n",
              "      <td>English</td>\n",
              "      <td>24-30 years</td>\n",
              "      <td>1/2/2018</td>\n",
              "      <td>NaN</td>\n",
              "      <td>True</td>\n",
              "    </tr>\n",
              "    <tr>\n",
              "      <th>22</th>\n",
              "      <td>a100000050</td>\n",
              "      <td>2018-01-01</td>\n",
              "      <td>House Ads</td>\n",
              "      <td>personalization</td>\n",
              "      <td>False</td>\n",
              "      <td>English</td>\n",
              "      <td>24-30 years</td>\n",
              "      <td>1/2/2018</td>\n",
              "      <td>NaN</td>\n",
              "      <td>True</td>\n",
              "    </tr>\n",
              "  </tbody>\n",
              "</table>\n",
              "</div>"
            ],
            "text/plain": [
              "       user_id date_served marketing_channel     test_control  converted  \\\n",
              "21  a100000050  2018-01-02         House Ads  personalization       True   \n",
              "22  a100000050  2018-01-01         House Ads  personalization      False   \n",
              "\n",
              "   language_preferred    age_group date_subscribed date_canceled is_retained  \n",
              "21            English  24-30 years        1/2/2018           NaN        True  \n",
              "22            English  24-30 years        1/2/2018           NaN        True  "
            ]
          },
          "execution_count": 114,
          "metadata": {},
          "output_type": "execute_result"
        }
      ],
      "source": [
        "campaign.loc[campaign['user_id']=='a100000050']  # this cann't explain why the number of retained user can be larger than converted"
      ]
    },
    {
      "cell_type": "code",
      "execution_count": null,
      "metadata": {
        "id": "LWG7rtp9WcMr"
      },
      "outputs": [],
      "source": [
        "inv_id=campaign.loc[(campaign['converted']==False) & (campaign['is_retained']==True)]['user_id']"
      ]
    },
    {
      "cell_type": "code",
      "execution_count": null,
      "metadata": {
        "id": "IdBvLnkKWcMr",
        "outputId": "f9b28fa8-79ae-438f-b867-a45af5b5d26f"
      },
      "outputs": [
        {
          "data": {
            "text/html": [
              "<div>\n",
              "<style scoped>\n",
              "    .dataframe tbody tr th:only-of-type {\n",
              "        vertical-align: middle;\n",
              "    }\n",
              "\n",
              "    .dataframe tbody tr th {\n",
              "        vertical-align: top;\n",
              "    }\n",
              "\n",
              "    .dataframe thead th {\n",
              "        text-align: right;\n",
              "    }\n",
              "</style>\n",
              "<table border=\"1\" class=\"dataframe\">\n",
              "  <thead>\n",
              "    <tr style=\"text-align: right;\">\n",
              "      <th></th>\n",
              "      <th>user_id</th>\n",
              "      <th>date_served</th>\n",
              "      <th>marketing_channel</th>\n",
              "      <th>test_control</th>\n",
              "      <th>converted</th>\n",
              "      <th>language_preferred</th>\n",
              "      <th>age_group</th>\n",
              "      <th>date_subscribed</th>\n",
              "      <th>date_canceled</th>\n",
              "      <th>is_retained</th>\n",
              "    </tr>\n",
              "  </thead>\n",
              "  <tbody>\n",
              "    <tr>\n",
              "      <th>21</th>\n",
              "      <td>a100000050</td>\n",
              "      <td>2018-01-02</td>\n",
              "      <td>House Ads</td>\n",
              "      <td>personalization</td>\n",
              "      <td>True</td>\n",
              "      <td>English</td>\n",
              "      <td>24-30 years</td>\n",
              "      <td>1/2/2018</td>\n",
              "      <td>NaN</td>\n",
              "      <td>True</td>\n",
              "    </tr>\n",
              "    <tr>\n",
              "      <th>22</th>\n",
              "      <td>a100000050</td>\n",
              "      <td>2018-01-01</td>\n",
              "      <td>House Ads</td>\n",
              "      <td>personalization</td>\n",
              "      <td>False</td>\n",
              "      <td>English</td>\n",
              "      <td>24-30 years</td>\n",
              "      <td>1/2/2018</td>\n",
              "      <td>NaN</td>\n",
              "      <td>True</td>\n",
              "    </tr>\n",
              "    <tr>\n",
              "      <th>23</th>\n",
              "      <td>a100000051</td>\n",
              "      <td>2018-01-02</td>\n",
              "      <td>House Ads</td>\n",
              "      <td>personalization</td>\n",
              "      <td>True</td>\n",
              "      <td>English</td>\n",
              "      <td>30-36 years</td>\n",
              "      <td>1/2/2018</td>\n",
              "      <td>NaN</td>\n",
              "      <td>True</td>\n",
              "    </tr>\n",
              "    <tr>\n",
              "      <th>24</th>\n",
              "      <td>a100000051</td>\n",
              "      <td>2018-01-01</td>\n",
              "      <td>Push</td>\n",
              "      <td>personalization</td>\n",
              "      <td>False</td>\n",
              "      <td>English</td>\n",
              "      <td>30-36 years</td>\n",
              "      <td>1/2/2018</td>\n",
              "      <td>NaN</td>\n",
              "      <td>True</td>\n",
              "    </tr>\n",
              "    <tr>\n",
              "      <th>25</th>\n",
              "      <td>a100000052</td>\n",
              "      <td>2018-01-02</td>\n",
              "      <td>House Ads</td>\n",
              "      <td>personalization</td>\n",
              "      <td>True</td>\n",
              "      <td>English</td>\n",
              "      <td>36-45 years</td>\n",
              "      <td>1/2/2018</td>\n",
              "      <td>NaN</td>\n",
              "      <td>True</td>\n",
              "    </tr>\n",
              "    <tr>\n",
              "      <th>...</th>\n",
              "      <td>...</td>\n",
              "      <td>...</td>\n",
              "      <td>...</td>\n",
              "      <td>...</td>\n",
              "      <td>...</td>\n",
              "      <td>...</td>\n",
              "      <td>...</td>\n",
              "      <td>...</td>\n",
              "      <td>...</td>\n",
              "      <td>...</td>\n",
              "    </tr>\n",
              "    <tr>\n",
              "      <th>9985</th>\n",
              "      <td>a100007258</td>\n",
              "      <td>2018-01-15</td>\n",
              "      <td>Email</td>\n",
              "      <td>personalization</td>\n",
              "      <td>False</td>\n",
              "      <td>German</td>\n",
              "      <td>24-30 years</td>\n",
              "      <td>1/15/2018</td>\n",
              "      <td>NaN</td>\n",
              "      <td>True</td>\n",
              "    </tr>\n",
              "    <tr>\n",
              "      <th>9993</th>\n",
              "      <td>a100007266</td>\n",
              "      <td>2018-01-16</td>\n",
              "      <td>Email</td>\n",
              "      <td>personalization</td>\n",
              "      <td>False</td>\n",
              "      <td>German</td>\n",
              "      <td>24-30 years</td>\n",
              "      <td>1/16/2018</td>\n",
              "      <td>NaN</td>\n",
              "      <td>True</td>\n",
              "    </tr>\n",
              "    <tr>\n",
              "      <th>10005</th>\n",
              "      <td>a100007278</td>\n",
              "      <td>2018-01-16</td>\n",
              "      <td>Email</td>\n",
              "      <td>control</td>\n",
              "      <td>False</td>\n",
              "      <td>German</td>\n",
              "      <td>0-18 years</td>\n",
              "      <td>1/16/2018</td>\n",
              "      <td>NaN</td>\n",
              "      <td>True</td>\n",
              "    </tr>\n",
              "    <tr>\n",
              "      <th>10019</th>\n",
              "      <td>a100007292</td>\n",
              "      <td>2018-01-05</td>\n",
              "      <td>Instagram</td>\n",
              "      <td>control</td>\n",
              "      <td>False</td>\n",
              "      <td>German</td>\n",
              "      <td>55+ years</td>\n",
              "      <td>1/17/2018</td>\n",
              "      <td>NaN</td>\n",
              "      <td>True</td>\n",
              "    </tr>\n",
              "    <tr>\n",
              "      <th>10021</th>\n",
              "      <td>a100007294</td>\n",
              "      <td>2018-01-06</td>\n",
              "      <td>Facebook</td>\n",
              "      <td>control</td>\n",
              "      <td>False</td>\n",
              "      <td>German</td>\n",
              "      <td>0-18 years</td>\n",
              "      <td>1/17/2018</td>\n",
              "      <td>NaN</td>\n",
              "      <td>True</td>\n",
              "    </tr>\n",
              "  </tbody>\n",
              "</table>\n",
              "<p>1035 rows × 10 columns</p>\n",
              "</div>"
            ],
            "text/plain": [
              "          user_id date_served marketing_channel     test_control  converted  \\\n",
              "21     a100000050  2018-01-02         House Ads  personalization       True   \n",
              "22     a100000050  2018-01-01         House Ads  personalization      False   \n",
              "23     a100000051  2018-01-02         House Ads  personalization       True   \n",
              "24     a100000051  2018-01-01              Push  personalization      False   \n",
              "25     a100000052  2018-01-02         House Ads  personalization       True   \n",
              "...           ...         ...               ...              ...        ...   \n",
              "9985   a100007258  2018-01-15             Email  personalization      False   \n",
              "9993   a100007266  2018-01-16             Email  personalization      False   \n",
              "10005  a100007278  2018-01-16             Email          control      False   \n",
              "10019  a100007292  2018-01-05         Instagram          control      False   \n",
              "10021  a100007294  2018-01-06          Facebook          control      False   \n",
              "\n",
              "      language_preferred    age_group date_subscribed date_canceled  \\\n",
              "21               English  24-30 years        1/2/2018           NaN   \n",
              "22               English  24-30 years        1/2/2018           NaN   \n",
              "23               English  30-36 years        1/2/2018           NaN   \n",
              "24               English  30-36 years        1/2/2018           NaN   \n",
              "25               English  36-45 years        1/2/2018           NaN   \n",
              "...                  ...          ...             ...           ...   \n",
              "9985              German  24-30 years       1/15/2018           NaN   \n",
              "9993              German  24-30 years       1/16/2018           NaN   \n",
              "10005             German   0-18 years       1/16/2018           NaN   \n",
              "10019             German    55+ years       1/17/2018           NaN   \n",
              "10021             German   0-18 years       1/17/2018           NaN   \n",
              "\n",
              "      is_retained  \n",
              "21           True  \n",
              "22           True  \n",
              "23           True  \n",
              "24           True  \n",
              "25           True  \n",
              "...           ...  \n",
              "9985         True  \n",
              "9993         True  \n",
              "10005        True  \n",
              "10019        True  \n",
              "10021        True  \n",
              "\n",
              "[1035 rows x 10 columns]"
            ]
          },
          "execution_count": 116,
          "metadata": {},
          "output_type": "execute_result"
        }
      ],
      "source": [
        "campaign.loc[campaign['user_id'].isin(inv_id)]"
      ]
    },
    {
      "cell_type": "markdown",
      "metadata": {
        "id": "o0SxyLdFWcMr"
      },
      "source": [
        "**Does it make sense to look at Retention rate by differet marketing channels??**"
      ]
    },
    {
      "cell_type": "code",
      "execution_count": null,
      "metadata": {
        "id": "_FbWF4ocWcMs"
      },
      "outputs": [],
      "source": []
    },
    {
      "cell_type": "markdown",
      "metadata": {
        "id": "hubxs1gdWcMs"
      },
      "source": [
        "##### 2.3.2 Customer Segmentation analysis by more than one segments"
      ]
    },
    {
      "cell_type": "code",
      "execution_count": null,
      "metadata": {
        "id": "Y1JSr0XHWcMs"
      },
      "outputs": [],
      "source": [
        "language_age_convert=campaign.loc[campaign['converted']==True].groupby(['language_preferred', 'age_group'])['user_id'].nunique()"
      ]
    },
    {
      "cell_type": "code",
      "execution_count": null,
      "metadata": {
        "id": "jmyzWZ7OWcMs",
        "outputId": "8af11e44-c019-4078-b455-814c09dd71af"
      },
      "outputs": [
        {
          "name": "stdout",
          "output_type": "stream",
          "text": [
            "language_preferred  age_group  \n",
            "Arabic              0-18 years       4\n",
            "                    19-24 years      2\n",
            "                    24-30 years      8\n",
            "                    36-45 years      1\n",
            "                    45-55 years      3\n",
            "                    55+ years        1\n",
            "English             0-18 years     168\n",
            "                    19-24 years    281\n",
            "                    24-30 years    201\n",
            "                    30-36 years     69\n",
            "                    36-45 years     65\n",
            "                    45-55 years     61\n",
            "                    55+ years       66\n",
            "German              0-18 years      13\n",
            "                    19-24 years     14\n",
            "                    24-30 years     17\n",
            "                    30-36 years      3\n",
            "                    36-45 years      4\n",
            "                    45-55 years      6\n",
            "                    55+ years        2\n",
            "Spanish             0-18 years       7\n",
            "                    19-24 years      6\n",
            "                    24-30 years      2\n",
            "                    30-36 years      5\n",
            "                    36-45 years      4\n",
            "                    45-55 years      5\n",
            "                    55+ years        7\n",
            "Name: user_id, dtype: int64\n"
          ]
        }
      ],
      "source": [
        "print(language_age_convert)"
      ]
    },
    {
      "cell_type": "code",
      "execution_count": null,
      "metadata": {
        "id": "9Nwb3kvRWcMs",
        "outputId": "677d32ce-6e17-46c9-cf6a-56bf4a858393"
      },
      "outputs": [
        {
          "data": {
            "text/plain": [
              "pandas.core.series.Series"
            ]
          },
          "execution_count": 122,
          "metadata": {},
          "output_type": "execute_result"
        }
      ],
      "source": [
        "type(language_age_convert)"
      ]
    },
    {
      "cell_type": "markdown",
      "metadata": {
        "id": "nKCTY83aWcMs"
      },
      "source": [
        "Unstack the result to a DataFrame, so that we can plot"
      ]
    },
    {
      "cell_type": "code",
      "execution_count": null,
      "metadata": {
        "id": "fsCs_QacWcMs"
      },
      "outputs": [],
      "source": [
        "df_language_age_convert=language_age_convert.unstack()"
      ]
    },
    {
      "cell_type": "code",
      "execution_count": null,
      "metadata": {
        "id": "mZ8OVnHqWcMs",
        "outputId": "b33d6c4a-85e6-4b0b-e92b-113450d97090"
      },
      "outputs": [
        {
          "name": "stdout",
          "output_type": "stream",
          "text": [
            "age_group           0-18 years  19-24 years  24-30 years  30-36 years  \\\n",
            "language_preferred                                                      \n",
            "Arabic                     4.0          2.0          8.0          NaN   \n",
            "English                  168.0        281.0        201.0         69.0   \n",
            "German                    13.0         14.0         17.0          3.0   \n",
            "Spanish                    7.0          6.0          2.0          5.0   \n",
            "\n",
            "age_group           36-45 years  45-55 years  55+ years  \n",
            "language_preferred                                       \n",
            "Arabic                      1.0          3.0        1.0  \n",
            "English                    65.0         61.0       66.0  \n",
            "German                      4.0          6.0        2.0  \n",
            "Spanish                     4.0          5.0        7.0  \n"
          ]
        }
      ],
      "source": [
        "print(df_language_age_convert)"
      ]
    },
    {
      "cell_type": "code",
      "execution_count": null,
      "metadata": {
        "id": "k16LkJdWWcMs",
        "outputId": "5af3b3be-a4aa-4021-a1fa-94c21683f55f"
      },
      "outputs": [
        {
          "data": {
            "image/png": "[encoded data removed]",
            "text/plain": [
              "<Figure size 432x288 with 1 Axes>"
            ]
          },
          "metadata": {
            "needs_background": "light"
          },
          "output_type": "display_data"
        }
      ],
      "source": [
        "# plot\n",
        "df_language_age_convert.plot(kind='bar')\n",
        "\n",
        "# annotate\n",
        "plt.title('number of users by language and age')\n",
        "plt.xlabel('language')\n",
        "plt.ylabel('number of users')\n",
        "plt.show()"
      ]
    },
    {
      "cell_type": "markdown",
      "metadata": {
        "id": "-4WnBw1CWcMt"
      },
      "source": [
        "#### Practice 4\n",
        "Looking at the number of **converted users** by these 2 segments are not very informative.\n",
        "\n",
        "Should we look at conversion rate by language and age?"
      ]
    },
    {
      "cell_type": "code",
      "execution_count": null,
      "metadata": {
        "id": "ICwapaZUWcMt",
        "outputId": "e1234f6b-3be9-41ef-8a27-94c02a63fd77"
      },
      "outputs": [
        {
          "data": {
            "text/plain": [
              "language_preferred  age_group  \n",
              "Arabic              0-18 years       16\n",
              "                    19-24 years      18\n",
              "                    24-30 years      16\n",
              "                    30-36 years      12\n",
              "                    36-45 years      13\n",
              "                    45-55 years      14\n",
              "                    55+ years        17\n",
              "English             0-18 years     1124\n",
              "                    19-24 years    1215\n",
              "                    24-30 years    1119\n",
              "                    30-36 years     976\n",
              "                    36-45 years     991\n",
              "                    45-55 years     976\n",
              "                    55+ years       920\n",
              "German              0-18 years       24\n",
              "                    19-24 years      23\n",
              "                    24-30 years      29\n",
              "                    30-36 years      12\n",
              "                    36-45 years      14\n",
              "                    45-55 years      20\n",
              "                    55+ years         9\n",
              "Spanish             0-18 years       43\n",
              "                    19-24 years      51\n",
              "                    24-30 years      54\n",
              "                    30-36 years      57\n",
              "                    36-45 years      39\n",
              "                    45-55 years      47\n",
              "                    55+ years        34\n",
              "Name: user_id, dtype: int64"
            ]
          },
          "execution_count": 126,
          "metadata": {},
          "output_type": "execute_result"
        }
      ],
      "source": [
        "language_age=campaign.groupby(['language_preferred', 'age_group'])['user_id'].nunique()\n",
        "language_age"
      ]
    },
    {
      "cell_type": "code",
      "execution_count": null,
      "metadata": {
        "id": "PmRc0cNvWcMt",
        "outputId": "9de8ab0c-fd59-401d-a3cf-5d47c3823631"
      },
      "outputs": [
        {
          "data": {
            "text/plain": [
              "language_preferred  age_group  \n",
              "Arabic              0-18 years       4\n",
              "                    19-24 years      2\n",
              "                    24-30 years      8\n",
              "                    36-45 years      1\n",
              "                    45-55 years      3\n",
              "                    55+ years        1\n",
              "English             0-18 years     168\n",
              "                    19-24 years    281\n",
              "                    24-30 years    201\n",
              "                    30-36 years     69\n",
              "                    36-45 years     65\n",
              "                    45-55 years     61\n",
              "                    55+ years       66\n",
              "German              0-18 years      13\n",
              "                    19-24 years     14\n",
              "                    24-30 years     17\n",
              "                    30-36 years      3\n",
              "                    36-45 years      4\n",
              "                    45-55 years      6\n",
              "                    55+ years        2\n",
              "Spanish             0-18 years       7\n",
              "                    19-24 years      6\n",
              "                    24-30 years      2\n",
              "                    30-36 years      5\n",
              "                    36-45 years      4\n",
              "                    45-55 years      5\n",
              "                    55+ years        7\n",
              "Name: user_id, dtype: int64"
            ]
          },
          "execution_count": 127,
          "metadata": {},
          "output_type": "execute_result"
        }
      ],
      "source": [
        "language_age_converted=campaign.loc[campaign['converted']==True].groupby(['language_preferred', 'age_group'])['user_id'].nunique()\n",
        "language_age_converted"
      ]
    },
    {
      "cell_type": "code",
      "execution_count": null,
      "metadata": {
        "id": "1Tv8fkrIWcMt",
        "outputId": "ff29c27d-83bd-4de9-aa0c-cd09bc8f7f6c"
      },
      "outputs": [
        {
          "data": {
            "text/plain": [
              "language_preferred  age_group  \n",
              "Arabic              0-18 years     0.250000\n",
              "                    19-24 years    0.111111\n",
              "                    24-30 years    0.500000\n",
              "                    30-36 years         NaN\n",
              "                    36-45 years    0.076923\n",
              "                    45-55 years    0.214286\n",
              "                    55+ years      0.058824\n",
              "English             0-18 years     0.149466\n",
              "                    19-24 years    0.231276\n",
              "                    24-30 years    0.179625\n",
              "                    30-36 years    0.070697\n",
              "                    36-45 years    0.065590\n",
              "                    45-55 years    0.062500\n",
              "                    55+ years      0.071739\n",
              "German              0-18 years     0.541667\n",
              "                    19-24 years    0.608696\n",
              "                    24-30 years    0.586207\n",
              "                    30-36 years    0.250000\n",
              "                    36-45 years    0.285714\n",
              "                    45-55 years    0.300000\n",
              "                    55+ years      0.222222\n",
              "Spanish             0-18 years     0.162791\n",
              "                    19-24 years    0.117647\n",
              "                    24-30 years    0.037037\n",
              "                    30-36 years    0.087719\n",
              "                    36-45 years    0.102564\n",
              "                    45-55 years    0.106383\n",
              "                    55+ years      0.205882\n",
              "Name: user_id, dtype: float64"
            ]
          },
          "execution_count": 128,
          "metadata": {},
          "output_type": "execute_result"
        }
      ],
      "source": [
        "df_language_age_convt_rate=language_age_converted/language_age\n",
        "df_language_age_convt_rate"
      ]
    },
    {
      "cell_type": "code",
      "execution_count": null,
      "metadata": {
        "id": "g3e_e3kcWcMt",
        "outputId": "ace31950-b59f-4de8-f4d7-bb60713fc7cf"
      },
      "outputs": [
        {
          "data": {
            "text/html": [
              "<div>\n",
              "<style scoped>\n",
              "    .dataframe tbody tr th:only-of-type {\n",
              "        vertical-align: middle;\n",
              "    }\n",
              "\n",
              "    .dataframe tbody tr th {\n",
              "        vertical-align: top;\n",
              "    }\n",
              "\n",
              "    .dataframe thead th {\n",
              "        text-align: right;\n",
              "    }\n",
              "</style>\n",
              "<table border=\"1\" class=\"dataframe\">\n",
              "  <thead>\n",
              "    <tr style=\"text-align: right;\">\n",
              "      <th>age_group</th>\n",
              "      <th>0-18 years</th>\n",
              "      <th>19-24 years</th>\n",
              "      <th>24-30 years</th>\n",
              "      <th>30-36 years</th>\n",
              "      <th>36-45 years</th>\n",
              "      <th>45-55 years</th>\n",
              "      <th>55+ years</th>\n",
              "    </tr>\n",
              "    <tr>\n",
              "      <th>language_preferred</th>\n",
              "      <th></th>\n",
              "      <th></th>\n",
              "      <th></th>\n",
              "      <th></th>\n",
              "      <th></th>\n",
              "      <th></th>\n",
              "      <th></th>\n",
              "    </tr>\n",
              "  </thead>\n",
              "  <tbody>\n",
              "    <tr>\n",
              "      <th>Arabic</th>\n",
              "      <td>0.250000</td>\n",
              "      <td>0.111111</td>\n",
              "      <td>0.500000</td>\n",
              "      <td>NaN</td>\n",
              "      <td>0.076923</td>\n",
              "      <td>0.214286</td>\n",
              "      <td>0.058824</td>\n",
              "    </tr>\n",
              "    <tr>\n",
              "      <th>English</th>\n",
              "      <td>0.149466</td>\n",
              "      <td>0.231276</td>\n",
              "      <td>0.179625</td>\n",
              "      <td>0.070697</td>\n",
              "      <td>0.065590</td>\n",
              "      <td>0.062500</td>\n",
              "      <td>0.071739</td>\n",
              "    </tr>\n",
              "    <tr>\n",
              "      <th>German</th>\n",
              "      <td>0.541667</td>\n",
              "      <td>0.608696</td>\n",
              "      <td>0.586207</td>\n",
              "      <td>0.250000</td>\n",
              "      <td>0.285714</td>\n",
              "      <td>0.300000</td>\n",
              "      <td>0.222222</td>\n",
              "    </tr>\n",
              "    <tr>\n",
              "      <th>Spanish</th>\n",
              "      <td>0.162791</td>\n",
              "      <td>0.117647</td>\n",
              "      <td>0.037037</td>\n",
              "      <td>0.087719</td>\n",
              "      <td>0.102564</td>\n",
              "      <td>0.106383</td>\n",
              "      <td>0.205882</td>\n",
              "    </tr>\n",
              "  </tbody>\n",
              "</table>\n",
              "</div>"
            ],
            "text/plain": [
              "age_group           0-18 years  19-24 years  24-30 years  30-36 years  \\\n",
              "language_preferred                                                      \n",
              "Arabic                0.250000     0.111111     0.500000          NaN   \n",
              "English               0.149466     0.231276     0.179625     0.070697   \n",
              "German                0.541667     0.608696     0.586207     0.250000   \n",
              "Spanish               0.162791     0.117647     0.037037     0.087719   \n",
              "\n",
              "age_group           36-45 years  45-55 years  55+ years  \n",
              "language_preferred                                       \n",
              "Arabic                 0.076923     0.214286   0.058824  \n",
              "English                0.065590     0.062500   0.071739  \n",
              "German                 0.285714     0.300000   0.222222  \n",
              "Spanish                0.102564     0.106383   0.205882  "
            ]
          },
          "execution_count": 129,
          "metadata": {},
          "output_type": "execute_result"
        }
      ],
      "source": [
        "df_language_age_convt_rate=pd.DataFrame(df_language_age_convt_rate.unstack())\n",
        "df_language_age_convt_rate"
      ]
    },
    {
      "cell_type": "code",
      "execution_count": null,
      "metadata": {
        "id": "BBEIanwkWcMt",
        "outputId": "5920ae9b-c02a-4fdd-9327-167479b8fbb5"
      },
      "outputs": [
        {
          "data": {
            "image/png": "[encoded data removed]",
            "text/plain": [
              "<Figure size 432x288 with 1 Axes>"
            ]
          },
          "metadata": {
            "needs_background": "light"
          },
          "output_type": "display_data"
        }
      ],
      "source": [
        "# plot\n",
        "df_language_age_convt_rate.plot(kind='bar')\n",
        "\n",
        "# annotate\n",
        "plt.title('conversion rate by language and age')\n",
        "plt.xlabel('language')\n",
        "plt.ylabel('conversion rate')\n",
        "plt.show()"
      ]
    },
    {
      "cell_type": "markdown",
      "metadata": {
        "id": "zWW3BMVgWcMt"
      },
      "source": [
        "### 3. A/B Testing\n",
        "\n",
        "What is A/B testing:\n",
        "\n",
        "- A/B testing, sometimes referred to as split testing, is the process of comparing two different marketing strategies to determine which one performs better\n",
        "- Testing allows us to understand marketing impact"
      ]
    },
    {
      "cell_type": "markdown",
      "metadata": {
        "id": "l5uisPR_WcMu"
      },
      "source": [
        "In a typical A/B testing setting, you would create and test two or more versions of marketing strategies for their effectiveness in achieving your marketing goal. Consider a case where your goal is to improve marketing email open rates. \n",
        "\n",
        "If your hypothesis is that email subject line B will result in higher open rates than email subject line A, then you would run an A/B test with these two subject lines. You will randomly select half of the users and send out marketing emails with subject line A. The other half of randomly selected users will receive emails with subject line B. You will run this test for a predetermined period of time (which could be one week, two weeks, or one month, for instance) or until a predetermined number of users receive the two versions of emails (which is a minimum of 1,000 users to receive each version of the subject line). Once your tests are complete, then you analyze and evaluate the experiment results. When analyzing the results, you will need to check whether there is a statistically significant difference between the results of the two versions."
      ]
    },
    {
      "cell_type": "code",
      "execution_count": null,
      "metadata": {
        "id": "3iYbGMUoWcMu"
      },
      "outputs": [],
      "source": [
        "from scipy import stats\n",
        "import numpy as np"
      ]
    },
    {
      "cell_type": "code",
      "execution_count": null,
      "metadata": {
        "id": "MpGR1Q52WcMu",
        "outputId": "c8cbb848-c2a2-4c91-c5a3-fc5edc28ae40"
      },
      "outputs": [
        {
          "data": {
            "text/plain": [
              "control            5076\n",
              "personalization    4946\n",
              "Name: test_control, dtype: int64"
            ]
          },
          "execution_count": 132,
          "metadata": {},
          "output_type": "execute_result"
        }
      ],
      "source": [
        "campaign['test_control'].value_counts()"
      ]
    },
    {
      "cell_type": "code",
      "execution_count": null,
      "metadata": {
        "id": "TYzS-OnIWcMu"
      },
      "outputs": [],
      "source": [
        "# Let's only look at Email marketing channel\n",
        "email = campaign.loc[campaign['marketing_channel'] == 'Email']"
      ]
    },
    {
      "cell_type": "code",
      "execution_count": null,
      "metadata": {
        "id": "50JX5LoCWcMu",
        "outputId": "971ab664-793f-4dfb-8561-44c7861fc10a"
      },
      "outputs": [
        {
          "name": "stdout",
          "output_type": "stream",
          "text": [
            "          user_id date_served marketing_channel     test_control  converted  \\\n",
            "354    a100000526  2018-01-01             Email  personalization       True   \n",
            "358    a100000530  2018-01-05             Email  personalization       True   \n",
            "362    a100000534  2018-01-09             Email  personalization      False   \n",
            "366    a100000538  2018-01-13             Email  personalization       True   \n",
            "370    a100000542  2018-01-17             Email  personalization       True   \n",
            "...           ...         ...               ...              ...        ...   \n",
            "10015  a100007288  2018-01-17             Email          control       True   \n",
            "10016  a100007289  2018-01-17             Email          control       True   \n",
            "10017  a100007290  2018-01-17             Email          control       True   \n",
            "10018  a100007291  2018-01-17             Email          control       True   \n",
            "10020  a100007293  2018-01-17             Email          control       True   \n",
            "\n",
            "      language_preferred    age_group date_subscribed date_canceled  \\\n",
            "354               Arabic   0-18 years        1/1/2018           NaN   \n",
            "358               Arabic  19-24 years        1/5/2018           NaN   \n",
            "362              English  45-55 years        1/9/2018           NaN   \n",
            "366               Arabic  24-30 years       1/13/2018     1/23/2018   \n",
            "370              English   0-18 years       1/17/2018     2/12/2018   \n",
            "...                  ...          ...             ...           ...   \n",
            "10015             German  30-36 years       1/17/2018     4/26/2018   \n",
            "10016             German  36-45 years       1/17/2018     1/27/2018   \n",
            "10017             German  45-55 years       1/17/2018     1/24/2018   \n",
            "10018             German    55+ years       1/17/2018           NaN   \n",
            "10020             German   0-18 years       1/17/2018           NaN   \n",
            "\n",
            "      is_retained  \n",
            "354          True  \n",
            "358          True  \n",
            "362          True  \n",
            "366         False  \n",
            "370         False  \n",
            "...           ...  \n",
            "10015       False  \n",
            "10016       False  \n",
            "10017       False  \n",
            "10018        True  \n",
            "10020        True  \n",
            "\n",
            "[565 rows x 10 columns]\n"
          ]
        }
      ],
      "source": [
        "print(email)"
      ]
    },
    {
      "cell_type": "markdown",
      "metadata": {
        "id": "2QuM7C_cWcMu"
      },
      "source": [
        "For email channel, there are the test groups which received personalization email and the control group which receive normal email"
      ]
    },
    {
      "cell_type": "code",
      "execution_count": null,
      "metadata": {
        "id": "Iomn1WryWcMu",
        "outputId": "9a77fa7d-1d26-4279-bab3-aabe92b88d33"
      },
      "outputs": [
        {
          "data": {
            "text/plain": [
              "test_control\n",
              "control            270\n",
              "personalization    284\n",
              "Name: user_id, dtype: int64"
            ]
          },
          "execution_count": 135,
          "metadata": {},
          "output_type": "execute_result"
        }
      ],
      "source": [
        "email.groupby(['test_control'])['user_id'].nunique()"
      ]
    },
    {
      "cell_type": "code",
      "execution_count": null,
      "metadata": {
        "id": "0zUvfggHWcMu",
        "outputId": "e7ba5c02-3ce5-4d09-a761-9d6c7da5017f"
      },
      "outputs": [
        {
          "data": {
            "text/plain": [
              "test_control\n",
              "control             76\n",
              "personalization    111\n",
              "Name: user_id, dtype: int64"
            ]
          },
          "execution_count": 136,
          "metadata": {},
          "output_type": "execute_result"
        }
      ],
      "source": [
        "# Let's compare the conversion rate between test and control group\n",
        "email.loc[email['converted']==True].groupby(['test_control'])['user_id'].nunique()"
      ]
    },
    {
      "cell_type": "code",
      "execution_count": null,
      "metadata": {
        "id": "9eWRKs3UWcMv",
        "outputId": "ac4b0792-0bba-4d81-e6c0-7d45008bdfb1"
      },
      "outputs": [
        {
          "data": {
            "text/plain": [
              "test_control\n",
              "control            0.281481\n",
              "personalization    0.390845\n",
              "Name: user_id, dtype: float64"
            ]
          },
          "execution_count": 137,
          "metadata": {},
          "output_type": "execute_result"
        }
      ],
      "source": [
        "email.loc[email['converted']==True].groupby(['test_control'])['user_id'].nunique()\\\n",
        "/email.groupby(['test_control'])['user_id'].nunique()"
      ]
    },
    {
      "cell_type": "markdown",
      "metadata": {
        "id": "feJtigtJWcMv"
      },
      "source": [
        "Calculate the lift:\n",
        "\n",
        "(Test conversion rate - Control conversion rate) / Control converstion rate"
      ]
    },
    {
      "cell_type": "code",
      "execution_count": null,
      "metadata": {
        "id": "A9Nm-SwnWcMv"
      },
      "outputs": [],
      "source": [
        "lift = (0.390845 - 0.281481)/ 0.281481"
      ]
    },
    {
      "cell_type": "code",
      "execution_count": null,
      "metadata": {
        "id": "0Rgvh86HWcMv",
        "outputId": "2a9f37bc-3225-4883-818b-dc383d43c60c"
      },
      "outputs": [
        {
          "name": "stdout",
          "output_type": "stream",
          "text": [
            "0.38853066459192637\n"
          ]
        }
      ],
      "source": [
        "print(lift)"
      ]
    },
    {
      "cell_type": "markdown",
      "metadata": {
        "id": "05PVJb_3WcMv"
      },
      "source": [
        "**Statistical hypothesis testing**\n",
        "Student's t-test, or simply the t-test, is frequently used to test whether the difference between two tests is statistically significant. The t-test compares the two averages and examines whether they are significantly different from each other\n",
        "\n",
        "There are two important statistics in a t-test—the t-value and p-value. \n",
        "- The t-value measures the degree of difference relative to the variation in the data. The larger the t-value is, the more difference there is between the two groups. \n",
        "\n",
        "- On the other hand, the p-value measures the probability that the results would occur by chance. The smaller the p-value is, the more statistically significant difference there will be between the two groups\n",
        "\n",
        "The equation to compute the t-value is:\n",
        "\n",
        "In this equation, M1 and M2 are the averages of group 1 and 2. S1 and S2 are the standard deviations of group 1 and 2, and N1 and N2 are number of samples in group 1 and 2 respectively\n",
        "\n",
        "Generally speaking, the null hypothesis is that the two groups show no statistically significant difference. On the other hand, the alternate hypothesis states that the two groups show a statistically significant difference. **When the t-value is larger than a threshold and the p-value is smaller than a threshold, we say that we can reject the null hypothesis and that the two groups show a statistically significant difference**. Typically, 0.01 or 0.05 are used as the p-value thresholds for testing statistical significance. If the p-value is less than 0.05, then it suggests that there is less than 5% probability that the difference between the two groups occurs by chance. In other words, the difference is highly unlikely to be by chance\n"
      ]
    },
    {
      "cell_type": "code",
      "execution_count": null,
      "metadata": {
        "id": "1I1kzUoHWcMw"
      },
      "outputs": [],
      "source": [
        "t, p = stats.ttest_ind(\n",
        "    email.loc[email['test_control'] == 'personalization', 'converted'].values, \n",
        "    email.loc[email['test_control'] == 'control', 'converted'].values, \n",
        "    equal_var=False\n",
        ")\n",
        "# the stats module from the scipy package has a function named ttest_ind. \n",
        "# This function computes t-value and p-value, given the data"
      ]
    },
    {
      "cell_type": "code",
      "execution_count": null,
      "metadata": {
        "id": "nJnbiJjYWcMw",
        "outputId": "8c5c7889-c5bd-446b-b917-2dbac31e6fd2"
      },
      "outputs": [
        {
          "name": "stdout",
          "output_type": "stream",
          "text": [
            "0.0155504702843278\n"
          ]
        }
      ],
      "source": [
        "print(p)"
      ]
    }
  ],
  "metadata": {
    "kernelspec": {
      "display_name": "Python 3",
      "language": "python",
      "name": "python3"
    },
    "language_info": {
      "codemirror_mode": {
        "name": "ipython",
        "version": 3
      },
      "file_extension": ".py",
      "mimetype": "text/x-python",
      "name": "python",
      "nbconvert_exporter": "python",
      "pygments_lexer": "ipython3",
      "version": "3.8.5"
    },
    "colab": {
      "provenance": [],
      "collapsed_sections": [
        "K9W6ATZlWcMq",
        "Cs3Wk12XWcMq",
        "-4WnBw1CWcMt"
      ]
    }
  },
  "nbformat": 4,
  "nbformat_minor": 0
}